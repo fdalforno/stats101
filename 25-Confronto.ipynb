{
 "cells": [
  {
   "cell_type": "code",
   "execution_count": 1,
   "id": "aef7b5e2",
   "metadata": {},
   "outputs": [],
   "source": [
    "from utils import set_pyplot_params\n",
    "set_pyplot_params()"
   ]
  },
  {
   "cell_type": "markdown",
   "id": "67928179",
   "metadata": {},
   "source": [
    "# Confronto\n",
    "\n",
    "Questo capitolo introduce le distribuzioni congiunte, che rappresenta uno strumento per lavorare con le distribuzioni con più di una variabile.\n",
    "\n",
    "Le useremo per risolvere un semplice problema per poi passare a risolvere dei reali problemi.\n",
    "Il reale problema è quello di valutare i giocatori di scacchi, o i partecipanti si altre competizioni, basandosi sui risultati delle partite.\n",
    "\n",
    "Per costruire le distribuzioni congiunte e calcolare le verosomiglianze per questi problemi, useremo il prodotto vettoriale e operazioni simili.\n",
    "\n",
    "E ora partiamo.\n",
    "\n",
    "## Operazioni Outer\n",
    "\n",
    "Molte operazioni utili possono essere espresse come \"prodotto esterno\" di due sequenze, o tramite altri tipi di operazioni \"esterne\".\n",
    "\n",
    "Supponiamo di avere due sequenze come `x` e `y`:"
   ]
  },
  {
   "cell_type": "code",
   "execution_count": 2,
   "id": "a031d7e6",
   "metadata": {},
   "outputs": [],
   "source": [
    "x = [1, 3, 5]\n",
    "y = [2, 4]"
   ]
  },
  {
   "cell_type": "markdown",
   "id": "498bc09f",
   "metadata": {},
   "source": [
    "Il prodotto esterno di queste sequenze è un array che contiene il prodotto di ogni coppia di valori,uno per ogni sequenza.\n",
    "Ci sono molti modi per calcolare il prodotto esterno ma penso che una delle più versatili è la \"mesh grid\".\n",
    "\n",
    "NumPy provvede una funzione chiamata `meshgrid`che calcola quanto richiesto. Se usiamo queste due sequenze, otteniamo questi due array"
   ]
  },
  {
   "cell_type": "code",
   "execution_count": 3,
   "id": "1ff34744",
   "metadata": {},
   "outputs": [],
   "source": [
    "import numpy as np\n",
    "\n",
    "X, Y = np.meshgrid(x, y)"
   ]
  },
  {
   "cell_type": "markdown",
   "id": "51f9919c",
   "metadata": {},
   "source": [
    "Il primo array contiene le copie di `x` sistemato in righe, con le stesso numero di righe di `y`."
   ]
  },
  {
   "cell_type": "code",
   "execution_count": 4,
   "id": "07caceda",
   "metadata": {},
   "outputs": [
    {
     "data": {
      "text/plain": [
       "array([[1, 3, 5],\n",
       "       [1, 3, 5]])"
      ]
     },
     "execution_count": 4,
     "metadata": {},
     "output_type": "execute_result"
    }
   ],
   "source": [
    "X"
   ]
  },
  {
   "cell_type": "markdown",
   "id": "f938e60b",
   "metadata": {},
   "source": [
    "La stessa cosa vale per `y`."
   ]
  },
  {
   "cell_type": "code",
   "execution_count": 5,
   "id": "7641f83b",
   "metadata": {},
   "outputs": [
    {
     "data": {
      "text/plain": [
       "array([[2, 2, 2],\n",
       "       [4, 4, 4]])"
      ]
     },
     "execution_count": 5,
     "metadata": {},
     "output_type": "execute_result"
    }
   ],
   "source": [
    "Y"
   ]
  },
  {
   "cell_type": "markdown",
   "id": "a944ee6a",
   "metadata": {},
   "source": [
    "Visto che ora i due array hanno la stessa dimensione, possiamo usare questi due array per operazioni aritmetiche come la moltiplicazione."
   ]
  },
  {
   "cell_type": "code",
   "execution_count": 6,
   "id": "314775bb",
   "metadata": {},
   "outputs": [
    {
     "data": {
      "text/plain": [
       "array([[ 2,  6, 10],\n",
       "       [ 4, 12, 20]])"
      ]
     },
     "execution_count": 6,
     "metadata": {},
     "output_type": "execute_result"
    }
   ],
   "source": [
    "X * Y"
   ]
  },
  {
   "cell_type": "markdown",
   "id": "396a1184",
   "metadata": {},
   "source": [
    "Il risultato del prodotto esterno di `x` e `y`.\n",
    "Possiamo vederlo molto chiaramente se lo mettimo in un `DataFrame`:"
   ]
  },
  {
   "cell_type": "code",
   "execution_count": 7,
   "id": "db8eb1ba",
   "metadata": {},
   "outputs": [
    {
     "data": {
      "text/html": [
       "<div>\n",
       "<style scoped>\n",
       "    .dataframe tbody tr th:only-of-type {\n",
       "        vertical-align: middle;\n",
       "    }\n",
       "\n",
       "    .dataframe tbody tr th {\n",
       "        vertical-align: top;\n",
       "    }\n",
       "\n",
       "    .dataframe thead th {\n",
       "        text-align: right;\n",
       "    }\n",
       "</style>\n",
       "<table border=\"1\" class=\"dataframe\">\n",
       "  <thead>\n",
       "    <tr style=\"text-align: right;\">\n",
       "      <th></th>\n",
       "      <th>1</th>\n",
       "      <th>3</th>\n",
       "      <th>5</th>\n",
       "    </tr>\n",
       "  </thead>\n",
       "  <tbody>\n",
       "    <tr>\n",
       "      <th>2</th>\n",
       "      <td>2</td>\n",
       "      <td>6</td>\n",
       "      <td>10</td>\n",
       "    </tr>\n",
       "    <tr>\n",
       "      <th>4</th>\n",
       "      <td>4</td>\n",
       "      <td>12</td>\n",
       "      <td>20</td>\n",
       "    </tr>\n",
       "  </tbody>\n",
       "</table>\n",
       "</div>"
      ],
      "text/plain": [
       "   1   3   5\n",
       "2  2   6  10\n",
       "4  4  12  20"
      ]
     },
     "execution_count": 7,
     "metadata": {},
     "output_type": "execute_result"
    }
   ],
   "source": [
    "import pandas as pd\n",
    "\n",
    "df = pd.DataFrame(X * Y, columns=x, index=y)\n",
    "df"
   ]
  },
  {
   "cell_type": "markdown",
   "id": "d78b03a2",
   "metadata": {},
   "source": [
    "I valori di `x` appaiono come nomi di colonna; mentre i valori di `y` appaiono come etichette di riga.\n",
    "Ogni elemento è il prodotto del valore di `x` e di un valore di  `y`.\n",
    "\n",
    "Possiamo usare la griglia mesh per calcolare queste operazioni, come la somma esterna che contiene la somma degli elementi da `x` e degli elementi di `y`.\n",
    "\n"
   ]
  },
  {
   "cell_type": "code",
   "execution_count": 8,
   "id": "3fbaa93e",
   "metadata": {},
   "outputs": [
    {
     "data": {
      "text/plain": [
       "array([[3, 5, 7],\n",
       "       [5, 7, 9]])"
      ]
     },
     "execution_count": 8,
     "metadata": {},
     "output_type": "execute_result"
    }
   ],
   "source": [
    "X + Y"
   ]
  },
  {
   "cell_type": "markdown",
   "id": "59b5a62d",
   "metadata": {},
   "source": [
    "Possiamo anche usare il confronto per comparare gli elementi di x e di y."
   ]
  },
  {
   "cell_type": "code",
   "execution_count": 9,
   "id": "0d01855e",
   "metadata": {},
   "outputs": [
    {
     "data": {
      "text/plain": [
       "array([[False,  True,  True],\n",
       "       [False, False,  True]])"
      ]
     },
     "execution_count": 9,
     "metadata": {},
     "output_type": "execute_result"
    }
   ],
   "source": [
    "X > Y"
   ]
  },
  {
   "cell_type": "markdown",
   "id": "9e06873e",
   "metadata": {},
   "source": [
    "Il risultato è un array di valori booleani.\n",
    "Potrebbe non essere ancora ovvio il perchè queste operazioni sia utile, ma lo vedreme più avanti. \n",
    "Con questo siamo pronti per affrontare un nuovo problema Bayesiano."
   ]
  },
  {
   "cell_type": "markdown",
   "id": "db736aac",
   "metadata": {},
   "source": [
    "## Quanto è alto A?\n",
    "\n",
    "Supponiamo che io scelga due persone dalla popolazione dei maschi adulti degli U.S.; che chiameremo A e B. Se vediamo che A è più alto di B, quanto è alto A?\n",
    "\n",
    "Per rispondere a questa domanda:\n",
    "\n",
    "1. Useremo le informazioni di fondo circa l'altezza degli uomini negli U.S. per creare una distribuzione a priori di altezze, \n",
    "2. Andremo a costruire una distribuzione a priori di altezze di A e B (e spiegheremo cosa sia),\n",
    "3. Poi aggiorneremo la distribuzione a priori con A più alto e\n",
    "4. Per la distribuzione a posteriori estrarremo la distribuzione a posteriori della altezza di A.\n",
    "\n",
    "\n"
   ]
  },
  {
   "cell_type": "code",
   "execution_count": 10,
   "id": "538f6c73",
   "metadata": {},
   "outputs": [],
   "source": [
    "mean = 178\n",
    "qs = np.arange(mean-24, mean+24, 0.5)"
   ]
  },
  {
   "cell_type": "markdown",
   "id": "936f7c37",
   "metadata": {},
   "source": [
    "Scipy fornisce una funzione chiamata `norm` che rappresenta una distribuzione normale con una certa media e una deviazione standard, con il metodo `pdf`, che valuta la densità di probabilità della distribuzione normale:\n",
    "\n"
   ]
  },
  {
   "cell_type": "code",
   "execution_count": 11,
   "id": "35593a14",
   "metadata": {},
   "outputs": [],
   "source": [
    "from scipy.stats import norm\n",
    "\n",
    "std = 7.7\n",
    "ps = norm(mean, std).pdf(qs)"
   ]
  },
  {
   "cell_type": "markdown",
   "id": "723851a6",
   "metadata": {},
   "source": [
    "Le densità di probabilità non sono probabilità ma se le mettiamo in un oggetto Pmf e lo normalizziamo, il risultato è una discreta approssimazione di una distribuzione normale.\n",
    "\n"
   ]
  },
  {
   "cell_type": "code",
   "execution_count": 12,
   "id": "b430c0a9",
   "metadata": {},
   "outputs": [
    {
     "data": {
      "text/plain": [
       "1.9963309462450582"
      ]
     },
     "execution_count": 12,
     "metadata": {},
     "output_type": "execute_result"
    }
   ],
   "source": [
    "from distribution import Pmf\n",
    "\n",
    "prior = Pmf(ps, qs)\n",
    "prior.normalize()"
   ]
  },
  {
   "cell_type": "markdown",
   "id": "ef86805c",
   "metadata": {},
   "source": [
    "Qui come si presenta."
   ]
  },
  {
   "cell_type": "code",
   "execution_count": 13,
   "id": "d1cb51ca",
   "metadata": {},
   "outputs": [
    {
     "data": {
      "image/png": "[encoded data removed]",
      "text/plain": [
       "<Figure size 432x288 with 1 Axes>"
      ]
     },
     "metadata": {
      "needs_background": "light"
     },
     "output_type": "display_data"
    }
   ],
   "source": [
    "from utils import decorate\n",
    "\n",
    "prior.plot(style='--', color='C5')\n",
    "\n",
    "decorate(xlabel='Height in cm',\n",
    "         ylabel='PDF',\n",
    "         title='Approximate distribution of height for men in U.S.')"
   ]
  },
  {
   "cell_type": "markdown",
   "id": "e4dcd5fc",
   "metadata": {},
   "source": [
    "Questa distribuzione rappresenta su cosa crediamo circa le altezze di `A` e `B` prima di prendere in considerazione i dati che indicano che `A` è più alto.\n",
    "\n",
    "\n",
    "## Distribuzione congiunta\n",
    "\n",
    "Il prossimo passo è quello di costruire una distribuzione che rappresenta la probabiltià di ogni coppia di altezze, che è chiamato distribuzione congiunta. Gli elementi di una distribuzione congiunta sono:\n",
    "\n",
    "$$P(A_x~\\mathrm{e}~B_y)$$\n",
    "\n",
    "che è la probabilità che `A` sia alto $x$ cm e  `B` sia alto $y$ cm, per tutti i valori di $x$ e $y$.\n",
    "A questo punto tutto quello che sappiamo circa `A` e `B` è che questi sono maschi residenti negli stati uniti e le loro altezze sono indipendenti, conoscere l'altezza di `A` non ci da informazioi circa l'altezza di `B`.\n",
    "\n",
    "In questo caso, possiamo calcolare le probabilità congiunte in questo modo:\n",
    "$$P(A_x~\\mathrm{e}~B_y) = P(A_x)~P(B_y)$$\n",
    "\n",
    "Ogni probabilità congiunta è il prodotto di un elemento della distribuzione di `x` e di un elemento della distribuzione di `y`.\n",
    "Dunque se abbiamo degli oggetti  `Pmf` che rappresentano le altezze di `A` e `B`, possiamo calcolare la distribuzione congiunta semplicemente calcolando il prodotto esterno in ogni `Pmf`.\n",
    "\n",
    "La seguente funzione usa due oggetti `Pmf` e ritorna un oggetto `DataFrame` che rappresenta una distrbuzione congiunta."
   ]
  },
  {
   "cell_type": "code",
   "execution_count": 14,
   "id": "ce59d6ae",
   "metadata": {},
   "outputs": [],
   "source": [
    "def make_joint(pmf1, pmf2):\n",
    "    \"\"\"Compute the outer product of two Pmfs.\"\"\"\n",
    "    X, Y = np.meshgrid(pmf1, pmf2)\n",
    "    return pd.DataFrame(X * Y, columns=pmf1.qs, index=pmf2.qs)"
   ]
  },
  {
   "cell_type": "markdown",
   "id": "c24f2193",
   "metadata": {},
   "source": [
    "I nomi delle colonne sono le quantità presenti in `pmf1`; mentre nelle etichette di riga troviamo le quantità di `pmf2`.\n",
    "In questo esempio le distribuzioni a propri di `A` e `B` sono le stesse, dunque possiamo calcolare la distribuzione congiunta a priori in questo modo:"
   ]
  },
  {
   "cell_type": "code",
   "execution_count": 15,
   "id": "ead6ad07",
   "metadata": {},
   "outputs": [
    {
     "data": {
      "text/plain": [
       "(96, 96)"
      ]
     },
     "execution_count": 15,
     "metadata": {},
     "output_type": "execute_result"
    }
   ],
   "source": [
    "joint = make_joint(prior, prior)\n",
    "joint.shape"
   ]
  },
  {
   "cell_type": "markdown",
   "id": "4b02f2c8",
   "metadata": {},
   "source": [
    "Il risultato è un `DataFrame` con tutte le possibili altezze di `A` sulle colonne e le altezze di `B` sulle righe, e le probabilità congiunte di tutti gli elementi.\n",
    "\n",
    "Se le distribuzioni a priori sono normalizzate anche la distribuzione congiunta a priori è normalizzata."
   ]
  },
  {
   "cell_type": "code",
   "execution_count": 16,
   "id": "d54a5b7a",
   "metadata": {},
   "outputs": [
    {
     "data": {
      "text/plain": [
       "1.0"
      ]
     },
     "execution_count": 16,
     "metadata": {},
     "output_type": "execute_result"
    }
   ],
   "source": [
    "joint.to_numpy().sum()"
   ]
  },
  {
   "cell_type": "markdown",
   "id": "e06441fa",
   "metadata": {},
   "source": [
    "abbiamo trasformato il dataframe in un array numpy perchè altrimenti otterremo una serie di somme di tutte le righe"
   ]
  },
  {
   "cell_type": "code",
   "execution_count": 17,
   "id": "31e3d21a",
   "metadata": {},
   "outputs": [
    {
     "data": {
      "text/plain": [
       "(96,)"
      ]
     },
     "execution_count": 17,
     "metadata": {},
     "output_type": "execute_result"
    }
   ],
   "source": [
    "series = joint.sum()\n",
    "series.shape"
   ]
  },
  {
   "cell_type": "markdown",
   "id": "e94d7232",
   "metadata": {},
   "source": [
    "## Visualizzare la distribuzione congiunta\n",
    "\n",
    "La seguente funzione usa `pcolormesh` per visualizzare la distribuzione congiunta. "
   ]
  },
  {
   "cell_type": "code",
   "execution_count": 18,
   "id": "b9cdd3e0",
   "metadata": {},
   "outputs": [],
   "source": [
    "import matplotlib.pyplot as plt\n",
    "\n",
    "def plot_joint(joint, cmap='Blues'):\n",
    "    \"\"\"Plot a joint distribution with a color mesh.\"\"\"\n",
    "    vmax = joint.to_numpy().max() * 1.1\n",
    "    plt.pcolormesh(joint.columns, joint.index, joint, \n",
    "                   cmap=cmap,\n",
    "                   vmax=vmax,\n",
    "                   shading='nearest')\n",
    "    plt.colorbar()\n",
    "    \n",
    "    decorate(xlabel='A height in cm',\n",
    "             ylabel='B height in cm')"
   ]
  },
  {
   "cell_type": "markdown",
   "id": "5ab9f499",
   "metadata": {},
   "source": [
    "Vediamo come si visualizza questa distribuzione."
   ]
  },
  {
   "cell_type": "code",
   "execution_count": 19,
   "id": "6d5ee101",
   "metadata": {},
   "outputs": [
    {
     "data": {
      "image/png": "[encoded data removed]",
      "text/plain": [
       "<Figure size 432x288 with 2 Axes>"
      ]
     },
     "metadata": {
      "needs_background": "light"
     },
     "output_type": "display_data"
    }
   ],
   "source": [
    "plot_joint(joint)\n",
    "decorate(title='Joint prior distribution of height for A and B')"
   ]
  },
  {
   "cell_type": "markdown",
   "id": "99bff47f",
   "metadata": {},
   "source": [
    "Come ci si aspetta, la probabilità è alta (scura) vicino la media e cala velocemente lontano da essa.\n",
    "Un altro sistema di visualizzare la distribuzione congiunta è tramite i contorni."
   ]
  },
  {
   "cell_type": "code",
   "execution_count": 20,
   "id": "0632aede",
   "metadata": {},
   "outputs": [],
   "source": [
    "def plot_contour(joint):\n",
    "    \"\"\"Plot a joint distribution with a contour.\"\"\"\n",
    "    plt.contour(joint.columns, joint.index, joint,\n",
    "                linewidths=2)\n",
    "    decorate(xlabel='A height in cm',\n",
    "             ylabel='B height in cm')"
   ]
  },
  {
   "cell_type": "code",
   "execution_count": 21,
   "id": "a18990c4",
   "metadata": {},
   "outputs": [
    {
     "data": {
      "image/png": "[encoded data removed]",
      "text/plain": [
       "<Figure size 432x288 with 1 Axes>"
      ]
     },
     "metadata": {
      "needs_background": "light"
     },
     "output_type": "display_data"
    }
   ],
   "source": [
    "plot_contour(joint)\n",
    "decorate(title='Joint prior distribution of height for A and B')"
   ]
  },
  {
   "cell_type": "markdown",
   "id": "9b4c572b",
   "metadata": {},
   "source": [
    "Ogni linea rappresenta un livello di egual probabilità.\n",
    "\n",
    "\n",
    "## Aspettativa\n",
    "\n",
    "Ora abbiamo una distribuzione congiunta a priori, possiamo aggiornare la distribuzione con il dato `A` è più grande di`B`.\n",
    "Ogni elemento nella distribuzione congiunta rappresenta una ipotesi circa l'altezza di `A` e `B`.\n",
    "\n",
    "Per calcolare la verosomiglianza di ogni coppia di quantità possiamo estrarre i nomi delle colonne e le etichette delle righe a priori, così: "
   ]
  },
  {
   "cell_type": "code",
   "execution_count": 22,
   "id": "1c5f5795",
   "metadata": {},
   "outputs": [],
   "source": [
    "x = joint.columns\n",
    "y = joint.index"
   ]
  },
  {
   "cell_type": "markdown",
   "id": "e68d3d9b",
   "metadata": {},
   "source": [
    "Usiamo questo per calcolare la griglia mesh"
   ]
  },
  {
   "cell_type": "code",
   "execution_count": 23,
   "id": "b4939cd1",
   "metadata": {},
   "outputs": [],
   "source": [
    "X, Y = np.meshgrid(x, y)"
   ]
  },
  {
   "cell_type": "markdown",
   "id": "4186fd17",
   "metadata": {},
   "source": [
    "Se compariamo `X` e `Y`, il risultato è un array Booleano"
   ]
  },
  {
   "cell_type": "code",
   "execution_count": 24,
   "id": "a2a81acb",
   "metadata": {},
   "outputs": [
    {
     "data": {
      "text/plain": [
       "dtype('bool')"
      ]
     },
     "execution_count": 24,
     "metadata": {},
     "output_type": "execute_result"
    }
   ],
   "source": [
    "A_taller = (X > Y)\n",
    "A_taller.dtype"
   ]
  },
  {
   "cell_type": "markdown",
   "id": "33807a13",
   "metadata": {},
   "source": [
    "Per caricare le verosomiglianze, useremo `np.where` per creare un array con il valore 1 quando A_taller è True 0 altrimenti."
   ]
  },
  {
   "cell_type": "code",
   "execution_count": 25,
   "id": "4424f7b0",
   "metadata": {},
   "outputs": [],
   "source": [
    "a = np.where(A_taller, 1, 0)"
   ]
  },
  {
   "cell_type": "markdown",
   "id": "55a9c21e",
   "metadata": {},
   "source": [
    "Per visualizzare questo array di verosomiglianze, metteremo in un `DataFrame` con i valori di `x` come nomi di colonna e `y` come etichette di riga. "
   ]
  },
  {
   "cell_type": "code",
   "execution_count": 26,
   "id": "6b99ec22",
   "metadata": {},
   "outputs": [],
   "source": [
    "likelihood = pd.DataFrame(a, index=x, columns=y)"
   ]
  },
  {
   "cell_type": "markdown",
   "id": "d395b2fb",
   "metadata": {},
   "source": [
    "Qui come viene visualizzato:"
   ]
  },
  {
   "cell_type": "code",
   "execution_count": 27,
   "id": "a3407c71",
   "metadata": {},
   "outputs": [
    {
     "data": {
      "image/png": "[encoded data removed]",
      "text/plain": [
       "<Figure size 432x288 with 2 Axes>"
      ]
     },
     "metadata": {
      "needs_background": "light"
     },
     "output_type": "display_data"
    }
   ],
   "source": [
    "plot_joint(likelihood, cmap='Oranges')\n",
    "decorate(title='Likelihood of A>B')"
   ]
  },
  {
   "cell_type": "markdown",
   "id": "511901ea",
   "metadata": {},
   "source": [
    "La verosomiglianza dei dati è 1 dove `X > Y` e 0 altrimenti.\n",
    "\n",
    "## L'aggiornamento\n",
    "\n",
    "Abbiamo una distribuzione a priori, abbiamo una funzione di verosomiglianza, e siamo pronti per l'aggiornamento. Come al solito la distribuzione a posteriori è il prodotto della distribuzione a priori e verosomiglianza.\n",
    "\n"
   ]
  },
  {
   "cell_type": "code",
   "execution_count": 28,
   "id": "222bdd46",
   "metadata": {},
   "outputs": [],
   "source": [
    "posterior = joint * likelihood"
   ]
  },
  {
   "cell_type": "markdown",
   "id": "29f9110b",
   "metadata": {},
   "source": [
    "Usiamo la seguente funzione per normalizzare la distribuzione a posteriori:"
   ]
  },
  {
   "cell_type": "code",
   "execution_count": 29,
   "id": "93eb1169",
   "metadata": {},
   "outputs": [],
   "source": [
    "def normalize(joint):\n",
    "    \"\"\"Normalize a joint distribution.\"\"\"\n",
    "    prob_data = joint.to_numpy().sum()\n",
    "    joint /= prob_data\n",
    "    return prob_data"
   ]
  },
  {
   "cell_type": "code",
   "execution_count": 30,
   "id": "9bfd61aa",
   "metadata": {},
   "outputs": [
    {
     "data": {
      "text/plain": [
       "0.49080747821526977"
      ]
     },
     "execution_count": 30,
     "metadata": {},
     "output_type": "execute_result"
    }
   ],
   "source": [
    "normalize(posterior)"
   ]
  },
  {
   "cell_type": "markdown",
   "id": "22733385",
   "metadata": {},
   "source": [
    "e qui il risultato."
   ]
  },
  {
   "cell_type": "code",
   "execution_count": 31,
   "id": "aa96b5ab",
   "metadata": {},
   "outputs": [
    {
     "data": {
      "image/png": "[encoded data removed]",
      "text/plain": [
       "<Figure size 432x288 with 2 Axes>"
      ]
     },
     "metadata": {
      "needs_background": "light"
     },
     "output_type": "display_data"
    }
   ],
   "source": [
    "plot_joint(posterior)\n",
    "decorate(title='Joint posterior distribution of height for A and B')"
   ]
  },
  {
   "cell_type": "markdown",
   "id": "00c22e98",
   "metadata": {},
   "source": [
    "Tutte le coppie dove `B` è più grande `A` sono state eliminate. Il resto della distribuzione a posteriori tranne il fatto di essere renormalizzati.\n",
    "\n",
    "## Distribuzioni marginali\n",
    "\n",
    "La distibuzione a posteriori rappresenta cosa le nostre credenze circa l'altezza di `A` e `B` date la distribuzioni a priori e l'informazione che `A` è più alto.   \n",
    "Per questa distribuzione congiunta, possiamo calcolare la distribuzione a posteriori di `A` e `B`. Per vedere come partiamo con un problema semplice.\n",
    "Supponiamo di voler sapere la probabilità che `A`  è alto 180 cm. Possiamo scegliere la colonna della distribuzione congiunta dove `x=180`."
   ]
  },
  {
   "cell_type": "code",
   "execution_count": 32,
   "id": "50c9b60c",
   "metadata": {},
   "outputs": [
    {
     "data": {
      "text/plain": [
       "154.0    0.000010\n",
       "154.5    0.000013\n",
       "155.0    0.000015\n",
       "155.5    0.000019\n",
       "156.0    0.000022\n",
       "Name: 180.0, dtype: float64"
      ]
     },
     "execution_count": 32,
     "metadata": {},
     "output_type": "execute_result"
    }
   ],
   "source": [
    "column = posterior[180]\n",
    "column.head()"
   ]
  },
  {
   "cell_type": "markdown",
   "id": "ab3bbe21",
   "metadata": {},
   "source": [
    "Questa colonna contiene le probabilità per tutti i casi dove `x=180`; se sommiamo tutti i valori otteniamo la probabilità totale che `A` sia alto 180 cm."
   ]
  },
  {
   "cell_type": "code",
   "execution_count": 33,
   "id": "dbb04b54",
   "metadata": {},
   "outputs": [
    {
     "data": {
      "text/plain": [
       "0.03017221271570807"
      ]
     },
     "execution_count": 33,
     "metadata": {},
     "output_type": "execute_result"
    }
   ],
   "source": [
    "column.sum()"
   ]
  },
  {
   "cell_type": "markdown",
   "id": "37d15d3b",
   "metadata": {},
   "source": [
    "Che rappresents circa il 3%.\n",
    "Ora, per avere una distribuzione a posteriori di `A`, possiamo sommare tutte le colonne in questo modo:"
   ]
  },
  {
   "cell_type": "code",
   "execution_count": 34,
   "id": "2e6488ca",
   "metadata": {},
   "outputs": [
    {
     "data": {
      "text/plain": [
       "154.0    0.000000e+00\n",
       "154.5    1.012260e-07\n",
       "155.0    2.736152e-07\n",
       "155.5    5.532519e-07\n",
       "156.0    9.915650e-07\n",
       "dtype: float64"
      ]
     },
     "execution_count": 34,
     "metadata": {},
     "output_type": "execute_result"
    }
   ],
   "source": [
    "column_sums = posterior.sum(axis=0)\n",
    "column_sums.head()"
   ]
  },
  {
   "cell_type": "markdown",
   "id": "56c6354b",
   "metadata": {},
   "source": [
    "L'argomento `axis=0`significa che vogliamo sommare le colonne.\n",
    "Il risultato è una serie che contiene ogni possibile altezza di `A` e le sue probabilità. In altre parole, è la distribuzione delle altezze di `A`.\n",
    "\n",
    "Possiamo mettere questi valori dentro un oggetto `Pmf`:"
   ]
  },
  {
   "cell_type": "code",
   "execution_count": 35,
   "id": "bac1e00c",
   "metadata": {},
   "outputs": [],
   "source": [
    "marginal_A = Pmf(column_sums)"
   ]
  },
  {
   "cell_type": "markdown",
   "id": "b7b1bc46",
   "metadata": {},
   "source": [
    "Possiamo estrarre la distribuzione di un singolo valore dalla distribuzione congiunta, il risultato è chiamato **distribuzione marginale**.\n",
    "\n",
    "Il nome deriva da una visualizzazione che mostra la distribuzione congiunta nel mezzo e le distribuzioni marginali ai margini.\n",
    "Qui la visualizzazione della distribuzione marginale di `A`:"
   ]
  },
  {
   "cell_type": "code",
   "execution_count": 38,
   "id": "92a02241",
   "metadata": {},
   "outputs": [
    {
     "data": {
      "image/png": "[encoded data removed]",
      "text/plain": [
       "<Figure size 432x288 with 1 Axes>"
      ]
     },
     "metadata": {
      "needs_background": "light"
     },
     "output_type": "display_data"
    }
   ],
   "source": [
    "marginal_A.plot(label='Posterior for A')\n",
    "\n",
    "decorate(xlabel='Height in cm',\n",
    "         ylabel='PDF',\n",
    "         title='Posterior distribution for A')"
   ]
  },
  {
   "cell_type": "markdown",
   "id": "f9b4a4d6",
   "metadata": {},
   "source": [
    "Similmente, possiamo ottenere la distribuzione a posteriori di `B` semplicemente sommando le righe e mettendo il risultato in un oggetto `Pmf`."
   ]
  },
  {
   "cell_type": "code",
   "execution_count": 39,
   "id": "50f3824a",
   "metadata": {},
   "outputs": [],
   "source": [
    "row_sums = posterior.sum(axis=1)\n",
    "marginal_B = Pmf(row_sums)"
   ]
  },
  {
   "cell_type": "markdown",
   "id": "8caffc41",
   "metadata": {},
   "source": [
    "Qui il grafico."
   ]
  },
  {
   "cell_type": "code",
   "execution_count": 40,
   "id": "88dde2a9",
   "metadata": {},
   "outputs": [
    {
     "data": {
      "image/png": "[encoded data removed]",
      "text/plain": [
       "<Figure size 432x288 with 1 Axes>"
      ]
     },
     "metadata": {
      "needs_background": "light"
     },
     "output_type": "display_data"
    }
   ],
   "source": [
    "marginal_B.plot(label='Posterior for B', color='C1')\n",
    "\n",
    "decorate(xlabel='Height in cm',\n",
    "         ylabel='PDF',\n",
    "         title='Posterior distribution for B')"
   ]
  },
  {
   "cell_type": "markdown",
   "id": "d2dd57d3",
   "metadata": {},
   "source": [
    "creiamo una funzione che calcoli entrambi i valori."
   ]
  },
  {
   "cell_type": "code",
   "execution_count": 41,
   "id": "273c02d9",
   "metadata": {},
   "outputs": [],
   "source": [
    "def marginal(joint, axis):\n",
    "    \"\"\"Compute a marginal distribution.\"\"\"\n",
    "    return Pmf(joint.sum(axis=axis))"
   ]
  },
  {
   "cell_type": "code",
   "execution_count": 42,
   "id": "dd4ee12d",
   "metadata": {},
   "outputs": [],
   "source": [
    "marginal_A = marginal(posterior, axis=0)\n",
    "marginal_B = marginal(posterior, axis=1)"
   ]
  },
  {
   "cell_type": "code",
   "execution_count": 43,
   "id": "d0a15cff",
   "metadata": {},
   "outputs": [
    {
     "data": {
      "image/png": "[encoded data removed]",
      "text/plain": [
       "<Figure size 432x288 with 1 Axes>"
      ]
     },
     "metadata": {
      "needs_background": "light"
     },
     "output_type": "display_data"
    }
   ],
   "source": [
    "prior.plot(style='--', label='Prior', color='C5')\n",
    "marginal_A.plot(label='Posterior for A')\n",
    "marginal_B.plot(label='Posterior for B')\n",
    "\n",
    "decorate(xlabel='Height in cm',\n",
    "         ylabel='PDF',\n",
    "         title='Prior and posterior distributions for A and B')"
   ]
  },
  {
   "cell_type": "markdown",
   "id": "4fe67b77",
   "metadata": {},
   "source": [
    "Come ci aspettiamo la distristribuzione a posteriori di `A` è spostata verso destra mentre la distribuzione a posteriori di `B` è spostata verso sinistra.\n",
    "\n",
    "Possiamo riassumere i risultati calcolando le medie delle distribuzioni a posteriori:"
   ]
  },
  {
   "cell_type": "code",
   "execution_count": 44,
   "id": "54458367",
   "metadata": {},
   "outputs": [
    {
     "data": {
      "text/plain": [
       "177.99516026921506"
      ]
     },
     "execution_count": 44,
     "metadata": {},
     "output_type": "execute_result"
    }
   ],
   "source": [
    "prior.mean()"
   ]
  },
  {
   "cell_type": "code",
   "execution_count": 45,
   "id": "ac3eff6c",
   "metadata": {},
   "outputs": [
    {
     "name": "stdout",
     "output_type": "stream",
     "text": [
      "182.3872812342168 173.6028600023339\n"
     ]
    }
   ],
   "source": [
    "print(marginal_A.mean(), marginal_B.mean())"
   ]
  },
  {
   "cell_type": "markdown",
   "id": "6f790d1e",
   "metadata": {},
   "source": [
    "Basandosi sulla osservazione che `A` è più alto di `B`, siamo portati a credere che `A` è leggermente più alto della media e `B` leggermente più basso della stessa.\n",
    "\n",
    "\n",
    "Le distribuzioni a posteriori sono leggermente più strette di quelle a priori. Possiamo quantificalo calcolando la deviazione standard."
   ]
  },
  {
   "cell_type": "code",
   "execution_count": 46,
   "id": "941dc9c2",
   "metadata": {},
   "outputs": [
    {
     "data": {
      "text/plain": [
       "7.624924796641578"
      ]
     },
     "execution_count": 46,
     "metadata": {},
     "output_type": "execute_result"
    }
   ],
   "source": [
    "prior.std()"
   ]
  },
  {
   "cell_type": "code",
   "execution_count": 47,
   "id": "138e694c",
   "metadata": {},
   "outputs": [
    {
     "name": "stdout",
     "output_type": "stream",
     "text": [
      "6.270461177645469 6.280513548175111\n"
     ]
    }
   ],
   "source": [
    "print(marginal_A.std(), marginal_B.std())"
   ]
  },
  {
   "cell_type": "markdown",
   "id": "e99d9b71",
   "metadata": {},
   "source": [
    "La deviazione standard delle distribuzioni a posteriori sono più piccole, che significa che siamo più certi circa le altezze di \n",
    "`A` e `B` dopo averle comparati."
   ]
  },
  {
   "cell_type": "markdown",
   "id": "c39834d9",
   "metadata": {},
   "source": [
    "## Posteriori condizionali\n",
    "Ora supponiamo di misurare `A` e di trovare che la sua altezza sia 170 cm. Cosa possiamo dire circa `B`?\n",
    "Nella distribuzione congiunta, ogni colonna corrisponde un possibile valore di altezza di `A`.\n",
    "Possiamo selezionare la colonna che corrisponde ad una altezza di 170 cm. "
   ]
  },
  {
   "cell_type": "code",
   "execution_count": 48,
   "id": "178c8548",
   "metadata": {},
   "outputs": [],
   "source": [
    "column_170 = posterior[170]"
   ]
  },
  {
   "cell_type": "markdown",
   "id": "4413ee67",
   "metadata": {},
   "source": [
    "Il risultato è un oggetto `Series` che rappresenta le possibili altezze di `B` e le relative verosomiglianze.\n",
    "Queste verosomiglianze non sono normalizzate, possiamo normalizzarli in questo modo:"
   ]
  },
  {
   "cell_type": "code",
   "execution_count": 49,
   "id": "b0429af7",
   "metadata": {},
   "outputs": [
    {
     "data": {
      "text/plain": [
       "0.004358061205454471"
      ]
     },
     "execution_count": 49,
     "metadata": {},
     "output_type": "execute_result"
    }
   ],
   "source": [
    "cond_B = Pmf(column_170)\n",
    "cond_B.normalize()"
   ]
  },
  {
   "cell_type": "markdown",
   "id": "8188d57c",
   "metadata": {},
   "source": [
    "abbiamo poi creato un oggetto `Pmf` e abbiamo normalizzato `cond_B`.\n",
    "Il risultato è una distribuzione condizionale di altezze per `B` data come altezza di `A` è di 170 cm.\n",
    "\n",
    "Qui la visualizzazione:"
   ]
  },
  {
   "cell_type": "code",
   "execution_count": 50,
   "id": "62eb3413",
   "metadata": {},
   "outputs": [
    {
     "data": {
      "image/png": "[encoded data removed]",
      "text/plain": [
       "<Figure size 432x288 with 1 Axes>"
      ]
     },
     "metadata": {
      "needs_background": "light"
     },
     "output_type": "display_data"
    }
   ],
   "source": [
    "prior.plot(style='--', label='Prior', color='C5')\n",
    "marginal_B.plot(label='Posterior for B', color='C1')\n",
    "cond_B.plot(label='Conditional posterior for B', \n",
    "            color='C4')\n",
    "\n",
    "decorate(xlabel='Height in cm',\n",
    "         ylabel='PDF',\n",
    "         title='Prior, posterior and conditional distribution for B')"
   ]
  },
  {
   "cell_type": "markdown",
   "id": "354a95a4",
   "metadata": {},
   "source": [
    "La priorità condizionale è tagliata all'altezza di 170cm, in quanto abbiamo stabilito che `B` è più corto di `A` e `A` sia 170 cm.\n",
    "\n",
    "## Dipendenza e indipendenza\n",
    "\n",
    "Quando abbiamo costruito una distribuzione congiunta a priori, abbiamo detto che l'altezza di `A` e `B` sono indipendenti, questo significa che conoscendo conoscendo un valore non abbiamo informazioni relative agli altri.\n",
    "\n",
    "In altre parole, la probabilità condizionale $P(A_x | B_y)$ è la stessa della probabilità non condizionale $P(A_x)$.\n",
    "Ma se sappiamo che `A` è più alta di `B` e sappiamo quanto  `A` è alto, questo ci da informazioni circa `B`.\n",
    "\n",
    "La distribuzione condizionale che abbiamo appena calcolato dimostra questa dipendenza. \n",
    "\n",
    "## Sommario\n",
    "\n",
    "In questo capitolo, siamo partiti dalle operazioni \"outer\", come il prodotto esterno, che abbiamo usato per costruire una distribuzione congiunta.\n",
    "\n",
    "In generale, non possiamo costruire una distribuire congiunta da due distribuzioni marginali, ma in casi speciali dove le distribuzioni sono indipendenti si può.\n",
    "\n",
    "Possiamo estendere l'aggiornamento Bayesiano e applicarlo alle distribuzione congiunte. Poi dalla distribuzione a posteriori congiunti dove abbiamo estratto la distribuzione a posteriori marginale e la distribuzione condizionale."
   ]
  }
 ],
 "metadata": {
  "kernelspec": {
   "display_name": "Python 3 (ipykernel)",
   "language": "python",
   "name": "python3"
  },
  "language_info": {
   "codemirror_mode": {
    "name": "ipython",
    "version": 3
   },
   "file_extension": ".py",
   "mimetype": "text/x-python",
   "name": "python",
   "nbconvert_exporter": "python",
   "pygments_lexer": "ipython3",
   "version": "3.9.7"
  }
 },
 "nbformat": 4,
 "nbformat_minor": 5
}
