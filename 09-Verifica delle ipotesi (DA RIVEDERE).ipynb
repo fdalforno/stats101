{
 "cells": [
  {
   "cell_type": "markdown",
   "id": "4b2eea68",
   "metadata": {},
   "source": [
    "## Verifica delle ipotesi\n",
    "\n",
    "Esplorando i dati del dataset NSFG abbiamo notato alcuni effetti \"apparenti\", primo tra tutti la differenza tra il periodo di gestazione tra il primo bebè. Fino ad ora abbiamo preso questi risultati così come venivano ora testeremo questi risultati.\n",
    "\n",
    "La questione fondamentale che vogliamo indirizzare è se gli effetti che vediamo in un campione sono probabili anche in una popolazione più grande.\n",
    "\n",
    "Per esempio nel campione NSFG abbiamo visto una differenza nella lunghezza media della gestazione, vorremmo sapere se questo effetto sia applicabile anche alla popolazione delle donne americane oppure è apparsa nel campione per puro caso.\n",
    "\n",
    "Ci sono molti modi per formulare una risposta a questa domanda, quello che vedremo è un sottoinsieme delle possibilità che di solito viene usato nella pratica. Potremo chiamarlo **test delle ipotesi classico**\n",
    "\n",
    "L'obiettivo di questo test è dare risposta alla domanda \"dato un campione e un effetto apparente, quale è la probabilità di vedere questo effetto per caso?\" Qui sotto le risposte che possiamo dare:\n",
    "\n",
    "* Il primo passo è quello di quantificare la dimensione dell'effetto apparente scegliendo un **test statistico**. Nell'esempio precendente dei nascituri l'effetto apparente è la lunghezza della gestazione tra il primo bebè e gli altri, dunque una scelta ovvia potremme essere quella di confrontare le medie tra i due gruppi.\n",
    "\n",
    "* Il secondo passo è quello di definire una **ipotesi nulla** che è un modello del sistema basato sulla assunzione che l'effetto apparente non sia reale. Sempre prendendo l'esempio di prima l'ipotesi nulla è che non ci siano differenze tra il primo bambino e il secondo e dunque i due gruppi hanno la stessa distribuzione.\n",
    "\n",
    "* Il terzo passo è quello di calcolare un **p-value** che rappresenta la probabilità di vedere l'effetto apparente se l'ipotesi nulla fosse vera. Sempre usando il nostro classico esempio, possiamo calcolare la differenza puntuale delle medie per poi calcolare la probabilità di vedere una differenza grande o grandissima sotto l'ipotesi nulla.\n",
    "\n",
    "* L'ultimo passo è quello di interpretare il risultato. Se il p-value è basso si dice che l'effetto è **statisticamente significante**, questo significa che è improbabile che tale effetto occorra per caso. In questo caso possiamo dedurre che l'effetto è più probabile appaia nelle grandi popolazioni.\n",
    "\n",
    "La logica di questo processo è simile alla prova per contraddizione. Per provare una affermazione A, si assume temporaneamente che A sia falsa. Se questa assunzione conduce ad una contraddizione A per forza deve essere vera. \n",
    "\n",
    "Similarmente per testare una ipotesi come \"Questo effetto è reale\" assumiamo, temporaneamente, che non lo sia. Basandosi su questa assunzione calcoliamo la probabilità dell'effetto apparente, il p-value. Se il p-value è basso possiamo concludere che l'ipotesi nulla è sfortunatemente vera.\n",
    "\n",
    "## Test delle ipotesi\n",
    "\n",
    "Cominciamo con il mostrare una classe che ci servirà nel seguito"
   ]
  },
  {
   "cell_type": "code",
   "execution_count": 1,
   "id": "8ac2825e",
   "metadata": {},
   "outputs": [],
   "source": [
    "%matplotlib inline\n",
    "from utils import calcCdf\n",
    "import matplotlib.pyplot as plt\n",
    "\n",
    "class HypothesisTest(object):\n",
    "    \"\"\"Rappresenta un test di ipotesi\"\"\"\n",
    "\n",
    "    def __init__(self, data):\n",
    "        \"\"\"\n",
    "        Inizializzazione\n",
    "\n",
    "        data: dati in ingresso nella forma più interessante\n",
    "        \"\"\"\n",
    "        self.data = data\n",
    "        self.MakeModel()\n",
    "        self.actual = self.TestStatistic(data)\n",
    "        self.test_stats = None\n",
    "        self.test_cdf = None\n",
    "        self.values = None\n",
    "\n",
    "    def PValue(self, iters=1000):\n",
    "        \"\"\"\n",
    "        Calcola la distribuzione del test statistico e il p-value\n",
    "        \n",
    "        iters: numero di iterazioni\n",
    "\n",
    "        returns: float p-value\n",
    "        \"\"\"\n",
    "        self.test_stats = [self.TestStatistic(self.RunModel()) \n",
    "                           for _ in range(iters)]\n",
    "        \n",
    "        self.values,_,self.test_cdf = calcCdf(self.test_stats)\n",
    "\n",
    "        count = sum(1 for x in self.test_stats if x >= self.actual)\n",
    "        return count / iters\n",
    "    \n",
    "    def PlotCdf(self, label=None):\n",
    "        \"\"\"\n",
    "        Visualizzo il grafico cdf sui dati di test con una linea verticale \n",
    "        al punto di osservazione dei dati di osservazione\n",
    "        \"\"\"\n",
    "        \n",
    "        plt.plot(self.values,self.test_cdf)\n",
    "        plt.vlines(self.actual, 0, 1, linestyles =\"dotted\", colors =\"k\")\n",
    "        plt.grid(True)\n",
    "        \n",
    "        plt.ylim(0,1)\n",
    "\n",
    "    def MaxTestStat(self):\n",
    "        \"\"\"\n",
    "        Restituisce il valore più grande durante la simulazione\n",
    "        \"\"\"\n",
    "        return max(self.test_stats)\n",
    "\n",
    "\n",
    "    def TestStatistic(self, data):\n",
    "        \"\"\"\n",
    "        Calcola il test statistico  \n",
    "        \"\"\"\n",
    "        raise UnimplementedMethodException()\n",
    "\n",
    "    def MakeModel(self):\n",
    "        \"\"\"\n",
    "        Costruisce il modello dell'ipotesi nulla\n",
    "        \"\"\"\n",
    "        pass\n",
    "\n",
    "    def RunModel(self):\n",
    "        \"\"\"\n",
    "        Ritorna il modello dell'ipotesi nulla\n",
    "\n",
    "        returns: dati simulati\n",
    "        \"\"\"\n",
    "        raise UnimplementedMethodException()"
   ]
  },
  {
   "cell_type": "markdown",
   "id": "0c56f27e",
   "metadata": {},
   "source": [
    "`HypotesisTest` è una classe astratta che verrà estesa nei prossimi esperimenti.\n",
    "`PValue` calcola la probabilità dell'effetto apparente sotto l'ipotesi nulla come parametro viene passato `iters` che rappresenta il numero di simulazioni da eseguire. La prima linea genera le simuazioni, esegue il test statistico e salva i dati. Il restante codice calcola la frazione di elementi che superano il valore soglia del test.\n",
    "\n",
    "Partiamo con semplice test, supponiamo di lanciare una monetina 250 volte e di annotare 140 teste e 110 croci.\n",
    "In base a questo risultato potremmo sospettare di essere di fronte ad una moneta truccata. Per provare questa ipotesi possiamo calcolare la probabilità di vedere una differenza tra testa e croce uguale o più alta.\n",
    "\n"
   ]
  },
  {
   "cell_type": "code",
   "execution_count": 2,
   "id": "9b01aa10",
   "metadata": {},
   "outputs": [],
   "source": [
    "import random\n",
    "from collections import Counter\n",
    "\n",
    "class CoinTest(HypothesisTest):\n",
    "    \"\"\"Test di ipotesi per controllare se la monetina è truccata\"\"\"\n",
    "\n",
    "    def TestStatistic(self, data):\n",
    "        \"\"\"\n",
    "        Calcolo il test statistico \n",
    "        \"\"\"\n",
    "        heads, tails = data\n",
    "        test_stat = abs(heads - tails)\n",
    "        return test_stat\n",
    "\n",
    "    def RunModel(self):\n",
    "        \"\"\"\n",
    "        eseguo il modello sulla ipotesi nulla\n",
    "\n",
    "        returns: dati della simulazione\n",
    "        \"\"\"\n",
    "        heads, tails = self.data\n",
    "        n = heads + tails\n",
    "        sample = [random.choice('HT') for _ in range(n)]\n",
    "        hist = Counter(sample)\n",
    "        data = hist['H'], hist['T']\n",
    "        return data"
   ]
  },
  {
   "cell_type": "markdown",
   "id": "57ac2e80",
   "metadata": {},
   "source": [
    "il parametro data è una coppia di numeri rappresentanti testa e croce, il test statistico rappresenta la differenza assoluta tra questi dunque nel nostro caso `self.actual` avrà come valore 30.\n",
    "\n",
    "`RunModel` simula il lancio della monetina assumendo che la stessa non sia truccata. Genera un campione di 250 casi di test e ritorna il numero di teste e di croci del campione. "
   ]
  },
  {
   "cell_type": "code",
   "execution_count": 3,
   "id": "8c63935a",
   "metadata": {},
   "outputs": [
    {
     "name": "stdout",
     "output_type": "stream",
     "text": [
      "coin test p-value 0.07\n"
     ]
    }
   ],
   "source": [
    "ct = CoinTest((140, 110))\n",
    "pvalue = ct.PValue()\n",
    "print('coin test p-value', pvalue)"
   ]
  },
  {
   "cell_type": "markdown",
   "id": "6ce501d3",
   "metadata": {},
   "source": [
    "il risultato è circa 0.07 il significa che la moneta non è truccata, ci aspettiamo di avere una differenza più grande di 30 tra testa e croce solo il 7% delle volte.\n",
    "\n",
    "Ma come si interpreta questo risultato? Per convenzione il 5% rappresenta il valore di soglia per avere un significato statistico. Se il risultato è sotto il 5% l'effetto è considerato significante altrimenti se supera il 5% l'ipotesi nulla non è vera.\n",
    "\n",
    "La scelta del 5% però è arbitraria e come vedremo più avanti il p-value dipende molto dal test statistico e il modello su cui si basa il test nullo.\n",
    "\n",
    "Dunque il p-value non essere considerato una misura precisa.\n",
    "\n",
    "Si raccomanda di interpretare il valore di p-value in base alla sua grandezza, se il valore p-value è sotto all'1% l'effetto è improbabile, se sopra il 10% l'effetto è abbastanza probabile, tra l'1% e il 10% siamo in un caso borderline.\n",
    "\n",
    "Ritornando al nostro caso possiamo dire che non ci sono forti evidenze che la moneta sia truccata.\n",
    "\n",
    "##  Testare la differenza nelle medie\n",
    "\n",
    "Uno dei più comuni effetti da testare è la differenza delle medie tra due gruppi. Nel dataset dei nascituri sappiamo che la media del periodo di gestazione è leggermente più lunga e la media del peso leggermente più bassa.\n",
    "\n",
    "Ora vediamo se questi effetti hanno rilevanza statistica.\n",
    "\n",
    "Per questi esempi, l'ipotesi nulla è: le distribuzioni dei due gruppi sono le stesse. Un modo di testare l'ipotesi nulla è tramite le **permutazioni**. Così possiamo prendere valori dall'insieme del primo nascituro, valori per gli altri figli e mescolarli assieme, successivamente trattiamo i due gruppi come uno solo.\n",
    "\n"
   ]
  },
  {
   "cell_type": "code",
   "execution_count": 4,
   "id": "9beaea0e",
   "metadata": {},
   "outputs": [],
   "source": [
    "class DiffMeansPermute(HypothesisTest):\n",
    "    \"\"\"\n",
    "    Testo la differenza delle medie tramite permutazione\n",
    "    \"\"\"\n",
    "\n",
    "    def TestStatistic(self, data):\n",
    "        \"\"\"\n",
    "        Calcolo il test statistico\n",
    "        \"\"\"\n",
    "        group1, group2 = data\n",
    "        test_stat = abs(group1.mean() - group2.mean())\n",
    "        return test_stat\n",
    "\n",
    "    def MakeModel(self):\n",
    "        \"\"\"\n",
    "        Costruisco il modello della ipotesi nulla\n",
    "        \"\"\"\n",
    "        group1, group2 = self.data\n",
    "        self.n, self.m = len(group1), len(group2)\n",
    "        self.pool = np.hstack((group1, group2))\n",
    "\n",
    "    def RunModel(self):\n",
    "        \"\"\"\n",
    "        Eseguo il modello sulla ipotesi nulla\n",
    "        \"\"\"\n",
    "        np.random.shuffle(self.pool)\n",
    "        data = self.pool[:self.n], self.pool[self.n:]\n",
    "        return data"
   ]
  },
  {
   "cell_type": "code",
   "execution_count": 5,
   "id": "22bad04e",
   "metadata": {},
   "outputs": [
    {
     "name": "stdout",
     "output_type": "stream",
     "text": [
      "birthlenght test p-value 0.157\n"
     ]
    }
   ],
   "source": [
    "from utils import readReadFemPreg\n",
    "import numpy as np\n",
    "\n",
    "preg = readReadFemPreg()\n",
    "live = preg[preg.outcome == 1]\n",
    "\n",
    "firsts = live[live.birthord == 1]\n",
    "others = live[live.birthord != 1]\n",
    "\n",
    "data = firsts.prglngth.values, others.prglngth.values\n",
    "ht = DiffMeansPermute(data)\n",
    "pvalue = ht.PValue()\n",
    "\n",
    "print('birthlenght test p-value', pvalue)"
   ]
  },
  {
   "cell_type": "markdown",
   "id": "ba748035",
   "metadata": {},
   "source": [
    "Come si vede il valore p-value è circa di 0.14 il che significa che prendendo dei valori a caso ci si aspetta di trovare delle differenze sulle medie più grandi per circa il 14% dei casi.\n",
    "\n",
    "Dunque l'effetto desiderato non è statisticamente significante.\n",
    "\n",
    "Abbiamo anche una funzione `PlotCdf` che visualizza la distribuzione del test statistico, con la linea tratteggiata verticale indicante l'effetto misurato.\n",
    "\n",
    "La linea tratteggiata colpisce le differenze osservate verso l valore 0.8 che ovviamente è il complemento di p-value."
   ]
  },
  {
   "cell_type": "code",
   "execution_count": 6,
   "id": "ae57d471",
   "metadata": {},
   "outputs": [
    {
     "data": {
      "image/png": "[encoded data removed]",
      "text/plain": [
       "<Figure size 432x288 with 1 Axes>"
      ]
     },
     "metadata": {
      "needs_background": "light"
     },
     "output_type": "display_data"
    }
   ],
   "source": [
    "ht.PlotCdf()"
   ]
  },
  {
   "cell_type": "markdown",
   "id": "cdf47836",
   "metadata": {},
   "source": [
    "Esguiamo lo stesso test con la differenza dei pesi e vediamo il risultato"
   ]
  },
  {
   "cell_type": "code",
   "execution_count": 7,
   "id": "2d7a0491",
   "metadata": {},
   "outputs": [
    {
     "name": "stdout",
     "output_type": "stream",
     "text": [
      "totalwgt test p-value 0.0\n"
     ]
    }
   ],
   "source": [
    "dataw = (firsts.totalwgt_lb.dropna().values,\n",
    "            others.totalwgt_lb.dropna().values)\n",
    "htw = DiffMeansPermute(dataw)\n",
    "p_value = htw.PValue(iters=1000)\n",
    "\n",
    "print('totalwgt test p-value', p_value)"
   ]
  },
  {
   "cell_type": "markdown",
   "id": "b45dc76e",
   "metadata": {},
   "source": [
    "## Altri test statistici\n",
    "\n",
    "Scegliere il miglior test statistico dipende molto dalla domanda a cui si vuol dare risposta. \n",
    "Per esempio se la domanda al quesito precedente è se la lunghezza della gestazione è differente tra il primo e gli altri figli, allora la differenza assoluta ha senso.\n",
    "\n",
    "Ma se volessimo testare che il primo figlio tende a nascere in ritardo allora non possiamo prendere la differenza assoluta, dovremo utilizzare questo test statistico."
   ]
  },
  {
   "cell_type": "code",
   "execution_count": 8,
   "id": "9dfc07e3",
   "metadata": {},
   "outputs": [],
   "source": [
    "class DiffMeansOneSided(DiffMeansPermute):\n",
    "    \"\"\"Test per one side per verificare se i bambini tendono a nascere dopo\"\"\"\n",
    "\n",
    "    def TestStatistic(self, data):\n",
    "        group1, group2 = data\n",
    "        test_stat = group1.mean() - group2.mean()\n",
    "        return test_stat"
   ]
  },
  {
   "cell_type": "code",
   "execution_count": 9,
   "id": "6277d329",
   "metadata": {},
   "outputs": [
    {
     "name": "stdout",
     "output_type": "stream",
     "text": [
      "birthlenght test p-value 0.094\n"
     ]
    }
   ],
   "source": [
    "data = firsts.prglngth.values, others.prglngth.values\n",
    "ht = DiffMeansOneSided(data)\n",
    "pvalue = ht.PValue()\n",
    "\n",
    "print('birthlenght test p-value', pvalue)"
   ]
  },
  {
   "cell_type": "markdown",
   "id": "c9ce081b",
   "metadata": {},
   "source": [
    "Questo test estende la classe `DiffMeansPermute` e modifica il comportamento del metodo `TestStatistic`.\n",
    "Questo tipo di test è anche chiamato **one sided** perchè tiene conto solo di un lato della distribuzione delle differenze, mentre il test precedente è anche chiamato **two sided**.\n",
    "\n",
    "Per questa versione del test il p-value restituisce come risultato un valore attorno al 0.08 in generale il valore p-value verso un solo lato è circa la metà di quello ambo i lati.\n",
    "\n",
    "Comunque questo valore non da ancora una rilevanza statistica.\n",
    "Potremmo anche cambiare sistema per testare la differenza statistica ad esempio usando la deviazione standard, abbiamo visto negli esempi precedenti che forse quel valore mostrava evidenze.\n",
    "\n",
    "Proviamo ad eseguire anche questo test."
   ]
  },
  {
   "cell_type": "code",
   "execution_count": 10,
   "id": "4c62b445",
   "metadata": {},
   "outputs": [],
   "source": [
    "class DiffStdPermute(DiffMeansPermute):\n",
    "    \n",
    "    def TestStatistic(self, data):\n",
    "        group1, group2 = data\n",
    "        test_stat = group1.std() - group2.std()\n",
    "        return test_stat"
   ]
  },
  {
   "cell_type": "code",
   "execution_count": 11,
   "id": "0253e69d",
   "metadata": {},
   "outputs": [
    {
     "name": "stdout",
     "output_type": "stream",
     "text": [
      "birthlenght test std p-value 0.082\n"
     ]
    }
   ],
   "source": [
    "data = firsts.prglngth.values, others.prglngth.values\n",
    "ht = DiffStdPermute(data)\n",
    "pvalue = ht.PValue()\n",
    "\n",
    "print('birthlenght test std p-value', pvalue)"
   ]
  },
  {
   "cell_type": "markdown",
   "id": "1421ecc2",
   "metadata": {},
   "source": [
    "anche questo test restituisce un risultato statisticamente non rilevante\n",
    "\n",
    "## Testare una correlazione\n",
    "\n",
    "Quello che abbiamo visto fino ad ora funziona anche per testare la correlazione tra due variabili, per esempio abbiamo visto che la correlazione tra il peso del bebè, dunque le mamme più anziane tendono ad avere bambini più pesanti ?\n",
    "\n",
    "Per il test statistico, useremo l'indice di correlazione di Pearson, comunque anche l'indice di Spearman funziona bene.\n",
    "Se ci si aspetta un valore di correlazione positivo faremo un test one-side. \n",
    "\n",
    "Siccome non ne siamo sicuri eseguiremo un test two-side usando il valore assoluto. L'ipotesi nulla è che non ci sia correlazione tra l'eta della madre e il peso del nascituro.\n",
    "\n",
    "Mescolando i valori osservati possiamo simulare un mondo dove la distribuzione dei pesi è della età è la stessa ma in cui non c'è una correlazione."
   ]
  },
  {
   "cell_type": "code",
   "execution_count": 12,
   "id": "fcad13f7",
   "metadata": {},
   "outputs": [],
   "source": [
    "import pandas as pd\n",
    "\n",
    "class CorrelationPermute(HypothesisTest):\n",
    "    \"\"\"Tests correlations by permutation.\"\"\"\n",
    "\n",
    "    def TestStatistic(self, data):\n",
    "        \"\"\"Computes the test statistic.\n",
    "\n",
    "        data: tuple of xs and ys\n",
    "        \"\"\"\n",
    "        xs, ys = data\n",
    "        s1 = pd.Series(xs)\n",
    "        s2 = pd.Series(ys)\n",
    "        test_stat = abs(s1.corr(s2, method='pearson'))\n",
    "        return test_stat\n",
    "\n",
    "    def RunModel(self):\n",
    "        \"\"\"Run the model of the null hypothesis.\n",
    "\n",
    "        returns: simulated data\n",
    "        \"\"\"\n",
    "        xs, ys = self.data\n",
    "        xs = np.random.permutation(xs)\n",
    "        return xs, ys"
   ]
  },
  {
   "cell_type": "code",
   "execution_count": 13,
   "id": "c4486c1d",
   "metadata": {},
   "outputs": [
    {
     "name": "stdout",
     "output_type": "stream",
     "text": [
      "age weight correlation 0.0\n"
     ]
    }
   ],
   "source": [
    "live2 = live.dropna(subset=['agepreg', 'totalwgt_lb'])\n",
    "data = live2.agepreg.values, live2.totalwgt_lb.values\n",
    "ht = CorrelationPermute(data)\n",
    "p_value = ht.PValue()\n",
    "print('age weight correlation', p_value)"
   ]
  },
  {
   "cell_type": "markdown",
   "id": "24120320",
   "metadata": {},
   "source": [
    "Il valore di sopra indica che la relazione ha un valore statistico anche se la correlazione ha come valore 0.07, dunque possiamo dire che sebbene la correlazione osservata sia piccola è statisticamente significante.\n",
    "\n",
    "Questo esempio indica è un promemoria di cosa significa \"statisticamente significante\" non sempre significa che l'effetto sia importante o significativo in pratica. \n",
    "Significa solo che è improbabile che succeda per caso.\n",
    "\n",
    "## Testare le proporzioni\n",
    "\n",
    "Supponiamo di gestire un casinò e di sospettare che un cliente stia usando un dado truccato, arrestiamo il truffatore e testiamo il suo dado ma ora dobbiamo dobbiamo provare che il dato sia truccato.\n",
    "\n",
    "Il risultato di 60 lanci da come risultato:\n",
    "\n",
    "|  Valore | 1 | 2 | 3 | 4 | 5 | 6 |\n",
    "|---|---|---|---|---|---|---|\n",
    "| Frequenza  | 8 | 9 | 19 | 5 | 8 | 11 |\n",
    "\n",
    "In media ci si aspetterebbe che ogni valore appaia 10 volte. In questo esperimento il valore 3 appare più spesso di cui ci si aspetterebbe, il valore 4 appare molto meno spesso. \n",
    "\n",
    "Queste differenze sono però significanti? \n",
    "Per testare questa ipotesi, possiamo calcolare le frequenze per ogni valore. La differenza tra il valore aspettato e le frequenze osservate. \n",
    "\n",
    "In questo esempio ci aspetteremmo che ogni lato avesse una partizione dei 60 lanci pari a 10 le deviazioni sono -2, -1, 9, -5, 2 e 1 dunque la differenza assoluta è di 20.\n",
    "\n",
    "Quanto spesso dovremmo vedere tale differenza per caso ?\n",
    "Questa è una versione della classe `HypothesisTest` che tenta di rispondere alla questione"
   ]
  },
  {
   "cell_type": "code",
   "execution_count": 14,
   "id": "f5bf583f",
   "metadata": {},
   "outputs": [],
   "source": [
    "class DiceTest(HypothesisTest):\n",
    "    \"\"\"Tests whether a six-sided die is fair.\"\"\"\n",
    "\n",
    "    def TestStatistic(self, data):\n",
    "        \"\"\"Computes the test statistic.\n",
    "\n",
    "        data: list of frequencies\n",
    "        \"\"\"\n",
    "        observed = data\n",
    "        n = sum(observed)\n",
    "        expected = np.ones(6) * n / 6\n",
    "        test_stat = sum(abs(observed - expected))\n",
    "        return test_stat\n",
    "\n",
    "    def RunModel(self):\n",
    "        \"\"\"Run the model of the null hypothesis.\n",
    "\n",
    "        returns: simulated data\n",
    "        \"\"\"\n",
    "        n = sum(self.data)\n",
    "        values = [1,2,3,4,5,6]\n",
    "        rolls = np.random.choice(values, n, replace=True)\n",
    "        hist = Counter(rolls)\n",
    "        freqs = [hist[key] for key in values]\n",
    "        return freqs\n"
   ]
  },
  {
   "cell_type": "code",
   "execution_count": 15,
   "id": "3147fb22",
   "metadata": {},
   "outputs": [
    {
     "name": "stdout",
     "output_type": "stream",
     "text": [
      "dice test 0.1282\n"
     ]
    }
   ],
   "source": [
    "data = [8, 9, 19, 5, 8, 11]\n",
    "dt = DiceTest(data)\n",
    "print('dice test', dt.PValue(iters=10000))"
   ]
  },
  {
   "cell_type": "markdown",
   "id": "9aed18fd",
   "metadata": {},
   "source": [
    "il p-value di questo esperimento da come risultato 0.13 il che significa che se il nostro dato fosse truccatto otterremo questo risultato almento per il 13% delle volte.\n",
    "\n",
    "Questo ci fa capire che il nostro esperimento apparente non ha alcun valore statistico.\n",
    "\n",
    "## Test Chi Quadrato\n",
    "\n",
    "Nella sezione precedente abbiamo usato la deviazione totale come test statistico. Come test per le proporzioni è più comune usare la statistica chi-quadrata.\n",
    "\n",
    "$$\n",
    "    \\chi^2 = \\sum_i \\frac{(O_i - E_i)^2}{E_i}\n",
    "$$\n",
    "\n",
    "Dove $O_i$ è la frequenza osservata e $E_i$ la frequenza che ci si aspetta"
   ]
  },
  {
   "cell_type": "code",
   "execution_count": 16,
   "id": "58966937",
   "metadata": {},
   "outputs": [],
   "source": [
    "class DiceChiTest(DiceTest):\n",
    "    \n",
    "\n",
    "    def TestStatistic(self, data):\n",
    "        observed = data\n",
    "        n = sum(observed)\n",
    "        expected = np.ones(6) * n / 6\n",
    "        test_stat = sum((observed - expected)**2 / expected)\n",
    "        return test_stat"
   ]
  },
  {
   "cell_type": "code",
   "execution_count": 17,
   "id": "1ecdfe58",
   "metadata": {},
   "outputs": [
    {
     "name": "stdout",
     "output_type": "stream",
     "text": [
      "dice chi test 0.0399\n"
     ]
    }
   ],
   "source": [
    "dt = DiceChiTest(data)\n",
    "print('dice chi test', dt.PValue(iters=10000))"
   ]
  },
  {
   "cell_type": "markdown",
   "id": "c2f95f34",
   "metadata": {},
   "source": [
    "Il quadrato delle deviazioni da risalto a deviazioni grandi. Dividere per il valore `expected` ci restituisce un valore standardizzato.\n",
    "\n",
    "Il p-value che abbiamo usando il test statistico chi-quadro è pari a 0.04, sostanzialmente molto più piccolo del valore ottenuto precedentemente. \n",
    "Se prendiamo come soglia il valore di 5% dovremmo considerare questo effetto statisticamente significativo.\n",
    "Ma consideriamo i due test assieme, possiamo dire che i risultati sono borderline.\n",
    "\n",
    "Questo esempio dimostra un punto importante, il p-value dipende dalla scelta del test statistico e del modello di test dell'ipotesi nulla e queste scelte determinano se un effetto è statisticamente significante o meno.\n",
    "\n",
    "## Ritorniamo ai bambini\n",
    "\n",
    "Riprendiamo il lavoro sui bambini, l'ultima conclusione è stata che le differenze apparenti in media e deviazione standard non sono statisticamente significanti. Ma nei grafici abbiamo visto che c'è una differenza specialmente tra le 35 e le 43 settimane.\n",
    "\n",
    "Per vedere se queste differenze sono statisticamente significative possiamo usare il test del chi quadro\n",
    "\n",
    "I dati sono rappresentati come due liste di lunghezza della gestazione. L'ipotesi nulla è che entrambi si campioni sono tratti dalla stessa distribuzione.\n",
    "\n",
    "La funzione `MakeModel` modella questa distribuzione unendo i due campioni con `hstack`. Di seguito la funzione `RunModel` genera i dati simulati mescolando i dati uniti e spezzandoli in due parti.\n",
    "\n",
    "Nel codice di `MakeModel` definiamo anche la proprietà `values` che definisce l'intervallo di settimane che useremo e la proprietà `expected_probs` che rappresenta la probabilità di ogni valore nella distribuzione unita.\n",
    "\n",
    "Qui sotto il codice per eseguire il test."
   ]
  },
  {
   "cell_type": "code",
   "execution_count": 27,
   "id": "edb835e6",
   "metadata": {},
   "outputs": [],
   "source": [
    "from utils import calcPmf\n",
    "\n",
    "class PregLengthTest(HypothesisTest):\n",
    "    \"\"\"Controllo la differenza della lunghezza della gestazione usanto il test chi-quadro\"\"\"\n",
    "\n",
    "    def TestStatistic(self, data):\n",
    "        \"\"\"\n",
    "        Eseguo il test statistico\n",
    "\n",
    "        data: coppia di liste con la lunghezza della gestazione\n",
    "        \"\"\"\n",
    "        \n",
    "        #TAPPO\n",
    "        self.values = range(35, 44)\n",
    "        \n",
    "        firsts, others = data\n",
    "        stat = self.ChiSquared(firsts) + self.ChiSquared(others)\n",
    "        return stat\n",
    "\n",
    "    def ChiSquared(self, lengths):\n",
    "        \"\"\"\n",
    "        Calcolo il test chi quardo\n",
    "        lengths: sequenza di lunghezze\n",
    "        returns: float\n",
    "        \"\"\"\n",
    "        \n",
    "        hist = Counter(lengths)\n",
    "        \n",
    "        #print(self.values)\n",
    "        \n",
    "        observed = np.array([hist[freq] for freq in self.values])\n",
    "        expected = self.expected_probs * len(lengths)\n",
    "        stat = sum((observed - expected)**2 / expected)\n",
    "        return stat\n",
    "\n",
    "    def MakeModel(self):\n",
    "        \"\"\"\n",
    "        Costruisco il modello statistico\n",
    "        \"\"\"\n",
    "        firsts, others = self.data\n",
    "        self.n = len(firsts)\n",
    "        self.pool = np.hstack((firsts, others))\n",
    "        \n",
    "        self.values = range(35, 44)\n",
    "\n",
    "        pmf = calcPmf(self.pool)\n",
    "        self.expected_probs = np.array([pmf[val] for val in self.values])\n",
    "\n",
    "    def RunModel(self):\n",
    "        \"\"\"\n",
    "        Eseguo il modello di ipotesi nulla\n",
    "        returns: dati simulati\n",
    "        \"\"\"\n",
    "        np.random.shuffle(self.pool)\n",
    "        data = self.pool[:self.n], self.pool[self.n:]\n",
    "        return data"
   ]
  },
  {
   "cell_type": "code",
   "execution_count": 28,
   "id": "ca6c37d7",
   "metadata": {},
   "outputs": [
    {
     "name": "stdout",
     "output_type": "stream",
     "text": [
      "pregnancy length chi-squared 2  0.0\n"
     ]
    }
   ],
   "source": [
    "# compare pregnancy lengths (chi-squared)\n",
    "data = firsts.prglngth.values, others.prglngth.values\n",
    "ht = PregLengthTest(data)\n",
    "p_value = ht.PValue()\n",
    "print('pregnancy length chi-squared 2 ', p_value)\n"
   ]
  },
  {
   "cell_type": "markdown",
   "id": "cddb5310",
   "metadata": {},
   "source": [
    "Il risultato questa volta mostra che il test ha valore statistico anche se al momento non possiamo dire nulla riguardo alle differenze.\n",
    "\n",
    "## Errori\n",
    "\n",
    "Nel test classico delle ipotesi un effetto è considerato statisticamente significante se il valore del p-value sta sotto la soglia del 5%. Questo metodo alza però alcune questioni:\n",
    "\n",
    "* Se l'effetto è frutto del caso quale è la probabilità che questo venga considerato erroneamente significativo? Questa probabilità è chiamata anche **tasso dei falsi positivi**\n",
    "\n",
    "* Se l'effetto è reale quale è la probabilità che un test di ipotesi fallisca? Questo è anche chiamato **tasso dei falsi negativi**\n",
    "\n",
    "Il tasso dei falsi positivi è relativamente facile da calcolare: se la soglia è il 5% il tasso dei falsi positivi sarà il 5%.\n",
    "Qui sotto il perchè:\n",
    "\n",
    "* Se non c'è un effetto reale, l'ipotesi nulla è vera, dunque possiamo calcolare la distribuzione del test statistico simulando l'ipotesi nulla. Questa distribuzione possiamo chiamarla $CDF_T$\n",
    "\n",
    "* Ogni volta che lanciamo un esperimento, otteniamo un test statistico *t* che è tratto da $CDF_T$. Poi calcoliamo il valore p-value che rappresenta la probabilità che un valore casuale da $CDF_T$ ecceda *t* questo si scrive anche come $1 - CDF_T(t)$\n",
    "\n",
    "* Il p-value è meno del 5% se il $CDF_T(t)$ è maggiore del 95%, se *t* supera il 95° percentile. Quanto spesso succede che $CDF_T$ superi il 95° percentile? Il 5% delle volte.  \n",
    "\n",
    "Dunque se eseguamo un test delle ipotesi con il 5% di soglia ci aspettiamo un falso positivo una volta su 20.\n",
    "\n",
    "## Potenza\n",
    "\n",
    "Il tasso dei falsi positivi è difficile da calcolare perchè esso dipende dall'effetto dimensione di cui normalmente non conosciamo nulla. Una opzione è quella di calcolare il tasso condizionato sull ipotetico effetto dimensione,\n",
    "\n",
    "Per esempio se assumiamo che la differenza osservata tra i gruppi sia accurata, potremmo usare i dati osservati sui campioni come modello della popolazione e eseguire il test delle ipotesi con i dati simulati."
   ]
  },
  {
   "cell_type": "code",
   "execution_count": 30,
   "id": "ba8bcfda",
   "metadata": {},
   "outputs": [],
   "source": [
    "def FalseNegRate(data, num_runs=1000):\n",
    "    \"\"\"Computes the chance of a false negative based on resampling.\n",
    "\n",
    "    data: pair of sequences\n",
    "    num_runs: how many experiments to simulate\n",
    "\n",
    "    returns: float false negative rate\n",
    "    \"\"\"\n",
    "    group1, group2 = data\n",
    "    count = 0\n",
    "\n",
    "    for i in range(num_runs):\n",
    "        sample1 = resample(group1)\n",
    "        sample2 = resample(group2)\n",
    "        ht = DiffMeansPermute((sample1, sample2))\n",
    "        p_value = ht.PValue(iters=101)\n",
    "        if p_value > 0.05:\n",
    "            count += 1\n",
    "\n",
    "    return count / num_runs"
   ]
  },
  {
   "cell_type": "markdown",
   "id": "903b5e1a",
   "metadata": {},
   "source": [
    "La funzione `FalseNegRate` prende i dati nella forma di due sequenze, una per ogni gruppo. Ogni "
   ]
  },
  {
   "cell_type": "code",
   "execution_count": null,
   "id": "94cf30de",
   "metadata": {},
   "outputs": [],
   "source": []
  }
 ],
 "metadata": {
  "kernelspec": {
   "display_name": "Python 3 (ipykernel)",
   "language": "python",
   "name": "python3"
  },
  "language_info": {
   "codemirror_mode": {
    "name": "ipython",
    "version": 3
   },
   "file_extension": ".py",
   "mimetype": "text/x-python",
   "name": "python",
   "nbconvert_exporter": "python",
   "pygments_lexer": "ipython3",
   "version": "3.9.7"
  }
 },
 "nbformat": 4,
 "nbformat_minor": 5
}
