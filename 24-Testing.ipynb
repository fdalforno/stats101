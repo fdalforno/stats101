{
 "cells": [
  {
   "cell_type": "code",
   "execution_count": 1,
   "id": "fb245311",
   "metadata": {},
   "outputs": [],
   "source": [
    "from utils import set_pyplot_params\n",
    "set_pyplot_params()"
   ]
  },
  {
   "cell_type": "markdown",
   "id": "5a0f8325",
   "metadata": {},
   "source": [
    "# Testing\n",
    "\n",
    "In un capitolo precedente abbiamo visto il problema dell'euro che citiamo qui sotto\n",
    "\n",
    "> Quando lanciamo l'euro Belga 250 volte, otteniamo 140 volte testa e 110 coda. Sembra sospetto secondo Barry Blight, uno statistico della scuola di Economia di Londra. `Se la moneta non è truccata la possibilità di ottenere un risultato così estremo dovrebbe essere minore del 7%.`\n",
    "\n",
    "Ci chiediamo questo dato ci da evidenza che la moneta è truccata o meno ?\n",
    "\n",
    "Siamo partiti a rispondere a questa domanda basandosi su queste decisioni si modellazione:\n",
    "\n",
    "* Se lanciamo una moneta c'è una certa probabilità, $x$, che questa dia il risultato testa. \n",
    "* Il valore di $x$ varia da una moneta all'altra, a seconda di come la moneta è bilanciata e possibilmente da altri fattori.\n",
    "\n",
    "Partendo con una distribuzione a prori di $x$, abbiamo aggiornato la distribuzione dei dati, 140 teste e 110 code. Poi abbiamo usato la distribuzione a posteriori per calcolare la probabilità più probabile (la media della distribuzione) e un intervallo di credibilità.\n",
    "\n",
    "Ma non abbiamo realmente risposto alla domanda di MacKay. \"Questo ci da evidenza che questa moneta sia truccata o meno?\"\n",
    "In questo capitolo, finalmente, avremo una risposta.\n",
    "\n",
    "## Stime\n",
    "Ricapitoliamo la soluzione del problema dell'Euro. \n",
    "Siamo partiti dalla distribuzione a priori uniforme.\n"
   ]
  },
  {
   "cell_type": "code",
   "execution_count": 2,
   "id": "c0772593",
   "metadata": {},
   "outputs": [],
   "source": [
    "import numpy as np\n",
    "from distribution import Pmf\n",
    "\n",
    "xs = np.linspace(0, 1, 101)\n",
    "uniform = Pmf(1, xs)"
   ]
  },
  {
   "cell_type": "markdown",
   "id": "e1412c35",
   "metadata": {},
   "source": [
    "Abbiamo usato la distribuzione binomaile per calcolare la probabilità dei dati per ogni valore di $x$."
   ]
  },
  {
   "cell_type": "code",
   "execution_count": 3,
   "id": "322c67a1",
   "metadata": {},
   "outputs": [],
   "source": [
    "from scipy.stats import binom\n",
    "\n",
    "k, n = 140, 250\n",
    "likelihood = binom.pmf(k, n, xs)"
   ]
  },
  {
   "cell_type": "markdown",
   "id": "349b264a",
   "metadata": {},
   "source": [
    "Abbiamo calcolato la distribuzione a posteriori nel modo usuale."
   ]
  },
  {
   "cell_type": "code",
   "execution_count": 4,
   "id": "21db6263",
   "metadata": {},
   "outputs": [
    {
     "data": {
      "text/plain": [
       "0.3984063745019918"
      ]
     },
     "execution_count": 4,
     "metadata": {},
     "output_type": "execute_result"
    }
   ],
   "source": [
    "posterior = uniform * likelihood\n",
    "posterior.normalize()"
   ]
  },
  {
   "cell_type": "markdown",
   "id": "6dcc3c79",
   "metadata": {},
   "source": [
    "E questo il risultato"
   ]
  },
  {
   "cell_type": "code",
   "execution_count": 5,
   "id": "5ea6c176",
   "metadata": {},
   "outputs": [
    {
     "data": {
      "image/png": "[encoded data removed]",
      "text/plain": [
       "<Figure size 432x288 with 1 Axes>"
      ]
     },
     "metadata": {
      "needs_background": "light"
     },
     "output_type": "display_data"
    }
   ],
   "source": [
    "from utils import decorate\n",
    "\n",
    "posterior.plot(label='140 heads out of 250')\n",
    "\n",
    "decorate(xlabel='Proportion of heads (x)',\n",
    "         ylabel='Probability',\n",
    "         title='Posterior distribution of x')"
   ]
  },
  {
   "cell_type": "markdown",
   "id": "a4bec7c6",
   "metadata": {},
   "source": [
    "Ancora, la media della distribuzione a posteriori è di circa 0.56, con il 90% dell'intervallo di credibilità dal 0.51 al 0.61."
   ]
  },
  {
   "cell_type": "code",
   "execution_count": 6,
   "id": "bf328ee6",
   "metadata": {},
   "outputs": [
    {
     "data": {
      "text/plain": [
       "(0.5595238095238094, array([0.51, 0.61]))"
      ]
     },
     "execution_count": 6,
     "metadata": {},
     "output_type": "execute_result"
    }
   ],
   "source": [
    "posterior.mean(), posterior.credible_interval(0.9)"
   ]
  },
  {
   "cell_type": "markdown",
   "id": "d52d82bf",
   "metadata": {},
   "source": [
    "La media della distribuzione a priori è 0.5, mentre la media a posteriori è 0.56, sembra ci sia l'evidenza che questa moneta sia truccata.\n",
    "\n",
    "Ma, questo non è così semplice.\n",
    "\n",
    "## Evidenza\n",
    "Nel problema di Oliver, abbiamo detto che i dati sono evidenza in favore delle ipotesi, $A$, se i dati sono più probabili sotto l'ipotesi $A$ piuttosto che sotto l'alternativa, $B$; come scritto qui sotto:\n",
    "\n",
    "$$P(D|A) > P(D|B)$$\n",
    "\n",
    "Inoltre, possiamo quantificare la forza della evidenza calcolando il rapporto di queste verosomiglianze, che è conosciuto anche come  [Bayes factor](https://en.wikipedia.org/wiki/Bayes_factor) e spesso denotato come $K$:\n",
    "\n",
    "$$K = \\frac{P(D|A)}{P(D|B)}$$\n",
    "\n",
    "Dunque per il problema dell'euro consideriamo due ipotesi, `fair` e `biased`, e calcoliamo la verosomiglianza del dato sotto ogni ipotesi.\n",
    "\n",
    "Se la moneta è truccata, la probabilità di ottenere testa è del 50%, possiamo calcolare la probabilità del dato (140 teste su 250 lanci) usando la distribuzione binomiale:\n",
    "\n"
   ]
  },
  {
   "cell_type": "code",
   "execution_count": 7,
   "id": "81a5d1d8",
   "metadata": {},
   "outputs": [
    {
     "data": {
      "text/plain": [
       "0.008357181724918204"
      ]
     },
     "execution_count": 7,
     "metadata": {},
     "output_type": "execute_result"
    }
   ],
   "source": [
    "k = 140\n",
    "n = 250\n",
    "\n",
    "like_fair = binom.pmf(k, n, p=0.5)\n",
    "like_fair"
   ]
  },
  {
   "cell_type": "markdown",
   "id": "e1214e7e",
   "metadata": {},
   "source": [
    "Questa è la probabilità del dato dato il fatto che la moneta non è truccata.\n",
    "Ma se la moneta è truccata, quale è la probabilità del dato?. Questo dipende su cosa significa \"truccato\".\n",
    "Se conosciamo a priori che truccato significa che la probabilità di ottenere testa è del 56%. Possiamo usare la distribuzione binomiale ancora:\n",
    "\n"
   ]
  },
  {
   "cell_type": "code",
   "execution_count": 8,
   "id": "fb570136",
   "metadata": {},
   "outputs": [
    {
     "data": {
      "text/plain": [
       "0.05077815959518339"
      ]
     },
     "execution_count": 8,
     "metadata": {},
     "output_type": "execute_result"
    }
   ],
   "source": [
    "like_biased = binom.pmf(k, n, p=0.56)\n",
    "like_biased"
   ]
  },
  {
   "cell_type": "markdown",
   "id": "84949182",
   "metadata": {},
   "source": [
    "Possiamo calcolare il rapporto delle verosomiglianze:"
   ]
  },
  {
   "cell_type": "code",
   "execution_count": 9,
   "id": "8dd324d6",
   "metadata": {},
   "outputs": [
    {
     "data": {
      "text/plain": [
       "6.075990838368468"
      ]
     },
     "execution_count": 9,
     "metadata": {},
     "output_type": "execute_result"
    }
   ],
   "source": [
    "K = like_biased / like_fair\n",
    "K"
   ]
  },
  {
   "cell_type": "markdown",
   "id": "26b07ee8",
   "metadata": {},
   "source": [
    "Il dato è circa 6 volte più probabile se la moneta è truccata, per definizione, piuttosto che non truccata.\n",
    "Ma se usiamo i dati per definire le ipotesi, ci sembra di imbrogliare. Per essere corretti, dobbiamo definire \"truccato\" prima di vedere il dato. \n",
    "\n",
    "## Bias distribuito uniformemente\n",
    "Supponiamo che \"truccato\" significa che la probabilità di ottenere testa sia un valore diverso da 50%, e tutti gli altri valori sono ugualmente distribuiti.\n",
    "\n",
    "Possiamo rappresentare questa definizione, facendo una distribuzione uniforme e rimuovendo il valore 50%.\n"
   ]
  },
  {
   "cell_type": "code",
   "execution_count": 10,
   "id": "08d36b00",
   "metadata": {},
   "outputs": [
    {
     "data": {
      "text/plain": [
       "100"
      ]
     },
     "execution_count": 10,
     "metadata": {},
     "output_type": "execute_result"
    }
   ],
   "source": [
    "biased_uniform = uniform.copy()\n",
    "biased_uniform[0.5] = 0\n",
    "biased_uniform.normalize()"
   ]
  },
  {
   "cell_type": "markdown",
   "id": "b2a091ef",
   "metadata": {},
   "source": [
    "Per calcolare la probabilità totale del dato sotto questa ipotesi, possiamo calcolare la probabilità condizionale del dato sotto ogni ipotesi di x.\n",
    "\n"
   ]
  },
  {
   "cell_type": "code",
   "execution_count": 11,
   "id": "96875be6",
   "metadata": {},
   "outputs": [],
   "source": [
    "xs = biased_uniform.qs\n",
    "likelihood = binom.pmf(k, n, xs)"
   ]
  },
  {
   "cell_type": "markdown",
   "id": "01dc89db",
   "metadata": {},
   "source": [
    "Poi moltiplichiamo queste probabilità e sommiamo i prodotti:"
   ]
  },
  {
   "cell_type": "code",
   "execution_count": 12,
   "id": "8435a676",
   "metadata": {},
   "outputs": [
    {
     "data": {
      "text/plain": [
       "0.003900491927770735"
      ]
     },
     "execution_count": 12,
     "metadata": {},
     "output_type": "execute_result"
    }
   ],
   "source": [
    "like_uniform = np.sum(biased_uniform * likelihood)\n",
    "like_uniform"
   ]
  },
  {
   "cell_type": "markdown",
   "id": "18a779ab",
   "metadata": {},
   "source": [
    "Dunque questa è la probabilità del dato sotto l'ipotesi di \"bias uniforme\".\n",
    "Ora possiamo calcolare la probabilità del rapporto del dato tra le due ipotesi `fair` e `biased uniform`:"
   ]
  },
  {
   "cell_type": "code",
   "execution_count": 13,
   "id": "9d760a6a",
   "metadata": {},
   "outputs": [
    {
     "data": {
      "text/plain": [
       "2.1425968518013625"
      ]
     },
     "execution_count": 13,
     "metadata": {},
     "output_type": "execute_result"
    }
   ],
   "source": [
    "K = like_fair / like_uniform\n",
    "K"
   ]
  },
  {
   "cell_type": "markdown",
   "id": "20018835",
   "metadata": {},
   "source": [
    "Il dato dice che la moneta è duce volte più probabile se la moneta è non truccata piuttosto che truccata, per questa definizione di truccato.\n",
    "\n",
    "Per avere un senso di quanto forte sia l'evidenza, possiamo applicare la regola di Bayes. Per esempio, se la probabilità a priori che la moneta sia truccata è 50%, il rapporto a priori è 1, dunque se il rapporto a posteriori e di circa 2.1 la probabilità a posteriori è del 68%.\n",
    "\n"
   ]
  },
  {
   "cell_type": "code",
   "execution_count": 14,
   "id": "51b56faf",
   "metadata": {},
   "outputs": [
    {
     "data": {
      "text/plain": [
       "2.1425968518013625"
      ]
     },
     "execution_count": 14,
     "metadata": {},
     "output_type": "execute_result"
    }
   ],
   "source": [
    "prior_odds = 1\n",
    "posterior_odds = prior_odds * K\n",
    "posterior_odds"
   ]
  },
  {
   "cell_type": "code",
   "execution_count": 15,
   "id": "bceacfc4",
   "metadata": {},
   "outputs": [],
   "source": [
    "def prob(o):\n",
    "    return o / (o+1)"
   ]
  },
  {
   "cell_type": "code",
   "execution_count": 16,
   "id": "fb4703ae",
   "metadata": {},
   "outputs": [
    {
     "data": {
      "text/plain": [
       "0.6817918278551092"
      ]
     },
     "execution_count": 16,
     "metadata": {},
     "output_type": "execute_result"
    }
   ],
   "source": [
    "posterior_probability = prob(posterior_odds)\n",
    "posterior_probability"
   ]
  },
  {
   "cell_type": "markdown",
   "id": "505ea1bf",
   "metadata": {},
   "source": [
    "L'evidenza che \"muove l'ago\" dal 50% al 68% non è molto forte.\n",
    "\n",
    "Ora supponiamo che \"biased\" non significa che tutti i valori di x sono egualmente distribuiti.\n",
    "Potrebbe essere che i valori vicini al 50% siano più probabili e i valori agli estremi siano meno probabili. Possiamo usare una distribuzione di forma triangolare per rappresentare questa definizione alternativa di \"biased\": "
   ]
  },
  {
   "cell_type": "code",
   "execution_count": 17,
   "id": "ff698e92",
   "metadata": {},
   "outputs": [
    {
     "data": {
      "text/plain": [
       "2500"
      ]
     },
     "execution_count": 17,
     "metadata": {},
     "output_type": "execute_result"
    }
   ],
   "source": [
    "ramp_up = np.arange(50)\n",
    "ramp_down = np.arange(50, -1, -1)\n",
    "a = np.append(ramp_up, ramp_down)\n",
    "\n",
    "triangle = Pmf(a, xs, name='triangle')\n",
    "triangle.normalize()"
   ]
  },
  {
   "cell_type": "markdown",
   "id": "29ef5c18",
   "metadata": {},
   "source": [
    "Come fatto per la distribuzione uniforme, possiamo rimuovere il valore 50% come possibile valore di $x$ (questo non fa molta differenza se viene trascurato)."
   ]
  },
  {
   "cell_type": "code",
   "execution_count": 18,
   "id": "5f8f1307",
   "metadata": {},
   "outputs": [
    {
     "data": {
      "text/plain": [
       "0.98"
      ]
     },
     "execution_count": 18,
     "metadata": {},
     "output_type": "execute_result"
    }
   ],
   "source": [
    "biased_triangle = triangle.copy()\n",
    "biased_triangle[0.5] = 0\n",
    "biased_triangle.normalize()"
   ]
  },
  {
   "cell_type": "markdown",
   "id": "9fb0da78",
   "metadata": {},
   "source": [
    "Qui un grafico delle due distribuzioni:"
   ]
  },
  {
   "cell_type": "code",
   "execution_count": 19,
   "id": "a456e967",
   "metadata": {},
   "outputs": [
    {
     "data": {
      "image/png": "[encoded data removed]",
      "text/plain": [
       "<Figure size 432x288 with 1 Axes>"
      ]
     },
     "metadata": {
      "needs_background": "light"
     },
     "output_type": "display_data"
    }
   ],
   "source": [
    "biased_uniform.plot(label='uniform prior')\n",
    "biased_triangle.plot(label='triangle prior')\n",
    "\n",
    "decorate(xlabel='Proportion of heads (x)',\n",
    "         ylabel='Probability',\n",
    "         title='Uniform and triangle prior distributions')"
   ]
  },
  {
   "cell_type": "code",
   "execution_count": 20,
   "id": "c71e80a7",
   "metadata": {},
   "outputs": [
    {
     "data": {
      "text/plain": [
       "0.00698132546485788"
      ]
     },
     "execution_count": 20,
     "metadata": {},
     "output_type": "execute_result"
    }
   ],
   "source": [
    "like_triangle = np.sum(biased_triangle * likelihood)\n",
    "like_triangle"
   ]
  },
  {
   "cell_type": "code",
   "execution_count": 21,
   "id": "863a85b7",
   "metadata": {},
   "outputs": [
    {
     "data": {
      "text/plain": [
       "1.1970766535647157"
      ]
     },
     "execution_count": 21,
     "metadata": {},
     "output_type": "execute_result"
    }
   ],
   "source": [
    "K = like_fair / like_triangle\n",
    "K"
   ]
  },
  {
   "cell_type": "code",
   "execution_count": 22,
   "id": "38a81ecd",
   "metadata": {},
   "outputs": [
    {
     "data": {
      "text/plain": [
       "0.5448497446015282"
      ]
     },
     "execution_count": 22,
     "metadata": {},
     "output_type": "execute_result"
    }
   ],
   "source": [
    "posterior_probability = prob(K)\n",
    "posterior_probability"
   ]
  },
  {
   "cell_type": "markdown",
   "id": "25d8b9e7",
   "metadata": {},
   "source": [
    "## Test di ipotesi bayesiano\n",
    "\n",
    "Quello che abbiamo appena fatto in questo capitolo è un qualcosa chiamato \"Test di ipotesi bayesiano\" in contrasto con con [il test delle ipotesi statistico](https://en.wikipedia.org/wiki/Statistical_hypothesis_testing).\n",
    "\n",
    "Nel statistico delle ipotesi, calcoliamo il p-value, che è difficile da definire in modo coinciso, e lo usiamo per determinare se i risultati sono \"statisticamente significatici\", anche questo è difficile da definire.\n",
    "\n",
    "La sua alternativa bayesiana è quella di riportare il fattore di Bayes, $K$, che riassume la forza della evidenza in favore una delle ipotesi o l'altra. \n",
    "\n",
    "Alcune persone pensano sia meglio di riportare $K$ piuttosto che la probabilità a posteriori perchè $K$ non dipende dalla probabilità a priori.\n",
    "\n",
    "Ma come abbiamo detto in questo esempio, $K$ dipende da una definizione precisa delle ipotesi, che può essere controversa quanto la probabilità a priori.\n",
    "\n",
    "\n",
    "## Bayesian Bandits\n",
    "Se sei mai stato in un casinò, hai probabilmente visto una slot machine, che qualche volta vengono chiamate anche \"one-armed bandit\" perchè ha una maniglia che sembra un braccio e hanno la capacità di rubarti i soldi come un bandito.\n",
    "\n",
    "La strategia del Bayesian Bandit risolve un problema basato su una versione semplificato di una slot machine.\n",
    "Supponiamo che ogni volta che giochi ad una slot machine, c'è una probabilità fissa di vincita.\n",
    "Supponiamo che differenti macchine abbiano differenti pobabilità di vincita, ma non sappiamo che probabilità abbia.\n",
    "\n",
    "Inizialmente, abbiamo la stessa credenza su ogni macchina, dunque non abbiamo preferenze specifiche. Ma se giochiamo con ogni macchina un po di tempo, possiamo usare i risultati per stimare le probabilità di vincita. Possiamo usare le stime delle probabilità per decidere su quale macchine giocare.\n",
    "\n",
    "Ad alto livello, questa è la strategia del Bayesian bandit. Vediamo ora i dettagli.\n",
    "\n",
    "## Aspettative a priori\n",
    "Se non sappiamo nulla circa la probabilità di vincita, possiamo partire con una distribuzione a priori uniforme.\n"
   ]
  },
  {
   "cell_type": "code",
   "execution_count": 23,
   "id": "533c82e5",
   "metadata": {},
   "outputs": [
    {
     "data": {
      "text/plain": [
       "101"
      ]
     },
     "execution_count": 23,
     "metadata": {},
     "output_type": "execute_result"
    }
   ],
   "source": [
    "xs = np.linspace(0, 1, 101)\n",
    "prior = Pmf(1, xs)\n",
    "prior.normalize()"
   ]
  },
  {
   "cell_type": "markdown",
   "id": "f0a41e07",
   "metadata": {},
   "source": [
    "Supponiamo di poter scegliere tra tutte le quattro slot machines, Facciamo quattro copie della distribuzione.\n"
   ]
  },
  {
   "cell_type": "code",
   "execution_count": 24,
   "id": "fb7aa816",
   "metadata": {},
   "outputs": [],
   "source": [
    "beliefs = [prior.copy() for i in range(4)]"
   ]
  },
  {
   "cell_type": "markdown",
   "id": "052412c2",
   "metadata": {},
   "source": [
    "Questa funzione mostra poi le distribuzioni in una griglia:"
   ]
  },
  {
   "cell_type": "code",
   "execution_count": 25,
   "id": "be5d8e02",
   "metadata": {},
   "outputs": [],
   "source": [
    "import matplotlib.pyplot as plt\n",
    "\n",
    "options = dict(xticklabels='invisible', yticklabels='invisible')\n",
    "\n",
    "def plot(beliefs, **options):\n",
    "    for i, pmf in enumerate(beliefs):\n",
    "        plt.subplot(2, 2, i+1)\n",
    "        pmf.plot(label='Machine %s' % i)\n",
    "        decorate(yticklabels=[])\n",
    "        \n",
    "        if i in [0, 2]:\n",
    "            decorate(ylabel='PDF')\n",
    "        \n",
    "        if i in [2, 3]:\n",
    "            decorate(xlabel='Probability of winning')\n",
    "        \n",
    "    plt.tight_layout()"
   ]
  },
  {
   "cell_type": "code",
   "execution_count": 26,
   "id": "03ea5a0b",
   "metadata": {},
   "outputs": [
    {
     "data": {
      "image/png": "[encoded data removed]",
      "text/plain": [
       "<Figure size 432x288 with 4 Axes>"
      ]
     },
     "metadata": {
      "needs_background": "light"
     },
     "output_type": "display_data"
    }
   ],
   "source": [
    "plot(beliefs)"
   ]
  },
  {
   "cell_type": "markdown",
   "id": "c543ac38",
   "metadata": {},
   "source": [
    "## The Update\n",
    "Ogni volta che giochiamo con una slot machine, possiamo usare i risultati per aggiornare le nostre credenze.\n",
    "La seguente funzione fa l'aggiornamento. "
   ]
  },
  {
   "cell_type": "code",
   "execution_count": 27,
   "id": "fb31353d",
   "metadata": {},
   "outputs": [],
   "source": [
    "likelihood = {\n",
    "    'W': xs,\n",
    "    'L': 1 - xs\n",
    "}"
   ]
  },
  {
   "cell_type": "code",
   "execution_count": 28,
   "id": "8414e03d",
   "metadata": {},
   "outputs": [],
   "source": [
    "def update(pmf, data):\n",
    "    \"\"\"Update the probability of winning.\"\"\"\n",
    "    pmf *= likelihood[data]\n",
    "    pmf.normalize()"
   ]
  },
  {
   "cell_type": "markdown",
   "id": "48064bb5",
   "metadata": {},
   "source": [
    "Questa funzione aggiorna la distribuzione in loco.\n",
    "`pmf` è un oggetto `Pmf` che rappresenta la distribuzione a priori di `x`,che è la probabilità di vincita.\n",
    "`data` è una stringa, che può essere `W` se il risultato è una vincita oppure `L` se il risultato è una perdita.\n",
    "La verosomiglianza del dato può essere `xs` o `1-xs`, in base al risultato.\n",
    "\n",
    "Supponiamo di scegliere una macchina e di giocarci 10 volte e di vincere una volta. Possiamo calcolare la distribuzione a posteriori di `x`, basandosi su questo risultato come questa:"
   ]
  },
  {
   "cell_type": "code",
   "execution_count": 29,
   "id": "57d47bf9",
   "metadata": {},
   "outputs": [],
   "source": [
    "np.random.seed(17)"
   ]
  },
  {
   "cell_type": "code",
   "execution_count": 30,
   "id": "fe3d4d6f",
   "metadata": {},
   "outputs": [],
   "source": [
    "bandit = prior.copy()\n",
    "\n",
    "for outcome in 'WLLLLLLLLL':\n",
    "    update(bandit, outcome)"
   ]
  },
  {
   "cell_type": "markdown",
   "id": "4430f853",
   "metadata": {},
   "source": [
    "Qui la visualizzazione della distribuzione a posteriori."
   ]
  },
  {
   "cell_type": "code",
   "execution_count": 31,
   "id": "1db23158",
   "metadata": {},
   "outputs": [
    {
     "data": {
      "image/png": "[encoded data removed]",
      "text/plain": [
       "<Figure size 432x288 with 1 Axes>"
      ]
     },
     "metadata": {
      "needs_background": "light"
     },
     "output_type": "display_data"
    }
   ],
   "source": [
    "bandit.plot()\n",
    "decorate(xlabel='Probability of winning',\n",
    "         ylabel='PDF',\n",
    "         title='Posterior distribution, nine losses, one win')"
   ]
  },
  {
   "cell_type": "markdown",
   "id": "afb12832",
   "metadata": {},
   "source": [
    "## Multiple Bandits\n",
    "Ora supponiamo di avere queste quattro macchine con queste probabilità:"
   ]
  },
  {
   "cell_type": "code",
   "execution_count": 32,
   "id": "61aca862",
   "metadata": {},
   "outputs": [],
   "source": [
    "actual_probs = [0.10, 0.20, 0.30, 0.40]"
   ]
  },
  {
   "cell_type": "markdown",
   "id": "706c53ed",
   "metadata": {},
   "source": [
    "Ovviamente da giocatore, non sappiamo queste probabilità.\n",
    "La seguente funzione prende in ingresso l'indice della macchina, simulando le giocate, e ritorna il risultato  `W` o `L`.\n",
    "\n"
   ]
  },
  {
   "cell_type": "code",
   "execution_count": 33,
   "id": "8fbe597a",
   "metadata": {},
   "outputs": [],
   "source": [
    "from collections import Counter\n",
    "\n",
    "# count how many times we've played each machine\n",
    "counter = Counter()\n",
    "\n",
    "def play(i):\n",
    "    \"\"\"Play machine i.\n",
    "    \n",
    "    i: index of the machine to play\n",
    "    \n",
    "    returns: string 'W' or 'L'\n",
    "    \"\"\"\n",
    "    counter[i] += 1\n",
    "    p = actual_probs[i]\n",
    "    if np.random.random() < p:\n",
    "        return 'W'\n",
    "    else:\n",
    "        return 'L'"
   ]
  },
  {
   "cell_type": "markdown",
   "id": "5a42b627",
   "metadata": {},
   "source": [
    "La variabile `counter` è un oggetto `Counter`, che è una specie di dizionario che useremo per tenere traccia di quante volte ogni macchina è usata.\n",
    "Questo è il risultato del testo dopo le 10 giocate."
   ]
  },
  {
   "cell_type": "code",
   "execution_count": 34,
   "id": "e0c7abfd",
   "metadata": {},
   "outputs": [],
   "source": [
    "for i in range(4):\n",
    "    for _ in range(10):\n",
    "        outcome = play(i)\n",
    "        update(beliefs[i], outcome)"
   ]
  },
  {
   "cell_type": "code",
   "execution_count": 35,
   "id": "7d56b916",
   "metadata": {},
   "outputs": [
    {
     "data": {
      "image/png": "[encoded data removed]",
      "text/plain": [
       "<Figure size 432x288 with 4 Axes>"
      ]
     },
     "metadata": {
      "needs_background": "light"
     },
     "output_type": "display_data"
    }
   ],
   "source": [
    "plot(beliefs)"
   ]
  },
  {
   "cell_type": "markdown",
   "id": "5c6ce662",
   "metadata": {},
   "source": [
    "Qui le probabilità attuali, la media a posteriori e il 90% dell'intervallo di credibilità."
   ]
  },
  {
   "cell_type": "code",
   "execution_count": 36,
   "id": "3ee82b24",
   "metadata": {},
   "outputs": [],
   "source": [
    "import pandas as pd\n",
    "\n",
    "def summarize_beliefs(beliefs):\n",
    "    \"\"\"Compute means and credible intervals.\n",
    "    \n",
    "    beliefs: sequence of Pmf\n",
    "    \n",
    "    returns: DataFrame\n",
    "    \"\"\"\n",
    "    columns = ['Actual P(win)', \n",
    "               'Posterior mean', \n",
    "               'Credible interval']\n",
    "    \n",
    "    df = pd.DataFrame(columns=columns)\n",
    "    for i, b in enumerate(beliefs):\n",
    "        mean = np.round(b.mean(), 3)\n",
    "        ci = b.credible_interval(0.9)\n",
    "        ci = np.round(ci, 3)\n",
    "        df.loc[i] = actual_probs[i], mean, ci\n",
    "    return df"
   ]
  },
  {
   "cell_type": "code",
   "execution_count": 37,
   "id": "3bda8d88",
   "metadata": {},
   "outputs": [
    {
     "data": {
      "text/html": [
       "<div>\n",
       "<style scoped>\n",
       "    .dataframe tbody tr th:only-of-type {\n",
       "        vertical-align: middle;\n",
       "    }\n",
       "\n",
       "    .dataframe tbody tr th {\n",
       "        vertical-align: top;\n",
       "    }\n",
       "\n",
       "    .dataframe thead th {\n",
       "        text-align: right;\n",
       "    }\n",
       "</style>\n",
       "<table border=\"1\" class=\"dataframe\">\n",
       "  <thead>\n",
       "    <tr style=\"text-align: right;\">\n",
       "      <th></th>\n",
       "      <th>Actual P(win)</th>\n",
       "      <th>Posterior mean</th>\n",
       "      <th>Credible interval</th>\n",
       "    </tr>\n",
       "  </thead>\n",
       "  <tbody>\n",
       "    <tr>\n",
       "      <th>0</th>\n",
       "      <td>0.1</td>\n",
       "      <td>0.250</td>\n",
       "      <td>[0.08, 0.47]</td>\n",
       "    </tr>\n",
       "    <tr>\n",
       "      <th>1</th>\n",
       "      <td>0.2</td>\n",
       "      <td>0.250</td>\n",
       "      <td>[0.08, 0.47]</td>\n",
       "    </tr>\n",
       "    <tr>\n",
       "      <th>2</th>\n",
       "      <td>0.3</td>\n",
       "      <td>0.500</td>\n",
       "      <td>[0.27, 0.73]</td>\n",
       "    </tr>\n",
       "    <tr>\n",
       "      <th>3</th>\n",
       "      <td>0.4</td>\n",
       "      <td>0.417</td>\n",
       "      <td>[0.2, 0.65]</td>\n",
       "    </tr>\n",
       "  </tbody>\n",
       "</table>\n",
       "</div>"
      ],
      "text/plain": [
       "   Actual P(win)  Posterior mean Credible interval\n",
       "0            0.1           0.250      [0.08, 0.47]\n",
       "1            0.2           0.250      [0.08, 0.47]\n",
       "2            0.3           0.500      [0.27, 0.73]\n",
       "3            0.4           0.417       [0.2, 0.65]"
      ]
     },
     "execution_count": 37,
     "metadata": {},
     "output_type": "execute_result"
    }
   ],
   "source": [
    "summarize_beliefs(beliefs)"
   ]
  },
  {
   "cell_type": "markdown",
   "id": "2b1c920e",
   "metadata": {},
   "source": [
    "## Esplora o sfrutta\n",
    "\n",
    "Basandosi sulla distribuzioni a posteriori, su quale macchina pensi sia meglio giocare? Una opzione potrebbe essere quella di scegliere la macchina con la media a posteriori più alta. \n",
    "\n",
    "Non sarebbe una cattiva idea, ma ha uno svantaggio: dal momento che abbiamo usato le macchine solo poche volte, le distribuzioni a posteriori sono larghe e sovrapposte, questo significa che non siamo sicuri quale sia la macchina migliore; se ci concentriamo sulla macchina troppo presto, potremmo scegliere la macchina sbagliata e giocare più di quanto dovremmo.\n",
    "\n",
    "Per ovviare a questo problema, possiamo arrivare all'altro estremo e giocare su tutte le macchine ugualmente finchè non siamo confidenti di aver identificato la miglior macchina. \n",
    "Fatto questo si gioca solo con quella.\n",
    "\n",
    "Anche questa non è una cattiva idea, ma c'è anche qui uno svantaggio: finchè stiamo raccogliendo i dati, non stiamo facendo buon uso dei dati; finchè non siamo sicuri quale macchina sia la migliore, giocheremo con le altre più di quanto serve.\n",
    "\n",
    "La strategia del Bayesian Bandits evita entrambe gli svantaggi raccogliendo i dati e usandoli allo stesso tempo. In altre parole si bilancia tra esplorazione e sfruttamento.\n",
    "\n",
    "Il nocciolo dell'idea è [Thompson sampling](https://en.wikipedia.org/wiki/Thompson_sampling): quando scegliamo una macchina, scegliamo a caso in modo che la probabilità di scegliere ogni macchina sia proporzionale alla probabilità che sia la migliore.\n",
    "Data la distribuzione a posteriori, possiamo calcolare la \"probabilità di superiorità\" di ogni macchina.\n",
    "\n",
    "Ecco un modo per farlo. Possiamo scegliere un campione di 1000 valori per ogni distribuzioni a posteriori, come questo:"
   ]
  },
  {
   "cell_type": "code",
   "execution_count": 38,
   "id": "286944cd",
   "metadata": {},
   "outputs": [
    {
     "data": {
      "text/plain": [
       "(4, 1000)"
      ]
     },
     "execution_count": 38,
     "metadata": {},
     "output_type": "execute_result"
    }
   ],
   "source": [
    "samples = np.array([b.choice(1000) \n",
    "                    for b in beliefs])\n",
    "samples.shape"
   ]
  },
  {
   "cell_type": "markdown",
   "id": "308d24a7",
   "metadata": {},
   "source": [
    "Il risultato sono 4 righe e 1000 colonne. Possiamo usare `argmax` per trovare l'indice del più grande valore di ogni colonna:"
   ]
  },
  {
   "cell_type": "code",
   "execution_count": 39,
   "id": "2b8fc5ba",
   "metadata": {},
   "outputs": [
    {
     "data": {
      "text/plain": [
       "(1000,)"
      ]
     },
     "execution_count": 39,
     "metadata": {},
     "output_type": "execute_result"
    }
   ],
   "source": [
    "indices = np.argmax(samples, axis=0)\n",
    "indices.shape"
   ]
  },
  {
   "cell_type": "markdown",
   "id": "883c5cd3",
   "metadata": {},
   "source": [
    "Usiamo `Pmf` di questi indici per scegliere la frazione di tempo in cui ogni macchina ha dato i risultati più alti."
   ]
  },
  {
   "cell_type": "code",
   "execution_count": 40,
   "id": "d364a6ee",
   "metadata": {},
   "outputs": [
    {
     "data": {
      "text/html": [
       "<div>\n",
       "<style scoped>\n",
       "    .dataframe tbody tr th:only-of-type {\n",
       "        vertical-align: middle;\n",
       "    }\n",
       "\n",
       "    .dataframe tbody tr th {\n",
       "        vertical-align: top;\n",
       "    }\n",
       "\n",
       "    .dataframe thead th {\n",
       "        text-align: right;\n",
       "    }\n",
       "</style>\n",
       "<table border=\"1\" class=\"dataframe\">\n",
       "  <thead>\n",
       "    <tr style=\"text-align: right;\">\n",
       "      <th></th>\n",
       "      <th>probs</th>\n",
       "    </tr>\n",
       "  </thead>\n",
       "  <tbody>\n",
       "    <tr>\n",
       "      <th>0</th>\n",
       "      <td>0.048</td>\n",
       "    </tr>\n",
       "    <tr>\n",
       "      <th>1</th>\n",
       "      <td>0.043</td>\n",
       "    </tr>\n",
       "    <tr>\n",
       "      <th>2</th>\n",
       "      <td>0.625</td>\n",
       "    </tr>\n",
       "    <tr>\n",
       "      <th>3</th>\n",
       "      <td>0.284</td>\n",
       "    </tr>\n",
       "  </tbody>\n",
       "</table>\n",
       "</div>"
      ],
      "text/plain": [
       "0    0.048\n",
       "1    0.043\n",
       "2    0.625\n",
       "3    0.284\n",
       "Name: , dtype: float64"
      ]
     },
     "execution_count": 40,
     "metadata": {},
     "output_type": "execute_result"
    }
   ],
   "source": [
    "pmf = Pmf.from_seq(indices)\n",
    "pmf"
   ]
  },
  {
   "cell_type": "code",
   "execution_count": 41,
   "id": "adafc793",
   "metadata": {},
   "outputs": [
    {
     "data": {
      "text/plain": [
       "1"
      ]
     },
     "execution_count": 41,
     "metadata": {},
     "output_type": "execute_result"
    }
   ],
   "source": [
    "pmf.choice()"
   ]
  },
  {
   "cell_type": "code",
   "execution_count": 42,
   "id": "b6d50217",
   "metadata": {},
   "outputs": [],
   "source": [
    "def choose(beliefs):\n",
    "    \"\"\"Use Thompson sampling to choose a machine.\n",
    "    \n",
    "    Draws a single sample from each distribution.\n",
    "    \n",
    "    returns: index of the machine that yielded the highest value\n",
    "    \"\"\"\n",
    "    ps = [b.choice() for b in beliefs]\n",
    "    return np.argmax(ps)"
   ]
  },
  {
   "cell_type": "code",
   "execution_count": 43,
   "id": "e4822ef1",
   "metadata": {},
   "outputs": [
    {
     "data": {
      "text/plain": [
       "3"
      ]
     },
     "execution_count": 43,
     "metadata": {},
     "output_type": "execute_result"
    }
   ],
   "source": [
    "choose(beliefs)"
   ]
  },
  {
   "cell_type": "markdown",
   "id": "9afb65a9",
   "metadata": {},
   "source": [
    "## La strategia\n",
    "\n",
    "Mettendo tutto assieme, la seguente funzione sceglie una macchina, ci gioca ed aggiorna la variabile `beliefs`:"
   ]
  },
  {
   "cell_type": "code",
   "execution_count": 44,
   "id": "0b9b77fa",
   "metadata": {},
   "outputs": [],
   "source": [
    "def choose_play_update(beliefs):\n",
    "    \"\"\"Choose a machine, play it, and update beliefs.\"\"\"\n",
    "    \n",
    "    # choose a machine\n",
    "    machine = choose(beliefs)\n",
    "    \n",
    "    # play it\n",
    "    outcome = play(machine)\n",
    "    \n",
    "    # update beliefs\n",
    "    update(beliefs[machine], outcome)"
   ]
  },
  {
   "cell_type": "markdown",
   "id": "79a9a7b9",
   "metadata": {},
   "source": [
    "Per provarla, iniziamo con un nuovo insieme di beliefs e `Counter`."
   ]
  },
  {
   "cell_type": "code",
   "execution_count": 45,
   "id": "e154e143",
   "metadata": {},
   "outputs": [],
   "source": [
    "beliefs = [prior.copy() for i in range(4)]\n",
    "counter = Counter()"
   ]
  },
  {
   "cell_type": "markdown",
   "id": "a8bf1e96",
   "metadata": {},
   "source": [
    "Se eseguiamo l'algortimto 100 volte, possiamo vedere come `beliefs` venga aggiornato:"
   ]
  },
  {
   "cell_type": "code",
   "execution_count": 46,
   "id": "711033fc",
   "metadata": {},
   "outputs": [
    {
     "data": {
      "image/png": "[encoded data removed]",
      "text/plain": [
       "<Figure size 432x288 with 4 Axes>"
      ]
     },
     "metadata": {
      "needs_background": "light"
     },
     "output_type": "display_data"
    }
   ],
   "source": [
    "num_plays = 100\n",
    "\n",
    "for i in range(num_plays):\n",
    "    choose_play_update(beliefs)\n",
    "    \n",
    "plot(beliefs)"
   ]
  },
  {
   "cell_type": "code",
   "execution_count": 47,
   "id": "d87f9e32",
   "metadata": {},
   "outputs": [
    {
     "data": {
      "text/html": [
       "<div>\n",
       "<style scoped>\n",
       "    .dataframe tbody tr th:only-of-type {\n",
       "        vertical-align: middle;\n",
       "    }\n",
       "\n",
       "    .dataframe tbody tr th {\n",
       "        vertical-align: top;\n",
       "    }\n",
       "\n",
       "    .dataframe thead th {\n",
       "        text-align: right;\n",
       "    }\n",
       "</style>\n",
       "<table border=\"1\" class=\"dataframe\">\n",
       "  <thead>\n",
       "    <tr style=\"text-align: right;\">\n",
       "      <th></th>\n",
       "      <th>Actual P(win)</th>\n",
       "      <th>Posterior mean</th>\n",
       "      <th>Credible interval</th>\n",
       "    </tr>\n",
       "  </thead>\n",
       "  <tbody>\n",
       "    <tr>\n",
       "      <th>0</th>\n",
       "      <td>0.1</td>\n",
       "      <td>0.107</td>\n",
       "      <td>[0.0, 0.31]</td>\n",
       "    </tr>\n",
       "    <tr>\n",
       "      <th>1</th>\n",
       "      <td>0.2</td>\n",
       "      <td>0.269</td>\n",
       "      <td>[0.14, 0.42]</td>\n",
       "    </tr>\n",
       "    <tr>\n",
       "      <th>2</th>\n",
       "      <td>0.3</td>\n",
       "      <td>0.293</td>\n",
       "      <td>[0.18, 0.41]</td>\n",
       "    </tr>\n",
       "    <tr>\n",
       "      <th>3</th>\n",
       "      <td>0.4</td>\n",
       "      <td>0.438</td>\n",
       "      <td>[0.3, 0.58]</td>\n",
       "    </tr>\n",
       "  </tbody>\n",
       "</table>\n",
       "</div>"
      ],
      "text/plain": [
       "   Actual P(win)  Posterior mean Credible interval\n",
       "0            0.1           0.107       [0.0, 0.31]\n",
       "1            0.2           0.269      [0.14, 0.42]\n",
       "2            0.3           0.293      [0.18, 0.41]\n",
       "3            0.4           0.438       [0.3, 0.58]"
      ]
     },
     "execution_count": 47,
     "metadata": {},
     "output_type": "execute_result"
    }
   ],
   "source": [
    "summarize_beliefs(beliefs)"
   ]
  },
  {
   "cell_type": "markdown",
   "id": "fbc916d4",
   "metadata": {},
   "source": [
    "L'intervallo di credibilità tipicamente contiene le probabilità di vincita attuali.\n",
    "Le stime sono ancora grezze, specialmente per le macchine con una bassa probabilità di vincita. Ma questo è un punto a favore non uno svantaggio: il nostro obiettivo è quello di usare le slot machine con la più alta probabilità di vincita il numero maggiore di volte. \n",
    "Vediamo quante volte ogni volta viene usata."
   ]
  },
  {
   "cell_type": "code",
   "execution_count": 48,
   "id": "6e8ef02f",
   "metadata": {},
   "outputs": [],
   "source": [
    "def summarize_counter(counter):\n",
    "    \"\"\"Report the number of times each machine was played.\n",
    "    \n",
    "    counter: Collections.Counter\n",
    "    \n",
    "    returns: DataFrame\n",
    "    \"\"\"\n",
    "    index = range(4)\n",
    "    columns = ['Actual P(win)', 'Times played']\n",
    "    df = pd.DataFrame(index=index, columns=columns)\n",
    "    for i, count in counter.items():\n",
    "        df.loc[i] = actual_probs[i], count\n",
    "    return df"
   ]
  },
  {
   "cell_type": "code",
   "execution_count": 49,
   "id": "42a11931",
   "metadata": {},
   "outputs": [
    {
     "data": {
      "text/html": [
       "<div>\n",
       "<style scoped>\n",
       "    .dataframe tbody tr th:only-of-type {\n",
       "        vertical-align: middle;\n",
       "    }\n",
       "\n",
       "    .dataframe tbody tr th {\n",
       "        vertical-align: top;\n",
       "    }\n",
       "\n",
       "    .dataframe thead th {\n",
       "        text-align: right;\n",
       "    }\n",
       "</style>\n",
       "<table border=\"1\" class=\"dataframe\">\n",
       "  <thead>\n",
       "    <tr style=\"text-align: right;\">\n",
       "      <th></th>\n",
       "      <th>Actual P(win)</th>\n",
       "      <th>Times played</th>\n",
       "    </tr>\n",
       "  </thead>\n",
       "  <tbody>\n",
       "    <tr>\n",
       "      <th>0</th>\n",
       "      <td>0.1</td>\n",
       "      <td>7</td>\n",
       "    </tr>\n",
       "    <tr>\n",
       "      <th>1</th>\n",
       "      <td>0.2</td>\n",
       "      <td>24</td>\n",
       "    </tr>\n",
       "    <tr>\n",
       "      <th>2</th>\n",
       "      <td>0.3</td>\n",
       "      <td>39</td>\n",
       "    </tr>\n",
       "    <tr>\n",
       "      <th>3</th>\n",
       "      <td>0.4</td>\n",
       "      <td>30</td>\n",
       "    </tr>\n",
       "  </tbody>\n",
       "</table>\n",
       "</div>"
      ],
      "text/plain": [
       "  Actual P(win) Times played\n",
       "0           0.1            7\n",
       "1           0.2           24\n",
       "2           0.3           39\n",
       "3           0.4           30"
      ]
     },
     "execution_count": 49,
     "metadata": {},
     "output_type": "execute_result"
    }
   ],
   "source": [
    "summarize_counter(counter)"
   ]
  },
  {
   "cell_type": "markdown",
   "id": "f88c891e",
   "metadata": {},
   "source": [
    "Se le cose vanno secondo i piani, le macchine con una alta probabilità di vincita verranno usate di più."
   ]
  },
  {
   "cell_type": "code",
   "execution_count": null,
   "id": "71e7f3d1",
   "metadata": {},
   "outputs": [],
   "source": []
  }
 ],
 "metadata": {
  "kernelspec": {
   "display_name": "Python 3 (ipykernel)",
   "language": "python",
   "name": "python3"
  },
  "language_info": {
   "codemirror_mode": {
    "name": "ipython",
    "version": 3
   },
   "file_extension": ".py",
   "mimetype": "text/x-python",
   "name": "python",
   "nbconvert_exporter": "python",
   "pygments_lexer": "ipython3",
   "version": "3.9.7"
  }
 },
 "nbformat": 4,
 "nbformat_minor": 5
}
