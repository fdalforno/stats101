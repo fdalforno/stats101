{
 "cells": [
  {
   "cell_type": "code",
   "execution_count": 1,
   "id": "b640a7df",
   "metadata": {},
   "outputs": [],
   "source": [
    "from utils import set_pyplot_params\n",
    "set_pyplot_params()"
   ]
  },
  {
   "cell_type": "markdown",
   "id": "4d81766d",
   "metadata": {},
   "source": [
    "# Stima dei conteggi\n",
    "\n",
    "Nel capitolo precedente abbiamo risolto il problema che implicano la stima delle proporzioni.\n",
    "Nel problema dell'Euro abbiamo stimato la probabilità che una moneta cada di testa e nell'esercizio abbiamo stimato la media delle battute, la frazione delle persone che imbrogliano sulle tasse.\n",
    "\n",
    "Chiaramente alcuni di questi problemi sono più realistici di altri.\n",
    "In questo capitolo lavoreremo sul problema del del conteggio o della stima delle dimensione della popolazione.\n",
    "Ancora alcuni esempi esempi sembreranno sciocchi, ma alcuni di essi con il problema dei Carri armati tedeschi ha avuto applicazioni reali spesso in situazioni di vita o di morte.\n",
    "\n",
    "## Il problema dei treni\n",
    "\n",
    "Il problema dei treni è trattato nel libro di Frederick Mosteller [*Fifty Challenging Problems in Probability with Solutions*](https://store.doverpublications.com/0486653552.html).\n",
    "\n",
    "> \"Una ferrovia numera le sua locomotive in ordine da 1..N. Un giorno vediamo una locomotiva con il numero 60. Stima quante locomotive ha la ferrovia.\"\n",
    "\n",
    "Basandosi sulla osservazione sappiamo che la stessa ha 60 o più locomotive. Ma quante di più? Applichiamo il ragionamento  Bayesiano possiamo rompere il problema in due passi:\n",
    "\n",
    "* Cosa sapevamo di $N$ prima di vedere il dato?\n",
    "* Per ogni valore dato di $N$, quale è la verosmiglianza di vedere il dato?\n",
    "\n",
    "\n",
    "Per rispondere alla prima domanda si usa la distribuzione a priori, per la seconda si usa la verosomiglianza.\n",
    "Non abbiamo molte basi per scegliere la distribuzione a priori, dunque partiremo con qualcosa di semplice e consideremo alternative.\n",
    "\n",
    "Assumiamo che $N$ sia egualmente distribuita tra 1 e 1000.\n",
    "\n",
    "Qui la distribuzione a priori:"
   ]
  },
  {
   "cell_type": "code",
   "execution_count": 2,
   "id": "bf5864b6",
   "metadata": {},
   "outputs": [],
   "source": [
    "import numpy as np\n",
    "from distribution import Pmf\n",
    "\n",
    "hypos = np.arange(1, 1001)\n",
    "prior = Pmf(1, hypos)"
   ]
  },
  {
   "cell_type": "markdown",
   "id": "c6fe57fb",
   "metadata": {},
   "source": [
    "Ora immaginiamo la verosomiglianza dei dati.\n",
    "In una ipotetica flotta di $N$ locomotive, quale è la probabilità di vedere il numero 60?\n",
    "Se assumiamo che abbiamo la stessa probabilità di vedere ogni locomotiva, la possibiltà di vedere una in particolare è $1/N$.\n",
    "Qui la funzione che esegue l'aggiornamento:"
   ]
  },
  {
   "cell_type": "code",
   "execution_count": 3,
   "id": "e82a06e0",
   "metadata": {},
   "outputs": [],
   "source": [
    "def update_train(pmf, data):\n",
    "    \"\"\"Update pmf based on new data.\"\"\"\n",
    "    hypos = pmf.qs\n",
    "    likelihood = 1 / hypos\n",
    "    impossible = (data > hypos)\n",
    "    likelihood[impossible] = 0\n",
    "    pmf *= likelihood\n",
    "    pmf.normalize()"
   ]
  },
  {
   "cell_type": "markdown",
   "id": "efeea3b3",
   "metadata": {},
   "source": [
    "Questa funzione risulta familiare, è la stessa funzione di aggiornamento del problema dei dadi nel capitolo precedente.\n",
    "In termini di verosomiglianza il problema dei treni è lo stesso del problema dei dadi.\n",
    "Qui l'aggiornamento:"
   ]
  },
  {
   "cell_type": "code",
   "execution_count": 4,
   "id": "d5f7185b",
   "metadata": {},
   "outputs": [],
   "source": [
    "data = 60\n",
    "posterior = prior.copy()\n",
    "update_train(posterior, data)"
   ]
  },
  {
   "cell_type": "markdown",
   "id": "95388fbf",
   "metadata": {},
   "source": [
    "Ed ecco come si presenta la distribuzione a posteriori:"
   ]
  },
  {
   "cell_type": "code",
   "execution_count": 5,
   "id": "e708b95a",
   "metadata": {},
   "outputs": [
    {
     "data": {
      "image/png": "[encoded data removed]",
      "text/plain": [
       "<Figure size 432x288 with 1 Axes>"
      ]
     },
     "metadata": {
      "needs_background": "light"
     },
     "output_type": "display_data"
    }
   ],
   "source": [
    "from utils import decorate\n",
    "\n",
    "posterior.plot(label='Posterior after train 60', color='C4')\n",
    "decorate(xlabel='Number of trains',\n",
    "         ylabel='PMF',\n",
    "         title='Posterior distribution')"
   ]
  },
  {
   "cell_type": "markdown",
   "id": "b0adb875",
   "metadata": {},
   "source": [
    "Non sorprende che il massimo valore sia 60 e che i valori sotto di esso siano 0."
   ]
  },
  {
   "cell_type": "code",
   "execution_count": 6,
   "id": "babb37c5",
   "metadata": {},
   "outputs": [
    {
     "data": {
      "text/plain": [
       "60"
      ]
     },
     "execution_count": 6,
     "metadata": {},
     "output_type": "execute_result"
    }
   ],
   "source": [
    "posterior.max_prob()"
   ]
  },
  {
   "cell_type": "markdown",
   "id": "090b316c",
   "metadata": {},
   "source": [
    "Questa non sembra un gran che come come ipotesi, quale è la possibilità che tu abbia visto il treno con il numero più alto?\n",
    "Dopotutto, se vuoi massimizzare la possibilità di ottenere la risposta esatta potresti dire 60.\n",
    "Questo potrebbe non essere il nostro obiettivo.\n",
    "Una alternativa è quella di calcolare la media della distribuzione a posteriori.\n",
    "Dato un insieme di possibili quantità $q_i$ e delle loro probabilità $p_i$ la media delle distribuzioni sarà\n",
    "$$\\mathrm{mean} = \\sum_i p_i q_i$$\n",
    "Possiamo calcolarla come:"
   ]
  },
  {
   "cell_type": "code",
   "execution_count": 7,
   "id": "c85cb0be",
   "metadata": {},
   "outputs": [
    {
     "data": {
      "text/plain": [
       "333.41989326370776"
      ]
     },
     "execution_count": 7,
     "metadata": {},
     "output_type": "execute_result"
    }
   ],
   "source": [
    "np.sum(posterior.ps * posterior.qs)"
   ]
  },
  {
   "cell_type": "markdown",
   "id": "42f47cb9",
   "metadata": {},
   "source": [
    "oppure con il comando "
   ]
  },
  {
   "cell_type": "code",
   "execution_count": 8,
   "id": "60af7b5f",
   "metadata": {},
   "outputs": [
    {
     "data": {
      "text/plain": [
       "333.41989326370776"
      ]
     },
     "execution_count": 8,
     "metadata": {},
     "output_type": "execute_result"
    }
   ],
   "source": [
    "posterior.mean()"
   ]
  },
  {
   "cell_type": "markdown",
   "id": "cb4d51f9",
   "metadata": {},
   "source": [
    "## Sensibilita della distribuzione a priori\n",
    "\n",
    "La distribuzione che ho usati nella distibuzione precedente è uniforme tra 1 e 1000, ma non abbiamo dato nessuna giustificazione sulla scelta della distribuzione o di quel particolare limite superiore.\n",
    "\n",
    "Ci si potrebbe chiedere se la distribuzione a posteriori sia sensibile alla distribuzione a priori.\n",
    "Con pochi dati \"nel nostro caso una solo osservazione\" è quello che succede.\n",
    "La tabella mostra cosa succcede al variare del limite superiore:"
   ]
  },
  {
   "cell_type": "code",
   "execution_count": 9,
   "id": "ceebd849",
   "metadata": {},
   "outputs": [
    {
     "data": {
      "text/html": [
       "<div>\n",
       "<style scoped>\n",
       "    .dataframe tbody tr th:only-of-type {\n",
       "        vertical-align: middle;\n",
       "    }\n",
       "\n",
       "    .dataframe tbody tr th {\n",
       "        vertical-align: top;\n",
       "    }\n",
       "\n",
       "    .dataframe thead th {\n",
       "        text-align: right;\n",
       "    }\n",
       "</style>\n",
       "<table border=\"1\" class=\"dataframe\">\n",
       "  <thead>\n",
       "    <tr style=\"text-align: right;\">\n",
       "      <th></th>\n",
       "      <th>Posterior mean</th>\n",
       "    </tr>\n",
       "    <tr>\n",
       "      <th>Upper bound</th>\n",
       "      <th></th>\n",
       "    </tr>\n",
       "  </thead>\n",
       "  <tbody>\n",
       "    <tr>\n",
       "      <th>100</th>\n",
       "      <td>78.218336</td>\n",
       "    </tr>\n",
       "    <tr>\n",
       "      <th>500</th>\n",
       "      <td>207.079228</td>\n",
       "    </tr>\n",
       "    <tr>\n",
       "      <th>700</th>\n",
       "      <td>259.955529</td>\n",
       "    </tr>\n",
       "    <tr>\n",
       "      <th>1000</th>\n",
       "      <td>333.419893</td>\n",
       "    </tr>\n",
       "    <tr>\n",
       "      <th>2000</th>\n",
       "      <td>552.179017</td>\n",
       "    </tr>\n",
       "    <tr>\n",
       "      <th>5000</th>\n",
       "      <td>1115.021395</td>\n",
       "    </tr>\n",
       "  </tbody>\n",
       "</table>\n",
       "</div>"
      ],
      "text/plain": [
       "             Posterior mean\n",
       "Upper bound                \n",
       "100               78.218336\n",
       "500              207.079228\n",
       "700              259.955529\n",
       "1000             333.419893\n",
       "2000             552.179017\n",
       "5000            1115.021395"
      ]
     },
     "execution_count": 9,
     "metadata": {},
     "output_type": "execute_result"
    }
   ],
   "source": [
    "import pandas as pd\n",
    "\n",
    "df = pd.DataFrame(columns=['Posterior mean'])\n",
    "df.index.name = 'Upper bound'\n",
    "\n",
    "for high in [100, 500, 700, 1000, 2000, 5000]:\n",
    "    hypos = np.arange(1, high+1)\n",
    "    pmf = Pmf(1, hypos)\n",
    "    update_train(pmf, data=60)\n",
    "    df.loc[high] = pmf.mean()\n",
    "    \n",
    "df"
   ]
  },
  {
   "cell_type": "markdown",
   "id": "def474f4",
   "metadata": {},
   "source": [
    "Al variare il limite superiore, la media a postesiori cambia sostanzialmente. \n",
    "Questo è male.\n",
    "Quando la distribuzione a posteriori e sensibile alla priori ci sono due strade in cui procedere:\n",
    "\n",
    "* Ottenere più dati\n",
    "* Ottenere più informazioni al fine di scegliere una distribuzione a priori migliore.\n",
    "\n",
    "Con più dati la distribuzione a posteriori basate su differenti distribuzioni a priori tendono a convergere.\n",
    "Per esempio supponiamo di vedere oltre al treno numero 60 il treno 30 e il 90.\n",
    "Vediamo come la media della distribuzione a posteriori cambia al variare del limite superiore dopo aver osservato tre treni: "
   ]
  },
  {
   "cell_type": "code",
   "execution_count": 10,
   "id": "e4517e15",
   "metadata": {},
   "outputs": [
    {
     "data": {
      "text/html": [
       "<div>\n",
       "<style scoped>\n",
       "    .dataframe tbody tr th:only-of-type {\n",
       "        vertical-align: middle;\n",
       "    }\n",
       "\n",
       "    .dataframe tbody tr th {\n",
       "        vertical-align: top;\n",
       "    }\n",
       "\n",
       "    .dataframe thead th {\n",
       "        text-align: right;\n",
       "    }\n",
       "</style>\n",
       "<table border=\"1\" class=\"dataframe\">\n",
       "  <thead>\n",
       "    <tr style=\"text-align: right;\">\n",
       "      <th></th>\n",
       "      <th>Posterior mean</th>\n",
       "    </tr>\n",
       "    <tr>\n",
       "      <th>Upper bound</th>\n",
       "      <th></th>\n",
       "    </tr>\n",
       "  </thead>\n",
       "  <tbody>\n",
       "    <tr>\n",
       "      <th>100</th>\n",
       "      <td>94.684234</td>\n",
       "    </tr>\n",
       "    <tr>\n",
       "      <th>500</th>\n",
       "      <td>151.849588</td>\n",
       "    </tr>\n",
       "    <tr>\n",
       "      <th>700</th>\n",
       "      <td>158.724031</td>\n",
       "    </tr>\n",
       "    <tr>\n",
       "      <th>1000</th>\n",
       "      <td>164.305586</td>\n",
       "    </tr>\n",
       "    <tr>\n",
       "      <th>2000</th>\n",
       "      <td>171.338181</td>\n",
       "    </tr>\n",
       "    <tr>\n",
       "      <th>5000</th>\n",
       "      <td>175.856181</td>\n",
       "    </tr>\n",
       "  </tbody>\n",
       "</table>\n",
       "</div>"
      ],
      "text/plain": [
       "             Posterior mean\n",
       "Upper bound                \n",
       "100               94.684234\n",
       "500              151.849588\n",
       "700              158.724031\n",
       "1000             164.305586\n",
       "2000             171.338181\n",
       "5000             175.856181"
      ]
     },
     "execution_count": 10,
     "metadata": {},
     "output_type": "execute_result"
    }
   ],
   "source": [
    "df = pd.DataFrame(columns=['Posterior mean'])\n",
    "df.index.name = 'Upper bound'\n",
    "\n",
    "dataset = [30, 60, 90]\n",
    "\n",
    "for high in [100, 500, 700, 1000, 2000, 5000]:\n",
    "    hypos = np.arange(1, high+1)\n",
    "    pmf = Pmf(1, hypos)\n",
    "    for data in dataset:\n",
    "        update_train(pmf, data)\n",
    "    df.loc[high] = pmf.mean()\n",
    "    \n",
    "df"
   ]
  },
  {
   "cell_type": "markdown",
   "id": "59734d73",
   "metadata": {},
   "source": [
    "Le differenze sono minori, ma apparentemente tre treni non sono abbastanza per far convergere la distribuzione a posteriori."
   ]
  },
  {
   "cell_type": "markdown",
   "id": "457612d9",
   "metadata": {},
   "source": [
    "## Legge della potenza della distribuzione a priori\n",
    "\n",
    "Se più dati non sono disponibili, un'altra opzione è quella di migliorare la distribuzione a priori cercando piu informazioni \n",
    "E' probabilmente non ragionevole assumere che una compagnia con 1000 treni abbia la stessa probabilità di una compagnia con un solo treno.\n",
    "\n",
    "Con un pò di lavoro potremo trovare un elenco di aziende del settore, oppure potremmo intervistare un esperto di dominio e raccogliere le informazioni che ci servono.\n",
    "\n",
    "Ma anche senza entrare nel dettaglio economico delle ferrovie, potremmo fare delle ipotesi plausibili.\n",
    "In molti campi, ci sono molte aziende piccole, qualche azienda media e al massimo una o due grandi aziende.\n",
    "\n",
    "Nei fatti la distribuzione delle compagnie tende a seguire la legge della potenza come scrive Robert Axtell su [*Science*](<http://www.sciencemag.org/content/293/5536/1818.full.pdf>).\n",
    "\n",
    "Questa legge ci suggerische che se abbiamo 1000 compagnie con meno di 10 locomotivem potrebbe essere che avremo 100 compagnie con 100 locomotive e 10 compagnie con 100 e possibilmente 1 compagnia con 10'000 locomotive.\n",
    "\n",
    "Matematicamente, la legge della potenza significa che il numero delle compagnie con una certa dimensione, $N$ è proporzionale a \n",
    "$(1/N)^{\\alpha}$ dove $\\alpha$ è un parametreo che spesso si avvicina a 1.\n",
    "\n",
    "Possiamo costruire la distribuzione a priori basata sulla legge della potenza in questo modo."
   ]
  },
  {
   "cell_type": "code",
   "execution_count": 11,
   "id": "149a29bd",
   "metadata": {},
   "outputs": [
    {
     "data": {
      "text/plain": [
       "9.094508852984436"
      ]
     },
     "execution_count": 11,
     "metadata": {},
     "output_type": "execute_result"
    }
   ],
   "source": [
    "alpha = 1.0\n",
    "ps = hypos**(-alpha)\n",
    "power = Pmf(ps, hypos, name='power law')\n",
    "power.normalize()"
   ]
  },
  {
   "cell_type": "markdown",
   "id": "831add24",
   "metadata": {},
   "source": [
    "andiamo a compararla con la distribuzione uniforme."
   ]
  },
  {
   "cell_type": "code",
   "execution_count": 12,
   "id": "99e71310",
   "metadata": {},
   "outputs": [
    {
     "data": {
      "text/plain": [
       "1000"
      ]
     },
     "execution_count": 12,
     "metadata": {},
     "output_type": "execute_result"
    }
   ],
   "source": [
    "hypos = np.arange(1, 1001)\n",
    "uniform = Pmf(1, hypos, name='uniform')\n",
    "uniform.normalize()"
   ]
  },
  {
   "cell_type": "code",
   "execution_count": 13,
   "id": "b55dee7e",
   "metadata": {},
   "outputs": [
    {
     "data": {
      "image/png": "[encoded data removed]",
      "text/plain": [
       "<Figure size 432x288 with 1 Axes>"
      ]
     },
     "metadata": {
      "needs_background": "light"
     },
     "output_type": "display_data"
    }
   ],
   "source": [
    "uniform.plot(color='C4')\n",
    "power.plot(color='C1')\n",
    "\n",
    "decorate(xlabel='Number of trains',\n",
    "         ylabel='PMF',\n",
    "         title='Prior distributions')"
   ]
  },
  {
   "cell_type": "code",
   "execution_count": 14,
   "id": "070f7ab4",
   "metadata": {},
   "outputs": [],
   "source": [
    "dataset = [60]\n",
    "update_train(uniform, dataset)\n",
    "update_train(power, dataset)"
   ]
  },
  {
   "cell_type": "code",
   "execution_count": 15,
   "id": "fc4669b9",
   "metadata": {},
   "outputs": [
    {
     "data": {
      "image/png": "[encoded data removed]",
      "text/plain": [
       "<Figure size 432x288 with 1 Axes>"
      ]
     },
     "metadata": {
      "needs_background": "light"
     },
     "output_type": "display_data"
    }
   ],
   "source": [
    "uniform.plot(color='C4')\n",
    "power.plot(color='C1')\n",
    "\n",
    "decorate(xlabel='Number of trains',\n",
    "         ylabel='PMF',\n",
    "         title='Posterior distributions')"
   ]
  },
  {
   "cell_type": "code",
   "execution_count": 16,
   "id": "e4e0f683",
   "metadata": {},
   "outputs": [
    {
     "data": {
      "text/html": [
       "<div>\n",
       "<style scoped>\n",
       "    .dataframe tbody tr th:only-of-type {\n",
       "        vertical-align: middle;\n",
       "    }\n",
       "\n",
       "    .dataframe tbody tr th {\n",
       "        vertical-align: top;\n",
       "    }\n",
       "\n",
       "    .dataframe thead th {\n",
       "        text-align: right;\n",
       "    }\n",
       "</style>\n",
       "<table border=\"1\" class=\"dataframe\">\n",
       "  <thead>\n",
       "    <tr style=\"text-align: right;\">\n",
       "      <th></th>\n",
       "      <th>Posterior mean</th>\n",
       "    </tr>\n",
       "    <tr>\n",
       "      <th>Upper bound</th>\n",
       "      <th></th>\n",
       "    </tr>\n",
       "  </thead>\n",
       "  <tbody>\n",
       "    <tr>\n",
       "      <th>100</th>\n",
       "      <td>94.579460</td>\n",
       "    </tr>\n",
       "    <tr>\n",
       "      <th>500</th>\n",
       "      <td>130.708470</td>\n",
       "    </tr>\n",
       "    <tr>\n",
       "      <th>700</th>\n",
       "      <td>132.338572</td>\n",
       "    </tr>\n",
       "    <tr>\n",
       "      <th>1000</th>\n",
       "      <td>133.275231</td>\n",
       "    </tr>\n",
       "    <tr>\n",
       "      <th>2000</th>\n",
       "      <td>133.997463</td>\n",
       "    </tr>\n",
       "    <tr>\n",
       "      <th>5000</th>\n",
       "      <td>134.211950</td>\n",
       "    </tr>\n",
       "  </tbody>\n",
       "</table>\n",
       "</div>"
      ],
      "text/plain": [
       "             Posterior mean\n",
       "Upper bound                \n",
       "100               94.579460\n",
       "500              130.708470\n",
       "700              132.338572\n",
       "1000             133.275231\n",
       "2000             133.997463\n",
       "5000             134.211950"
      ]
     },
     "execution_count": 16,
     "metadata": {},
     "output_type": "execute_result"
    }
   ],
   "source": [
    "df = pd.DataFrame(columns=['Posterior mean'])\n",
    "df.index.name = 'Upper bound'\n",
    "\n",
    "dataset = [30, 60, 90]\n",
    "\n",
    "for high in [100, 500, 700, 1000, 2000, 5000]:\n",
    "    hypos = np.arange(1, high+1)\n",
    "    ps = hypos**(-alpha)\n",
    "    power = Pmf(ps, hypos)\n",
    "    for data in dataset:\n",
    "        update_train(power, data)\n",
    "    df.loc[high] = power.mean()\n",
    "    \n",
    "df"
   ]
  },
  {
   "cell_type": "markdown",
   "id": "b86d5260",
   "metadata": {},
   "source": [
    "Ora le differenze sono diminuite. Nei fatti con un limite molto grande la media converge verso il valore di 134.\n",
    "La legge della potenza è molto realistica, perchè è basata sulle informazioni generali circa la dimensione delle compagnie e si comporta anche meglio nella pratica.\n",
    "\n",
    "## Intervallo di credibilità\n",
    "\n",
    "Abbiamo appena visto due modi per riassumere la distribuzione a posteriori: il valore con la priorità più alta e la media della distribuzione a posteriori.\n",
    "Questo sono entrambre **punti di stima**, singoli valori che stimano la quantità a cui siamo interessati.\n",
    "\n",
    "Un'altro modo per riassumente la distribuzione a posteriori è tramite i percentili.\n",
    "Se hai eseguito un test standardizzato, dovresti essere familiare con i percentili.\n",
    "Per esempio, se il tuo punteggio è nel 90° percentile, significa che hai fatto bene o meglio del 90% delle persone che hanno fatto i test.\n",
    "\n",
    "Se ci viene dato un valore, `x`, possiamo calcolare il **rango percentile** cercando tutti i valori minori o uguali a `x` e sommando le loro probabilità.\n",
    "\n",
    "L'oggetto `Pmf` ci da una funzione che esegue questo calcolo.\n",
    "Per esempio possiamo calcolare la probabilità che la compagnia 100 o meno treni:"
   ]
  },
  {
   "cell_type": "code",
   "execution_count": 17,
   "id": "5a0f9742",
   "metadata": {},
   "outputs": [
    {
     "data": {
      "text/plain": [
       "0.29372230050690157"
      ]
     },
     "execution_count": 17,
     "metadata": {},
     "output_type": "execute_result"
    }
   ],
   "source": [
    "power.le_dist(100)"
   ]
  },
  {
   "cell_type": "markdown",
   "id": "8cedb6cf",
   "metadata": {},
   "source": [
    "Con la legge della potenza e un dataset di tre treni il risultato di circa il 29%.\n",
    "Dunque 100 treni sono al 29° percentile.\n",
    "Giriamo il problema supponiamo di voler calcolare un particolare percentile, per esempio, la mediana della distribuzione è il 50° percentile.\n",
    "Possiamo calcolare tale valore aggiungendo probabilità finchè il totale non eccede 0.5.\n",
    "Questa è la funzione che esegue questo compito:"
   ]
  },
  {
   "cell_type": "code",
   "execution_count": 18,
   "id": "8f822ffc",
   "metadata": {},
   "outputs": [],
   "source": [
    "def quantile(pmf, prob):\n",
    "    \"\"\"Compute a quantile with the given prob.\"\"\"\n",
    "    total = 0\n",
    "    for q, p in pmf.items():\n",
    "        total += p\n",
    "        if total >= prob:\n",
    "            return q\n",
    "    return np.nan"
   ]
  },
  {
   "cell_type": "markdown",
   "id": "580b6632",
   "metadata": {},
   "source": [
    "Il ciclo usa `items`, e itera le quantità e le probabilità della distribuzione.\n",
    "Dentro il ciclo aggiungiamo le probabilità delle quantità ordinate.\n",
    "Quando il totale eguaglia o eccede `prob`, ritorniamo la corrispondente quantità.\n",
    "Questa funzione è chiamata `quantile` perchè calcola un quantile piuttosto che un percentile.  \n",
    "La differenza è come si specifica `prob`.\n",
    "\n",
    "Se `prob` è una percentuale tra 0 e 100 chiamiamo la corrispondente quantità percentile.\n",
    "Se `prob` è una probabilità tra 0 e 1, chiamiamo la corrispondente quantità **quantile**.\n",
    "\n",
    "Qui come possiamo usare la funzione per calcolare il 50° percentile della distribuzione a posteriori:"
   ]
  },
  {
   "cell_type": "code",
   "execution_count": 19,
   "id": "27503207",
   "metadata": {},
   "outputs": [
    {
     "data": {
      "text/plain": [
       "113"
      ]
     },
     "execution_count": 19,
     "metadata": {},
     "output_type": "execute_result"
    }
   ],
   "source": [
    "quantile(power, 0.5)"
   ]
  },
  {
   "cell_type": "markdown",
   "id": "bed0e664",
   "metadata": {},
   "source": [
    "Il risultato, 113 treni rappresenta la mediana della distribuzione a posteriori.\n",
    "`Pmf` ci da a disposizione un metodo chiamato `quantile` che fa la stessa cosa.\n",
    "Possiamo chiamarlo per calcolare il 5° e il 95° percentile:"
   ]
  },
  {
   "cell_type": "code",
   "execution_count": 20,
   "id": "8360a04e",
   "metadata": {},
   "outputs": [
    {
     "data": {
      "text/plain": [
       "array([ 91., 243.])"
      ]
     },
     "execution_count": 20,
     "metadata": {},
     "output_type": "execute_result"
    }
   ],
   "source": [
    "power.quantile([0.05, 0.95])"
   ]
  },
  {
   "cell_type": "markdown",
   "id": "d13ca79d",
   "metadata": {},
   "source": [
    "Il risultato è un intervallo di valori tra 91 e 243 che implica:\n",
    "\n",
    "* che il numero dei treni sia minore di 51 ha una probabilità del 5%\n",
    "* che il numero dei treni sia maggiore di 243 ha una probabilità del 5%\n",
    "\n",
    "Perciò la probabilità che il numero dei treni sia compreso tra 91 e 243 è del 90% (escludendo il valore 91 e includendo il valore 243).\n",
    "\n",
    "Per questa ragione questo intervallo è chiamato **intervallo di credibilità**.\n",
    "`Pmf` ci fornisce la funzione `credible_interval` che calcola un intervallo che contiene la probabilità data."
   ]
  },
  {
   "cell_type": "code",
   "execution_count": 21,
   "id": "66097482",
   "metadata": {},
   "outputs": [
    {
     "data": {
      "text/plain": [
       "array([ 91., 243.])"
      ]
     },
     "execution_count": 21,
     "metadata": {},
     "output_type": "execute_result"
    }
   ],
   "source": [
    "power.credible_interval(0.9)"
   ]
  },
  {
   "cell_type": "markdown",
   "id": "d3071ad6",
   "metadata": {},
   "source": [
    "## Il problema dei carri armati tedeschi\n",
    "\n",
    "Durante la seconda guerra mondiale, la divisione economica di guerra della ambasciata americana a Londra usò l'analisi statistica per stimare la produzione tedesca di carri armati e altri equipaggiamenti.\n",
    "\n",
    "Gli alleati catturarono diari, inventari e record di riparazione che inclusero numeri seriali di telai motori di ogni carro armato.\n",
    "\n",
    "Le analisi di questi record indicarono che i numeri seriali erano allocati dai produttori e del tipo di carro a blocchi di 100 numeri, questi numeri in ogni blocco furono usati sequenzialmente. Dunque il problema della stima dei carri Tedeschi può essere ridotto, all'interno di ogni blocco di 100 numeri ad una variante del problema dei treni.\n",
    "\n",
    "Basandosi su queste su queste intuizioni, gli analisti Americani e i Britannici produssero stime sostanzialmente più basse di altre basate su altre forme di intelligence.\n",
    "\n",
    "E dopo la guerra la stima di revelò molto accurata.\n",
    "\n",
    "Se fecero analisi simili per gomme, camion, missili e altri equipaggiamenti, fornendo stime accurate.\n",
    "Il problema dei carri tedeschi è un problema storico interessante è anche un esempio reale carino di una stima statistica e applicata al mondo reale.\n",
    "\n",
    "Per saperne di più sul problema qui un articolo su [wikipedia](https://en.wikipedia.org/wiki/German_tank_problem)\n",
    "\n",
    "## Distribuzione di probabilità a priori\n",
    "\n",
    "Tra i Bayesiani, ci sono due approcci per scegliere la distribuzione a priori.\n",
    "Alcuni raccomandano di scegliere la distribuzione che meglio rappresenta le informazioni \n",
    "di background circa il problema in tal caso la distribuzione si dice **informativa**.\n",
    "\n",
    "Il problema di usare una distribuzione informativa e che alcune persone potrebbero avere informazioni indipendenti o interpretare le informazioni differentemente. \n",
    "\n",
    "Quindi le distribuzioni a priori potrebbero sembrare arbitrarie.\n",
    "\n",
    "L'altrernative è chiamata **distribuzione a priori non informativa** che è la meno ristretta possibile, per far parlare i dati da soli. In alcuni casi si può identificare una distribuzione a priori che ha questa proprietà, così da rappresentare le informazioni minimali circa le proprietà stimate.\n",
    "\n",
    "Le distribuzioni non informative sono interessanti perchè sembrano più obiettive.\n",
    "Sono generalmente a favore nell'usare le distribuzioni informative.\n",
    "Perchè?\n",
    "\n",
    "Primo, le analisi Bayesiane sono sempre basate su modellazioni decisionali.\n",
    "Scegliere la distribuzione a priori corretta è una di queste decisoni ma non la sola e potrebbe non essere la più soggettiva.\n",
    "Dunque se una distribuzione non informativa è più oggettiva, l'intera analisi resterà soggettiva.\n",
    "\n",
    "Ancora per molti problemi pratici è molto probabilte che ti troverai in una di queste due situazioni.\n",
    "O si hanno molti dati o non si hanno molti dati.\n",
    "\n",
    "Se si hanno molti dati la distribuzione a priori non interessa molto, le distribuzioni informative e non informative daranno gli stessi risultati.\n",
    "Se non si hanno molti dati, usare tutte le informazioni di background (tipo la legge della potenza) può fare grandi differenze.\n",
    "\n",
    "E se, come nel caso dei carri armati Tedeschi dobbiamo prendere decisioni che portano alla vita o alla morte. \n",
    "Probabilmente userai tutte le informazioni in tuo possesso, piuttosto che mantenere una illusione di oggettività pretendendo di sapere meno di quello che sai.\n",
    "\n",
    "## Riassunto\n",
    "\n",
    "In questo capitolo abbiamo introdotto il problema dei treni, che risulta avere la stessa funzione di verosomiglianza del problema dei dadi e che può essere applicato al problema dei carri armati tedeschi.\n",
    "\n",
    "In tutti questo esempi, l'obiettivo è quello di stimare un conteggio o quello di stimare una popolazione.\n",
    "Nel prossimo capitolo parleremo di \"quote\" come alternativa alle probabilità e la regola di Bayes come forma alternativa del teorema di Bayes.\n",
    "\n",
    "Calcoleremo distribuzioni di somme e di prodotti e useremo questo per stimare il numero dei membri del Congresso che sono corrotti, tra gli altri problemi. "
   ]
  },
  {
   "cell_type": "markdown",
   "id": "a3721def",
   "metadata": {},
   "source": [
    "**Esercizio:** Supponiamo che tu stia tenendo un discorso in una grande sala conferenze è un capo dei vigili del fuoco ci interrompa perchè secondo lui le persone nella stanza superino il limite massimo di 1200 persone.\n",
    "Noi pensiamo invece che le persone di essere meno di 1200 persone, ci offriamo di dimostrarlo.\n",
    "\n",
    "Ci metteremmo troppo a contare e perciò proviamo un esperimento:\n",
    "* Domandiamo quante persone sono nate l'11 maggio e due persone alzano la mano. \n",
    "* Domandiamo quante persone sono nate il 23 maggio  e una persona alza la mano.\n",
    "* Domandiamo quante persone sono nate il 01 agosto e nessuno alza la mano. \n",
    "\n",
    "Quante persono sono nella stanza? \n",
    "Quale è la probabilità che nella stanza ci siano più di 1200 persone.\n",
    "Suggerimento ricorda la distribuzione binomiale."
   ]
  },
  {
   "cell_type": "code",
   "execution_count": 22,
   "id": "17c84255",
   "metadata": {},
   "outputs": [
    {
     "data": {
      "text/plain": [
       "200"
      ]
     },
     "execution_count": 22,
     "metadata": {},
     "output_type": "execute_result"
    }
   ],
   "source": [
    "# creaiamo una distribuzione uniforme da 1 a 2500\n",
    "\n",
    "max_audience = 2000\n",
    "\n",
    "hypos = np.arange(1, max_audience, 10)\n",
    "prior = Pmf(1, hypos)\n",
    "prior.normalize()\n"
   ]
  },
  {
   "cell_type": "code",
   "execution_count": 23,
   "id": "5068bc7a",
   "metadata": {},
   "outputs": [],
   "source": [
    "# Soluzione\n",
    "\n",
    "# Possiamo usare la distribuzione binomiale per calcolare la probabilità\n",
    "# dei dati per ogni ipotetica dimensione della audience\n",
    "\n",
    "from scipy.stats import binom\n",
    "\n",
    "likelihood1 = binom.pmf(2, hypos, 1/365)\n",
    "likelihood2 = binom.pmf(1, hypos, 1/365)\n",
    "likelihood3 = binom.pmf(0, hypos, 1/365)"
   ]
  },
  {
   "cell_type": "code",
   "execution_count": 24,
   "id": "e5a24c9b",
   "metadata": {},
   "outputs": [
    {
     "data": {
      "text/plain": [
       "0.006758799800451577"
      ]
     },
     "execution_count": 24,
     "metadata": {},
     "output_type": "execute_result"
    }
   ],
   "source": [
    "# eseguiamo l'aggiornamento e normalizziamo il risultato\n",
    "\n",
    "posterior = prior * likelihood1 * likelihood2 * likelihood3\n",
    "posterior.normalize()"
   ]
  },
  {
   "cell_type": "code",
   "execution_count": 25,
   "id": "5b0729c9",
   "metadata": {},
   "outputs": [
    {
     "data": {
      "image/png": "[encoded data removed]",
      "text/plain": [
       "<Figure size 432x288 with 1 Axes>"
      ]
     },
     "metadata": {
      "needs_background": "light"
     },
     "output_type": "display_data"
    }
   ],
   "source": [
    "# Visualizziamo la distribuzione dell'odiences\n",
    "\n",
    "posterior.plot(color='C4', label='posterior')\n",
    "decorate(xlabel='Number of people in the audience',\n",
    "         ylabel='PMF')"
   ]
  },
  {
   "cell_type": "code",
   "execution_count": 26,
   "id": "ca3525c4",
   "metadata": {},
   "outputs": [
    {
     "data": {
      "text/plain": [
       "361"
      ]
     },
     "execution_count": 26,
     "metadata": {},
     "output_type": "execute_result"
    }
   ],
   "source": [
    "posterior.max_prob()"
   ]
  },
  {
   "cell_type": "code",
   "execution_count": 27,
   "id": "cadca505",
   "metadata": {},
   "outputs": [
    {
     "data": {
      "text/plain": [
       "486.22551616872977"
      ]
     },
     "execution_count": 27,
     "metadata": {},
     "output_type": "execute_result"
    }
   ],
   "source": [
    "posterior.mean()"
   ]
  },
  {
   "cell_type": "code",
   "execution_count": 28,
   "id": "8599905a",
   "metadata": {},
   "outputs": [
    {
     "data": {
      "text/plain": [
       "array([171., 941.])"
      ]
     },
     "execution_count": 28,
     "metadata": {},
     "output_type": "execute_result"
    }
   ],
   "source": [
    "posterior.credible_interval(0.9)"
   ]
  },
  {
   "cell_type": "code",
   "execution_count": 29,
   "id": "12bb4bda",
   "metadata": {},
   "outputs": [
    {
     "data": {
      "text/plain": [
       "0.011543092507705329"
      ]
     },
     "execution_count": 29,
     "metadata": {},
     "output_type": "execute_result"
    }
   ],
   "source": [
    "posterior.gt_dist(1200)"
   ]
  },
  {
   "cell_type": "markdown",
   "id": "345c5124",
   "metadata": {},
   "source": [
    "**Esercizio:** Vedo spesso dei conigli nel giardino dietro a casa mia, ma non è facile isolarli, di conseguenza non puoi conoscere quanti ce ne siano.\n",
    "\n",
    "Supponiamo di sviluppare una fototrappola che fotografa il primo coniglio che vede ogni giorno. Dopo tre giorni comapriamo le fotografie e concludiamo che due di esse sono lo stesso coniglio e gli altri sono differenti.\n",
    "\n",
    "Quanti conigli visitano il mio giardino?\n",
    "\n",
    "Per rispondere alla domanda, dobbiamo pensare alla distribuzione a priori e alla verosomiglianza dei dati:\n",
    "\n",
    "* ho visto qualche volta quattro conigli allo stesso tempo, dunque ce ne sono almeno quel numero. Sarei sorpreso se ce ne fossero più di 10. Dunque come punto di partenza pensiamo che una distribuzione a priori da 4 a 10 sia ragionevole.\n",
    "\n",
    "* Per farla semplice, assumiamo che tutti i conigli che visitano il mio giardino abbiano la stessa probabilità di essere catturati ogni giorno. Assumiamo anche che la fototrappola ottenga una foto al giorno."
   ]
  },
  {
   "cell_type": "code",
   "execution_count": 30,
   "id": "9bcd1ecd",
   "metadata": {},
   "outputs": [
    {
     "data": {
      "text/html": [
       "<div>\n",
       "<style scoped>\n",
       "    .dataframe tbody tr th:only-of-type {\n",
       "        vertical-align: middle;\n",
       "    }\n",
       "\n",
       "    .dataframe tbody tr th {\n",
       "        vertical-align: top;\n",
       "    }\n",
       "\n",
       "    .dataframe thead th {\n",
       "        text-align: right;\n",
       "    }\n",
       "</style>\n",
       "<table border=\"1\" class=\"dataframe\">\n",
       "  <thead>\n",
       "    <tr style=\"text-align: right;\">\n",
       "      <th></th>\n",
       "      <th>probs</th>\n",
       "    </tr>\n",
       "  </thead>\n",
       "  <tbody>\n",
       "    <tr>\n",
       "      <th>4</th>\n",
       "      <td>1</td>\n",
       "    </tr>\n",
       "    <tr>\n",
       "      <th>5</th>\n",
       "      <td>1</td>\n",
       "    </tr>\n",
       "    <tr>\n",
       "      <th>6</th>\n",
       "      <td>1</td>\n",
       "    </tr>\n",
       "    <tr>\n",
       "      <th>7</th>\n",
       "      <td>1</td>\n",
       "    </tr>\n",
       "    <tr>\n",
       "      <th>8</th>\n",
       "      <td>1</td>\n",
       "    </tr>\n",
       "    <tr>\n",
       "      <th>9</th>\n",
       "      <td>1</td>\n",
       "    </tr>\n",
       "    <tr>\n",
       "      <th>10</th>\n",
       "      <td>1</td>\n",
       "    </tr>\n",
       "  </tbody>\n",
       "</table>\n",
       "</div>"
      ],
      "text/plain": [
       "4     1\n",
       "5     1\n",
       "6     1\n",
       "7     1\n",
       "8     1\n",
       "9     1\n",
       "10    1\n",
       "Name: , dtype: int64"
      ]
     },
     "execution_count": 30,
     "metadata": {},
     "output_type": "execute_result"
    }
   ],
   "source": [
    "hypos = np.arange(4, 11)\n",
    "prior = Pmf(1, hypos)\n",
    "prior"
   ]
  },
  {
   "cell_type": "code",
   "execution_count": 31,
   "id": "40973703",
   "metadata": {},
   "outputs": [],
   "source": [
    "N = hypos\n",
    "likelihood = (N-1) / N**2"
   ]
  },
  {
   "cell_type": "code",
   "execution_count": 32,
   "id": "1c8869e5",
   "metadata": {},
   "outputs": [
    {
     "data": {
      "image/png": "[encoded data removed]",
      "text/plain": [
       "<Figure size 432x288 with 1 Axes>"
      ]
     },
     "metadata": {
      "needs_background": "light"
     },
     "output_type": "display_data"
    }
   ],
   "source": [
    "posterior = prior * likelihood\n",
    "posterior.normalize()\n",
    "\n",
    "posterior.bar(alpha=0.7)\n",
    "decorate(xlabel='Number of rabbits',\n",
    "         ylabel='PMF',\n",
    "         title='The Rabbit Problem')"
   ]
  },
  {
   "cell_type": "code",
   "execution_count": 33,
   "id": "a5d4b540",
   "metadata": {},
   "outputs": [
    {
     "data": {
      "text/plain": [
       "6.509929813748172"
      ]
     },
     "execution_count": 33,
     "metadata": {},
     "output_type": "execute_result"
    }
   ],
   "source": [
    "posterior.mean()"
   ]
  },
  {
   "cell_type": "code",
   "execution_count": null,
   "id": "e3c83b1b",
   "metadata": {},
   "outputs": [],
   "source": []
  },
  {
   "cell_type": "code",
   "execution_count": null,
   "id": "fa3a52a7",
   "metadata": {},
   "outputs": [],
   "source": []
  }
 ],
 "metadata": {
  "kernelspec": {
   "display_name": "Python 3 (ipykernel)",
   "language": "python",
   "name": "python3"
  },
  "language_info": {
   "codemirror_mode": {
    "name": "ipython",
    "version": 3
   },
   "file_extension": ".py",
   "mimetype": "text/x-python",
   "name": "python",
   "nbconvert_exporter": "python",
   "pygments_lexer": "ipython3",
   "version": "3.9.7"
  }
 },
 "nbformat": 4,
 "nbformat_minor": 5
}
