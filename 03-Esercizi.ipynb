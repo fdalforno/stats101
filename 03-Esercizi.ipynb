{
 "cells": [
  {
   "cell_type": "markdown",
   "id": "6b648aea",
   "metadata": {},
   "source": [
    "## Esercizi"
   ]
  },
  {
   "cell_type": "code",
   "execution_count": 1,
   "id": "1d04a42e",
   "metadata": {},
   "outputs": [],
   "source": [
    "from utils import readFemResp\n",
    "\n",
    "resp = readFemResp()"
   ]
  },
  {
   "cell_type": "code",
   "execution_count": 22,
   "id": "50eac1d2",
   "metadata": {},
   "outputs": [],
   "source": [
    "numChild  = resp['numkdhh'].value_counts(normalize=True).sort_index()"
   ]
  },
  {
   "cell_type": "code",
   "execution_count": 23,
   "id": "72400d4f",
   "metadata": {},
   "outputs": [
    {
     "data": {
      "text/plain": [
       "0    0.466178\n",
       "1    0.214052\n",
       "2    0.196258\n",
       "3    0.087139\n",
       "4    0.025644\n",
       "5    0.010729\n",
       "Name: numkdhh, dtype: float64"
      ]
     },
     "execution_count": 23,
     "metadata": {},
     "output_type": "execute_result"
    }
   ],
   "source": [
    "numChild"
   ]
  },
  {
   "cell_type": "code",
   "execution_count": 24,
   "id": "90679221",
   "metadata": {},
   "outputs": [
    {
     "data": {
      "text/plain": [
       "1.024205155043831"
      ]
     },
     "execution_count": 24,
     "metadata": {},
     "output_type": "execute_result"
    }
   ],
   "source": [
    "resp['numkdhh'].mean()"
   ]
  },
  {
   "cell_type": "code",
   "execution_count": 25,
   "id": "05f5f22e",
   "metadata": {},
   "outputs": [
    {
     "data": {
      "text/plain": [
       "<matplotlib.legend.Legend at 0x11fa3e56670>"
      ]
     },
     "execution_count": 25,
     "metadata": {},
     "output_type": "execute_result"
    },
    {
     "data": {
      "image/png": "[encoded data removed]",
      "text/plain": [
       "<Figure size 432x288 with 1 Axes>"
      ]
     },
     "metadata": {
      "needs_background": "light"
     },
     "output_type": "display_data"
    }
   ],
   "source": [
    "import matplotlib.pyplot as plt\n",
    "import numpy as np\n",
    "\n",
    "fig, ax = plt.subplots()\n",
    "ax.bar(numChild.index, numChild.values, label='actual')\n",
    "\n",
    "ax.set_ylabel('PMF')\n",
    "ax.set_xlabel('Class Size')\n",
    "\n",
    "\n",
    "plt.xticks(numChild.index, numChild.index)\n",
    "\n",
    "ax.legend()"
   ]
  },
  {
   "cell_type": "code",
   "execution_count": 28,
   "id": "f4c929a0",
   "metadata": {},
   "outputs": [],
   "source": [
    "def calcBias(serie):\n",
    "    biased = serie.copy()\n",
    "    for index, value in biased.items():\n",
    "        value = value * index\n",
    "        biased.loc[index] = value\n",
    "        \n",
    "    tot = biased.values.sum()\n",
    "    biased = biased / tot\n",
    "    \n",
    "    return biased\n",
    "    \n",
    "    \n",
    "\n",
    "biased = calcBias(numChild)      "
   ]
  },
  {
   "cell_type": "code",
   "execution_count": 30,
   "id": "ecf23f34",
   "metadata": {},
   "outputs": [
    {
     "data": {
      "text/plain": [
       "<matplotlib.legend.Legend at 0x11fa1772d30>"
      ]
     },
     "execution_count": 30,
     "metadata": {},
     "output_type": "execute_result"
    },
    {
     "data": {
      "image/png": "[encoded data removed]",
      "text/plain": [
       "<Figure size 432x288 with 1 Axes>"
      ]
     },
     "metadata": {
      "needs_background": "light"
     },
     "output_type": "display_data"
    }
   ],
   "source": [
    "fig, ax = plt.subplots()\n",
    "width = 0.4\n",
    "ax.bar(numChild.index, numChild.values, width, label='actual')\n",
    "ax.bar(biased.index + 0.5, biased.values, width, label='biaed')\n",
    "ax.set_ylabel('PMF')\n",
    "ax.set_xlabel('Class Size')\n",
    "\n",
    "\n",
    "plt.xticks(numChild.index, numChild.index)\n",
    "\n",
    "ax.legend()"
   ]
  },
  {
   "cell_type": "code",
   "execution_count": 32,
   "id": "9ff1f046",
   "metadata": {},
   "outputs": [
    {
     "name": "stdout",
     "output_type": "stream",
     "text": [
      "mean 1.02\n"
     ]
    }
   ],
   "source": [
    "print(\"mean {0:.2f}\".format(sum(p * x for x, p in numChild.items())))"
   ]
  },
  {
   "cell_type": "code",
   "execution_count": 33,
   "id": "f24eaf6c",
   "metadata": {},
   "outputs": [
    {
     "name": "stdout",
     "output_type": "stream",
     "text": [
      "mean 2.40\n"
     ]
    }
   ],
   "source": [
    "print(\"mean {0:.2f}\".format(sum(p * x for x, p in biased.items())))"
   ]
  },
  {
   "cell_type": "code",
   "execution_count": null,
   "id": "142b7c8d",
   "metadata": {},
   "outputs": [],
   "source": []
  }
 ],
 "metadata": {
  "kernelspec": {
   "display_name": "Python 3",
   "language": "python",
   "name": "python3"
  },
  "language_info": {
   "codemirror_mode": {
    "name": "ipython",
    "version": 3
   },
   "file_extension": ".py",
   "mimetype": "text/x-python",
   "name": "python",
   "nbconvert_exporter": "python",
   "pygments_lexer": "ipython3",
   "version": "3.8.8"
  }
 },
 "nbformat": 4,
 "nbformat_minor": 5
}
