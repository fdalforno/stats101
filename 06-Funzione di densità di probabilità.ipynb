{
 "cells": [
  {
   "cell_type": "markdown",
   "id": "ec2c9bdf",
   "metadata": {},
   "source": [
    "# Funzione di densità di probabilità\n",
    "\n",
    "La derivata di una funzione di ripartizione di una distribuzione analitica è chiamata funzione di densità di probabilità (PDF).\n",
    "Per esempio la funzione PDF di una distribuzione esponenziale si può scrivere:\n",
    "\n",
    "$$PDF_{expo}(x)=\\lambda e^{-\\lambda x}$$\n",
    "\n",
    "La funzione PDF di una distribuzione normale si scrive:\n",
    "\n",
    "$$PDF_{normal}(x)= \\frac{1}{\\sigma\\sqrt{2\\pi}} \n",
    "  \\exp\\left( -\\frac{1}{2}\\left(\\frac{x-\\mu}{\\sigma}\\right)^{\\!2}\\,\\right)$$\n",
    "  \n",
    "Valutare la funzione per un particolare valore di x di solito non è utile. Il risultato non è una probabilità ma una **densità** di probabilità.\n",
    "\n",
    "In fisica, la densità è la massa per unità di volume, per ottenere la massa dobbiamo moltiplicare per il volume. Mentre se la densità non è costante dobbiamo integrare sul volume.\n",
    "\n",
    "Similmente la **densità di probabilità** misura la probabilità per unità di x. Per ottenere la probabilità dobbiamo integrare su x.\n",
    "\n",
    "## Stima kernel di densità\n",
    "\n",
    "La stima kernel di densità (KDE) è un algoritmo che prende un campione e trova una curva pdf che approssima i dati, `scipy` ci dà una implementazione dell'algoritmo vediamo come usarla:"
   ]
  },
  {
   "cell_type": "code",
   "execution_count": 1,
   "id": "4fa4e341",
   "metadata": {},
   "outputs": [],
   "source": [
    "%matplotlib inline\n",
    "import matplotlib.pyplot as plt\n",
    "import numpy as np\n",
    "from scipy.stats import gaussian_kde\n",
    "\n",
    "def make_data(N, f=0.3, rseed=1):\n",
    "    rand = np.random.RandomState(rseed)\n",
    "    x = rand.randn(N)\n",
    "    return x\n",
    "\n",
    "x = make_data(1000)"
   ]
  },
  {
   "cell_type": "code",
   "execution_count": 2,
   "id": "63e061e7",
   "metadata": {},
   "outputs": [
    {
     "data": {
      "image/png": "[encoded data removed]",
      "text/plain": [
       "<Figure size 432x288 with 1 Axes>"
      ]
     },
     "metadata": {
      "needs_background": "light"
     },
     "output_type": "display_data"
    }
   ],
   "source": [
    "hist = plt.hist(x, bins=30, density=True)"
   ]
  },
  {
   "cell_type": "code",
   "execution_count": 3,
   "id": "b25a4e0b",
   "metadata": {},
   "outputs": [],
   "source": [
    "kde = gaussian_kde(x)"
   ]
  },
  {
   "cell_type": "code",
   "execution_count": 4,
   "id": "1345a2d7",
   "metadata": {},
   "outputs": [
    {
     "name": "stdout",
     "output_type": "stream",
     "text": [
      "Density at point 0.50 is 0.36\n"
     ]
    }
   ],
   "source": [
    "point = 0.5\n",
    "density = kde.evaluate(point)\n",
    "print(\"Density at point {0:.2f} is {1:.2f}\".format(point,density[0]))\n"
   ]
  },
  {
   "cell_type": "code",
   "execution_count": 5,
   "id": "3b99f243",
   "metadata": {},
   "outputs": [],
   "source": [
    "gx = np.linspace(-4, 4, 100)\n",
    "gy = kde(gx)"
   ]
  },
  {
   "cell_type": "code",
   "execution_count": 6,
   "id": "a8e5664d",
   "metadata": {},
   "outputs": [
    {
     "data": {
      "text/plain": [
       "[<matplotlib.lines.Line2D at 0x273716d3a90>]"
      ]
     },
     "execution_count": 6,
     "metadata": {},
     "output_type": "execute_result"
    },
    {
     "data": {
      "image/png": "[encoded data removed]",
      "text/plain": [
       "<Figure size 432x288 with 1 Axes>"
      ]
     },
     "metadata": {
      "needs_background": "light"
     },
     "output_type": "display_data"
    }
   ],
   "source": [
    "plt.hist(x, bins=30, density=True)\n",
    "plt.plot(gx,gy)"
   ]
  },
  {
   "cell_type": "markdown",
   "id": "77f7c7ad",
   "metadata": {},
   "source": [
    "La figura qui sopra mostra un esempio di distribuzione normale e la sua approssimazione basata sull'algoritmo KDE.\n",
    "Stimare la funzione di densità con l'algoritmo KDE può essere utile per i seguenti scopi:\n",
    "\n",
    "* **Visualizzazione** durante la fase di esplorazione in un progetto la funzione di ripartizione è tipicamente la miglior visualizzazione di una distribuzione. Dopo aver controlla si può decidere quale funzione di probabilità approssima meglio i dati. Si può usare questa funzione per presentare il dato ad un pubblico meno familiare con la funzione di ripartizione.\n",
    "\n",
    "* **Interpolazione** La funzione di densità stimata è un modo per ottenere un campione di un modello di una popolazione. Se hai ragione di credere che la distribuzione di una popolazione è regolare, possiamo usare il metodo KDE per estrapolare i valori di densità che non appaiono nel campione.\n",
    "\n",
    "* **Simulazione** La simulazione è spesso basata sulla distribuzione di campioni. Se la dimensione di un campione è piccola, potrebbe essere appropriato usare la funzione kde la quale permette di esplorare piu risultati possibili, piuttosto che replicare i dati osservati.\n",
    "\n",
    "## Le relazioni tra i vari tipi di funzione\n",
    "\n",
    "A questo punto abbiamo visto le seguenti funzioni PMF,CDF e PDF prendiamoci un minuto per vedere le relazioni che intercorrono tra loro.\n",
    "Siamo partiti con la funzione di probabilità (PMF) che rappresenta le probabilità per un insieme discreto di valori.\n",
    "Da li siamo andati verso la funzione (CDF) funzione di ripartizione eseguendo una sommatoria.\n",
    "Per tornare indietro da CDF a PMF basta eseguire l'operazione contraria.\n",
    "\n",
    "La funzione PDF rappresenta la derivata della funzione CDF continua ed ovviamente possiamo ritornare alla stessa mediante integrando la stessa.\n",
    "\n",
    "Per trasformare una distribuzione discreta in una continua si possono eseguire differenti tipi di \"lisciamento\" smoothing.\n",
    "Un tipo di smoothing è quello di assumere che i dati provengano da una distribuzione continua (tipo quella esponenziale o quella normale) e stimare i parametri, un'altra opzione è quella del KDE visto prima.\n",
    "\n",
    "L'opposto dello smoothing e quello della discretizzazione o quantizzazione.\n",
    "Se portiamo una funzione pdf tramite la discretizzazione in una funzione pmf possiamo calcolare facilmente l'integrale ed avere una approssimazione numerica.\n",
    "\n",
    "<img src=\"./images/framework.png\"/>\n",
    "\n",
    "## Momenti\n",
    "\n",
    "Ogni volta che si prende un campione e lo si riduce ad un numero si sta facendo statistica.\n",
    "Le statistiche che abbiamo visto fino ad ora sono la media, la varianza, la mediana e lo scarto interquantile.\n",
    "\n",
    "Il momento è un ulteriore tipo di statistica, se si ha un campione di valori $x_p$ il $k$esimo momento è dato dalla formula.\n",
    "\n",
    "$$m_k = \\frac{1}{n}\\sum_{i}x_{i}^{k}$$\n",
    "\n",
    "per k=1 abbiamo la media, gli altri momenti non hanno molto significato ma sono usati in alcuni algoritmi.\n",
    "\n",
    "Scriviamo questa formula in pyhton"
   ]
  },
  {
   "cell_type": "code",
   "execution_count": 7,
   "id": "4039c042",
   "metadata": {},
   "outputs": [
    {
     "data": {
      "text/plain": [
       "7.5"
      ]
     },
     "execution_count": 7,
     "metadata": {},
     "output_type": "execute_result"
    }
   ],
   "source": [
    "def rawmoment(xs,k):\n",
    "    return sum(x**k for x in xs) / len(xs)\n",
    "\n",
    "rawmoment([1,2,3,4],2)"
   ]
  },
  {
   "cell_type": "markdown",
   "id": "6d1d6caf",
   "metadata": {},
   "source": [
    "il momento centrale risulta più utile, il $k$esimo momento centrale\n",
    "\n",
    "$$m_k = \\frac{1}{n}\\sum_{i}\\left(x_{i} - \\overline{x}\\right)^{k}$$\n",
    "\n",
    "espresso in pyhton"
   ]
  },
  {
   "cell_type": "code",
   "execution_count": 8,
   "id": "5b9adb56",
   "metadata": {},
   "outputs": [
    {
     "data": {
      "text/plain": [
       "1.25"
      ]
     },
     "execution_count": 8,
     "metadata": {},
     "output_type": "execute_result"
    }
   ],
   "source": [
    "def centralmoment(xs,k):\n",
    "    mean = rawmoment(xs,1)\n",
    "    return sum((x-mean)**k for x in xs) / len(xs)\n",
    "\n",
    "centralmoment([1,2,3,4],2)"
   ]
  },
  {
   "cell_type": "markdown",
   "id": "e560b008",
   "metadata": {},
   "source": [
    "Per k=2 abbiamo di fronte il concetto di varianza. La definizione di varianza ci da un suggerimento sul perchè questa misura viene chiamata momento. Se attaccassimo un peso ad ogni posizione $x_i$ e poi ruotassimo il righello attorno alla media, il momento di inerzia dei pesi rotanti è la varianza dei valori.\n",
    "\n",
    "Quando si usano i momenti nella statistica è importante ricordare l'unità di misura di partenza. Se partiamo dai $cm$ il primo momento sarà misurato in $cm$, il secondo in $cm^2$ e così via\n",
    "\n",
    "Questa misura però è difficile da comprendere ed è per questo che si usa la deviazione standard che rappresenta la radice quadrata della varianza.\n",
    "\n",
    "## Simmetria\n",
    "\n",
    "La simmetria è una proprietà che descrive la figura della distribuzione. Se ad esempio i valori tendono ad allungarsi verso destra si dice che la distribuzione e asimmetrica verso destra altrimenti se la distribuzione a asimmetrica verso sinistra si dirà che la distribuzione a asimmetrica verso sinistra.\n",
    "\n",
    "Ci sono molti metodi per quantificare la simmetria di una distribuzione. Data una sequenza di valori $x_i$ l'assimetria del campione $g_1$ può essere calcolata come segue."
   ]
  },
  {
   "cell_type": "code",
   "execution_count": 9,
   "id": "b1584a45",
   "metadata": {},
   "outputs": [
    {
     "data": {
      "text/plain": [
       "-0.649519052838329"
      ]
     },
     "execution_count": 9,
     "metadata": {},
     "output_type": "execute_result"
    }
   ],
   "source": [
    "import math\n",
    "def standardizedMoment(xs,k):\n",
    "    var = centralmoment(xs,2)\n",
    "    std = math.sqrt(var)\n",
    "    return centralmoment(xs,k) / std**k\n",
    "    \n",
    "def skewness(xs):\n",
    "    return standardizedMoment(xs,3)\n",
    "\n",
    "skewness([1,2,3,4,4,4])"
   ]
  },
  {
   "cell_type": "markdown",
   "id": "9669dc1e",
   "metadata": {},
   "source": [
    "in valore negativo indica una assimmetria verso sinistra mentre in valore positivo una verso destra, la grandezza del valore indica quanto quanto la distribuzione è asimmetrica.\n",
    "\n",
    "In pratica calcolare la simmetria non è tipicamente una buona idea, in quanto se avessimo dei outliers la misura sarebbe fortemente farsata.\n",
    "\n",
    "Un altro modo per valutare la simmetria di una distribuzione è quello di guardare la relazione tra la media e la mediana. I valori estremi hanno più effetto sulla media che sulla mediana, dunque una distribuzione asimmetrica verso sinistra la media sarà più piccola della mediana.\n",
    "\n",
    "## Indice di Pearson\n",
    "\n",
    "L'indice di Pearson è una misura della asimmetria basata sulla differenza la media e la mediana.\n",
    "La formula è la seguente:\n",
    "$$g_p = 3 \\frac{ \\overline{x} - m }{\\sigma}$$\n",
    "\n",
    "espresso in pyhton"
   ]
  },
  {
   "cell_type": "code",
   "execution_count": 10,
   "id": "05ba0d75",
   "metadata": {},
   "outputs": [
    {
     "data": {
      "text/plain": [
       "-1.1858541225631423"
      ]
     },
     "execution_count": 10,
     "metadata": {},
     "output_type": "execute_result"
    }
   ],
   "source": [
    "import statistics\n",
    "\n",
    "def pearsonmedianskewness(xs):\n",
    "    median = statistics.median(xs)\n",
    "    mean = statistics.mean(xs)\n",
    "    std = statistics.stdev(xs)\n",
    "    \n",
    "    gp = 3 * (mean - median) / std\n",
    "    return gp\n",
    "\n",
    "pearsonmedianskewness([1,2,3,4,4,4])"
   ]
  },
  {
   "cell_type": "code",
   "execution_count": null,
   "id": "7ce54d2a",
   "metadata": {},
   "outputs": [],
   "source": []
  }
 ],
 "metadata": {
  "kernelspec": {
   "display_name": "Python 3 (ipykernel)",
   "language": "python",
   "name": "python3"
  },
  "language_info": {
   "codemirror_mode": {
    "name": "ipython",
    "version": 3
   },
   "file_extension": ".py",
   "mimetype": "text/x-python",
   "name": "python",
   "nbconvert_exporter": "python",
   "pygments_lexer": "ipython3",
   "version": "3.8.12"
  }
 },
 "nbformat": 4,
 "nbformat_minor": 5
}
