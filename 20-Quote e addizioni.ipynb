{
 "cells": [
  {
   "cell_type": "code",
   "execution_count": 1,
   "id": "011d3dfa",
   "metadata": {},
   "outputs": [],
   "source": [
    "from utils import set_pyplot_params\n",
    "set_pyplot_params()"
   ]
  },
  {
   "cell_type": "markdown",
   "id": "82d34757",
   "metadata": {},
   "source": [
    "# Quote e addizioni\n",
    "\n",
    "Questo capitolo prensenta un nuovo modo di rappresentare un grado di incertezza, quote e una nuova forma del teorema di Bayes chiamata regola di bayes. La regola di bayes è conveniente se vuoi l'aggiornamento di bayes sulla carta a mano. \n",
    "\n",
    "La seconda parte di questo capitolo è relativa agli \"addendi\", quantità aggiunte, e come calcolare le loro distribuzioni.\n",
    "Costruiremo funzioni che calcolano la distribuzione delle somme, differenze, prodotti e altre operazioni. \n",
    "Poi useremo queste distribuzioni come parte dell'aggiornamento Bayesiano.\n",
    "\n",
    "## Quote\n",
    "Un modo per rapprestare una probabilità è con un numero tra 0 e 1, ma questa non è il solo modo.\n",
    "Se hai mai scommesso su una partita di calcio o ad una corsa ai cavalli avrai probabilmente incontrato un'altra rappresentazione di probabilità chiamata **quote**. \n",
    "\n",
    "Avrai certamente sentito l'espressione tièp \"le quote sono tree a uno\", ma potresti non sapere cosa significhi.\n",
    "Le **quote a favore** di un evento sono il rapporto di una probabilità, che occorre con la probabilità positive e negative.\n",
    "\n",
    "Qui la funzione per effettuare il calcolo:"
   ]
  },
  {
   "cell_type": "code",
   "execution_count": 2,
   "id": "429d8847",
   "metadata": {},
   "outputs": [],
   "source": [
    "def odds(p):\n",
    "    return p / (1-p)"
   ]
  },
  {
   "cell_type": "markdown",
   "id": "fe59016d",
   "metadata": {},
   "source": [
    "Per esempio, se la mia squadra ha il 75% di probabilità di vincere, le quote in favore saranno tre a uno, perchè le possibilità di vincere sono tre volte superiori alle possibilità di perdere."
   ]
  },
  {
   "cell_type": "code",
   "execution_count": 3,
   "id": "0f143462",
   "metadata": {},
   "outputs": [
    {
     "data": {
      "text/plain": [
       "3.0"
      ]
     },
     "execution_count": 3,
     "metadata": {},
     "output_type": "execute_result"
    }
   ],
   "source": [
    "odds(0.75)"
   ]
  },
  {
   "cell_type": "markdown",
   "id": "cf54332c",
   "metadata": {},
   "source": [
    "Possiamo scrivere le quote in forme decimale ma è anche comune scriverle come un rapporto tra interi.\n",
    "Dunque \"tre a uno\" è spesso scritto come $3:1$\n",
    "\n",
    "Quando le probabilità sono basse è più facile scrivere questo come **quote a sfavore** piuttosto che come quote a favore.\n",
    "Per esempio se il mio cavallo ha il 10% di possibilità di vittoria la quota a favore è $1:9$."
   ]
  },
  {
   "cell_type": "code",
   "execution_count": 4,
   "id": "fecab9cb",
   "metadata": {},
   "outputs": [
    {
     "data": {
      "text/plain": [
       "0.11111111111111112"
      ]
     },
     "execution_count": 4,
     "metadata": {},
     "output_type": "execute_result"
    }
   ],
   "source": [
    "odds(0.1)"
   ]
  },
  {
   "cell_type": "markdown",
   "id": "19f28232",
   "metadata": {},
   "source": [
    "Ma nel caso sarebbe più facile usare le quote a sfavore che sono $9:1$."
   ]
  },
  {
   "cell_type": "code",
   "execution_count": 5,
   "id": "467e0d7c",
   "metadata": {},
   "outputs": [
    {
     "data": {
      "text/plain": [
       "9.000000000000002"
      ]
     },
     "execution_count": 5,
     "metadata": {},
     "output_type": "execute_result"
    }
   ],
   "source": [
    "odds(0.9)"
   ]
  },
  {
   "cell_type": "markdown",
   "id": "8bde1341",
   "metadata": {},
   "source": [
    "Date le quote a favore, nella forma decimale possiamo convertila in probabilità come:"
   ]
  },
  {
   "cell_type": "code",
   "execution_count": 6,
   "id": "bd89b150",
   "metadata": {},
   "outputs": [],
   "source": [
    "def prob(o):\n",
    "    return o / (o+1)"
   ]
  },
  {
   "cell_type": "markdown",
   "id": "a5fca6a9",
   "metadata": {},
   "source": [
    "Se per esempio abbiamo una quota pari a $3:2$ la corrispondente probabilità sarà:"
   ]
  },
  {
   "cell_type": "code",
   "execution_count": 7,
   "id": "bc7bb9bd",
   "metadata": {},
   "outputs": [
    {
     "data": {
      "text/plain": [
       "0.6"
      ]
     },
     "execution_count": 7,
     "metadata": {},
     "output_type": "execute_result"
    }
   ],
   "source": [
    "prob(3/2)"
   ]
  },
  {
   "cell_type": "markdown",
   "id": "0f7f51d6",
   "metadata": {},
   "source": [
    "Oppure se presentiamo le quote con un numeratore e denominatore, possiamo convertire le probabilità in questo modo:"
   ]
  },
  {
   "cell_type": "code",
   "execution_count": 8,
   "id": "536589f3",
   "metadata": {},
   "outputs": [],
   "source": [
    "def prob2(yes, no):\n",
    "    return yes / (yes + no)"
   ]
  },
  {
   "cell_type": "code",
   "execution_count": 9,
   "id": "33dccf03",
   "metadata": {},
   "outputs": [
    {
     "data": {
      "text/plain": [
       "0.75"
      ]
     },
     "execution_count": 9,
     "metadata": {},
     "output_type": "execute_result"
    }
   ],
   "source": [
    "prob2(3, 1)"
   ]
  },
  {
   "cell_type": "markdown",
   "id": "600c7398",
   "metadata": {},
   "source": [
    "Probabilità e quote sono rappresentazioni differenti della stessa informazione; data una rappresentazione possiamo calcolare l'altra.\n",
    "\n",
    "Ma alcuni calcoli sono semplici quando lavoriamo con le quote, come vedremo nella prossima sezione e alcuni calcoli sono ancora più semplici con le quote logaritmiche, come vedremo in seguito.\n",
    "\n",
    "## Regola di Bayes\n",
    "\n",
    "Abbiamo lavorato con il teorema di bayes nella forma probabilistica:\n",
    "\n",
    "$$P(H|D) = \\frac{P(H)~P(D|H)}{P(D)}$$\n",
    "\n",
    "Scrivendo $\\mathrm{odds}(A)$ per le quote in favore di $A$, possiamo esprimere il teorema di bayes nella forma delle quote:\n",
    "\n",
    "$$\\mathrm{odds}(A|D) = \\mathrm{odds}(A)~\\frac{P(D|A)}{P(D|B)}$$\n",
    "\n",
    "Questa è la regola di Bayes, che ci dice che la quota a posteriori è la quota a priori moltiplicato per il rapporto della verosomiglianza.\n",
    "\n",
    "La regola di Bayes è conveniente per calcolare l'aggiornamento Bayesiano su carta o a mente. Per esempio torniamo sul problema dei biscotti:\n",
    "\n",
    "> Supponiamo di avere due ciotole di biscotti. La ciotola 1 contiene 30 biscotti alla vaniglia e 10 al cioccoloato. La ciotola 2 contiene 20 di ciascuno. Supponiamo di scegliere una ciotola a caso e senza guardare di prendere un biscotto.\n",
    "Il biscotto è alla vaniglia. Qual è la probabilità che venga dalla ciotola 1?\n",
    "\n",
    "La probabilità a priori è del 50%, dunque la quota a priori è 1. Il rapporto della verosomiglianza è \n",
    "\n",
    "$$\\frac{3}{4} / \\frac{1}{2}$$\n",
    "\n",
    "\n",
    "Dunque le quote a posteriori darà come risultato $3/2$ che corrisponde alla probabilità di $3/5$."
   ]
  },
  {
   "cell_type": "code",
   "execution_count": 10,
   "id": "337f2425",
   "metadata": {},
   "outputs": [
    {
     "data": {
      "text/plain": [
       "1.5"
      ]
     },
     "execution_count": 10,
     "metadata": {},
     "output_type": "execute_result"
    }
   ],
   "source": [
    "prior_odds = 1\n",
    "likelihood_ratio = (3/4) / (1/2)\n",
    "post_odds = prior_odds * likelihood_ratio\n",
    "post_odds"
   ]
  },
  {
   "cell_type": "code",
   "execution_count": 11,
   "id": "14f1a4d6",
   "metadata": {},
   "outputs": [
    {
     "data": {
      "text/plain": [
       "0.6"
      ]
     },
     "execution_count": 11,
     "metadata": {},
     "output_type": "execute_result"
    }
   ],
   "source": [
    "post_prob = prob(post_odds)\n",
    "post_prob"
   ]
  },
  {
   "cell_type": "markdown",
   "id": "531fa47d",
   "metadata": {},
   "source": [
    "Se estraiamo un altro biscotto e otteniamo cioccolata possiamo eseguire l'aggiornamento:"
   ]
  },
  {
   "cell_type": "code",
   "execution_count": 12,
   "id": "769ece9d",
   "metadata": {},
   "outputs": [
    {
     "data": {
      "text/plain": [
       "0.75"
      ]
     },
     "execution_count": 12,
     "metadata": {},
     "output_type": "execute_result"
    }
   ],
   "source": [
    "likelihood_ratio = (1/4) / (1/2)\n",
    "post_odds *= likelihood_ratio\n",
    "post_odds"
   ]
  },
  {
   "cell_type": "markdown",
   "id": "9eac6a0c",
   "metadata": {},
   "source": [
    "e lo convertiamo in probabilità otteniamo:"
   ]
  },
  {
   "cell_type": "code",
   "execution_count": 13,
   "id": "f7ecfc82",
   "metadata": {},
   "outputs": [
    {
     "data": {
      "text/plain": [
       "0.42857142857142855"
      ]
     },
     "execution_count": 13,
     "metadata": {},
     "output_type": "execute_result"
    }
   ],
   "source": [
    "post_prob = prob(post_odds)\n",
    "post_prob"
   ]
  },
  {
   "cell_type": "markdown",
   "id": "e63560e1",
   "metadata": {},
   "source": [
    "## Il sangue di Oliver\n",
    "\n",
    "Useremo la regola di bayes per risolvere un'altro problema proposto da MacKay nel libro [*Information Theory, Inference, and Learning Algorithms*](https://www.inference.org.uk/mackay/itila/):\n",
    "\n",
    ">Due persone hanno lasciato tracce del loro sangue sulla scena di un crimine. Un sospettato Oliver viene fermato e si verifica che il suo gruppo sanguinio è '0'. I due gruppi sanguinei trovati nelle tracce sono di tipo '0' (un tipo comune nella popolazione locale, che ha una frequenza del 60%) e un tipo 'AB' (un raro tipo con la frequenza dell 1%). Questi dati \\[le tracce trovate sulla scena\\] danno l'evidenza in favore  della proposta che Oliver fosse una delle persone \\[che hanno lasciato il sangue sulla scena\\]?\n",
    "\n",
    "\n",
    "Per rispondere alla questione, dobbiamo pensare circa il significato dei dati di dare evidenza in favore o contro l'ipotesi.\n",
    "Intuitivamente, possiamo dire che il dato è a favore delle ipotesi se le ipotesi sono più probabili alla luce dei dati rispetto a prima. \n",
    "\n",
    "Nel problema dei biscotti visto prima, le quote a priori sono 1. che corrisponde ad una probabilità del 50%. Le quote a posteriori sono $3/2$, o la probabilità è del 60%. Dunque il biscotto alla vaniglia è una evidenza in favore alla ciotola 1.\n",
    "\n",
    "La regola di Bayes ci da una vita per rendere questa intuizione più precisi. Ancora \n",
    "$$\\mathrm{odds}(A|D) = \\mathrm{odds}(A)~\\frac{P(D|A)}{P(D|B)}$$\n",
    "\n",
    "Dividere per $\\mathrm{odds}(A)$ otteniamo:\n",
    "$$\\frac{\\mathrm{odds}(A|D)}{\\mathrm{odds}(A)} = \\frac{P(D|A)}{P(D|B)}$$\n",
    "\n",
    "Il termine sulla sinistra è il rapporto tra le quote a posteriori e priori. Il termine sulla destra è il rapporto tra le verosomiglianze anche chiamato **Fattore di Bayes**.\n",
    "\n",
    "Se il fattore di Bayes è minore di 1 significa che il dato è meno probabile sotto $A$ piuttosto che sotto $B$, dunque le quote in favore di $A$ scendono.\n",
    "\n",
    "\n",
    "Finalmente, se il fattore di Bayes è esattamente 1 il dato è egualmente probabile sotto ogni ipotesi, dunque la quota non cambia.\n",
    "\n",
    "Applichiamolo al problema appena visto. Se Oliver è una delle persone che ha lasciato il sangue sulla scena del crimine, rappresenta il campione '0', in questo caso la probabilità del dato è la probabilità che un membro della popolazione scelto a caso abbia il tipo ‘AB’ che rappresenta l'1%.\n",
    "\n",
    "Se Oliver non ha lasciato il sangue sulla scena abbiamo due campioni di cui tener conto.\n",
    "\n",
    "Se scegliamo due persone a caso dalla popolazione, qual'è la probabilità di trovarne uan con il tipo '0' e una con il tipo 'AB'?\n",
    "\n",
    "Bene ci sono sue cose che possono accadere:\n",
    "\n",
    "* La prima persona può avere il gruppo '0' e il secondo 'AB',\n",
    "* Oppure la prima persona può avere il gruppo 'AB' e il secondo '0'.\n",
    "\n",
    "La probabilità di entrambe le combinazioni sono $(0.6) (0.01)$, che rappresenta il 0.6%, perciò la probabilità è doppia 1.2%.\n",
    "Quindi i dati sono un pò più probabilit se Oliver *non* è una delle persone che hanno lasciato il sangue sulla scena.\n",
    "\n",
    "Possiamo usare queste probabilità per calcolare il rapporto delle verosomiglianze:"
   ]
  },
  {
   "cell_type": "code",
   "execution_count": 14,
   "id": "a309b572",
   "metadata": {},
   "outputs": [
    {
     "data": {
      "text/plain": [
       "0.8333333333333334"
      ]
     },
     "execution_count": 14,
     "metadata": {},
     "output_type": "execute_result"
    }
   ],
   "source": [
    "like1 = 0.01\n",
    "like2 = 2 * 0.6 * 0.01\n",
    "\n",
    "likelihood_ratio = like1 / like2\n",
    "likelihood_ratio"
   ]
  },
  {
   "cell_type": "markdown",
   "id": "93a28185",
   "metadata": {},
   "source": [
    "Visto che il rapporto delle verosomiglianze è minore di 1, il test del sangue contro le ipotesi contro le opitesi che Oliver abbia lasciato traccie del suo sangue sulla scena.\n",
    "\n",
    "Ma questa è una evidenza debole. Per esempio se il rapporto a priori era 1 (che rappresenta il 50% della probabilità) la probabilità a posteriori sarà 0.83 che corrisponde al 45%:"
   ]
  },
  {
   "cell_type": "code",
   "execution_count": 15,
   "id": "4a2cf6cf",
   "metadata": {},
   "outputs": [
    {
     "data": {
      "text/plain": [
       "0.45454545454545453"
      ]
     },
     "execution_count": 15,
     "metadata": {},
     "output_type": "execute_result"
    }
   ],
   "source": [
    "post_odds = 1 * likelihood_ratio\n",
    "prob(post_odds)"
   ]
  },
  {
   "cell_type": "markdown",
   "id": "92e14c2b",
   "metadata": {},
   "source": [
    "Dunque questa evidenza non muove la bilancia dalla nostra parte.\n",
    "\n",
    "Questo esempio è un pochino forzato, ma ci dimostra che il risultato controintuitivo del dato *consistente* con ipotesi che non sono a *favore* delle ipotesi.\n",
    "\n",
    "Se questo risultato non ti soddisfa, questo modo di pensare potrebbe aiutarti:\n",
    "\n",
    "Il dato consiste in un evento comune gruppo '0' e un raro evento gruppo 'AB'.\n",
    "Se Oliver spiega l'evento comune , questo lascia l'evento raro non spiegato.\n",
    "\n",
    "Se Oliver non spiega il gruppo '0', abbiamo due possibilità di trovare nella popolazione il gruppo 'AB'.\n",
    "E' quel fattore due a fare la differenza.\n",
    "\n",
    "**Esercizio:** Supponiamo che basandosi sulla nostra evidenza, la nostra credenza a priori che Oliver sia colpevole è del 90%.\n",
    "Quanto la nostra evidenza relativa al gruppo sanguineo può cambiare le nostre credenze? Ese inizialmente pensassi che c'è solo il 10% di possibilità che sia colpevole?."
   ]
  },
  {
   "cell_type": "code",
   "execution_count": 16,
   "id": "5a3570cb",
   "metadata": {},
   "outputs": [
    {
     "data": {
      "text/plain": [
       "0.8823529411764706"
      ]
     },
     "execution_count": 16,
     "metadata": {},
     "output_type": "execute_result"
    }
   ],
   "source": [
    "post_odds = odds(0.9) * likelihood_ratio\n",
    "prob(post_odds)"
   ]
  },
  {
   "cell_type": "code",
   "execution_count": 17,
   "id": "73dbde23",
   "metadata": {},
   "outputs": [
    {
     "data": {
      "text/plain": [
       "0.08474576271186442"
      ]
     },
     "execution_count": 17,
     "metadata": {},
     "output_type": "execute_result"
    }
   ],
   "source": [
    "post_odds = odds(0.1) * likelihood_ratio\n",
    "prob(post_odds)"
   ]
  },
  {
   "cell_type": "markdown",
   "id": "cb0a5a4e",
   "metadata": {},
   "source": [
    "# Addizioni\n",
    "\n",
    "La seconda metà di questo capitolo è relativa alle distribuzioni di somme e i risultati di altre operazioni.\n",
    "Partiremo con un problema in cui dati gli input calcoleremo la distribuzione del risultato.\n",
    "Passeremo poi al problema inversom dato l'output calcoleremo la distribuzione degli input.\n",
    "\n",
    "Come primo esempio, supponiamo di lanciare due dadi e di sommare il risultato. Quale sarà la distribuzione della somma?\n",
    "Usiamo la seguente funzione per creare un `Pmf` che rappresenti i possibili risultati dei dadi:"
   ]
  },
  {
   "cell_type": "code",
   "execution_count": 18,
   "id": "f3dbd02b",
   "metadata": {},
   "outputs": [],
   "source": [
    "import numpy as np\n",
    "from distribution import Pmf\n",
    "\n",
    "def make_die(sides):\n",
    "    outcomes = np.arange(1, sides+1)\n",
    "    die = Pmf(1/sides, outcomes)\n",
    "    return die"
   ]
  },
  {
   "cell_type": "markdown",
   "id": "b3afea3d",
   "metadata": {},
   "source": [
    "In un dado a sei facce i risultati possono avere un valore tra 1 e 6 tutti con la stessa probabilità."
   ]
  },
  {
   "cell_type": "code",
   "execution_count": 19,
   "id": "cb9fffd4",
   "metadata": {},
   "outputs": [],
   "source": [
    "die = make_die(6)"
   ]
  },
  {
   "cell_type": "code",
   "execution_count": 20,
   "id": "af167d1a",
   "metadata": {},
   "outputs": [
    {
     "data": {
      "image/png": "[encoded data removed]",
      "text/plain": [
       "<Figure size 432x288 with 1 Axes>"
      ]
     },
     "metadata": {
      "needs_background": "light"
     },
     "output_type": "display_data"
    }
   ],
   "source": [
    "from utils import decorate\n",
    "\n",
    "die.bar(alpha=0.4)\n",
    "decorate(xlabel='Outcome',\n",
    "         ylabel='PMF')"
   ]
  },
  {
   "cell_type": "markdown",
   "id": "49cce77e",
   "metadata": {},
   "source": [
    "Se lanciamo due volte il dado e sommiamo il risultato otterremo 11 risultati possibili che vanno dal 2 al 12 ma non tutti con la stessa probabilità.\n",
    "\n",
    "Per calcolare la distribuzione della somma dobbiamo enumerare tutti i possibili risultati.\n",
    "Ed è quello che fa la seguente funzione:"
   ]
  },
  {
   "cell_type": "code",
   "execution_count": 21,
   "id": "cd7ed27c",
   "metadata": {},
   "outputs": [],
   "source": [
    "def add_dist(pmf1, pmf2):\n",
    "    \"\"\"Compute the distribution of a sum.\"\"\"\n",
    "    res = Pmf()\n",
    "    for q1, p1 in pmf1.items():\n",
    "        for q2, p2 in pmf2.items():\n",
    "            q = q1 + q2\n",
    "            p = p1 * p2\n",
    "            res[q] = res(q) + p\n",
    "    return res"
   ]
  },
  {
   "cell_type": "markdown",
   "id": "2b97dddd",
   "metadata": {},
   "source": [
    "la parte più interessante della funzione è il pezzo di codice:\n",
    "\n",
    "```\n",
    "            res[q] = res(q) + p\n",
    "```\n",
    "\n",
    "`res(q)` restituisce 0 se l'elemento `q` non esiste nella distribuzione, `res[q]` poi viene usato nella parte a sinistra per aggiornare la distribuzione.\n",
    "\n",
    "L'oggetto `Pmf` ha anche la funzione `add_dist` che fa esattamente la stessa cosa possiamo usarla in questo modo:\n",
    "\n",
    "\n",
    "```\n",
    "            twice = die.add_dist(die)\n",
    "```"
   ]
  },
  {
   "cell_type": "markdown",
   "id": "3399824c",
   "metadata": {},
   "source": [
    "vediamo invece il risultato della somma dei due dadi:"
   ]
  },
  {
   "cell_type": "code",
   "execution_count": 22,
   "id": "dfe1d9b1",
   "metadata": {},
   "outputs": [],
   "source": [
    "from utils import decorate\n",
    "\n",
    "def decorate_dice(title=''):\n",
    "    decorate(xlabel='Outcome',\n",
    "             ylabel='PMF',\n",
    "             title=title)"
   ]
  },
  {
   "cell_type": "code",
   "execution_count": 23,
   "id": "c9593e57",
   "metadata": {},
   "outputs": [
    {
     "data": {
      "image/png": "[encoded data removed]",
      "text/plain": [
       "<Figure size 432x288 with 1 Axes>"
      ]
     },
     "metadata": {
      "needs_background": "light"
     },
     "output_type": "display_data"
    }
   ],
   "source": [
    "twice = add_dist(die, die)\n",
    "twice.bar(color='C1', alpha=0.5)\n",
    "decorate_dice()"
   ]
  },
  {
   "cell_type": "markdown",
   "id": "931fe329",
   "metadata": {},
   "source": [
    "Se hai una sequenza di `Pmf` che rappresentano un dado possiamo calcolare la somma della distristribuzione in questo modo:"
   ]
  },
  {
   "cell_type": "code",
   "execution_count": 24,
   "id": "fb8cf1da",
   "metadata": {},
   "outputs": [],
   "source": [
    "def add_dist_seq(seq):\n",
    "    \"\"\"Compute Pmf of the sum of values from seq.\"\"\"\n",
    "    total = seq[0]\n",
    "    for other in seq[1:]:\n",
    "        total = total.add_dist(other)\n",
    "    return total"
   ]
  },
  {
   "cell_type": "markdown",
   "id": "b70498cc",
   "metadata": {},
   "source": [
    "ad esempio se i dadi sono 3 possiamo calcola la distribuzione della somma come:"
   ]
  },
  {
   "cell_type": "code",
   "execution_count": 25,
   "id": "58d80e69",
   "metadata": {},
   "outputs": [],
   "source": [
    "dice = [die] * 3\n",
    "thrice = add_dist_seq(dice)"
   ]
  },
  {
   "cell_type": "code",
   "execution_count": 26,
   "id": "21df8efb",
   "metadata": {},
   "outputs": [
    {
     "data": {
      "image/png": "[encoded data removed]",
      "text/plain": [
       "<Figure size 432x288 with 1 Axes>"
      ]
     },
     "metadata": {
      "needs_background": "light"
     },
     "output_type": "display_data"
    }
   ],
   "source": [
    "import matplotlib.pyplot as plt\n",
    "\n",
    "die.plot(label='once')\n",
    "twice.plot(label='twice', style='--')\n",
    "thrice.plot(label='thrice', style=':')\n",
    "\n",
    "plt.xticks([0,3,6,9,12,15,18])\n",
    "decorate_dice(title='Distributions of sums')"
   ]
  },
  {
   "cell_type": "markdown",
   "id": "c41616ba",
   "metadata": {},
   "source": [
    "Come precisazione, questo dimostra anche il teorema del limite centrale, che dice che sotto alcune condizioni la somma delle destribuzioni converge verso una distribuzione normale. \n",
    "\n",
    "## Sensibilità al glutine\n",
    "\n",
    "Nel 2015 è uscito uno studio dove si testava se le persone a cui veniva diagnosticata una sensibilità al glutine (ma non una celiachia) fossero capaci di distinguere la farina con il glutine da quella senza glutine in un test cieco ([qui lo studio](https://onlinelibrary.wiley.com/doi/full/10.1111/apt.13372)).\n",
    "\n",
    "Su 35 soggetti, 12 hanno identificato correttamente la farina con il glutine basandosi sui sintomi mentre la stavano mangiando.\n",
    "Gli altri 17 hanno sbagliato l'identificazione basandosi sui loro sintomi e 6 non furono in grado di distunguerle.\n",
    "\n",
    "Gli autori conclusero: \"Il test in doppio cieco induce i sintomi ricorrenti solo in un terzo dei pazienti\".\n",
    "\n",
    "Questa conclusione sembra strana, perchè se nessuno dei pazienti era sensibile al glutine ci aspetteremmo che qualcuno di essi identifichi la farina con il glutine correttamente per caso.\n",
    "\n",
    "E qui parte la domanda: basandosi su questo dato, quanti soggetti sono sensibili al glutine e quanti hanno solo indovinato?\n",
    "\n",
    "Possiamo usare il teorema di Bayes per rispondere a questa domanda, ma prima dobbiamo fare alcuno decisioni di modellazione.\n",
    "Assumeremo che:\n",
    "\n",
    "* Le persone che sono sensibili al glutine hanno il 95% di possibilità di identificare correttamente la farina con il glutine sotto le condizioni del test e\n",
    "\n",
    "* Le persone che non sono sensibili al glutine hanno il 40% di possibilità di identificare la farina con il glutine per caso ( e il 60% di possibilità di scegliere l'altra farina e di fallire).\n",
    "\n",
    "Questi valori sono arbitrari, ma i risultati non sono sensibili a questa scelta.\n",
    "\n",
    "Risolveremo questo problema in due passi, Primo assumendo di conoscere quanti soggetti sono sensibili, calcoleremo la distribuzione del dato.\n",
    "\n",
    "Poi usando la verosomiglianza del dato, calcoleremo la distribuzione a posteriori del numero dei pazienti sensibili.\n",
    "\n",
    "Il primo è il problema in **avanti**, il secondo è il **problema inverso**.\n",
    "\n",
    "## Problema in avanti\n",
    "\n",
    "Supponiamo di conoscere che 10 delle 35 persone sono sensibili al glutine. Questo significa che 25 non lo sono:"
   ]
  },
  {
   "cell_type": "code",
   "execution_count": 27,
   "id": "3b1bfd5a",
   "metadata": {},
   "outputs": [],
   "source": [
    "n = 35\n",
    "num_sensitive = 10\n",
    "num_insensitive = n - num_sensitive"
   ]
  },
  {
   "cell_type": "markdown",
   "id": "f21c8347",
   "metadata": {},
   "source": [
    "Ogni soggetto sensibile ha il 95% di possibilità di identificare la farina con il glutine, dunque il numero di classificazioni corrette segue la distrbuzione binomiale.\n",
    "\n",
    "Usiamo la funzione `make_binomial` per creare un oggetto `Pmf` corretto."
   ]
  },
  {
   "cell_type": "code",
   "execution_count": 28,
   "id": "a15ed948",
   "metadata": {},
   "outputs": [],
   "source": [
    "from distribution import make_binomial"
   ]
  },
  {
   "cell_type": "code",
   "execution_count": 29,
   "id": "f73a3d0a",
   "metadata": {},
   "outputs": [],
   "source": [
    "dist_sensitive = make_binomial(num_sensitive, 0.95)\n",
    "dist_insensitive = make_binomial(num_insensitive, 0.40)"
   ]
  },
  {
   "cell_type": "markdown",
   "id": "e02218ad",
   "metadata": {},
   "source": [
    "I risultati sono le distribuzioni del numero delle corrette identificazioni in ogni gruppo.\n",
    "Ora possiamo usare `add_dist` per calcolare la distribuzione del numero totale delle identificazioni corrette:"
   ]
  },
  {
   "cell_type": "code",
   "execution_count": 30,
   "id": "355b056d",
   "metadata": {},
   "outputs": [],
   "source": [
    "dist_total = Pmf.add_dist(dist_sensitive, dist_insensitive)"
   ]
  },
  {
   "cell_type": "markdown",
   "id": "cb89b3a6",
   "metadata": {},
   "source": [
    "Qui i risultati"
   ]
  },
  {
   "cell_type": "code",
   "execution_count": 31,
   "id": "0c96d2f9",
   "metadata": {},
   "outputs": [
    {
     "data": {
      "image/png": "[encoded data removed]",
      "text/plain": [
       "<Figure size 432x288 with 1 Axes>"
      ]
     },
     "metadata": {
      "needs_background": "light"
     },
     "output_type": "display_data"
    }
   ],
   "source": [
    "dist_sensitive.plot(label='sensitive', style=':')\n",
    "dist_insensitive.plot(label='insensitive', style='--')\n",
    "dist_total.plot(label='total')\n",
    "\n",
    "decorate(xlabel='Number of correct identifications',\n",
    "         ylabel='PMF',\n",
    "         title='Gluten sensitivity')"
   ]
  },
  {
   "cell_type": "markdown",
   "id": "9b9fce39",
   "metadata": {},
   "source": [
    "Ci aspettiamo che molte delle persone sensibili al glutine identifichino correttamente la farina con il glutine.\n",
    "Su 25 soggetti non sensibili, ci aspettiamo che 10 riescano ad identificare la farina con il glutine per caso.\n",
    "Dunque ci aspettiamo 20 identificazioni corrette nel totale.\n",
    "\n",
    "Questa è la risposta del problema in avanti: dato il numero delle persone sensibili al glutine possiamo calcolare la distribuzione del dato.\n",
    "\n",
    "## Il problema inverso\n",
    "\n",
    "Risolviamo ora il problema inverso: dato il dato, calcoliamo la distribuzione a posteriori del numero delle persone sensibili al glutine.\n",
    "\n",
    "Ecco qui come. Analizzeremo i possibili valori di `num_sensitive` e calcoleremo la distribuzione del dato per ognuno di essi:"
   ]
  },
  {
   "cell_type": "code",
   "execution_count": 32,
   "id": "5f695a06",
   "metadata": {},
   "outputs": [],
   "source": [
    "import pandas as pd\n",
    "\n",
    "table = pd.DataFrame()\n",
    "for num_sensitive in range(0, n+1):\n",
    "    num_insensitive = n - num_sensitive\n",
    "    dist_sensitive = make_binomial(num_sensitive, 0.95)\n",
    "    dist_insensitive = make_binomial(num_insensitive, 0.4)\n",
    "    dist_total = Pmf.add_dist(dist_sensitive, dist_insensitive)    \n",
    "    table[num_sensitive] = dist_total"
   ]
  },
  {
   "cell_type": "markdown",
   "id": "cb9296d0",
   "metadata": {},
   "source": [
    "Il ciclo enumera i possibili valori di `num_sensitive`.\n",
    "Per ogni valore, calcoliamo la distribuzione del numero totale delle identificazione corrette e salva il risultato nella colonna del `DataFrame`."
   ]
  },
  {
   "cell_type": "code",
   "execution_count": 33,
   "id": "20efc667",
   "metadata": {},
   "outputs": [
    {
     "data": {
      "text/html": [
       "<div>\n",
       "<style scoped>\n",
       "    .dataframe tbody tr th:only-of-type {\n",
       "        vertical-align: middle;\n",
       "    }\n",
       "\n",
       "    .dataframe tbody tr th {\n",
       "        vertical-align: top;\n",
       "    }\n",
       "\n",
       "    .dataframe thead th {\n",
       "        text-align: right;\n",
       "    }\n",
       "</style>\n",
       "<table border=\"1\" class=\"dataframe\">\n",
       "  <thead>\n",
       "    <tr style=\"text-align: right;\">\n",
       "      <th></th>\n",
       "      <th>0</th>\n",
       "      <th>1</th>\n",
       "      <th>2</th>\n",
       "      <th>3</th>\n",
       "      <th>4</th>\n",
       "      <th>5</th>\n",
       "      <th>6</th>\n",
       "      <th>7</th>\n",
       "      <th>8</th>\n",
       "      <th>9</th>\n",
       "      <th>...</th>\n",
       "      <th>26</th>\n",
       "      <th>27</th>\n",
       "      <th>28</th>\n",
       "      <th>29</th>\n",
       "      <th>30</th>\n",
       "      <th>31</th>\n",
       "      <th>32</th>\n",
       "      <th>33</th>\n",
       "      <th>34</th>\n",
       "      <th>35</th>\n",
       "    </tr>\n",
       "  </thead>\n",
       "  <tbody>\n",
       "    <tr>\n",
       "      <th>0</th>\n",
       "      <td>1.719071e-08</td>\n",
       "      <td>1.432559e-09</td>\n",
       "      <td>1.193799e-10</td>\n",
       "      <td>9.948326e-12</td>\n",
       "      <td>8.290272e-13</td>\n",
       "      <td>6.908560e-14</td>\n",
       "      <td>5.757133e-15</td>\n",
       "      <td>4.797611e-16</td>\n",
       "      <td>3.998009e-17</td>\n",
       "      <td>3.331674e-18</td>\n",
       "      <td>...</td>\n",
       "      <td>1.501694e-36</td>\n",
       "      <td>1.251411e-37</td>\n",
       "      <td>1.042843e-38</td>\n",
       "      <td>8.690357e-40</td>\n",
       "      <td>7.241964e-41</td>\n",
       "      <td>6.034970e-42</td>\n",
       "      <td>5.029142e-43</td>\n",
       "      <td>4.190952e-44</td>\n",
       "      <td>3.492460e-45</td>\n",
       "      <td>2.910383e-46</td>\n",
       "    </tr>\n",
       "    <tr>\n",
       "      <th>1</th>\n",
       "      <td>4.011165e-07</td>\n",
       "      <td>5.968996e-08</td>\n",
       "      <td>7.162795e-09</td>\n",
       "      <td>7.792856e-10</td>\n",
       "      <td>8.013930e-11</td>\n",
       "      <td>7.944844e-12</td>\n",
       "      <td>7.676178e-13</td>\n",
       "      <td>7.276377e-14</td>\n",
       "      <td>6.796616e-15</td>\n",
       "      <td>6.274653e-16</td>\n",
       "      <td>...</td>\n",
       "      <td>7.508469e-34</td>\n",
       "      <td>6.486483e-35</td>\n",
       "      <td>5.596590e-36</td>\n",
       "      <td>4.823148e-37</td>\n",
       "      <td>4.152060e-38</td>\n",
       "      <td>3.570691e-39</td>\n",
       "      <td>3.067777e-40</td>\n",
       "      <td>2.633315e-41</td>\n",
       "      <td>2.258457e-42</td>\n",
       "      <td>1.935405e-43</td>\n",
       "    </tr>\n",
       "    <tr>\n",
       "      <th>2</th>\n",
       "      <td>4.545987e-06</td>\n",
       "      <td>9.741401e-07</td>\n",
       "      <td>1.709122e-07</td>\n",
       "      <td>2.506426e-08</td>\n",
       "      <td>3.269131e-09</td>\n",
       "      <td>3.940182e-10</td>\n",
       "      <td>4.490244e-11</td>\n",
       "      <td>4.908756e-12</td>\n",
       "      <td>5.197412e-13</td>\n",
       "      <td>5.365476e-14</td>\n",
       "      <td>...</td>\n",
       "      <td>1.806613e-31</td>\n",
       "      <td>1.620070e-32</td>\n",
       "      <td>1.449030e-33</td>\n",
       "      <td>1.292922e-34</td>\n",
       "      <td>1.151034e-35</td>\n",
       "      <td>1.022555e-36</td>\n",
       "      <td>9.066202e-38</td>\n",
       "      <td>8.023344e-39</td>\n",
       "      <td>7.088005e-40</td>\n",
       "      <td>6.251357e-41</td>\n",
       "    </tr>\n",
       "  </tbody>\n",
       "</table>\n",
       "<p>3 rows × 36 columns</p>\n",
       "</div>"
      ],
      "text/plain": [
       "             0             1             2             3             4   \\\n",
       "0  1.719071e-08  1.432559e-09  1.193799e-10  9.948326e-12  8.290272e-13   \n",
       "1  4.011165e-07  5.968996e-08  7.162795e-09  7.792856e-10  8.013930e-11   \n",
       "2  4.545987e-06  9.741401e-07  1.709122e-07  2.506426e-08  3.269131e-09   \n",
       "\n",
       "             5             6             7             8             9   ...  \\\n",
       "0  6.908560e-14  5.757133e-15  4.797611e-16  3.998009e-17  3.331674e-18  ...   \n",
       "1  7.944844e-12  7.676178e-13  7.276377e-14  6.796616e-15  6.274653e-16  ...   \n",
       "2  3.940182e-10  4.490244e-11  4.908756e-12  5.197412e-13  5.365476e-14  ...   \n",
       "\n",
       "             26            27            28            29            30  \\\n",
       "0  1.501694e-36  1.251411e-37  1.042843e-38  8.690357e-40  7.241964e-41   \n",
       "1  7.508469e-34  6.486483e-35  5.596590e-36  4.823148e-37  4.152060e-38   \n",
       "2  1.806613e-31  1.620070e-32  1.449030e-33  1.292922e-34  1.151034e-35   \n",
       "\n",
       "             31            32            33            34            35  \n",
       "0  6.034970e-42  5.029142e-43  4.190952e-44  3.492460e-45  2.910383e-46  \n",
       "1  3.570691e-39  3.067777e-40  2.633315e-41  2.258457e-42  1.935405e-43  \n",
       "2  1.022555e-36  9.066202e-38  8.023344e-39  7.088005e-40  6.251357e-41  \n",
       "\n",
       "[3 rows x 36 columns]"
      ]
     },
     "execution_count": 33,
     "metadata": {},
     "output_type": "execute_result"
    }
   ],
   "source": [
    "table.head(3)"
   ]
  },
  {
   "cell_type": "markdown",
   "id": "c77af271",
   "metadata": {},
   "source": [
    "La figura seguente mostra le colonne selezionate dal `DataFrame`, corrispondenti alle differenti ipotesi del valore `num_sensitive`:"
   ]
  },
  {
   "cell_type": "code",
   "execution_count": 34,
   "id": "a43d30a5",
   "metadata": {},
   "outputs": [
    {
     "data": {
      "image/png": "[encoded data removed]",
      "text/plain": [
       "<Figure size 432x288 with 1 Axes>"
      ]
     },
     "metadata": {
      "needs_background": "light"
     },
     "output_type": "display_data"
    }
   ],
   "source": [
    "table[0].plot(label='num_sensitive = 0')\n",
    "table[10].plot(label='num_sensitive = 10')\n",
    "table[20].plot(label='num_sensitive = 20', style='--')\n",
    "table[30].plot(label='num_sensitive = 30', style=':')\n",
    "    \n",
    "decorate(xlabel='Number of correct identifications',\n",
    "         ylabel='PMF',\n",
    "         title='Gluten sensitivity')"
   ]
  },
  {
   "cell_type": "markdown",
   "id": "be264c62",
   "metadata": {},
   "source": [
    "Possiamo usare questa tabella per calcolare la verosomiglianza del dato:"
   ]
  },
  {
   "cell_type": "code",
   "execution_count": 35,
   "id": "ec6443da",
   "metadata": {},
   "outputs": [],
   "source": [
    "likelihood1 = table.loc[12]"
   ]
  },
  {
   "cell_type": "markdown",
   "id": "0ddbb47d",
   "metadata": {},
   "source": [
    "`loc` seleziona la riga del `DataFrame`.\n",
    "\n",
    "La riga con l'indice 12 contiene le probabilità di 12 identificazioni correte per ogni ipotetico valore di `num_sensitive`.\n",
    "E questo è quello che la verosomiglianza di cui abbiamo bisogno per eseguire l'aggiornamento Bayesiano.\n",
    "Useremo la distribuzione a priori uniforme, che implica che ogni valore di `num_sensitive` ha la stessa probabilità:"
   ]
  },
  {
   "cell_type": "code",
   "execution_count": 36,
   "id": "a5051ca6",
   "metadata": {},
   "outputs": [],
   "source": [
    "hypos = np.arange(n+1)\n",
    "prior = Pmf(1, hypos)"
   ]
  },
  {
   "cell_type": "markdown",
   "id": "ce65dd19",
   "metadata": {},
   "source": [
    "E qui l'aggiornamento:"
   ]
  },
  {
   "cell_type": "code",
   "execution_count": 37,
   "id": "cfd0a7ac",
   "metadata": {},
   "outputs": [
    {
     "data": {
      "text/plain": [
       "0.4754741648615132"
      ]
     },
     "execution_count": 37,
     "metadata": {},
     "output_type": "execute_result"
    }
   ],
   "source": [
    "posterior1 = prior * likelihood1\n",
    "posterior1.normalize()"
   ]
  },
  {
   "cell_type": "markdown",
   "id": "7a0cc5fc",
   "metadata": {},
   "source": [
    "Per comparazione, ho anche calcolato la distribuzione a posteriori per un altro possibile valore di 20 identificazioni corrette."
   ]
  },
  {
   "cell_type": "code",
   "execution_count": 38,
   "id": "aca8c759",
   "metadata": {},
   "outputs": [
    {
     "data": {
      "text/plain": [
       "1.7818649765887375"
      ]
     },
     "execution_count": 38,
     "metadata": {},
     "output_type": "execute_result"
    }
   ],
   "source": [
    "likelihood2 = table.loc[20]\n",
    "posterior2 = prior * likelihood2\n",
    "posterior2.normalize()"
   ]
  },
  {
   "cell_type": "code",
   "execution_count": 39,
   "id": "054c04e7",
   "metadata": {},
   "outputs": [
    {
     "data": {
      "image/png": "[encoded data removed]",
      "text/plain": [
       "<Figure size 432x288 with 1 Axes>"
      ]
     },
     "metadata": {
      "needs_background": "light"
     },
     "output_type": "display_data"
    }
   ],
   "source": [
    "posterior1.plot(label='posterior with 12 correct', color='C4')\n",
    "posterior2.plot(label='posterior with 20 correct', color='C1')\n",
    "\n",
    "decorate(xlabel='Number of sensitive subjects',\n",
    "         ylabel='PMF',\n",
    "         title='Posterior distributions')"
   ]
  },
  {
   "cell_type": "markdown",
   "id": "d6c314fa",
   "metadata": {},
   "source": [
    "Con 12 corrette identificazioni, il valore più probabile è che nessuno sia sensibile al glutine.\n",
    "Mentre con 20 identificazioni corrette, la conclusione potrebbe essere che 11-12 soggetti siano sensibili."
   ]
  },
  {
   "cell_type": "code",
   "execution_count": 40,
   "id": "c0dd77c8",
   "metadata": {},
   "outputs": [
    {
     "data": {
      "text/plain": [
       "0"
      ]
     },
     "execution_count": 40,
     "metadata": {},
     "output_type": "execute_result"
    }
   ],
   "source": [
    "posterior1.max_prob()"
   ]
  },
  {
   "cell_type": "code",
   "execution_count": 41,
   "id": "ce182a87",
   "metadata": {},
   "outputs": [
    {
     "data": {
      "text/plain": [
       "array([0., 7.])"
      ]
     },
     "execution_count": 41,
     "metadata": {},
     "output_type": "execute_result"
    }
   ],
   "source": [
    "posterior1.credible_interval(0.9)"
   ]
  },
  {
   "cell_type": "code",
   "execution_count": 42,
   "id": "01033a55",
   "metadata": {},
   "outputs": [
    {
     "data": {
      "text/plain": [
       "11"
      ]
     },
     "execution_count": 42,
     "metadata": {},
     "output_type": "execute_result"
    }
   ],
   "source": [
    "posterior2.max_prob()"
   ]
  },
  {
   "cell_type": "code",
   "execution_count": 43,
   "id": "3a6eb619",
   "metadata": {},
   "outputs": [
    {
     "data": {
      "text/plain": [
       "array([ 3., 17.])"
      ]
     },
     "execution_count": 43,
     "metadata": {},
     "output_type": "execute_result"
    }
   ],
   "source": [
    "posterior2.credible_interval(0.9)"
   ]
  },
  {
   "cell_type": "markdown",
   "id": "b440baf9",
   "metadata": {},
   "source": [
    "## Sommario\n",
    "Questo capitolo rappresenta due argomenti che solo per lo più non correlati tra loro.\n",
    "La prima parte del capitolo è relativo alla regola di Bayes e come come quantificare la forza dell'evidenza usando il rapporto delle verosomiglianze o il fattore di Bayes.\n",
    "\n",
    "La seconda parte è relativa a `add_dist`, che calcola la distribuzione della somma.\n",
    "Possiamo usare questa funzione per risolvere il problema inverso, dati i parametri del sistema possiamo calcolare la distribuzione del dato o dato il dato possiamo calcolare la distribuzione dei parametri.\n",
    "\n",
    "Nel prossimo capitolo, calcoleremo distribuzioni per minimi e massimi e le useremo per risolvere problemi Bayesiani.\n",
    "\n",
    "\n",
    "## Esercizi\n",
    "\n",
    "**Esercizio:** Usiamo la regola di Bayes per risolvere il problema del gemello di Elvis:\n",
    "> Elvis Presley aveva un fratello gemello che è morto alla nascita.Quale è la probabilità che Elvis fosse un gemello identico ?\n",
    "\n",
    "Nel 1935 circa 2/3 dei gemelli erano eterozigoti e 1/3 erano identici.\n",
    "La domanda contiene due pezzi di informazione che possiamo usare per aggiornare i dati.\n",
    "* Primo, Il gemello di Elvis era che lui maschio che è più probabile se fossero gemelli identici con un rapporto di verosomiglianza pari a 2.\n",
    "\n",
    "* Ancora, il gemello di Elvis è morto alla nascita che è più probabile se erano gemelli identici, con un rapporto di verosomiglianza pari a 1.25.\n",
    "\n",
    "Se siete curiosi circa questi numeri leggete questo [articolo](https://www.allendowney.com/blog/2020/01/28/the-elvis-problem-revisited)."
   ]
  },
  {
   "cell_type": "code",
   "execution_count": 48,
   "id": "bad2c989",
   "metadata": {},
   "outputs": [
    {
     "data": {
      "text/plain": [
       "0.49999999999999994"
      ]
     },
     "execution_count": 48,
     "metadata": {},
     "output_type": "execute_result"
    }
   ],
   "source": [
    "prior = odds(1/3)\n",
    "prior"
   ]
  },
  {
   "cell_type": "code",
   "execution_count": 49,
   "id": "d795e4b7",
   "metadata": {},
   "outputs": [
    {
     "data": {
      "text/plain": [
       "2.5"
      ]
     },
     "execution_count": 49,
     "metadata": {},
     "output_type": "execute_result"
    }
   ],
   "source": [
    "likelihood = 1.25 * 2\n",
    "likelihood"
   ]
  },
  {
   "cell_type": "code",
   "execution_count": 50,
   "id": "78a0dc14",
   "metadata": {},
   "outputs": [
    {
     "data": {
      "text/plain": [
       "1.2499999999999998"
      ]
     },
     "execution_count": 50,
     "metadata": {},
     "output_type": "execute_result"
    }
   ],
   "source": [
    "post_odd = prior * likelihood\n",
    "post_odd"
   ]
  },
  {
   "cell_type": "code",
   "execution_count": 51,
   "id": "db000d99",
   "metadata": {},
   "outputs": [
    {
     "data": {
      "text/plain": [
       "0.5555555555555555"
      ]
     },
     "execution_count": 51,
     "metadata": {},
     "output_type": "execute_result"
    }
   ],
   "source": [
    "prob(post_odd)"
   ]
  },
  {
   "cell_type": "markdown",
   "id": "4a8c7e1f",
   "metadata": {},
   "source": [
    "**Esercizio:** La seguente è una domanda nella [intervista che è apparsa su glassdoor.com](https://www.glassdoor.com/Interview/You-re-about-to-get-on-a-plane-to-Seattle-You-want-to-know-if-you-should-bring-an-umbrella-You-call-3-random-friends-of-y-QTN_519262.htm) attribuita a Facebook:\n",
    "\n",
    "> Stai per prendere un aereo per Seattle. Vuoi conoscere se devi prendere una ombrella. Chiamiamo 3 amici a caso che vivono li e chiediamo indipendentemente se sta piovendo. Ogni tuo amico ha 2/3 di possibilità di dirti la verità e circa un 1/3 di possibilità di prenderti in giro mentendo. Tutti e tre i tuoi amici ti dicono che sta piovendo. Quale è la probabilità che stia piovendo a Seattle ?\n",
    "\n",
    "Usa la regola di Bayes per risolvere questo problema. Come priori assumiamo che a Seattle piova circa il 10% del tempo.\n",
    "Questa domanda causa alcune confusioni circa le differenze tra l'interpretazione Bayesiana e frequentista della probabilità, se sei curioso circa questo punto possiamo leggere [questo articolo](http://allendowney.blogspot.com/2016/09/bayess-theorem-is-not-optional.html)."
   ]
  },
  {
   "cell_type": "code",
   "execution_count": 80,
   "id": "2e7ec765",
   "metadata": {},
   "outputs": [
    {
     "data": {
      "text/plain": [
       "0.11111111111111112"
      ]
     },
     "execution_count": 80,
     "metadata": {},
     "output_type": "execute_result"
    }
   ],
   "source": [
    "prior_odds = odds(0.1)\n",
    "prior_odds"
   ]
  },
  {
   "cell_type": "code",
   "execution_count": 81,
   "id": "11a2fc1e",
   "metadata": {},
   "outputs": [
    {
     "data": {
      "text/plain": [
       "7.999999999999997"
      ]
     },
     "execution_count": 81,
     "metadata": {},
     "output_type": "execute_result"
    }
   ],
   "source": [
    "likelihood = pow(odds(2/3),3)\n",
    "likelihood"
   ]
  },
  {
   "cell_type": "code",
   "execution_count": 82,
   "id": "7441dba7",
   "metadata": {},
   "outputs": [
    {
     "data": {
      "text/plain": [
       "0.8888888888888886"
      ]
     },
     "execution_count": 82,
     "metadata": {},
     "output_type": "execute_result"
    }
   ],
   "source": [
    "post_odds = prior_odds * likelihood\n",
    "post_odds"
   ]
  },
  {
   "cell_type": "code",
   "execution_count": 83,
   "id": "2f835cf3",
   "metadata": {},
   "outputs": [
    {
     "data": {
      "text/plain": [
       "0.4705882352941176"
      ]
     },
     "execution_count": 83,
     "metadata": {},
     "output_type": "execute_result"
    }
   ],
   "source": [
    "prob(post_odds)"
   ]
  },
  {
   "cell_type": "markdown",
   "id": "408cb601",
   "metadata": {},
   "source": [
    "**Esercizio:** [In accordo con il CDC](https://www.cdc.gov/tobacco/data_statistics/fact_sheets/health_effects/effects_cig_smoking) le persone che fumano hanno 25 volte in più di probabilità di sviluppare il cancro ai polmoni dei non fumatori.\n",
    "[Sempre in accordo con il CDC](https://www.cdc.gov/tobacco/data_statistics/fact_sheets/adult_data/cig_smoking/index.htm) circa il 14% degli adulti negli stati uniti sono fumatori. Se sai che una persona ha il cancro ai polmoni quale è la probabilità che sia un fumatore ?"
   ]
  },
  {
   "cell_type": "code",
   "execution_count": 85,
   "id": "b25fd8e0",
   "metadata": {},
   "outputs": [
    {
     "data": {
      "text/plain": [
       "0.16279069767441862"
      ]
     },
     "execution_count": 85,
     "metadata": {},
     "output_type": "execute_result"
    }
   ],
   "source": [
    "prior_odds = odds(0.14)\n",
    "prior_odds"
   ]
  },
  {
   "cell_type": "code",
   "execution_count": 86,
   "id": "5ab85f56",
   "metadata": {},
   "outputs": [
    {
     "data": {
      "text/plain": [
       "4.069767441860465"
      ]
     },
     "execution_count": 86,
     "metadata": {},
     "output_type": "execute_result"
    }
   ],
   "source": [
    "post_odds = prior_odds * 25\n",
    "post_odds"
   ]
  },
  {
   "cell_type": "code",
   "execution_count": 87,
   "id": "3b7fa3dc",
   "metadata": {},
   "outputs": [
    {
     "data": {
      "text/plain": [
       "0.8027522935779816"
      ]
     },
     "execution_count": 87,
     "metadata": {},
     "output_type": "execute_result"
    }
   ],
   "source": [
    "prob(post_odds)"
   ]
  },
  {
   "cell_type": "markdown",
   "id": "1ee49709",
   "metadata": {},
   "source": [
    "**Esercizio:** In *Dungeons & Dragons*, l'ammontare dei danni che un goblin può supportare è la somma di dadi a sei facce. La somma dei danni che puoi infliggere con una spada corta è determinato dal lancio di un dado a sei facce.\n",
    "Un goblin è sconfitto se il totale dei danno inflitti è maggiore o uguale alla quantità che può supportare.\n",
    "\n",
    "Supponiamo che tu stia combattendo un goblin e che tu abbia già inflitto 3 punti di danni. Quale è la probabilità di sconfiggere il goblin con l'attacco successivo?\n",
    "\n",
    "Suggerimento: possiamo usare `Pmf.add_dist` per aggiungere una quantità costante tipo 3 a `Pmf` e `Pmf.sub_dist` per calcolare la distribuzione dei punti rimanenti."
   ]
  },
  {
   "cell_type": "code",
   "execution_count": 88,
   "id": "d130dc07",
   "metadata": {},
   "outputs": [
    {
     "data": {
      "text/html": [
       "<div>\n",
       "<style scoped>\n",
       "    .dataframe tbody tr th:only-of-type {\n",
       "        vertical-align: middle;\n",
       "    }\n",
       "\n",
       "    .dataframe tbody tr th {\n",
       "        vertical-align: top;\n",
       "    }\n",
       "\n",
       "    .dataframe thead th {\n",
       "        text-align: right;\n",
       "    }\n",
       "</style>\n",
       "<table border=\"1\" class=\"dataframe\">\n",
       "  <thead>\n",
       "    <tr style=\"text-align: right;\">\n",
       "      <th></th>\n",
       "      <th>probs</th>\n",
       "    </tr>\n",
       "  </thead>\n",
       "  <tbody>\n",
       "    <tr>\n",
       "      <th>1</th>\n",
       "      <td>0.166667</td>\n",
       "    </tr>\n",
       "    <tr>\n",
       "      <th>2</th>\n",
       "      <td>0.166667</td>\n",
       "    </tr>\n",
       "    <tr>\n",
       "      <th>3</th>\n",
       "      <td>0.166667</td>\n",
       "    </tr>\n",
       "    <tr>\n",
       "      <th>4</th>\n",
       "      <td>0.166667</td>\n",
       "    </tr>\n",
       "    <tr>\n",
       "      <th>5</th>\n",
       "      <td>0.166667</td>\n",
       "    </tr>\n",
       "    <tr>\n",
       "      <th>6</th>\n",
       "      <td>0.166667</td>\n",
       "    </tr>\n",
       "  </tbody>\n",
       "</table>\n",
       "</div>"
      ],
      "text/plain": [
       "1    0.166667\n",
       "2    0.166667\n",
       "3    0.166667\n",
       "4    0.166667\n",
       "5    0.166667\n",
       "6    0.166667\n",
       "Name: , dtype: float64"
      ]
     },
     "execution_count": 88,
     "metadata": {},
     "output_type": "execute_result"
    }
   ],
   "source": [
    "d6 = make_die(6)\n",
    "d6"
   ]
  },
  {
   "cell_type": "code",
   "execution_count": 89,
   "id": "edfcf252",
   "metadata": {},
   "outputs": [
    {
     "data": {
      "text/html": [
       "<div>\n",
       "<style scoped>\n",
       "    .dataframe tbody tr th:only-of-type {\n",
       "        vertical-align: middle;\n",
       "    }\n",
       "\n",
       "    .dataframe tbody tr th {\n",
       "        vertical-align: top;\n",
       "    }\n",
       "\n",
       "    .dataframe thead th {\n",
       "        text-align: right;\n",
       "    }\n",
       "</style>\n",
       "<table border=\"1\" class=\"dataframe\">\n",
       "  <thead>\n",
       "    <tr style=\"text-align: right;\">\n",
       "      <th></th>\n",
       "      <th>probs</th>\n",
       "    </tr>\n",
       "  </thead>\n",
       "  <tbody>\n",
       "    <tr>\n",
       "      <th>2</th>\n",
       "      <td>0.027778</td>\n",
       "    </tr>\n",
       "    <tr>\n",
       "      <th>3</th>\n",
       "      <td>0.055556</td>\n",
       "    </tr>\n",
       "    <tr>\n",
       "      <th>4</th>\n",
       "      <td>0.083333</td>\n",
       "    </tr>\n",
       "    <tr>\n",
       "      <th>5</th>\n",
       "      <td>0.111111</td>\n",
       "    </tr>\n",
       "    <tr>\n",
       "      <th>6</th>\n",
       "      <td>0.138889</td>\n",
       "    </tr>\n",
       "    <tr>\n",
       "      <th>7</th>\n",
       "      <td>0.166667</td>\n",
       "    </tr>\n",
       "    <tr>\n",
       "      <th>8</th>\n",
       "      <td>0.138889</td>\n",
       "    </tr>\n",
       "    <tr>\n",
       "      <th>9</th>\n",
       "      <td>0.111111</td>\n",
       "    </tr>\n",
       "    <tr>\n",
       "      <th>10</th>\n",
       "      <td>0.083333</td>\n",
       "    </tr>\n",
       "    <tr>\n",
       "      <th>11</th>\n",
       "      <td>0.055556</td>\n",
       "    </tr>\n",
       "    <tr>\n",
       "      <th>12</th>\n",
       "      <td>0.027778</td>\n",
       "    </tr>\n",
       "  </tbody>\n",
       "</table>\n",
       "</div>"
      ],
      "text/plain": [
       "2     0.027778\n",
       "3     0.055556\n",
       "4     0.083333\n",
       "5     0.111111\n",
       "6     0.138889\n",
       "7     0.166667\n",
       "8     0.138889\n",
       "9     0.111111\n",
       "10    0.083333\n",
       "11    0.055556\n",
       "12    0.027778\n",
       "Name: , dtype: float64"
      ]
     },
     "execution_count": 89,
     "metadata": {},
     "output_type": "execute_result"
    }
   ],
   "source": [
    "hp_before = Pmf.add_dist(d6, d6)\n",
    "hp_before"
   ]
  },
  {
   "cell_type": "code",
   "execution_count": 121,
   "id": "cca4b3e7",
   "metadata": {},
   "outputs": [
    {
     "data": {
      "text/html": [
       "<div>\n",
       "<style scoped>\n",
       "    .dataframe tbody tr th:only-of-type {\n",
       "        vertical-align: middle;\n",
       "    }\n",
       "\n",
       "    .dataframe tbody tr th {\n",
       "        vertical-align: top;\n",
       "    }\n",
       "\n",
       "    .dataframe thead th {\n",
       "        text-align: right;\n",
       "    }\n",
       "</style>\n",
       "<table border=\"1\" class=\"dataframe\">\n",
       "  <thead>\n",
       "    <tr style=\"text-align: right;\">\n",
       "      <th></th>\n",
       "      <th>probs</th>\n",
       "    </tr>\n",
       "  </thead>\n",
       "  <tbody>\n",
       "    <tr>\n",
       "      <th>-1</th>\n",
       "      <td>0.027778</td>\n",
       "    </tr>\n",
       "    <tr>\n",
       "      <th>0</th>\n",
       "      <td>0.055556</td>\n",
       "    </tr>\n",
       "    <tr>\n",
       "      <th>1</th>\n",
       "      <td>0.083333</td>\n",
       "    </tr>\n",
       "    <tr>\n",
       "      <th>2</th>\n",
       "      <td>0.111111</td>\n",
       "    </tr>\n",
       "    <tr>\n",
       "      <th>3</th>\n",
       "      <td>0.138889</td>\n",
       "    </tr>\n",
       "    <tr>\n",
       "      <th>4</th>\n",
       "      <td>0.166667</td>\n",
       "    </tr>\n",
       "    <tr>\n",
       "      <th>5</th>\n",
       "      <td>0.138889</td>\n",
       "    </tr>\n",
       "    <tr>\n",
       "      <th>6</th>\n",
       "      <td>0.111111</td>\n",
       "    </tr>\n",
       "    <tr>\n",
       "      <th>7</th>\n",
       "      <td>0.083333</td>\n",
       "    </tr>\n",
       "    <tr>\n",
       "      <th>8</th>\n",
       "      <td>0.055556</td>\n",
       "    </tr>\n",
       "    <tr>\n",
       "      <th>9</th>\n",
       "      <td>0.027778</td>\n",
       "    </tr>\n",
       "  </tbody>\n",
       "</table>\n",
       "</div>"
      ],
      "text/plain": [
       "-1    0.027778\n",
       " 0    0.055556\n",
       " 1    0.083333\n",
       " 2    0.111111\n",
       " 3    0.138889\n",
       " 4    0.166667\n",
       " 5    0.138889\n",
       " 6    0.111111\n",
       " 7    0.083333\n",
       " 8    0.055556\n",
       " 9    0.027778\n",
       "Name: , dtype: float64"
      ]
     },
     "execution_count": 121,
     "metadata": {},
     "output_type": "execute_result"
    }
   ],
   "source": [
    "# Questo è il numero dei punti dopo il primo attacco\n",
    "hp_after = Pmf.sub_dist(hp_before, 3)\n",
    "hp_after"
   ]
  },
  {
   "cell_type": "code",
   "execution_count": 122,
   "id": "60c2c8a0",
   "metadata": {},
   "outputs": [
    {
     "data": {
      "text/html": [
       "<div>\n",
       "<style scoped>\n",
       "    .dataframe tbody tr th:only-of-type {\n",
       "        vertical-align: middle;\n",
       "    }\n",
       "\n",
       "    .dataframe tbody tr th {\n",
       "        vertical-align: top;\n",
       "    }\n",
       "\n",
       "    .dataframe thead th {\n",
       "        text-align: right;\n",
       "    }\n",
       "</style>\n",
       "<table border=\"1\" class=\"dataframe\">\n",
       "  <thead>\n",
       "    <tr style=\"text-align: right;\">\n",
       "      <th></th>\n",
       "      <th>probs</th>\n",
       "    </tr>\n",
       "  </thead>\n",
       "  <tbody>\n",
       "    <tr>\n",
       "      <th>-1</th>\n",
       "      <td>0.000000</td>\n",
       "    </tr>\n",
       "    <tr>\n",
       "      <th>0</th>\n",
       "      <td>0.000000</td>\n",
       "    </tr>\n",
       "    <tr>\n",
       "      <th>1</th>\n",
       "      <td>0.090909</td>\n",
       "    </tr>\n",
       "    <tr>\n",
       "      <th>2</th>\n",
       "      <td>0.121212</td>\n",
       "    </tr>\n",
       "    <tr>\n",
       "      <th>3</th>\n",
       "      <td>0.151515</td>\n",
       "    </tr>\n",
       "    <tr>\n",
       "      <th>4</th>\n",
       "      <td>0.181818</td>\n",
       "    </tr>\n",
       "    <tr>\n",
       "      <th>5</th>\n",
       "      <td>0.151515</td>\n",
       "    </tr>\n",
       "    <tr>\n",
       "      <th>6</th>\n",
       "      <td>0.121212</td>\n",
       "    </tr>\n",
       "    <tr>\n",
       "      <th>7</th>\n",
       "      <td>0.090909</td>\n",
       "    </tr>\n",
       "    <tr>\n",
       "      <th>8</th>\n",
       "      <td>0.060606</td>\n",
       "    </tr>\n",
       "    <tr>\n",
       "      <th>9</th>\n",
       "      <td>0.030303</td>\n",
       "    </tr>\n",
       "  </tbody>\n",
       "</table>\n",
       "</div>"
      ],
      "text/plain": [
       "-1    0.000000\n",
       " 0    0.000000\n",
       " 1    0.090909\n",
       " 2    0.121212\n",
       " 3    0.151515\n",
       " 4    0.181818\n",
       " 5    0.151515\n",
       " 6    0.121212\n",
       " 7    0.090909\n",
       " 8    0.060606\n",
       " 9    0.030303\n",
       "Name: , dtype: float64"
      ]
     },
     "execution_count": 122,
     "metadata": {},
     "output_type": "execute_result"
    }
   ],
   "source": [
    "# Ma i valori -1 e 0 non sono possibili, in quanto il goblin sarebbe già stato sconfitto.\n",
    "# Dunque dobbiamo azzerare questa casistica e rinormalizzare\n",
    "hp_after[hp_after.index <= 0] = 0\n",
    "hp_after.normalize()\n",
    "hp_after"
   ]
  },
  {
   "cell_type": "code",
   "execution_count": 123,
   "id": "49111420",
   "metadata": {},
   "outputs": [],
   "source": [
    "# il danno del secondo attacco sarà uno dei seguenti casi\n",
    "damage = d6"
   ]
  },
  {
   "cell_type": "code",
   "execution_count": 124,
   "id": "e2936f9a",
   "metadata": {},
   "outputs": [
    {
     "data": {
      "image/png": "[encoded data removed]",
      "text/plain": [
       "<Figure size 432x288 with 1 Axes>"
      ]
     },
     "metadata": {
      "needs_background": "light"
     },
     "output_type": "display_data"
    }
   ],
   "source": [
    "# qui come la distribuzione come sembra\n",
    "hp_after.bar(label='Hit points')\n",
    "damage.plot(label='Damage', color='C1')\n",
    "decorate_dice('The Goblin Problem')"
   ]
  },
  {
   "cell_type": "code",
   "execution_count": 125,
   "id": "edd75363",
   "metadata": {},
   "outputs": [],
   "source": [
    "# Qui la distribuzione dei punti dopo aver lasciato il goblin\n",
    "points_left = Pmf.sub_dist(hp_after, damage)"
   ]
  },
  {
   "cell_type": "code",
   "execution_count": 126,
   "id": "d96ef763",
   "metadata": {},
   "outputs": [
    {
     "data": {
      "text/plain": [
       "0.4545454545454545"
      ]
     },
     "execution_count": 126,
     "metadata": {},
     "output_type": "execute_result"
    }
   ],
   "source": [
    "# e qui la probabilità che il ghoblin sia morto\n",
    "points_left.le_dist(0)"
   ]
  },
  {
   "cell_type": "markdown",
   "id": "5e2769e8",
   "metadata": {},
   "source": [
    "**Esercizio:** Supponiamo di avere una scatola con un dado a 6 facce, uno a 8 facce e uno a 12 facce.\n",
    "Scegliamo un dado a caso, lanciamo il dado due volte, moltiplichiamo i risultati e riportiamo che il prodotto è 12.\n",
    "\n",
    "Quale è la probabilita di aver scelto un dato a 8 facce?\n",
    "\n",
    "Suggerimento: L'oggetto `Pmf` è una funzione chiamata `mul_dist` che prende due oggetti `Pmf` e ritorna un oggetto `Pmf` che rappresenta la distribuzione del prodotto."
   ]
  },
  {
   "cell_type": "code",
   "execution_count": 128,
   "id": "d060f6a7",
   "metadata": {},
   "outputs": [
    {
     "data": {
      "text/html": [
       "<div>\n",
       "<style scoped>\n",
       "    .dataframe tbody tr th:only-of-type {\n",
       "        vertical-align: middle;\n",
       "    }\n",
       "\n",
       "    .dataframe tbody tr th {\n",
       "        vertical-align: top;\n",
       "    }\n",
       "\n",
       "    .dataframe thead th {\n",
       "        text-align: right;\n",
       "    }\n",
       "</style>\n",
       "<table border=\"1\" class=\"dataframe\">\n",
       "  <thead>\n",
       "    <tr style=\"text-align: right;\">\n",
       "      <th></th>\n",
       "      <th>probs</th>\n",
       "    </tr>\n",
       "  </thead>\n",
       "  <tbody>\n",
       "    <tr>\n",
       "      <th>6</th>\n",
       "      <td>1</td>\n",
       "    </tr>\n",
       "    <tr>\n",
       "      <th>8</th>\n",
       "      <td>1</td>\n",
       "    </tr>\n",
       "    <tr>\n",
       "      <th>12</th>\n",
       "      <td>1</td>\n",
       "    </tr>\n",
       "  </tbody>\n",
       "</table>\n",
       "</div>"
      ],
      "text/plain": [
       "6     1\n",
       "8     1\n",
       "12    1\n",
       "Name: , dtype: int64"
      ]
     },
     "execution_count": 128,
     "metadata": {},
     "output_type": "execute_result"
    }
   ],
   "source": [
    "hypos = [6, 8, 12]\n",
    "prior = Pmf(1, hypos)\n",
    "prior"
   ]
  },
  {
   "cell_type": "code",
   "execution_count": 135,
   "id": "09b24ce9",
   "metadata": {},
   "outputs": [
    {
     "data": {
      "text/html": [
       "<div>\n",
       "<style scoped>\n",
       "    .dataframe tbody tr th:only-of-type {\n",
       "        vertical-align: middle;\n",
       "    }\n",
       "\n",
       "    .dataframe tbody tr th {\n",
       "        vertical-align: top;\n",
       "    }\n",
       "\n",
       "    .dataframe thead th {\n",
       "        text-align: right;\n",
       "    }\n",
       "</style>\n",
       "<table border=\"1\" class=\"dataframe\">\n",
       "  <thead>\n",
       "    <tr style=\"text-align: right;\">\n",
       "      <th></th>\n",
       "      <th>probs</th>\n",
       "    </tr>\n",
       "  </thead>\n",
       "  <tbody>\n",
       "    <tr>\n",
       "      <th>1</th>\n",
       "      <td>0.0625</td>\n",
       "    </tr>\n",
       "    <tr>\n",
       "      <th>2</th>\n",
       "      <td>0.1250</td>\n",
       "    </tr>\n",
       "    <tr>\n",
       "      <th>3</th>\n",
       "      <td>0.1250</td>\n",
       "    </tr>\n",
       "    <tr>\n",
       "      <th>4</th>\n",
       "      <td>0.1875</td>\n",
       "    </tr>\n",
       "    <tr>\n",
       "      <th>6</th>\n",
       "      <td>0.1250</td>\n",
       "    </tr>\n",
       "    <tr>\n",
       "      <th>8</th>\n",
       "      <td>0.1250</td>\n",
       "    </tr>\n",
       "    <tr>\n",
       "      <th>9</th>\n",
       "      <td>0.0625</td>\n",
       "    </tr>\n",
       "    <tr>\n",
       "      <th>12</th>\n",
       "      <td>0.1250</td>\n",
       "    </tr>\n",
       "    <tr>\n",
       "      <th>16</th>\n",
       "      <td>0.0625</td>\n",
       "    </tr>\n",
       "  </tbody>\n",
       "</table>\n",
       "</div>"
      ],
      "text/plain": [
       "1     0.0625\n",
       "2     0.1250\n",
       "3     0.1250\n",
       "4     0.1875\n",
       "6     0.1250\n",
       "8     0.1250\n",
       "9     0.0625\n",
       "12    0.1250\n",
       "16    0.0625\n",
       "Name: , dtype: float64"
      ]
     },
     "execution_count": 135,
     "metadata": {},
     "output_type": "execute_result"
    }
   ],
   "source": [
    "d4 = make_die(4)\n",
    "Pmf.mul_dist(d4, d4)"
   ]
  },
  {
   "cell_type": "code",
   "execution_count": 136,
   "id": "270a6b69",
   "metadata": {},
   "outputs": [
    {
     "data": {
      "text/plain": [
       "[0.1111111111111111, 0.0625, 0.041666666666666664]"
      ]
     },
     "execution_count": 136,
     "metadata": {},
     "output_type": "execute_result"
    }
   ],
   "source": [
    "# qui la funzione di credibilità dopo aver fatto la moltiplicazione\n",
    "likelihood = []\n",
    "\n",
    "for sides in hypos:\n",
    "    die = make_die(sides)\n",
    "    pmf = Pmf.mul_dist(die, die)\n",
    "    likelihood.append(pmf[12])\n",
    "    \n",
    "likelihood"
   ]
  },
  {
   "cell_type": "code",
   "execution_count": 137,
   "id": "1d24a631",
   "metadata": {},
   "outputs": [
    {
     "data": {
      "text/html": [
       "<div>\n",
       "<style scoped>\n",
       "    .dataframe tbody tr th:only-of-type {\n",
       "        vertical-align: middle;\n",
       "    }\n",
       "\n",
       "    .dataframe tbody tr th {\n",
       "        vertical-align: top;\n",
       "    }\n",
       "\n",
       "    .dataframe thead th {\n",
       "        text-align: right;\n",
       "    }\n",
       "</style>\n",
       "<table border=\"1\" class=\"dataframe\">\n",
       "  <thead>\n",
       "    <tr style=\"text-align: right;\">\n",
       "      <th></th>\n",
       "      <th>probs</th>\n",
       "    </tr>\n",
       "  </thead>\n",
       "  <tbody>\n",
       "    <tr>\n",
       "      <th>6</th>\n",
       "      <td>0.516129</td>\n",
       "    </tr>\n",
       "    <tr>\n",
       "      <th>8</th>\n",
       "      <td>0.290323</td>\n",
       "    </tr>\n",
       "    <tr>\n",
       "      <th>12</th>\n",
       "      <td>0.193548</td>\n",
       "    </tr>\n",
       "  </tbody>\n",
       "</table>\n",
       "</div>"
      ],
      "text/plain": [
       "6     0.516129\n",
       "8     0.290323\n",
       "12    0.193548\n",
       "Name: , dtype: float64"
      ]
     },
     "execution_count": 137,
     "metadata": {},
     "output_type": "execute_result"
    }
   ],
   "source": [
    "# E qui l'aggiornamento\n",
    "posterior = prior * likelihood\n",
    "posterior.normalize()\n",
    "posterior"
   ]
  },
  {
   "cell_type": "code",
   "execution_count": null,
   "id": "66e32a4b",
   "metadata": {},
   "outputs": [],
   "source": []
  }
 ],
 "metadata": {
  "kernelspec": {
   "display_name": "Python 3 (ipykernel)",
   "language": "python",
   "name": "python3"
  },
  "language_info": {
   "codemirror_mode": {
    "name": "ipython",
    "version": 3
   },
   "file_extension": ".py",
   "mimetype": "text/x-python",
   "name": "python",
   "nbconvert_exporter": "python",
   "pygments_lexer": "ipython3",
   "version": "3.9.7"
  }
 },
 "nbformat": 4,
 "nbformat_minor": 5
}
