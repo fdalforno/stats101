{
 "cells": [
  {
   "cell_type": "markdown",
   "id": "d4aeda12",
   "metadata": {},
   "source": [
    "# Distributioni"
   ]
  },
  {
   "cell_type": "code",
   "execution_count": 1,
   "id": "58eba105",
   "metadata": {},
   "outputs": [],
   "source": [
    "from utils import set_pyplot_params\n",
    "set_pyplot_params()"
   ]
  },
  {
   "cell_type": "markdown",
   "id": "25a2670f",
   "metadata": {},
   "source": [
    "Nel capitolo precedente abbiamo usato il teorema di Bayes per risolvere il problema dei biscotti, abbiamo poi risolto sempre lo stesso problema usando le tabelle di bayes.\n",
    "\n",
    "In questo capitolo al costo di provare la pazienza, risolveremo ancora questo problema usando l'oggetto `Pmf` che rappresenta una \"probability mass function\" tradotto in italiano funzione di probabilità.\n",
    "Rispieghiamo cosa significa e perchè è utile per la statistica Bayesiana.\n",
    "Useremo l'oggetto `Pmf` per risolvere alcuni problemi più impegnativi e fare un ulteriore passo in avanti sulla statistica bayesiana.\n",
    "\n",
    "Ma ripartiamo con le distribuzioni.\n",
    "\n",
    "## Distribuzioni\n",
    "\n",
    "In statistica una distribuzione è un insieme di possibili risultato e le loro corrispondenti probabilità. Per esempio, se lanciamo una moneta, abbiamo due possibili risultati con approssimativamente una eguale probabilità. Sempre se lanciamo un dado a sei facce, l'insieme di tutti i possibili risultati sono i numeri da 1 a 6 e le probabilità associate ad essi sono 1/6.\n",
    "\n",
    "Una distribuzione \"empirica\" è basata sui dati, che è opposta alla distribuzione teorica. Vediamo come funziona l'oggetto `Pmf` che useremo per tutto il libro.\n",
    "\n",
    "## Funzione di probabilità (Pmf)\n",
    "\n",
    "Se i risultati di una distribuzione sono discreti, possiamo descrivere la distribuzione con una **funzione di probabilità**, questa è una funzione che mappa ogni possibile risultato con la sua probabilità.\n",
    "\n",
    "Importiamo l'oggetto `Pmf` e usiamolo per rappresentare i risultati di distribuzione di probabilità per il lancio di una monetina:"
   ]
  },
  {
   "cell_type": "code",
   "execution_count": 2,
   "id": "4002771a",
   "metadata": {},
   "outputs": [
    {
     "data": {
      "text/html": [
       "<div>\n",
       "<style scoped>\n",
       "    .dataframe tbody tr th:only-of-type {\n",
       "        vertical-align: middle;\n",
       "    }\n",
       "\n",
       "    .dataframe tbody tr th {\n",
       "        vertical-align: top;\n",
       "    }\n",
       "\n",
       "    .dataframe thead th {\n",
       "        text-align: right;\n",
       "    }\n",
       "</style>\n",
       "<table border=\"1\" class=\"dataframe\">\n",
       "  <thead>\n",
       "    <tr style=\"text-align: right;\">\n",
       "      <th></th>\n",
       "      <th>probs</th>\n",
       "    </tr>\n",
       "  </thead>\n",
       "  <tbody>\n",
       "    <tr>\n",
       "      <th>heads</th>\n",
       "      <td>0.5</td>\n",
       "    </tr>\n",
       "    <tr>\n",
       "      <th>tails</th>\n",
       "      <td>0.5</td>\n",
       "    </tr>\n",
       "  </tbody>\n",
       "</table>\n",
       "</div>"
      ],
      "text/plain": [
       "heads    0.5\n",
       "tails    0.5\n",
       "Name: , dtype: float64"
      ]
     },
     "execution_count": 2,
     "metadata": {},
     "output_type": "execute_result"
    }
   ],
   "source": [
    "from distribution import Pmf\n",
    "\n",
    "coin = Pmf()\n",
    "coin['heads'] = 1/2\n",
    "coin['tails'] = 1/2\n",
    "coin"
   ]
  },
  {
   "cell_type": "markdown",
   "id": "854c2150",
   "metadata": {},
   "source": [
    "Possiamo anche creare un oggetto `Pmf` da una sequenza di possibilit risultati.\n",
    "L'esempio seguente usa `Pmf.from_seq` per creare un oggetto `Pmf` che rappresenta un dado a sei facce."
   ]
  },
  {
   "cell_type": "code",
   "execution_count": 3,
   "id": "174eaac2",
   "metadata": {},
   "outputs": [
    {
     "data": {
      "text/html": [
       "<div>\n",
       "<style scoped>\n",
       "    .dataframe tbody tr th:only-of-type {\n",
       "        vertical-align: middle;\n",
       "    }\n",
       "\n",
       "    .dataframe tbody tr th {\n",
       "        vertical-align: top;\n",
       "    }\n",
       "\n",
       "    .dataframe thead th {\n",
       "        text-align: right;\n",
       "    }\n",
       "</style>\n",
       "<table border=\"1\" class=\"dataframe\">\n",
       "  <thead>\n",
       "    <tr style=\"text-align: right;\">\n",
       "      <th></th>\n",
       "      <th>probs</th>\n",
       "    </tr>\n",
       "  </thead>\n",
       "  <tbody>\n",
       "    <tr>\n",
       "      <th>1</th>\n",
       "      <td>0.166667</td>\n",
       "    </tr>\n",
       "    <tr>\n",
       "      <th>2</th>\n",
       "      <td>0.166667</td>\n",
       "    </tr>\n",
       "    <tr>\n",
       "      <th>3</th>\n",
       "      <td>0.166667</td>\n",
       "    </tr>\n",
       "    <tr>\n",
       "      <th>4</th>\n",
       "      <td>0.166667</td>\n",
       "    </tr>\n",
       "    <tr>\n",
       "      <th>5</th>\n",
       "      <td>0.166667</td>\n",
       "    </tr>\n",
       "    <tr>\n",
       "      <th>6</th>\n",
       "      <td>0.166667</td>\n",
       "    </tr>\n",
       "  </tbody>\n",
       "</table>\n",
       "</div>"
      ],
      "text/plain": [
       "1    0.166667\n",
       "2    0.166667\n",
       "3    0.166667\n",
       "4    0.166667\n",
       "5    0.166667\n",
       "6    0.166667\n",
       "Name: , dtype: float64"
      ]
     },
     "execution_count": 3,
     "metadata": {},
     "output_type": "execute_result"
    }
   ],
   "source": [
    "die = Pmf.from_seq([1,2,3,4,5,6])\n",
    "die"
   ]
  },
  {
   "cell_type": "markdown",
   "id": "99c7090a",
   "metadata": {},
   "source": [
    "In questo esempio, tutti i risultati nella seqeunza appaiono una sola volta e hanno tutti la stessa probabilità, 1/6.\n",
    "Più generalmente i risultati possono apparire più volte come nel seguente esempio:"
   ]
  },
  {
   "cell_type": "code",
   "execution_count": 4,
   "id": "3e1b68e9",
   "metadata": {},
   "outputs": [
    {
     "data": {
      "text/html": [
       "<div>\n",
       "<style scoped>\n",
       "    .dataframe tbody tr th:only-of-type {\n",
       "        vertical-align: middle;\n",
       "    }\n",
       "\n",
       "    .dataframe tbody tr th {\n",
       "        vertical-align: top;\n",
       "    }\n",
       "\n",
       "    .dataframe thead th {\n",
       "        text-align: right;\n",
       "    }\n",
       "</style>\n",
       "<table border=\"1\" class=\"dataframe\">\n",
       "  <thead>\n",
       "    <tr style=\"text-align: right;\">\n",
       "      <th></th>\n",
       "      <th>probs</th>\n",
       "    </tr>\n",
       "  </thead>\n",
       "  <tbody>\n",
       "    <tr>\n",
       "      <th>M</th>\n",
       "      <td>0.090909</td>\n",
       "    </tr>\n",
       "    <tr>\n",
       "      <th>i</th>\n",
       "      <td>0.363636</td>\n",
       "    </tr>\n",
       "    <tr>\n",
       "      <th>p</th>\n",
       "      <td>0.181818</td>\n",
       "    </tr>\n",
       "    <tr>\n",
       "      <th>s</th>\n",
       "      <td>0.363636</td>\n",
       "    </tr>\n",
       "  </tbody>\n",
       "</table>\n",
       "</div>"
      ],
      "text/plain": [
       "M    0.090909\n",
       "i    0.363636\n",
       "p    0.181818\n",
       "s    0.363636\n",
       "Name: , dtype: float64"
      ]
     },
     "execution_count": 4,
     "metadata": {},
     "output_type": "execute_result"
    }
   ],
   "source": [
    "letters = Pmf.from_seq(list('Mississippi'))\n",
    "letters"
   ]
  },
  {
   "cell_type": "markdown",
   "id": "9c8957ab",
   "metadata": {},
   "source": [
    "La lettera `M` appare solo una volta su 11 caratteri, dunque la sua probabilità e $1/11$.\n",
    "La lettera  `i` appare 4 volte, dunque la sua probabilità è di $4/11$.\n",
    "\n",
    "Siccome le lettere in una string sono sono il risultato di un processo random. Useremo il termine più generale di \"quantità\" per le lettere nel `Pmf`.\n",
    "\n",
    "La classe `Pmf` eredita dall'oggetto Pandas `Series`, dunque tutto quello che può fare una `Series` lo si può fare anche con `Pmf`.\n",
    "\n",
    "Per esempio possiamo usare l'operatore parentesi per controllare una quantità e ottenere la corrispondente probabilità."
   ]
  },
  {
   "cell_type": "code",
   "execution_count": 5,
   "id": "e9df4e4f",
   "metadata": {},
   "outputs": [
    {
     "data": {
      "text/plain": [
       "0.36363636363636365"
      ]
     },
     "execution_count": 5,
     "metadata": {},
     "output_type": "execute_result"
    }
   ],
   "source": [
    "letters['s']"
   ]
  },
  {
   "cell_type": "markdown",
   "id": "b120b886",
   "metadata": {},
   "source": [
    "Nella parola \"Mississippi\" circa il 36% delle lettero sono \"s\".\n",
    "Comunque, se chiediamo la probabilità di una quantità che non è in una distribuzione otteremo una `KeyError`."
   ]
  },
  {
   "cell_type": "code",
   "execution_count": 6,
   "id": "779002ed",
   "metadata": {},
   "outputs": [
    {
     "name": "stdout",
     "output_type": "stream",
     "text": [
      "<class 'KeyError'>\n"
     ]
    }
   ],
   "source": [
    "try:\n",
    "    letters['t']\n",
    "except KeyError as e:\n",
    "    print(type(e))"
   ]
  },
  {
   "cell_type": "markdown",
   "id": "fe935187",
   "metadata": {},
   "source": [
    "Possiamo anche chiamare `Pmf` come se fosse una funzione con la lettera nelle parentesi."
   ]
  },
  {
   "cell_type": "code",
   "execution_count": 7,
   "id": "0c8ba680",
   "metadata": {},
   "outputs": [
    {
     "data": {
      "text/plain": [
       "0.36363636363636365"
      ]
     },
     "execution_count": 7,
     "metadata": {},
     "output_type": "execute_result"
    }
   ],
   "source": [
    "letters('s')"
   ]
  },
  {
   "cell_type": "markdown",
   "id": "6951ce5a",
   "metadata": {},
   "source": [
    "Se la quantità è nella distribuzione il risultato è lo stesso.\n",
    "Ma se la stessa non è nella distribuzione, il risultato sarà `0`, non un errore."
   ]
  },
  {
   "cell_type": "code",
   "execution_count": 8,
   "id": "d375dfc7",
   "metadata": {},
   "outputs": [
    {
     "data": {
      "text/plain": [
       "0"
      ]
     },
     "execution_count": 8,
     "metadata": {},
     "output_type": "execute_result"
    }
   ],
   "source": [
    "letters('t')"
   ]
  },
  {
   "cell_type": "markdown",
   "id": "5f1fda6a",
   "metadata": {},
   "source": [
    "Con le parentesi, possiamo anche usare delle sequenze di quantità e ottenere una sequenza di probabilità."
   ]
  },
  {
   "cell_type": "code",
   "execution_count": 9,
   "id": "4cefc3c1",
   "metadata": {},
   "outputs": [
    {
     "data": {
      "text/plain": [
       "array([0.16666667, 0.16666667, 0.        ])"
      ]
     },
     "execution_count": 9,
     "metadata": {},
     "output_type": "execute_result"
    }
   ],
   "source": [
    "die([1,4,7])"
   ]
  },
  {
   "cell_type": "markdown",
   "id": "ce8d3493",
   "metadata": {},
   "source": [
    "# Il problema dei biscotti rivisitato\n",
    "\n",
    "In questa sezione useremo `Pmf` per risolvere il problema dei biscotti. Qui il problema\n",
    "Supponiamo di avere due ciotole di biscotti.\n",
    "\n",
    "La ciotola 1 contiene 30 biscotti alla vanigia e 10 al cioccolato.\n",
    "La ciotola 2 contiene 20 biscotti alla vaniglia e 20 al cioccolato.\n",
    "\n",
    "Ora supponiamo di scegliere uno delle ciotole a caso e senza guardare, si sceglie un biscotto in modo randomico.\n",
    "Se il biscotto è alla vaniglia quale è la probabilità che venga dalla ciotola 1?.\n",
    "Qui il `Pmf` che rappresenta le due ipotesi e le loro probabilità a priori: "
   ]
  },
  {
   "cell_type": "code",
   "execution_count": 10,
   "id": "244e867a",
   "metadata": {},
   "outputs": [
    {
     "data": {
      "text/html": [
       "<div>\n",
       "<style scoped>\n",
       "    .dataframe tbody tr th:only-of-type {\n",
       "        vertical-align: middle;\n",
       "    }\n",
       "\n",
       "    .dataframe tbody tr th {\n",
       "        vertical-align: top;\n",
       "    }\n",
       "\n",
       "    .dataframe thead th {\n",
       "        text-align: right;\n",
       "    }\n",
       "</style>\n",
       "<table border=\"1\" class=\"dataframe\">\n",
       "  <thead>\n",
       "    <tr style=\"text-align: right;\">\n",
       "      <th></th>\n",
       "      <th>probs</th>\n",
       "    </tr>\n",
       "  </thead>\n",
       "  <tbody>\n",
       "    <tr>\n",
       "      <th>Bowl 1</th>\n",
       "      <td>0.5</td>\n",
       "    </tr>\n",
       "    <tr>\n",
       "      <th>Bowl 2</th>\n",
       "      <td>0.5</td>\n",
       "    </tr>\n",
       "  </tbody>\n",
       "</table>\n",
       "</div>"
      ],
      "text/plain": [
       "Bowl 1    0.5\n",
       "Bowl 2    0.5\n",
       "Name: , dtype: float64"
      ]
     },
     "execution_count": 10,
     "metadata": {},
     "output_type": "execute_result"
    }
   ],
   "source": [
    "prior = Pmf.from_seq(['Bowl 1', 'Bowl 2'])\n",
    "prior"
   ]
  },
  {
   "cell_type": "markdown",
   "id": "22e9a163",
   "metadata": {},
   "source": [
    "Questa distribuzione che contiene le probabilità a priori di ogni ipotesi è chiamata distribuzione a priori.\n",
    "Per aggiornare la distribuzione basata sui nuovi dati (i biscotti alla vaniglia), possiamo moltiplicare le probabilità a priori con le verosomiglianze. \n",
    "\n",
    "La verosomiglianza di ottenere un biscotto alla vaniglia per la ciotola 1 e di 3/4. La verosomiglianza della ciotola 2 e di 1/2."
   ]
  },
  {
   "cell_type": "code",
   "execution_count": 11,
   "id": "f8687f87",
   "metadata": {},
   "outputs": [
    {
     "data": {
      "text/html": [
       "<div>\n",
       "<style scoped>\n",
       "    .dataframe tbody tr th:only-of-type {\n",
       "        vertical-align: middle;\n",
       "    }\n",
       "\n",
       "    .dataframe tbody tr th {\n",
       "        vertical-align: top;\n",
       "    }\n",
       "\n",
       "    .dataframe thead th {\n",
       "        text-align: right;\n",
       "    }\n",
       "</style>\n",
       "<table border=\"1\" class=\"dataframe\">\n",
       "  <thead>\n",
       "    <tr style=\"text-align: right;\">\n",
       "      <th></th>\n",
       "      <th>probs</th>\n",
       "    </tr>\n",
       "  </thead>\n",
       "  <tbody>\n",
       "    <tr>\n",
       "      <th>Bowl 1</th>\n",
       "      <td>0.375</td>\n",
       "    </tr>\n",
       "    <tr>\n",
       "      <th>Bowl 2</th>\n",
       "      <td>0.250</td>\n",
       "    </tr>\n",
       "  </tbody>\n",
       "</table>\n",
       "</div>"
      ],
      "text/plain": [
       "Bowl 1    0.375\n",
       "Bowl 2    0.250\n",
       "Name: , dtype: float64"
      ]
     },
     "execution_count": 11,
     "metadata": {},
     "output_type": "execute_result"
    }
   ],
   "source": [
    "likelihood_vanilla = [0.75, 0.5]\n",
    "posterior = prior * likelihood_vanilla\n",
    "posterior"
   ]
  },
  {
   "cell_type": "markdown",
   "id": "31b9e5b5",
   "metadata": {},
   "source": [
    "Il risultato è una probabilità a posteriori non normalizzata; Per normalizzarla usiamo il metodo che viene fornito con `Pmf`."
   ]
  },
  {
   "cell_type": "code",
   "execution_count": 12,
   "id": "d76caf4d",
   "metadata": {},
   "outputs": [
    {
     "data": {
      "text/plain": [
       "0.625"
      ]
     },
     "execution_count": 12,
     "metadata": {},
     "output_type": "execute_result"
    }
   ],
   "source": [
    "posterior.normalize()"
   ]
  },
  {
   "cell_type": "markdown",
   "id": "8f4bdd95",
   "metadata": {},
   "source": [
    "Il valore di ritorno della funzione `normalize` è la probabilità totale del dato (biscotto alla vaniglia) che è pari a  $5/8$.\n",
    "`posterior` contene la probabilità a poteriori per ogni ipotesi ed è chiamata **distribuzione a posteriori**."
   ]
  },
  {
   "cell_type": "code",
   "execution_count": 13,
   "id": "4db97436",
   "metadata": {},
   "outputs": [
    {
     "data": {
      "text/html": [
       "<div>\n",
       "<style scoped>\n",
       "    .dataframe tbody tr th:only-of-type {\n",
       "        vertical-align: middle;\n",
       "    }\n",
       "\n",
       "    .dataframe tbody tr th {\n",
       "        vertical-align: top;\n",
       "    }\n",
       "\n",
       "    .dataframe thead th {\n",
       "        text-align: right;\n",
       "    }\n",
       "</style>\n",
       "<table border=\"1\" class=\"dataframe\">\n",
       "  <thead>\n",
       "    <tr style=\"text-align: right;\">\n",
       "      <th></th>\n",
       "      <th>probs</th>\n",
       "    </tr>\n",
       "  </thead>\n",
       "  <tbody>\n",
       "    <tr>\n",
       "      <th>Bowl 1</th>\n",
       "      <td>0.6</td>\n",
       "    </tr>\n",
       "    <tr>\n",
       "      <th>Bowl 2</th>\n",
       "      <td>0.4</td>\n",
       "    </tr>\n",
       "  </tbody>\n",
       "</table>\n",
       "</div>"
      ],
      "text/plain": [
       "Bowl 1    0.6\n",
       "Bowl 2    0.4\n",
       "Name: , dtype: float64"
      ]
     },
     "execution_count": 13,
     "metadata": {},
     "output_type": "execute_result"
    }
   ],
   "source": [
    "posterior\n"
   ]
  },
  {
   "cell_type": "markdown",
   "id": "3e57e160",
   "metadata": {},
   "source": [
    "Dalla distribuzioni a posteriori possiamo scegliere la probabilità della ciotola 1:"
   ]
  },
  {
   "cell_type": "code",
   "execution_count": 14,
   "id": "426bc142",
   "metadata": {},
   "outputs": [
    {
     "data": {
      "text/plain": [
       "0.6"
      ]
     },
     "execution_count": 14,
     "metadata": {},
     "output_type": "execute_result"
    }
   ],
   "source": [
    "posterior('Bowl 1')"
   ]
  },
  {
   "cell_type": "markdown",
   "id": "5290af35",
   "metadata": {},
   "source": [
    "E la risposta è 0.6.\n",
    "Un beneficio di usare gli oggetti `Pmf` è che è semplice fare successivi aggiornamenti con più dati. \n",
    "Per esempio, supponiamo di mettere il primo biscotto nella ciotola di appartenenza (dunque i contenuti non cambiano) e di pescare ancora dalla stessa ciotola.\n",
    "\n",
    "Se il secondo biscotto e ancora alla vaniglia possiamo fare un secondo aggiornamento: "
   ]
  },
  {
   "cell_type": "code",
   "execution_count": 15,
   "id": "d3ae7711",
   "metadata": {},
   "outputs": [
    {
     "data": {
      "text/html": [
       "<div>\n",
       "<style scoped>\n",
       "    .dataframe tbody tr th:only-of-type {\n",
       "        vertical-align: middle;\n",
       "    }\n",
       "\n",
       "    .dataframe tbody tr th {\n",
       "        vertical-align: top;\n",
       "    }\n",
       "\n",
       "    .dataframe thead th {\n",
       "        text-align: right;\n",
       "    }\n",
       "</style>\n",
       "<table border=\"1\" class=\"dataframe\">\n",
       "  <thead>\n",
       "    <tr style=\"text-align: right;\">\n",
       "      <th></th>\n",
       "      <th>probs</th>\n",
       "    </tr>\n",
       "  </thead>\n",
       "  <tbody>\n",
       "    <tr>\n",
       "      <th>Bowl 1</th>\n",
       "      <td>0.692308</td>\n",
       "    </tr>\n",
       "    <tr>\n",
       "      <th>Bowl 2</th>\n",
       "      <td>0.307692</td>\n",
       "    </tr>\n",
       "  </tbody>\n",
       "</table>\n",
       "</div>"
      ],
      "text/plain": [
       "Bowl 1    0.692308\n",
       "Bowl 2    0.307692\n",
       "Name: , dtype: float64"
      ]
     },
     "execution_count": 15,
     "metadata": {},
     "output_type": "execute_result"
    }
   ],
   "source": [
    "posterior *= likelihood_vanilla\n",
    "posterior.normalize()\n",
    "posterior"
   ]
  },
  {
   "cell_type": "markdown",
   "id": "0cee0002",
   "metadata": {},
   "source": [
    "Ora la probabilità della ciotola 1 e di circa il 70%. Ma supponiamo di fare la stessa cosa e di ottenere un biscotto alla cioccolata.\n",
    "\n",
    "Ora le verosomiglianze del nuovo dato saranno:"
   ]
  },
  {
   "cell_type": "code",
   "execution_count": 16,
   "id": "97ea569b",
   "metadata": {},
   "outputs": [],
   "source": [
    "likelihood_chocolate = [0.25, 0.5]"
   ]
  },
  {
   "cell_type": "markdown",
   "id": "d0f48908",
   "metadata": {},
   "source": [
    "E qui l'aggiornamento:"
   ]
  },
  {
   "cell_type": "code",
   "execution_count": 17,
   "id": "abfd2976",
   "metadata": {},
   "outputs": [
    {
     "data": {
      "text/html": [
       "<div>\n",
       "<style scoped>\n",
       "    .dataframe tbody tr th:only-of-type {\n",
       "        vertical-align: middle;\n",
       "    }\n",
       "\n",
       "    .dataframe tbody tr th {\n",
       "        vertical-align: top;\n",
       "    }\n",
       "\n",
       "    .dataframe thead th {\n",
       "        text-align: right;\n",
       "    }\n",
       "</style>\n",
       "<table border=\"1\" class=\"dataframe\">\n",
       "  <thead>\n",
       "    <tr style=\"text-align: right;\">\n",
       "      <th></th>\n",
       "      <th>probs</th>\n",
       "    </tr>\n",
       "  </thead>\n",
       "  <tbody>\n",
       "    <tr>\n",
       "      <th>Bowl 1</th>\n",
       "      <td>0.529412</td>\n",
       "    </tr>\n",
       "    <tr>\n",
       "      <th>Bowl 2</th>\n",
       "      <td>0.470588</td>\n",
       "    </tr>\n",
       "  </tbody>\n",
       "</table>\n",
       "</div>"
      ],
      "text/plain": [
       "Bowl 1    0.529412\n",
       "Bowl 2    0.470588\n",
       "Name: , dtype: float64"
      ]
     },
     "execution_count": 17,
     "metadata": {},
     "output_type": "execute_result"
    }
   ],
   "source": [
    "posterior *= likelihood_chocolate\n",
    "posterior.normalize()\n",
    "posterior"
   ]
  },
  {
   "cell_type": "markdown",
   "id": "440ce25d",
   "metadata": {},
   "source": [
    "Ora la probabilità a posteriori per la ciotola 1 è circa del 53%.\n",
    "Dopo due biscotti alla vaniglia e uno alla cioccolata, la probabilitàa a posteriori è circa del 50/50.\n",
    "\n",
    "## 101 Ciotole\n",
    "Ora risolviamo il problema dei biscotti con 101 ciotole:\n",
    "\n",
    "* La ciotola 0 contiene il 0% di biscotti alla vaniglia\n",
    "* La ciotola 1 contiene il 1% di biscotti alla vaniglia\n",
    "* La ciotola 2 contiene il 2% di biscotti alla vaniglia\n",
    "\n",
    "e cosi:\n",
    "\n",
    "* La ciotola 99 contiene il 99% di biscotti alla vaniglia\n",
    "* la ciotola 100 coniene il 100% di biscotti alla vaniglia\n",
    "\n",
    "Come visto nella versione precedente, ci sono due tipo di biscotti, vaniglia e cioccolata.\n",
    "Dunque la ciotola 0 è composta da solo biscotti alla cioccolata, la ciotola 1 con il 99% biscotti alla cioccolata e così via.\n",
    "\n",
    "Supponiamo di scegliere una ciotola a caso, prendiamo un biscotto a caso, e otteniamo un biscotto alla vaniglia. Quale è la probabilità che il biscotto provenga dalla ciotola $x$, per ogni valore di $x$?\n",
    "\n",
    "Per risolvere questo problema, useremo la funzione `np.arange` per creare un array con 101 ipotesi, numerati da 0 a 100."
   ]
  },
  {
   "cell_type": "code",
   "execution_count": 18,
   "id": "9923bae6",
   "metadata": {},
   "outputs": [],
   "source": [
    "import numpy as np\n",
    "\n",
    "hypos = np.arange(101)"
   ]
  },
  {
   "cell_type": "markdown",
   "id": "aeb90bb0",
   "metadata": {},
   "source": [
    "Possiamo usare questo array per creare una distribuzione a priori:"
   ]
  },
  {
   "cell_type": "code",
   "execution_count": 19,
   "id": "01690f60",
   "metadata": {},
   "outputs": [
    {
     "data": {
      "text/plain": [
       "101"
      ]
     },
     "execution_count": 19,
     "metadata": {},
     "output_type": "execute_result"
    }
   ],
   "source": [
    "prior = Pmf(1, hypos)\n",
    "prior.normalize()"
   ]
  },
  {
   "cell_type": "markdown",
   "id": "cbe59674",
   "metadata": {},
   "source": [
    "Questo esempio mostra che possiamo creare un oggetto `Pmf` con due parametri.\n",
    "Il primo parametro è la priorità a priori; il secondo parametro è una sequenza di quantità.\n",
    "In questo esempio le probabilità sono le stesse, quindi dobbiamo fornirne solo una; e questa verra trasmessa \"broadcast\" attraverso tutte le ipotesi.\n",
    "\n",
    "Visto che tutte le ipotesi hanno la stessa probabilità, questa distribuzione è **uniforme**.\n",
    "Qui vediamo le prime ipotesi e le loro probabilità."
   ]
  },
  {
   "cell_type": "code",
   "execution_count": 20,
   "id": "03a76fcc",
   "metadata": {},
   "outputs": [
    {
     "data": {
      "text/html": [
       "<div>\n",
       "<style scoped>\n",
       "    .dataframe tbody tr th:only-of-type {\n",
       "        vertical-align: middle;\n",
       "    }\n",
       "\n",
       "    .dataframe tbody tr th {\n",
       "        vertical-align: top;\n",
       "    }\n",
       "\n",
       "    .dataframe thead th {\n",
       "        text-align: right;\n",
       "    }\n",
       "</style>\n",
       "<table border=\"1\" class=\"dataframe\">\n",
       "  <thead>\n",
       "    <tr style=\"text-align: right;\">\n",
       "      <th></th>\n",
       "      <th>probs</th>\n",
       "    </tr>\n",
       "  </thead>\n",
       "  <tbody>\n",
       "    <tr>\n",
       "      <th>0</th>\n",
       "      <td>0.009901</td>\n",
       "    </tr>\n",
       "    <tr>\n",
       "      <th>1</th>\n",
       "      <td>0.009901</td>\n",
       "    </tr>\n",
       "    <tr>\n",
       "      <th>2</th>\n",
       "      <td>0.009901</td>\n",
       "    </tr>\n",
       "  </tbody>\n",
       "</table>\n",
       "</div>"
      ],
      "text/plain": [
       "0    0.009901\n",
       "1    0.009901\n",
       "2    0.009901\n",
       "Name: , dtype: float64"
      ]
     },
     "execution_count": 20,
     "metadata": {},
     "output_type": "execute_result"
    }
   ],
   "source": [
    "prior.head()"
   ]
  },
  {
   "cell_type": "markdown",
   "id": "bf00b9ac",
   "metadata": {},
   "source": [
    "L'aspettativa del dato è una frazione dei biscotti alla vaniglia in ogni ciotola, possiamo quindi calcolarle usando `hypos`:"
   ]
  },
  {
   "cell_type": "code",
   "execution_count": 21,
   "id": "efcca7a2",
   "metadata": {},
   "outputs": [
    {
     "data": {
      "text/plain": [
       "array([0.  , 0.01, 0.02, 0.03, 0.04])"
      ]
     },
     "execution_count": 21,
     "metadata": {},
     "output_type": "execute_result"
    }
   ],
   "source": [
    "likelihood_vanilla = hypos/100\n",
    "likelihood_vanilla[:5]"
   ]
  },
  {
   "cell_type": "markdown",
   "id": "4abdc645",
   "metadata": {},
   "source": [
    "Ora possiamo calcolare la distribuzione a posteriori nel solito modo:"
   ]
  },
  {
   "cell_type": "code",
   "execution_count": 22,
   "id": "1d4ffbb1",
   "metadata": {},
   "outputs": [
    {
     "data": {
      "text/html": [
       "<div>\n",
       "<style scoped>\n",
       "    .dataframe tbody tr th:only-of-type {\n",
       "        vertical-align: middle;\n",
       "    }\n",
       "\n",
       "    .dataframe tbody tr th {\n",
       "        vertical-align: top;\n",
       "    }\n",
       "\n",
       "    .dataframe thead th {\n",
       "        text-align: right;\n",
       "    }\n",
       "</style>\n",
       "<table border=\"1\" class=\"dataframe\">\n",
       "  <thead>\n",
       "    <tr style=\"text-align: right;\">\n",
       "      <th></th>\n",
       "      <th>probs</th>\n",
       "    </tr>\n",
       "  </thead>\n",
       "  <tbody>\n",
       "    <tr>\n",
       "      <th>0</th>\n",
       "      <td>0.000000</td>\n",
       "    </tr>\n",
       "    <tr>\n",
       "      <th>1</th>\n",
       "      <td>0.000198</td>\n",
       "    </tr>\n",
       "    <tr>\n",
       "      <th>2</th>\n",
       "      <td>0.000396</td>\n",
       "    </tr>\n",
       "  </tbody>\n",
       "</table>\n",
       "</div>"
      ],
      "text/plain": [
       "0    0.000000\n",
       "1    0.000198\n",
       "2    0.000396\n",
       "Name: , dtype: float64"
      ]
     },
     "execution_count": 22,
     "metadata": {},
     "output_type": "execute_result"
    }
   ],
   "source": [
    "posterior1 = prior * likelihood_vanilla\n",
    "posterior1.normalize()\n",
    "posterior1.head()"
   ]
  },
  {
   "cell_type": "code",
   "execution_count": 23,
   "id": "1497da7c",
   "metadata": {},
   "outputs": [
    {
     "data": {
      "text/html": [
       "<div>\n",
       "<style scoped>\n",
       "    .dataframe tbody tr th:only-of-type {\n",
       "        vertical-align: middle;\n",
       "    }\n",
       "\n",
       "    .dataframe tbody tr th {\n",
       "        vertical-align: top;\n",
       "    }\n",
       "\n",
       "    .dataframe thead th {\n",
       "        text-align: right;\n",
       "    }\n",
       "</style>\n",
       "<table border=\"1\" class=\"dataframe\">\n",
       "  <thead>\n",
       "    <tr style=\"text-align: right;\">\n",
       "      <th></th>\n",
       "      <th>probs</th>\n",
       "    </tr>\n",
       "  </thead>\n",
       "  <tbody>\n",
       "    <tr>\n",
       "      <th>98</th>\n",
       "      <td>0.019406</td>\n",
       "    </tr>\n",
       "    <tr>\n",
       "      <th>99</th>\n",
       "      <td>0.019604</td>\n",
       "    </tr>\n",
       "    <tr>\n",
       "      <th>100</th>\n",
       "      <td>0.019802</td>\n",
       "    </tr>\n",
       "  </tbody>\n",
       "</table>\n",
       "</div>"
      ],
      "text/plain": [
       "98     0.019406\n",
       "99     0.019604\n",
       "100    0.019802\n",
       "Name: , dtype: float64"
      ]
     },
     "execution_count": 23,
     "metadata": {},
     "output_type": "execute_result"
    }
   ],
   "source": [
    "posterior1.tail()"
   ]
  },
  {
   "cell_type": "markdown",
   "id": "0dd45f01",
   "metadata": {},
   "source": [
    "La figura qui sotto mostra la distribuzione a priori e quella a posteriori dopo un biscotto alla vaniglia."
   ]
  },
  {
   "cell_type": "code",
   "execution_count": 24,
   "id": "36b3f7b5",
   "metadata": {},
   "outputs": [
    {
     "data": {
      "image/png": "[encoded data removed]",
      "text/plain": [
       "<Figure size 432x288 with 1 Axes>"
      ]
     },
     "metadata": {
      "needs_background": "light"
     },
     "output_type": "display_data"
    }
   ],
   "source": [
    "from utils import decorate\n",
    "\n",
    "def decorate_bowls(title):\n",
    "    decorate(xlabel='Bowl #',\n",
    "             ylabel='PMF',\n",
    "             title=title)\n",
    "\n",
    "prior.plot(label='prior', color='C5')\n",
    "posterior1.plot(label='posterior', color='C4')\n",
    "decorate_bowls('Posterior after one vanilla cookie')"
   ]
  },
  {
   "cell_type": "markdown",
   "id": "56b140c6",
   "metadata": {},
   "source": [
    "La probabilità a posteriori della ciotola è 0 perchè non contiene biscotti alla vaniglia. La probabilità a posteriori della ciotola 100 è la più alta perchè contiene tutti biscotti alla vaniglia. In mezzo la distribuzione è lineare in quanto l'aspettativa è proporzionale al numero della ciotola.\n",
    "\n",
    "Ora supponiamo di estrarre un biscotto ancora dalla stessa ciotola e di ottenere un altro biscotto alla vaniglia. \n",
    "Qui l'aggiornamento dopo il secondo biscotto:"
   ]
  },
  {
   "cell_type": "code",
   "execution_count": 25,
   "id": "f8f0ee25",
   "metadata": {},
   "outputs": [
    {
     "data": {
      "text/plain": [
       "0.6699999999999999"
      ]
     },
     "execution_count": 25,
     "metadata": {},
     "output_type": "execute_result"
    }
   ],
   "source": [
    "posterior2 = posterior1 * likelihood_vanilla\n",
    "posterior2.normalize()"
   ]
  },
  {
   "cell_type": "markdown",
   "id": "ed58530b",
   "metadata": {},
   "source": [
    "E qui la distribuzione a posteriori."
   ]
  },
  {
   "cell_type": "code",
   "execution_count": 26,
   "id": "99e14343",
   "metadata": {},
   "outputs": [
    {
     "data": {
      "image/png": "[encoded data removed]",
      "text/plain": [
       "<Figure size 432x288 with 1 Axes>"
      ]
     },
     "metadata": {
      "needs_background": "light"
     },
     "output_type": "display_data"
    }
   ],
   "source": [
    "posterior2.plot(label='posterior', color='C4')\n",
    "decorate_bowls('Posterior after two vanilla cookies')"
   ]
  },
  {
   "cell_type": "markdown",
   "id": "e17afa18",
   "metadata": {},
   "source": [
    "Dopo due biscotti alla vaniglia, le ciotole con un numero alto hanno un'alta probabilità perchè contiene più biscotti alla vaniglia, i numeri bassi hanno una probabilità più bassa.\n",
    "\n",
    "Ma supponiamo di pescare ancora e ottenere un biscotto al ciocolata.\n",
    "Qui l'aggiornamento:"
   ]
  },
  {
   "cell_type": "code",
   "execution_count": 27,
   "id": "2a9e1c02",
   "metadata": {},
   "outputs": [
    {
     "data": {
      "text/plain": [
       "0.2462686567164179"
      ]
     },
     "execution_count": 27,
     "metadata": {},
     "output_type": "execute_result"
    }
   ],
   "source": [
    "likelihood_chocolate = 1 - hypos/100\n",
    "\n",
    "posterior3 = posterior2 * likelihood_chocolate\n",
    "posterior3.normalize()"
   ]
  },
  {
   "cell_type": "markdown",
   "id": "364ab9fb",
   "metadata": {},
   "source": [
    "E qui la distribuzione a posteriori."
   ]
  },
  {
   "cell_type": "code",
   "execution_count": 28,
   "id": "ca2919cc",
   "metadata": {},
   "outputs": [
    {
     "data": {
      "image/png": "[encoded data removed]",
      "text/plain": [
       "<Figure size 432x288 with 1 Axes>"
      ]
     },
     "metadata": {
      "needs_background": "light"
     },
     "output_type": "display_data"
    }
   ],
   "source": [
    "posterior3.plot(label='posterior', color='C4')\n",
    "decorate_bowls('Posterior after 2 vanilla, 1 chocolate')"
   ]
  },
  {
   "cell_type": "markdown",
   "id": "3bbb1580",
   "metadata": {},
   "source": [
    "Ora la ciotola 100 è stata eliminata perchè non contiene biscotti alla cioccolata, ma le ciotole con un numero alto sono più probabili delle ciotole con un numero basso, in quanto abbiamo visto più biscotti alla vaniglia che al cioccolato. \n",
    "\n",
    "Nei fatti il picco della probabilità a posteriori è alla ciotola 67 che corrisponde alla frazione alla frazione dei biscotti alla vaniglia che abbiamo osservato 2/3.\n",
    "\n",
    "La quantità con la probabilità a posteriori più alta è chiamata MAP, che sta per \"stima del massimo a posteriori\", \"maximum a posteriori probability\".\n",
    "Per calcolare il MAP, possiamo usare il metodo `idxmax` dell'oggetto `Series`:"
   ]
  },
  {
   "cell_type": "code",
   "execution_count": 29,
   "id": "9cd59a5d",
   "metadata": {},
   "outputs": [
    {
     "data": {
      "text/plain": [
       "67"
      ]
     },
     "execution_count": 29,
     "metadata": {},
     "output_type": "execute_result"
    }
   ],
   "source": [
    "posterior3.idxmax()"
   ]
  },
  {
   "cell_type": "markdown",
   "id": "53cb7f77",
   "metadata": {},
   "source": [
    "Oppure `Pmf` provvede un'altro metodo per la stessa cosa:"
   ]
  },
  {
   "cell_type": "code",
   "execution_count": 30,
   "id": "5f6f2d84",
   "metadata": {},
   "outputs": [
    {
     "data": {
      "text/plain": [
       "67"
      ]
     },
     "execution_count": 30,
     "metadata": {},
     "output_type": "execute_result"
    }
   ],
   "source": [
    "posterior3.max_prob()"
   ]
  },
  {
   "cell_type": "markdown",
   "id": "8255df19",
   "metadata": {},
   "source": [
    "Come puoi sospettare, in questo esempio non riguarda realmente le ciotole; si tratta di stimare le proporzioni.\n",
    "Immagina di avere una ciotola di biscotti.\n",
    "Tu non conosci quale è la frazione dei biscotti alla vaniglia, potresti pensare che sia equalmente distribuito tra 0 e 1.\n",
    "Possiamo estrarre tre biscotti e que alla vaniglia, quale porzioni di biscotti nella ciotola sono alla vaniglia? \n",
    "La distribuzione a posteriori che abbiamo calcolato risponde alla domanda.\n",
    "\n",
    "Torneremo sulla stima delle proporzioni nel prossimo capitolo.\n",
    "Ma prima usiamo l'oggetto `Pmf` per risolvere il problema dei dadi.\n",
    "\n",
    "## Il problema dei dadi \n",
    "\n",
    "Nel capitolo precedente abbiamo risolto il problema dei dadi usando la tabella di bayes, qui il testo del problema:\n",
    "\n",
    "> Supponiamo di avere una scatola con un dado a 6 facce uno a 8 facce e uno a 12 facce.\n",
    "> Scegliamo un dado a caso lo lanciamo e otteniamo come risultato 1.\n",
    "> Quale è la probabilità di aver scelto un dado a 6 facce ?\n",
    "\n",
    "Ora risolviamolo usando l'oggetto `Pmf`.\n",
    "Useremo degli interi per rappresentare le ipotesi:"
   ]
  },
  {
   "cell_type": "code",
   "execution_count": 31,
   "id": "18e619a4",
   "metadata": {},
   "outputs": [],
   "source": [
    "hypos = [6, 8, 12]"
   ]
  },
  {
   "cell_type": "markdown",
   "id": "ce231ec1",
   "metadata": {},
   "source": [
    "Possiamo creare la distribuzione a priori come questa:"
   ]
  },
  {
   "cell_type": "code",
   "execution_count": 32,
   "id": "0f4cdfe2",
   "metadata": {},
   "outputs": [
    {
     "data": {
      "text/html": [
       "<div>\n",
       "<style scoped>\n",
       "    .dataframe tbody tr th:only-of-type {\n",
       "        vertical-align: middle;\n",
       "    }\n",
       "\n",
       "    .dataframe tbody tr th {\n",
       "        vertical-align: top;\n",
       "    }\n",
       "\n",
       "    .dataframe thead th {\n",
       "        text-align: right;\n",
       "    }\n",
       "</style>\n",
       "<table border=\"1\" class=\"dataframe\">\n",
       "  <thead>\n",
       "    <tr style=\"text-align: right;\">\n",
       "      <th></th>\n",
       "      <th>probs</th>\n",
       "    </tr>\n",
       "  </thead>\n",
       "  <tbody>\n",
       "    <tr>\n",
       "      <th>6</th>\n",
       "      <td>0.333333</td>\n",
       "    </tr>\n",
       "    <tr>\n",
       "      <th>8</th>\n",
       "      <td>0.333333</td>\n",
       "    </tr>\n",
       "    <tr>\n",
       "      <th>12</th>\n",
       "      <td>0.333333</td>\n",
       "    </tr>\n",
       "  </tbody>\n",
       "</table>\n",
       "</div>"
      ],
      "text/plain": [
       "6     0.333333\n",
       "8     0.333333\n",
       "12    0.333333\n",
       "Name: , dtype: float64"
      ]
     },
     "execution_count": 32,
     "metadata": {},
     "output_type": "execute_result"
    }
   ],
   "source": [
    "prior = Pmf(1/3, hypos)\n",
    "prior"
   ]
  },
  {
   "cell_type": "markdown",
   "id": "99875d7f",
   "metadata": {},
   "source": [
    "Nell'esempio precedente, la priorità a priori veniva trasmessa \"broadcast\" attraverso le ipotesi. L'oggetto Pmf ha due attributi:\n",
    "\n",
    "* qs che contiene le quantità della distribuzione\n",
    "* ps che contiene le corrispondenti probabilità"
   ]
  },
  {
   "cell_type": "code",
   "execution_count": 33,
   "id": "46e7ec18",
   "metadata": {},
   "outputs": [
    {
     "data": {
      "text/plain": [
       "array([ 6,  8, 12], dtype=int64)"
      ]
     },
     "execution_count": 33,
     "metadata": {},
     "output_type": "execute_result"
    }
   ],
   "source": [
    "prior.qs"
   ]
  },
  {
   "cell_type": "code",
   "execution_count": 34,
   "id": "6ab932f9",
   "metadata": {},
   "outputs": [
    {
     "data": {
      "text/plain": [
       "array([0.33333333, 0.33333333, 0.33333333])"
      ]
     },
     "execution_count": 34,
     "metadata": {},
     "output_type": "execute_result"
    }
   ],
   "source": [
    "prior.ps"
   ]
  },
  {
   "cell_type": "markdown",
   "id": "885ab362",
   "metadata": {},
   "source": [
    "Ora siamo pronti per eseguire l'aggiornamento.\n",
    "Qui la verosomiglianza dei dati per ogni ipotesi."
   ]
  },
  {
   "cell_type": "code",
   "execution_count": 35,
   "id": "e749e2ed",
   "metadata": {},
   "outputs": [],
   "source": [
    "likelihood1 = 1/6, 1/8, 1/12"
   ]
  },
  {
   "cell_type": "markdown",
   "id": "2acff935",
   "metadata": {},
   "source": [
    "E qui il loro aggiornamento."
   ]
  },
  {
   "cell_type": "code",
   "execution_count": 36,
   "id": "fb2f9ab8",
   "metadata": {},
   "outputs": [
    {
     "data": {
      "text/html": [
       "<div>\n",
       "<style scoped>\n",
       "    .dataframe tbody tr th:only-of-type {\n",
       "        vertical-align: middle;\n",
       "    }\n",
       "\n",
       "    .dataframe tbody tr th {\n",
       "        vertical-align: top;\n",
       "    }\n",
       "\n",
       "    .dataframe thead th {\n",
       "        text-align: right;\n",
       "    }\n",
       "</style>\n",
       "<table border=\"1\" class=\"dataframe\">\n",
       "  <thead>\n",
       "    <tr style=\"text-align: right;\">\n",
       "      <th></th>\n",
       "      <th>probs</th>\n",
       "    </tr>\n",
       "  </thead>\n",
       "  <tbody>\n",
       "    <tr>\n",
       "      <th>6</th>\n",
       "      <td>0.444444</td>\n",
       "    </tr>\n",
       "    <tr>\n",
       "      <th>8</th>\n",
       "      <td>0.333333</td>\n",
       "    </tr>\n",
       "    <tr>\n",
       "      <th>12</th>\n",
       "      <td>0.222222</td>\n",
       "    </tr>\n",
       "  </tbody>\n",
       "</table>\n",
       "</div>"
      ],
      "text/plain": [
       "6     0.444444\n",
       "8     0.333333\n",
       "12    0.222222\n",
       "Name: , dtype: float64"
      ]
     },
     "execution_count": 36,
     "metadata": {},
     "output_type": "execute_result"
    }
   ],
   "source": [
    "posterior = prior * likelihood1\n",
    "posterior.normalize()\n",
    "posterior"
   ]
  },
  {
   "cell_type": "markdown",
   "id": "390d51db",
   "metadata": {},
   "source": [
    "La probabilità a posteriori per il dado a 6 facce è pari a $4/9$.\n",
    "Ora supponiamo di lanciare il dado di nuovo e di ottenere 7.\n",
    "Qui le verosomiglianze:"
   ]
  },
  {
   "cell_type": "code",
   "execution_count": 37,
   "id": "af6819dd",
   "metadata": {},
   "outputs": [],
   "source": [
    "likelihood2 = 0, 1/8, 1/12"
   ]
  },
  {
   "cell_type": "markdown",
   "id": "5696bc3d",
   "metadata": {},
   "source": [
    "La verosomiglianza del dato a 6 facce è zero in quanto non è possibile ottenere un 7 in un dado a 6 facce.\n",
    "Le altre due verosomiglianze sono le stesse dell'esempio precedente\n",
    "Qui l'aggiornamento:"
   ]
  },
  {
   "cell_type": "code",
   "execution_count": 38,
   "id": "dd45e9b8",
   "metadata": {},
   "outputs": [
    {
     "data": {
      "text/html": [
       "<div>\n",
       "<style scoped>\n",
       "    .dataframe tbody tr th:only-of-type {\n",
       "        vertical-align: middle;\n",
       "    }\n",
       "\n",
       "    .dataframe tbody tr th {\n",
       "        vertical-align: top;\n",
       "    }\n",
       "\n",
       "    .dataframe thead th {\n",
       "        text-align: right;\n",
       "    }\n",
       "</style>\n",
       "<table border=\"1\" class=\"dataframe\">\n",
       "  <thead>\n",
       "    <tr style=\"text-align: right;\">\n",
       "      <th></th>\n",
       "      <th>probs</th>\n",
       "    </tr>\n",
       "  </thead>\n",
       "  <tbody>\n",
       "    <tr>\n",
       "      <th>6</th>\n",
       "      <td>0.000000</td>\n",
       "    </tr>\n",
       "    <tr>\n",
       "      <th>8</th>\n",
       "      <td>0.692308</td>\n",
       "    </tr>\n",
       "    <tr>\n",
       "      <th>12</th>\n",
       "      <td>0.307692</td>\n",
       "    </tr>\n",
       "  </tbody>\n",
       "</table>\n",
       "</div>"
      ],
      "text/plain": [
       "6     0.000000\n",
       "8     0.692308\n",
       "12    0.307692\n",
       "Name: , dtype: float64"
      ]
     },
     "execution_count": 38,
     "metadata": {},
     "output_type": "execute_result"
    }
   ],
   "source": [
    "posterior *= likelihood2\n",
    "posterior.normalize()\n",
    "posterior"
   ]
  },
  {
   "cell_type": "markdown",
   "id": "83356e62",
   "metadata": {},
   "source": [
    "Dopo il lancio di un 1 e un 7 la probabilità a posteriori di un dado a 8 facce è di circa il 69%.\n",
    "\n",
    "## Aggiornare i dadi\n",
    "La seguente funzione è una versione più generale di aggiornamento della sezione precedente:"
   ]
  },
  {
   "cell_type": "code",
   "execution_count": 39,
   "id": "4fc2eb49",
   "metadata": {},
   "outputs": [],
   "source": [
    "def update_dice(pmf, data):\n",
    "    \"\"\"Update pmf based on new data.\"\"\"\n",
    "    hypos = pmf.qs\n",
    "    likelihood = 1 / hypos\n",
    "    impossible = (data > hypos)\n",
    "    likelihood[impossible] = 0\n",
    "    pmf *= likelihood\n",
    "    pmf.normalize()"
   ]
  },
  {
   "cell_type": "markdown",
   "id": "481c03e5",
   "metadata": {},
   "source": [
    "Il primo parametr è un `Pmf` che rappresenta il possibile dato e la sua probabilità.\n",
    "Il secondo parametro è il risultato del dado lanciato.\n",
    "\n",
    "La prima linea seleziona le quantità dal `Pmf` che rappresenta le varie ipotesi,\n",
    "Visto che le ipotesti sono interi, possiamo usarle per calcolare le verosomiglianze.\n",
    "In generale, se ci sono `n` facce in un dado, la probabilità di ogni possibilità sarà `1/n`.\n",
    "\n",
    "Comunque dobbiamo controllare i risultati impossibili!\n",
    "Se il risultato eccede l'ipotetico numero delle facce del dado, la probabilità del risultato sarà 0.\n",
    "\n",
    "`impossible` è una `Series` booleana che ha valore `True` per ogni risultato impossibile. \n",
    "Usiamo questo come indice della variabile `likelihood` per impostare la corrispondente probabilità a 0.\n",
    "Finalmente, moltiplichiamo `pmf` per le verosomiglianze e normalizziamo,\n",
    "\n",
    "Qui vediamo come usare la funzione per calcolare gli aggiornamenti della sezione precedente.\n",
    "\n",
    "Partiamo dal una copia dei dati della distribuzione a priori:"
   ]
  },
  {
   "cell_type": "code",
   "execution_count": 40,
   "id": "9386bd40",
   "metadata": {},
   "outputs": [
    {
     "data": {
      "text/html": [
       "<div>\n",
       "<style scoped>\n",
       "    .dataframe tbody tr th:only-of-type {\n",
       "        vertical-align: middle;\n",
       "    }\n",
       "\n",
       "    .dataframe tbody tr th {\n",
       "        vertical-align: top;\n",
       "    }\n",
       "\n",
       "    .dataframe thead th {\n",
       "        text-align: right;\n",
       "    }\n",
       "</style>\n",
       "<table border=\"1\" class=\"dataframe\">\n",
       "  <thead>\n",
       "    <tr style=\"text-align: right;\">\n",
       "      <th></th>\n",
       "      <th>probs</th>\n",
       "    </tr>\n",
       "  </thead>\n",
       "  <tbody>\n",
       "    <tr>\n",
       "      <th>6</th>\n",
       "      <td>0.333333</td>\n",
       "    </tr>\n",
       "    <tr>\n",
       "      <th>8</th>\n",
       "      <td>0.333333</td>\n",
       "    </tr>\n",
       "    <tr>\n",
       "      <th>12</th>\n",
       "      <td>0.333333</td>\n",
       "    </tr>\n",
       "  </tbody>\n",
       "</table>\n",
       "</div>"
      ],
      "text/plain": [
       "6     0.333333\n",
       "8     0.333333\n",
       "12    0.333333\n",
       "Name: , dtype: float64"
      ]
     },
     "execution_count": 40,
     "metadata": {},
     "output_type": "execute_result"
    }
   ],
   "source": [
    "pmf = prior.copy()\n",
    "pmf"
   ]
  },
  {
   "cell_type": "markdown",
   "id": "2746437e",
   "metadata": {},
   "source": [
    "E usiamo la funzione `update_dice` per eseguire l'aggiornamento:"
   ]
  },
  {
   "cell_type": "code",
   "execution_count": 41,
   "id": "7a815a2d",
   "metadata": {},
   "outputs": [
    {
     "data": {
      "text/html": [
       "<div>\n",
       "<style scoped>\n",
       "    .dataframe tbody tr th:only-of-type {\n",
       "        vertical-align: middle;\n",
       "    }\n",
       "\n",
       "    .dataframe tbody tr th {\n",
       "        vertical-align: top;\n",
       "    }\n",
       "\n",
       "    .dataframe thead th {\n",
       "        text-align: right;\n",
       "    }\n",
       "</style>\n",
       "<table border=\"1\" class=\"dataframe\">\n",
       "  <thead>\n",
       "    <tr style=\"text-align: right;\">\n",
       "      <th></th>\n",
       "      <th>probs</th>\n",
       "    </tr>\n",
       "  </thead>\n",
       "  <tbody>\n",
       "    <tr>\n",
       "      <th>6</th>\n",
       "      <td>0.000000</td>\n",
       "    </tr>\n",
       "    <tr>\n",
       "      <th>8</th>\n",
       "      <td>0.692308</td>\n",
       "    </tr>\n",
       "    <tr>\n",
       "      <th>12</th>\n",
       "      <td>0.307692</td>\n",
       "    </tr>\n",
       "  </tbody>\n",
       "</table>\n",
       "</div>"
      ],
      "text/plain": [
       "6     0.000000\n",
       "8     0.692308\n",
       "12    0.307692\n",
       "Name: , dtype: float64"
      ]
     },
     "execution_count": 41,
     "metadata": {},
     "output_type": "execute_result"
    }
   ],
   "source": [
    "update_dice(pmf, 1)\n",
    "update_dice(pmf, 7)\n",
    "pmf"
   ]
  },
  {
   "cell_type": "markdown",
   "id": "3456a7be",
   "metadata": {},
   "source": [
    "Il risultato è lo stesso. Vedremo una versione di questa funzione nel prossimo capitolo.\n",
    "\n",
    "## Sommario\n",
    "\n",
    "Abbiamo visto come funziona il modulo `Pmf` per rappresentare un insieme di ipotesi e le loro probabilità.\n",
    "Nel prossimo capitolo introdurremo il problema dell'Euro e vedremo la distribuzione binomiale.\n",
    "E alla fine faremo il salto usando il teorema di Bayes per fare statistica Bayesiana.\n",
    "\n",
    "Ma prima lavoriamo sugli esercizi.\n",
    "\n",
    "## Esercizi\n",
    "\n",
    "**Esercizio:**\n",
    "Supponiamo di avere una scatola con un dado a 6 facce, uno a 8 e uno a 12.\n",
    "Scegliamo un dado a caso, lanciamo 4 volte e ottengo un 1,3,5 e 7.\n",
    "Quale è la probabilità di aver scelto un dado a 8 facce?\n",
    "\n",
    "\n",
    "Possiamo usare la funzione `update_dice` o di fare gli aggiornamenti a mano."
   ]
  },
  {
   "cell_type": "code",
   "execution_count": 42,
   "id": "0f43e64c",
   "metadata": {},
   "outputs": [
    {
     "data": {
      "text/html": [
       "<div>\n",
       "<style scoped>\n",
       "    .dataframe tbody tr th:only-of-type {\n",
       "        vertical-align: middle;\n",
       "    }\n",
       "\n",
       "    .dataframe tbody tr th {\n",
       "        vertical-align: top;\n",
       "    }\n",
       "\n",
       "    .dataframe thead th {\n",
       "        text-align: right;\n",
       "    }\n",
       "</style>\n",
       "<table border=\"1\" class=\"dataframe\">\n",
       "  <thead>\n",
       "    <tr style=\"text-align: right;\">\n",
       "      <th></th>\n",
       "      <th>probs</th>\n",
       "    </tr>\n",
       "  </thead>\n",
       "  <tbody>\n",
       "    <tr>\n",
       "      <th>6</th>\n",
       "      <td>0.000000</td>\n",
       "    </tr>\n",
       "    <tr>\n",
       "      <th>8</th>\n",
       "      <td>0.835052</td>\n",
       "    </tr>\n",
       "    <tr>\n",
       "      <th>12</th>\n",
       "      <td>0.164948</td>\n",
       "    </tr>\n",
       "  </tbody>\n",
       "</table>\n",
       "</div>"
      ],
      "text/plain": [
       "6     0.000000\n",
       "8     0.835052\n",
       "12    0.164948\n",
       "Name: , dtype: float64"
      ]
     },
     "execution_count": 42,
     "metadata": {},
     "output_type": "execute_result"
    }
   ],
   "source": [
    "pmf = prior.copy()\n",
    "update_dice(pmf, 1)\n",
    "update_dice(pmf, 3)\n",
    "update_dice(pmf, 5)\n",
    "update_dice(pmf, 7)\n",
    "pmf"
   ]
  },
  {
   "cell_type": "markdown",
   "id": "d863ba6d",
   "metadata": {},
   "source": [
    "**Esercizio:** Nella sezione precedente del problema dei dadi, le probabilità a priori sono le stesse perchè la scatola contiene un dado per tipo. Ma supponiamo che il box contenga 1 dado a 4 facce, 2 dadi a 6 facce, 3 dadi a 8 facce, 4 dadi a 12 facce e 5 dadi a 20 facce. \n",
    "\n",
    "Prendiamo un dado e otteniamo un 7. Quale è la probabilità di aver scelto un dado a 8 facce?.\n",
    "\n",
    "*Suggerimento:* Per creare la distribuzione a priori, usiamo `Pmf` con due parametri."
   ]
  },
  {
   "cell_type": "code",
   "execution_count": 43,
   "id": "297bf000",
   "metadata": {},
   "outputs": [
    {
     "data": {
      "text/html": [
       "<div>\n",
       "<style scoped>\n",
       "    .dataframe tbody tr th:only-of-type {\n",
       "        vertical-align: middle;\n",
       "    }\n",
       "\n",
       "    .dataframe tbody tr th {\n",
       "        vertical-align: top;\n",
       "    }\n",
       "\n",
       "    .dataframe thead th {\n",
       "        text-align: right;\n",
       "    }\n",
       "</style>\n",
       "<table border=\"1\" class=\"dataframe\">\n",
       "  <thead>\n",
       "    <tr style=\"text-align: right;\">\n",
       "      <th></th>\n",
       "      <th>probs</th>\n",
       "    </tr>\n",
       "  </thead>\n",
       "  <tbody>\n",
       "    <tr>\n",
       "      <th>4</th>\n",
       "      <td>1</td>\n",
       "    </tr>\n",
       "    <tr>\n",
       "      <th>6</th>\n",
       "      <td>2</td>\n",
       "    </tr>\n",
       "    <tr>\n",
       "      <th>8</th>\n",
       "      <td>3</td>\n",
       "    </tr>\n",
       "    <tr>\n",
       "      <th>12</th>\n",
       "      <td>4</td>\n",
       "    </tr>\n",
       "    <tr>\n",
       "      <th>20</th>\n",
       "      <td>5</td>\n",
       "    </tr>\n",
       "  </tbody>\n",
       "</table>\n",
       "</div>"
      ],
      "text/plain": [
       "4     1\n",
       "6     2\n",
       "8     3\n",
       "12    4\n",
       "20    5\n",
       "Name: , dtype: int64"
      ]
     },
     "execution_count": 43,
     "metadata": {},
     "output_type": "execute_result"
    }
   ],
   "source": [
    "hypos = [4,6,8,12,20]\n",
    "prob  = [1,2,3,4,5]\n",
    "\n",
    "pmf = Pmf(prob, hypos)\n",
    "pmf"
   ]
  },
  {
   "cell_type": "code",
   "execution_count": 44,
   "id": "d6eedcdf",
   "metadata": {},
   "outputs": [],
   "source": [
    "update_dice(pmf, 7)\n",
    "pmf"
   ]
  },
  {
   "cell_type": "markdown",
   "id": "1fd5e81e",
   "metadata": {},
   "source": [
    "**Esercizio:** Supponiamo di avere due cassetti per i calzini. Uno contiene un numero eguale di calzini bianchi e neri.\n",
    "L'altro contiene calzini in egual numero di calzini rossi,verdi e blu, Supponiamo di scegliere un cassetto a caso, scegliamo due calzini a caso e otteniamo una coppia di calzini a caso. Quale è la probabilità che i calzini sia bianco ?\n",
    "\n",
    "Per semplicità, assumiamo che ci siano talmente tanti calzini in entrambi i cassetti che rimuovendo un calzino apporta una modifica trascurabile delle proporzioni."
   ]
  },
  {
   "cell_type": "code",
   "execution_count": 46,
   "id": "31518611",
   "metadata": {},
   "outputs": [
    {
     "data": {
      "text/html": [
       "<div>\n",
       "<style scoped>\n",
       "    .dataframe tbody tr th:only-of-type {\n",
       "        vertical-align: middle;\n",
       "    }\n",
       "\n",
       "    .dataframe tbody tr th {\n",
       "        vertical-align: top;\n",
       "    }\n",
       "\n",
       "    .dataframe thead th {\n",
       "        text-align: right;\n",
       "    }\n",
       "</style>\n",
       "<table border=\"1\" class=\"dataframe\">\n",
       "  <thead>\n",
       "    <tr style=\"text-align: right;\">\n",
       "      <th></th>\n",
       "      <th>probs</th>\n",
       "    </tr>\n",
       "  </thead>\n",
       "  <tbody>\n",
       "    <tr>\n",
       "      <th>Cassetto 1</th>\n",
       "      <td>0.5</td>\n",
       "    </tr>\n",
       "    <tr>\n",
       "      <th>Cassetto 2</th>\n",
       "      <td>0.5</td>\n",
       "    </tr>\n",
       "  </tbody>\n",
       "</table>\n",
       "</div>"
      ],
      "text/plain": [
       "Cassetto 1    0.5\n",
       "Cassetto 2    0.5\n",
       "Name: , dtype: float64"
      ]
     },
     "execution_count": 46,
     "metadata": {},
     "output_type": "execute_result"
    }
   ],
   "source": [
    "socks = Pmf.from_seq(['Cassetto 1', 'Cassetto 2'])"
   ]
  },
  {
   "cell_type": "code",
   "execution_count": 47,
   "id": "6d482918",
   "metadata": {},
   "outputs": [
    {
     "data": {
      "text/html": [
       "<div>\n",
       "<style scoped>\n",
       "    .dataframe tbody tr th:only-of-type {\n",
       "        vertical-align: middle;\n",
       "    }\n",
       "\n",
       "    .dataframe tbody tr th {\n",
       "        vertical-align: top;\n",
       "    }\n",
       "\n",
       "    .dataframe thead th {\n",
       "        text-align: right;\n",
       "    }\n",
       "</style>\n",
       "<table border=\"1\" class=\"dataframe\">\n",
       "  <thead>\n",
       "    <tr style=\"text-align: right;\">\n",
       "      <th></th>\n",
       "      <th>probs</th>\n",
       "    </tr>\n",
       "  </thead>\n",
       "  <tbody>\n",
       "    <tr>\n",
       "      <th>Cassetto 1</th>\n",
       "      <td>0.6</td>\n",
       "    </tr>\n",
       "    <tr>\n",
       "      <th>Cassetto 2</th>\n",
       "      <td>0.4</td>\n",
       "    </tr>\n",
       "  </tbody>\n",
       "</table>\n",
       "</div>"
      ],
      "text/plain": [
       "Cassetto 1    0.6\n",
       "Cassetto 2    0.4\n",
       "Name: , dtype: float64"
      ]
     },
     "execution_count": 47,
     "metadata": {},
     "output_type": "execute_result"
    }
   ],
   "source": [
    "# i primo cassetto ha due coppie perciò la probabilità di ottenere una coppia è di 1/2\n",
    "# il secondo cassetto ha tre coppie perciò la probabilità di ottenere una coppia è di 1/3\n",
    "\n",
    "likesocks = [1/2,1/3]\n",
    "socks *= likesocks\n",
    "socks.normalize()\n",
    "socks"
   ]
  },
  {
   "cell_type": "code",
   "execution_count": 49,
   "id": "04616d53",
   "metadata": {},
   "outputs": [
    {
     "data": {
      "text/plain": [
       "0.30000000000000004"
      ]
     },
     "execution_count": 49,
     "metadata": {},
     "output_type": "execute_result"
    }
   ],
   "source": [
    "# ora la probabilità di aver scelto il cassetto 1 è del 60%\n",
    "# la probabilità di aver scelto la coppia dei calzini bianchi sarà\n",
    "\n",
    "socks['Cassetto 1'] / 2"
   ]
  },
  {
   "cell_type": "markdown",
   "id": "d93b6396",
   "metadata": {},
   "source": [
    "**Esercizio:** Qui un problema dal libro [Bayesian Data Analysis](http://www.stat.columbia.edu/~gelman/book/):\n",
    "\n",
    "> Elvis Presley ha due fratelli gemelli (che è morto alla nascita). Quale è la probabilità che Elvis sia stato un gemello omozigota?\n",
    "\n",
    "Suggerimento: Nel 1935 circa 2/3 dei gemelli era eterozigota mentre 1/3 era omozigota."
   ]
  },
  {
   "cell_type": "code",
   "execution_count": 50,
   "id": "8195bacf",
   "metadata": {},
   "outputs": [
    {
     "data": {
      "text/html": [
       "<div>\n",
       "<style scoped>\n",
       "    .dataframe tbody tr th:only-of-type {\n",
       "        vertical-align: middle;\n",
       "    }\n",
       "\n",
       "    .dataframe tbody tr th {\n",
       "        vertical-align: top;\n",
       "    }\n",
       "\n",
       "    .dataframe thead th {\n",
       "        text-align: right;\n",
       "    }\n",
       "</style>\n",
       "<table border=\"1\" class=\"dataframe\">\n",
       "  <thead>\n",
       "    <tr style=\"text-align: right;\">\n",
       "      <th></th>\n",
       "      <th>probs</th>\n",
       "    </tr>\n",
       "  </thead>\n",
       "  <tbody>\n",
       "    <tr>\n",
       "      <th>identical</th>\n",
       "      <td>0.333333</td>\n",
       "    </tr>\n",
       "    <tr>\n",
       "      <th>fraternal</th>\n",
       "      <td>0.666667</td>\n",
       "    </tr>\n",
       "  </tbody>\n",
       "</table>\n",
       "</div>"
      ],
      "text/plain": [
       "identical    0.333333\n",
       "fraternal    0.666667\n",
       "Name: , dtype: float64"
      ]
     },
     "execution_count": 50,
     "metadata": {},
     "output_type": "execute_result"
    }
   ],
   "source": [
    "hypos = ['identical', 'fraternal']\n",
    "prior = Pmf([1/3, 2/3], hypos)\n",
    "prior"
   ]
  },
  {
   "cell_type": "code",
   "execution_count": 51,
   "id": "a881d50b",
   "metadata": {},
   "outputs": [
    {
     "data": {
      "text/html": [
       "<div>\n",
       "<style scoped>\n",
       "    .dataframe tbody tr th:only-of-type {\n",
       "        vertical-align: middle;\n",
       "    }\n",
       "\n",
       "    .dataframe tbody tr th {\n",
       "        vertical-align: top;\n",
       "    }\n",
       "\n",
       "    .dataframe thead th {\n",
       "        text-align: right;\n",
       "    }\n",
       "</style>\n",
       "<table border=\"1\" class=\"dataframe\">\n",
       "  <thead>\n",
       "    <tr style=\"text-align: right;\">\n",
       "      <th></th>\n",
       "      <th>probs</th>\n",
       "    </tr>\n",
       "  </thead>\n",
       "  <tbody>\n",
       "    <tr>\n",
       "      <th>identical</th>\n",
       "      <td>0.5</td>\n",
       "    </tr>\n",
       "    <tr>\n",
       "      <th>fraternal</th>\n",
       "      <td>0.5</td>\n",
       "    </tr>\n",
       "  </tbody>\n",
       "</table>\n",
       "</div>"
      ],
      "text/plain": [
       "identical    0.5\n",
       "fraternal    0.5\n",
       "Name: , dtype: float64"
      ]
     },
     "execution_count": 51,
     "metadata": {},
     "output_type": "execute_result"
    }
   ],
   "source": [
    "likelihood = 1, 1/2\n",
    "posterior = prior * likelihood\n",
    "posterior.normalize()\n",
    "posterior"
   ]
  },
  {
   "cell_type": "code",
   "execution_count": null,
   "id": "b51a7750",
   "metadata": {},
   "outputs": [],
   "source": []
  }
 ],
 "metadata": {
  "kernelspec": {
   "display_name": "Python 3 (ipykernel)",
   "language": "python",
   "name": "python3"
  },
  "language_info": {
   "codemirror_mode": {
    "name": "ipython",
    "version": 3
   },
   "file_extension": ".py",
   "mimetype": "text/x-python",
   "name": "python",
   "nbconvert_exporter": "python",
   "pygments_lexer": "ipython3",
   "version": "3.9.7"
  }
 },
 "nbformat": 4,
 "nbformat_minor": 5
}
