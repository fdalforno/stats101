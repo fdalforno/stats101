{
 "cells": [
  {
   "cell_type": "markdown",
   "id": "342a4580",
   "metadata": {},
   "source": [
    "# Le distribuzioni\n",
    "\n",
    "Uno dei migliori modi per descrivere una variabile è quello di mostrare i valori che appaiono nel dataset e contare gli stessi.\n",
    "Questo viene chiamato anche **distribuzione** di una variabile.\n",
    "\n",
    "Il modo più semplice di rappresentare una distribuzione è attraverso l'uso di un istogramma, questo è un grafico che mostra la frequenza di ogni valore, in questo contesto per frequenza si intende il numero di volte che il valore si presenta.\n",
    "\n",
    "In pyhton un modo efficiente per fare questo è tramite l'utilizzo di un dizionario, data una sequenza di valori t:"
   ]
  },
  {
   "cell_type": "code",
   "execution_count": 1,
   "id": "64f3348f",
   "metadata": {},
   "outputs": [],
   "source": [
    "t = [1,2,2,3,4,5,5,6,7,7,7,8,9]"
   ]
  },
  {
   "cell_type": "code",
   "execution_count": 2,
   "id": "1a2ce2fc",
   "metadata": {},
   "outputs": [
    {
     "data": {
      "text/plain": [
       "{1: 1, 2: 2, 3: 1, 4: 1, 5: 2, 6: 1, 7: 3, 8: 1, 9: 1}"
      ]
     },
     "execution_count": 2,
     "metadata": {},
     "output_type": "execute_result"
    }
   ],
   "source": [
    "hist = {}\n",
    "for x in t:\n",
    "    hist[x] = hist.get(x,0) + 1\n",
    "\n",
    "hist"
   ]
  },
  {
   "cell_type": "markdown",
   "id": "0ef7cb23",
   "metadata": {},
   "source": [
    "Questo codice conta il numero di occorrenze e restituisce la sua frequenza, alternativamente si può usare la classe `Counter` definita nel modulo `collections`"
   ]
  },
  {
   "cell_type": "code",
   "execution_count": 3,
   "id": "3dc378de",
   "metadata": {},
   "outputs": [
    {
     "data": {
      "text/plain": [
       "3"
      ]
     },
     "execution_count": 3,
     "metadata": {},
     "output_type": "execute_result"
    }
   ],
   "source": [
    "from collections import Counter\n",
    "counter = Counter(t)\n",
    "counter[7]"
   ]
  },
  {
   "cell_type": "markdown",
   "id": "f6438088",
   "metadata": {},
   "source": [
    "Che resituisce un oggetto di tipo `Counter` il quale si puo interrogare per avere la frequenza del valore voluto.\n",
    "Un altra opzione può essere quella di usare il metodo `value_counts` fornito da pandas e usato già nella lezione precedente.\n",
    "\n",
    "Torniamo al nostro problema \"il primo bambino tende a nascere più tardi\" come prima cosa carichiamo il dataset."
   ]
  },
  {
   "cell_type": "code",
   "execution_count": 4,
   "id": "f06a69a8",
   "metadata": {},
   "outputs": [],
   "source": [
    "from utils import readReadFemPreg\n",
    "\n",
    "preg = readReadFemPreg()\n",
    "live = preg[preg.outcome == 1]"
   ]
  },
  {
   "cell_type": "markdown",
   "id": "7a16a69d",
   "metadata": {},
   "source": [
    "Analizziamo la distribuzione dei valori del peso del nascituro"
   ]
  },
  {
   "cell_type": "code",
   "execution_count": 5,
   "id": "1288f8e7",
   "metadata": {},
   "outputs": [
    {
     "data": {
      "text/plain": [
       "(0.0, 3149.0)"
      ]
     },
     "execution_count": 5,
     "metadata": {},
     "output_type": "execute_result"
    },
    {
     "data": {
      "image/png": "[encoded data removed]",
      "text/plain": [
       "<Figure size 432x288 with 1 Axes>"
      ]
     },
     "metadata": {
      "needs_background": "light"
     },
     "output_type": "display_data"
    }
   ],
   "source": [
    "import matplotlib.pyplot as plt\n",
    "import numpy as np\n",
    "\n",
    "values = live.birthwgt_lb\n",
    "xmin = live.birthwgt_lb.min()\n",
    "xmax = live.birthwgt_lb.max()\n",
    "\n",
    "n_bins = int(xmax-xmin)\n",
    "\n",
    "n, bins, patches = plt.hist(x=values, bins=n_bins, color='#0504aa',alpha=0.7)\n",
    "plt.grid(axis='y', alpha=0.75)\n",
    "\n",
    "labels = [str(x) for x in range(n_bins)]\n",
    "xs = np.arange(len(labels))\n",
    "plt.xticks(xs+0.5, labels)\n",
    "\n",
    "plt.xlabel('Value in pounds')\n",
    "plt.ylabel('Frequency')\n",
    "maxfreq = n.max()\n",
    "plt.ylim(ymax=np.ceil(maxfreq) + 100)"
   ]
  },
  {
   "cell_type": "markdown",
   "id": "e5295880",
   "metadata": {},
   "source": [
    "La figura qui sopra mostra il risultato il valore più comune è chiamato **moda** che rappresenta il valore di 7 pounds \n",
    "La distribuzione dei valori assomiglia vagamente ad una campana, questa distribuzione si chiama **normale** oppure **gaussiana**. \n",
    "La campana però non è perfetta in quanto la coda di sinistra tende ad estendersi più a sinistra che a destra.\n",
    "\n",
    "La figura sotto invece mostra l'istogramma del valore `birthwgt_oz` un pezzo del peso del nascituro, ci si aspetta che i valori siano distribuiti uniformemente (distribuzione **uniforme**) vediamo il risultato"
   ]
  },
  {
   "cell_type": "code",
   "execution_count": 6,
   "id": "1f23b9bd",
   "metadata": {},
   "outputs": [
    {
     "data": {
      "text/plain": [
       "(0.0, 1137.0)"
      ]
     },
     "execution_count": 6,
     "metadata": {},
     "output_type": "execute_result"
    },
    {
     "data": {
      "image/png": "[encoded data removed]",
      "text/plain": [
       "<Figure size 432x288 with 1 Axes>"
      ]
     },
     "metadata": {
      "needs_background": "light"
     },
     "output_type": "display_data"
    }
   ],
   "source": [
    "values = live.birthwgt_oz\n",
    "xmin = values.min()\n",
    "xmax = values.max()\n",
    "\n",
    "n_bins = int(xmax-xmin)\n",
    "\n",
    "n, bins, patches = plt.hist(x=values, bins=n_bins, color='#0504aa',alpha=0.7)\n",
    "plt.grid(axis='y', alpha=0.75)\n",
    "\n",
    "labels = [str(x) for x in range(n_bins)]\n",
    "xs = np.arange(len(labels))\n",
    "plt.xticks(xs+0.5, labels)\n",
    "\n",
    "plt.xlabel('Value in onces')\n",
    "plt.ylabel('Frequency')\n",
    "maxfreq = n.max()\n",
    "plt.ylim(ymax=np.ceil(maxfreq) + 100)"
   ]
  },
  {
   "cell_type": "markdown",
   "id": "a6c7b04f",
   "metadata": {},
   "source": [
    "notiamo che il valore 0 tende ad essere più frequente, probabilmente perchè si tende ad approssimare il peso vicino ad un valore intero.\n",
    "\n",
    "Andiamo ad analizzare l'età della madre alla data del parto."
   ]
  },
  {
   "cell_type": "code",
   "execution_count": 7,
   "id": "1fd17992",
   "metadata": {},
   "outputs": [
    {
     "name": "stdout",
     "output_type": "stream",
     "text": [
      "Mode of pregnacy age 22.75\n"
     ]
    },
    {
     "data": {
      "image/png": "[encoded data removed]",
      "text/plain": [
       "<Figure size 432x288 with 1 Axes>"
      ]
     },
     "metadata": {
      "needs_background": "light"
     },
     "output_type": "display_data"
    }
   ],
   "source": [
    "values = live.agepreg\n",
    "xmin = values.min()\n",
    "xmax = values.max()\n",
    "\n",
    "n_bins = int(xmax-xmin)\n",
    "\n",
    "n, bins, patches = plt.hist(x=values, bins=n_bins, color='#0504aa',alpha=0.7)\n",
    "plt.grid(axis='y', alpha=0.75)\n",
    "\n",
    "plt.xlabel('Value in years')\n",
    "plt.ylabel('Frequency')\n",
    "maxfreq = n.max()\n",
    "plt.ylim(ymax=np.ceil(maxfreq) + 100)\n",
    "\n",
    "mode = values.mode()[0]\n",
    "print(\"Mode of pregnacy age {0}\".format(mode))\n"
   ]
  },
  {
   "cell_type": "markdown",
   "id": "fce9b837",
   "metadata": {},
   "source": [
    "La moda è sui 23 anni, la distribuzione ricorda vagamente una campana ma in questo caso si estende molto più a destra che a sinistra.\n",
    "\n",
    "Passiamo ora ad analizzare il periodo di gestazione il valore più comune è di 39 settimane, la coda è piu lunga a sinistra di solito dopo 43 settimane i medici intervengono"
   ]
  },
  {
   "cell_type": "code",
   "execution_count": 8,
   "id": "88a94651",
   "metadata": {},
   "outputs": [
    {
     "name": "stdout",
     "output_type": "stream",
     "text": [
      "Mode of pregnacy 39\n"
     ]
    },
    {
     "data": {
      "image/png": "[encoded data removed]",
      "text/plain": [
       "<Figure size 432x288 with 1 Axes>"
      ]
     },
     "metadata": {
      "needs_background": "light"
     },
     "output_type": "display_data"
    }
   ],
   "source": [
    "values = live.prglngth\n",
    "xmin = values.min()\n",
    "xmax = values.max()\n",
    "\n",
    "n_bins = int(xmax-xmin)\n",
    "\n",
    "n, bins, patches = plt.hist(x=values, bins=n_bins, color='#0504aa',alpha=0.7)\n",
    "plt.grid(axis='y', alpha=0.75)\n",
    "\n",
    "plt.xlabel('Value in weeks')\n",
    "plt.ylabel('Frequency')\n",
    "maxfreq = n.max()\n",
    "plt.ylim(ymax=np.ceil(maxfreq) + 100)\n",
    "\n",
    "mode = values.mode()[0]\n",
    "print(\"Mode of pregnacy {0}\".format(mode))"
   ]
  },
  {
   "cell_type": "markdown",
   "id": "799fbcd8",
   "metadata": {},
   "source": [
    "## outliers\n",
    "\n",
    "Guardando gli istogrammi è molto facile identificare i valori comuni e la forma della distribuzione i valori più rari tuttavia non sono sempre facilemente visibili.\n",
    "Prima di proseguire cerchiamo di capire se esistono dei valori estremi che potrebbero rappresentare errori di misura o eventi molto rari (**outliers**).\n",
    "\n",
    "Controlliamo gli estremi di `prglngth`"
   ]
  },
  {
   "cell_type": "code",
   "execution_count": 9,
   "id": "d768e74d",
   "metadata": {},
   "outputs": [
    {
     "data": {
      "text/plain": [
       "0     1\n",
       "4     1\n",
       "9     1\n",
       "13    1\n",
       "17    2\n",
       "18    1\n",
       "19    1\n",
       "20    1\n",
       "21    2\n",
       "22    7\n",
       "Name: prglngth, dtype: int64"
      ]
     },
     "execution_count": 9,
     "metadata": {},
     "output_type": "execute_result"
    }
   ],
   "source": [
    "num_values = 10\n",
    "values = live.prglngth\n",
    "counts = values.value_counts().sort_index(ascending=True) \n",
    "\n",
    "small = counts[:10]\n",
    "small"
   ]
  },
  {
   "cell_type": "code",
   "execution_count": 10,
   "id": "e80cfadf",
   "metadata": {},
   "outputs": [
    {
     "data": {
      "text/plain": [
       "40    1116\n",
       "41     587\n",
       "42     328\n",
       "43     148\n",
       "44      46\n",
       "45      10\n",
       "46       1\n",
       "47       1\n",
       "48       7\n",
       "50       2\n",
       "Name: prglngth, dtype: int64"
      ]
     },
     "execution_count": 10,
     "metadata": {},
     "output_type": "execute_result"
    }
   ],
   "source": [
    "counts[-10:]"
   ]
  },
  {
   "cell_type": "markdown",
   "id": "8da9394b",
   "metadata": {},
   "source": [
    "Ragioniamo su questi dati, i valori sotto le 10 settimane sono improponibili, probabilmente si tratta di un errore nella gestione del flag `outcome`, i valori sopra le 30 settimane molto probabilmente corretti mentre tra le 10 e le 30 settimane potremmo sia avere degli errori sia avere delle nascite premature.\n",
    "\n",
    "Stesso ragionamento potremmo farlo per i valori più grandi, molti dottori inducono il parto sopra le 42 settimane e personalmente il valore di 50 settimane sembra non corretto.\n",
    "\n",
    "Il miglior modo per trattare gli outliers viene dalla \"conoscenza del dominio\", in questo esempio vogliamo concentrarci sulla domanda se il primo figlio tende a nascere primo o dopo."
   ]
  },
  {
   "cell_type": "code",
   "execution_count": 11,
   "id": "dc957563",
   "metadata": {},
   "outputs": [],
   "source": [
    "firts = live[live.birthord == 1]\n",
    "others = live[live.birthord > 1]"
   ]
  },
  {
   "cell_type": "code",
   "execution_count": 12,
   "id": "6b14009c",
   "metadata": {},
   "outputs": [
    {
     "data": {
      "text/plain": [
       "(27.0, 46.0)"
      ]
     },
     "execution_count": 12,
     "metadata": {},
     "output_type": "execute_result"
    },
    {
     "data": {
      "image/png": "[encoded data removed]",
      "text/plain": [
       "<Figure size 432x288 with 1 Axes>"
      ]
     },
     "metadata": {
      "needs_background": "light"
     },
     "output_type": "display_data"
    }
   ],
   "source": [
    "plt.hist([firts.prglngth, others.prglngth],histtype='bar',label=['first','other'],bins=n_bins)\n",
    "\n",
    "labels = [str(x) for x in range(n_bins)]\n",
    "xs = np.arange(len(labels))\n",
    "plt.xticks(xs+0.5, labels)\n",
    "\n",
    "\n",
    "plt.legend(loc='upper right')\n",
    "plt.grid(axis='y', alpha=0.75)\n",
    "plt.xlim(27, 46)"
   ]
  },
  {
   "cell_type": "markdown",
   "id": "21885150",
   "metadata": {},
   "source": [
    "gli istrogrammi sono molto utili in quanto mostrano subito i valori più frequenti. Non sono però sempre la scelta migliore per comparare due distribuzioni. In questo esempio il campione dei primi bambini è più piccolo del secondo altri a alcune delle differenze date nel grafico potrebbero essere apparenti, nel prossimo capitolo affronteremo questo utilizzando la funzione di probabilità."
   ]
  },
  {
   "cell_type": "code",
   "execution_count": 13,
   "id": "77de6da7",
   "metadata": {},
   "outputs": [
    {
     "data": {
      "text/plain": [
       "4413"
      ]
     },
     "execution_count": 13,
     "metadata": {},
     "output_type": "execute_result"
    }
   ],
   "source": [
    "firts.prglngth.count()"
   ]
  },
  {
   "cell_type": "code",
   "execution_count": 14,
   "id": "3b8b9938",
   "metadata": {},
   "outputs": [
    {
     "data": {
      "text/plain": [
       "4735"
      ]
     },
     "execution_count": 14,
     "metadata": {},
     "output_type": "execute_result"
    }
   ],
   "source": [
    "others.prglngth.count()"
   ]
  },
  {
   "cell_type": "markdown",
   "id": "9374dedf",
   "metadata": {},
   "source": [
    "## Riassumere una distribuzione\n",
    "\n",
    "Un istogramma è una completa descrizione di una distribuzione di un campione.\n",
    "Dato un istogramma possiamo costruire i valori del campione sebbene non nel loro ordine.\n",
    "\n",
    "Se però dovessimo riassumere con dei valori della stessa possiamo utilizzare queste funzioni:\n",
    "**tendenza centrale**: i valori tendono ad unirsi attorno ad un particolare punto?\n",
    "\n",
    "**moda** esistono uno o più punti di accentramento\n",
    "\n",
    "**spread** quanto sono variabili i valori?\n",
    "\n",
    "**code** quanto la decade la probalilità di avere quel valore allontanandosi da una moda?\n",
    "\n",
    "**outliers** quanto sono lontani i valori da una moda?\n",
    "\n",
    "\n",
    "La statistica è pensata per rispondere a queste domande è chiamata **statistica descrittiva**. La misura di gran lunga più conosciuta è la media (mean) che descrive la tendenza centrale della distribuzione.\n",
    "\n",
    "Se abbiamo un campione di $n$ valori $x_i$ la media $\\overline{x}$ è la somma dei valori diviso il numero dei valori:\n",
    "\n",
    "$$\\overline{x} = \\frac{1}{n}\\sum_{i=1}^n{x_i}$$\n",
    "\n",
    "La media è ottima per descrivere un insieme di valori. Per esempio le mele al supermercato hanno tutte lo stesso peso, se prendiamo 6 mele e le paghiamo 3€ in media abbiamo pagato una mela 0.50€. \n",
    "\n",
    "Ma con le zucche dobbiamo lavorare in un'altro modo supponiamo di avere più varietà nel nostro orto. Un giorno raccogliamo tutte le zucche 3 pesano un kilo due pesano 3 chili e una zucca di varietà Atlantic Giant pesa 300 kili.\n",
    "\n",
    "Se vi dicessi che la media del peso delle zucche nel mio giardino è di 100 Kg, vi starei forviando. Questo perchè le zucche non sono tutte dello stesso tipo.\n",
    "\n",
    "### La varianza\n",
    "\n",
    "Tornando all'esempio di prima, la varianza ci aiuta a descrivere la variabilità o lo **spread** di una distribuzione.\n",
    "La varianza di un insieme di valori si scrive come:\n",
    "\n",
    "$$S^2=\\frac{1}{n}\\sum_{i=1}^n{(x_i - \\overline{x})}^2$$\n",
    "\n",
    "Il termine $(x_i - \\overline{x})$ è anche chiamato \"deviazione dalla media\" dunque la varianza è la media della deviazione al quadrato. Se calcoliamo la radice quadrata di tale valore otteniamo la **deviazione standard**.\n",
    "\n",
    "Pandas ci fornisce già le funzioni per calcolare questi valori:"
   ]
  },
  {
   "cell_type": "code",
   "execution_count": 15,
   "id": "ec7c0189",
   "metadata": {},
   "outputs": [
    {
     "name": "stdout",
     "output_type": "stream",
     "text": [
      "Pregnacy lenght in weeks 38.56 variance 7.30 standard 2.70\n"
     ]
    }
   ],
   "source": [
    "mean = live.prglngth.mean()\n",
    "var = live.prglngth.var()\n",
    "std = live.prglngth.std()\n",
    "\n",
    "print(\"Pregnacy lenght in weeks {0:.2f} variance {1:.2f} standard {2:.2f}\".format(mean,var,std))"
   ]
  },
  {
   "cell_type": "markdown",
   "id": "afa39bad",
   "metadata": {},
   "source": [
    "Possiamo dunque dire che in media la gestazione dura 38.5 settimane con una deviazione di 2/3 settimane\n",
    "\n",
    "### Altri tipi di media\n",
    "\n",
    "Esistono per completezza anche altri tipi di medie ad esempio la **media troncata** elimina un numero fisso di elementi da entrami i lati della lista ordinata dei valori, questo tipo di media e meno influenzata dai valori estremi.\n",
    "\n",
    "Un altro tipo di media è la media pesata che consite nel moltiplicare ciascun elemento della media $x_i$ per un peso $w_i$ e dividere il tutto per la somma dei pesi.\n",
    "\n",
    "## Esplorare la distribuzione dei dati\n",
    "\n",
    "### Quartili e BoxPlot\n",
    "Un ulteriore approccio per la stima della dispersione dei dati è basato guardando i dati ordinati.\n",
    "La parte della statistica che si occupa di questo tipo di analisi è anche chiamata statistica d'ordine.\n",
    "\n",
    "La prima misura che possiamo fare è il **range** ovvero la differenza tra il valore più grande e quello più piccolo.\n",
    "Questo tipo di misura però è molto sensibile agli outliers(valori anomali) e non risulta molto utile nella misura della dispersione dei dati.\n",
    "\n",
    "Per evitare di essere influenzati da questi valori anomali, possiamo guardare l'intervallo dei dati dopo aver rimosso i valori da ciascuna estremità.\n",
    "\n",
    "Formalmente questo tipo di stime sono basate su differenze tra *percentili*. \n",
    "In un insieme di dati il P-esimo percentile è un valore tale che almeno P percento dei valori assuma questo valore o meno e e almeno (100-P) percento dei valori assuma questo valore o più. \n",
    "Spiegniamo questa frase con un esempio pratico, per trovate l'80 percentile dobbiamo prima ordinare tutti i dati, poi partendo dal valore più piccolo procediamo fino a raggiungere l'80% verso il valore più grande.\n",
    "\n",
    "Una misura comune di variabilità è la differenza tra il 25-esimo percentile e il 75-esimo percentile ed è chiamata anche **scarto interquartile** in inglese **interquartile range**. \n",
    "Anche qui facciamo un esempio prendiamo questo dataset:"
   ]
  },
  {
   "cell_type": "code",
   "execution_count": 29,
   "id": "4fd58689",
   "metadata": {},
   "outputs": [],
   "source": [
    "values = [3,1,5,3,6,7,2,9]"
   ]
  },
  {
   "cell_type": "markdown",
   "id": "6690b2a9",
   "metadata": {},
   "source": [
    "come prima cosa dobbiamo ordinare i dati:"
   ]
  },
  {
   "cell_type": "code",
   "execution_count": 34,
   "id": "4970c765",
   "metadata": {},
   "outputs": [
    {
     "name": "stdout",
     "output_type": "stream",
     "text": [
      "La lista ha lunghezza 8\n",
      "[1, 2, 3, 3, 5, 6, 7, 9]\n"
     ]
    }
   ],
   "source": [
    "values.sort()\n",
    "n = len(values)\n",
    "print(\"La lista ha lunghezza {0}\".format(n))\n",
    "print(values)"
   ]
  },
  {
   "cell_type": "markdown",
   "id": "2e3c9684",
   "metadata": {},
   "source": [
    "il 25-esimo percentile sta alla posizione h = 2.25 ora come si vede questo non è un indice intero, la regola per calcolare il percentile corretto è:\n",
    "\n",
    "* Se l'indice h è un valore intero si usa la formula $\\frac{(Y_h + Y_{h+1})}{2}$\n",
    "* altrimenti se h non è un valore intero si prende il volore $Y_{\\lceil Y_h \\rceil}$"
   ]
  },
  {
   "cell_type": "code",
   "execution_count": 35,
   "id": "59339291",
   "metadata": {},
   "outputs": [
    {
     "name": "stdout",
     "output_type": "stream",
     "text": [
      "Il primo quartile si trova alla posizione 2.00\n",
      "Caso h intero prendo come indici 1 e 2\n",
      "Il primo quartile ha valore 2.50\n"
     ]
    }
   ],
   "source": [
    "import math\n",
    "\n",
    "h = n * 0.25\n",
    "print(\"Il primo quartile si trova alla posizione {0:.2f}\".format(h))\n",
    "\n",
    "#Gli indici di python partono da 0\n",
    "h = h-1\n",
    "h1 = math.ceil(h)\n",
    "\n",
    "\n",
    "if int(h) != int(h1):\n",
    "    print(\"Caso h non intero prendo come indice {0}\".format(h1))\n",
    "    q1 = values[h1]\n",
    "else:\n",
    "    print(\"Caso h intero prendo come indici {0} e {1}\".format(h1,h1 + 1))\n",
    "    q1 = (values[h1] + values[h1 + 1]) / 2\n",
    "    \n",
    "print(\"Il primo quartile ha valore {0:.2f}\".format(q1))\n"
   ]
  },
  {
   "cell_type": "markdown",
   "id": "6d9dda04",
   "metadata": {},
   "source": [
    "utilizziamo quanto visto per analizzare l'età delle mamme calcolando i percentili in questo modo"
   ]
  },
  {
   "cell_type": "code",
   "execution_count": 36,
   "id": "9def9832",
   "metadata": {},
   "outputs": [
    {
     "data": {
      "text/plain": [
       "0.05    17.000\n",
       "0.25    20.500\n",
       "0.50    24.330\n",
       "0.75    28.910\n",
       "0.95    34.882\n",
       "Name: agepreg, dtype: float64"
      ]
     },
     "execution_count": 36,
     "metadata": {},
     "output_type": "execute_result"
    }
   ],
   "source": [
    "values = live.agepreg\n",
    "values.quantile([0.05, 0.25, 0.5, 0.75, 0.95])"
   ]
  },
  {
   "cell_type": "markdown",
   "id": "3f6355d7",
   "metadata": {},
   "source": [
    "il grafico boxplot è basato sui percentili e ci da una veloce visione di insieme della distribuzione dei dati"
   ]
  },
  {
   "cell_type": "code",
   "execution_count": 37,
   "id": "e5a093a9",
   "metadata": {},
   "outputs": [
    {
     "data": {
      "image/png": "[encoded data removed]",
      "text/plain": [
       "<Figure size 432x288 with 1 Axes>"
      ]
     },
     "metadata": {
      "needs_background": "light"
     },
     "output_type": "display_data"
    }
   ],
   "source": [
    "values.plot.box();\n",
    "\n",
    "plt.show(block=True);"
   ]
  },
  {
   "cell_type": "markdown",
   "id": "cbf427fc",
   "metadata": {},
   "source": [
    "La parte alta e bassa della scatola sono rispettivamente il 75-esimo e il 25-esimo percentile mentre la linea arancione centrale è la mediana. I due baffi *whiskers* che si estendono sopra e sotto vengono calcolati estendendo lo stesso per il valore 1.5 * IQR tutti i dati al di fuori di questo intervallo vengono considerati ouliers e vengono visualizzati come singoli punti."
   ]
  }
 ],
 "metadata": {
  "kernelspec": {
   "display_name": "Python 3",
   "language": "python",
   "name": "python3"
  },
  "language_info": {
   "codemirror_mode": {
    "name": "ipython",
    "version": 3
   },
   "file_extension": ".py",
   "mimetype": "text/x-python",
   "name": "python",
   "nbconvert_exporter": "python",
   "pygments_lexer": "ipython3",
   "version": "3.8.8"
  }
 },
 "nbformat": 4,
 "nbformat_minor": 5
}
