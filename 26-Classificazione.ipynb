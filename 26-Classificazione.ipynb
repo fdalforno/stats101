{
 "cells": [
  {
   "cell_type": "markdown",
   "id": "a4d637e7",
   "metadata": {},
   "source": [
    "# Classificazione\n",
    "\n"
   ]
  },
  {
   "cell_type": "code",
   "execution_count": 1,
   "id": "882b9e65",
   "metadata": {},
   "outputs": [],
   "source": [
    "from utils import set_pyplot_params\n",
    "\n",
    "set_pyplot_params()"
   ]
  },
  {
   "cell_type": "code",
   "execution_count": 2,
   "id": "711f6a70",
   "metadata": {},
   "outputs": [],
   "source": [
    "from utils import Or70, Pu50, Gr30\n",
    "\n",
    "color_list3 = [Or70, Pu50, Gr30]"
   ]
  },
  {
   "cell_type": "code",
   "execution_count": 3,
   "id": "5cf961e5",
   "metadata": {},
   "outputs": [],
   "source": [
    "import matplotlib.pyplot as plt\n",
    "from cycler import cycler\n",
    "\n",
    "marker_cycle = cycler(marker=['s', 'o', '^'])\n",
    "color_cycle = cycler(color=color_list3)\n",
    "line_cycle = cycler(linestyle=['-', '--', ':'])\n",
    "\n",
    "plt.rcParams['axes.prop_cycle'] = (color_cycle + \n",
    "                                   marker_cycle + \n",
    "                                   line_cycle)"
   ]
  },
  {
   "cell_type": "markdown",
   "id": "df27f5a7",
   "metadata": {},
   "source": [
    "La classificazione potrebbe essere una applicazione ben conosciuta dei metodi Bayesiana, reso famoso nel 1990 base del prima generazione dei [filtri spam](https://en.wikipedia.org/wiki/Naive_Bayes_spam_filtering).\n",
    "\n",
    "In questo capitolo, dimostreremo la classificazione Bayesiana usando i dati messi a disposizione dal Dr. Kristen Gorman.\n",
    "Useremo questi dati per classificare le specie pinguini. \n",
    "\n",
    "## Dati dei pinguini\n",
    "Useremo Pandas per caricare i dati nel `DataFrame`."
   ]
  },
  {
   "cell_type": "code",
   "execution_count": 4,
   "id": "990cda98",
   "metadata": {},
   "outputs": [
    {
     "data": {
      "text/plain": [
       "(344, 17)"
      ]
     },
     "execution_count": 4,
     "metadata": {},
     "output_type": "execute_result"
    }
   ],
   "source": [
    "import pandas as pd\n",
    "\n",
    "df = pd.read_csv('./data/penguins_raw.csv')\n",
    "df.shape"
   ]
  },
  {
   "cell_type": "markdown",
   "id": "60e66cdf",
   "metadata": {},
   "source": [
    "Il dataset contiene una riga per ogni pinguino e una colonna per ogni variabile."
   ]
  },
  {
   "cell_type": "code",
   "execution_count": 5,
   "id": "95b34879",
   "metadata": {},
   "outputs": [
    {
     "data": {
      "text/html": [
       "<div>\n",
       "<style scoped>\n",
       "    .dataframe tbody tr th:only-of-type {\n",
       "        vertical-align: middle;\n",
       "    }\n",
       "\n",
       "    .dataframe tbody tr th {\n",
       "        vertical-align: top;\n",
       "    }\n",
       "\n",
       "    .dataframe thead th {\n",
       "        text-align: right;\n",
       "    }\n",
       "</style>\n",
       "<table border=\"1\" class=\"dataframe\">\n",
       "  <thead>\n",
       "    <tr style=\"text-align: right;\">\n",
       "      <th></th>\n",
       "      <th>studyName</th>\n",
       "      <th>Sample Number</th>\n",
       "      <th>Species</th>\n",
       "      <th>Region</th>\n",
       "      <th>Island</th>\n",
       "      <th>Stage</th>\n",
       "      <th>Individual ID</th>\n",
       "      <th>Clutch Completion</th>\n",
       "      <th>Date Egg</th>\n",
       "      <th>Culmen Length (mm)</th>\n",
       "      <th>Culmen Depth (mm)</th>\n",
       "      <th>Flipper Length (mm)</th>\n",
       "      <th>Body Mass (g)</th>\n",
       "      <th>Sex</th>\n",
       "      <th>Delta 15 N (o/oo)</th>\n",
       "      <th>Delta 13 C (o/oo)</th>\n",
       "      <th>Comments</th>\n",
       "    </tr>\n",
       "  </thead>\n",
       "  <tbody>\n",
       "    <tr>\n",
       "      <th>0</th>\n",
       "      <td>PAL0708</td>\n",
       "      <td>1</td>\n",
       "      <td>Adelie Penguin (Pygoscelis adeliae)</td>\n",
       "      <td>Anvers</td>\n",
       "      <td>Torgersen</td>\n",
       "      <td>Adult, 1 Egg Stage</td>\n",
       "      <td>N1A1</td>\n",
       "      <td>Yes</td>\n",
       "      <td>2007-11-11</td>\n",
       "      <td>39.1</td>\n",
       "      <td>18.7</td>\n",
       "      <td>181.0</td>\n",
       "      <td>3750.0</td>\n",
       "      <td>MALE</td>\n",
       "      <td>NaN</td>\n",
       "      <td>NaN</td>\n",
       "      <td>Not enough blood for isotopes.</td>\n",
       "    </tr>\n",
       "    <tr>\n",
       "      <th>1</th>\n",
       "      <td>PAL0708</td>\n",
       "      <td>2</td>\n",
       "      <td>Adelie Penguin (Pygoscelis adeliae)</td>\n",
       "      <td>Anvers</td>\n",
       "      <td>Torgersen</td>\n",
       "      <td>Adult, 1 Egg Stage</td>\n",
       "      <td>N1A2</td>\n",
       "      <td>Yes</td>\n",
       "      <td>2007-11-11</td>\n",
       "      <td>39.5</td>\n",
       "      <td>17.4</td>\n",
       "      <td>186.0</td>\n",
       "      <td>3800.0</td>\n",
       "      <td>FEMALE</td>\n",
       "      <td>8.94956</td>\n",
       "      <td>-24.69454</td>\n",
       "      <td>NaN</td>\n",
       "    </tr>\n",
       "    <tr>\n",
       "      <th>2</th>\n",
       "      <td>PAL0708</td>\n",
       "      <td>3</td>\n",
       "      <td>Adelie Penguin (Pygoscelis adeliae)</td>\n",
       "      <td>Anvers</td>\n",
       "      <td>Torgersen</td>\n",
       "      <td>Adult, 1 Egg Stage</td>\n",
       "      <td>N2A1</td>\n",
       "      <td>Yes</td>\n",
       "      <td>2007-11-16</td>\n",
       "      <td>40.3</td>\n",
       "      <td>18.0</td>\n",
       "      <td>195.0</td>\n",
       "      <td>3250.0</td>\n",
       "      <td>FEMALE</td>\n",
       "      <td>8.36821</td>\n",
       "      <td>-25.33302</td>\n",
       "      <td>NaN</td>\n",
       "    </tr>\n",
       "    <tr>\n",
       "      <th>3</th>\n",
       "      <td>PAL0708</td>\n",
       "      <td>4</td>\n",
       "      <td>Adelie Penguin (Pygoscelis adeliae)</td>\n",
       "      <td>Anvers</td>\n",
       "      <td>Torgersen</td>\n",
       "      <td>Adult, 1 Egg Stage</td>\n",
       "      <td>N2A2</td>\n",
       "      <td>Yes</td>\n",
       "      <td>2007-11-16</td>\n",
       "      <td>NaN</td>\n",
       "      <td>NaN</td>\n",
       "      <td>NaN</td>\n",
       "      <td>NaN</td>\n",
       "      <td>NaN</td>\n",
       "      <td>NaN</td>\n",
       "      <td>NaN</td>\n",
       "      <td>Adult not sampled.</td>\n",
       "    </tr>\n",
       "    <tr>\n",
       "      <th>4</th>\n",
       "      <td>PAL0708</td>\n",
       "      <td>5</td>\n",
       "      <td>Adelie Penguin (Pygoscelis adeliae)</td>\n",
       "      <td>Anvers</td>\n",
       "      <td>Torgersen</td>\n",
       "      <td>Adult, 1 Egg Stage</td>\n",
       "      <td>N3A1</td>\n",
       "      <td>Yes</td>\n",
       "      <td>2007-11-16</td>\n",
       "      <td>36.7</td>\n",
       "      <td>19.3</td>\n",
       "      <td>193.0</td>\n",
       "      <td>3450.0</td>\n",
       "      <td>FEMALE</td>\n",
       "      <td>8.76651</td>\n",
       "      <td>-25.32426</td>\n",
       "      <td>NaN</td>\n",
       "    </tr>\n",
       "  </tbody>\n",
       "</table>\n",
       "</div>"
      ],
      "text/plain": [
       "  studyName  Sample Number                              Species  Region  \\\n",
       "0   PAL0708              1  Adelie Penguin (Pygoscelis adeliae)  Anvers   \n",
       "1   PAL0708              2  Adelie Penguin (Pygoscelis adeliae)  Anvers   \n",
       "2   PAL0708              3  Adelie Penguin (Pygoscelis adeliae)  Anvers   \n",
       "3   PAL0708              4  Adelie Penguin (Pygoscelis adeliae)  Anvers   \n",
       "4   PAL0708              5  Adelie Penguin (Pygoscelis adeliae)  Anvers   \n",
       "\n",
       "      Island               Stage Individual ID Clutch Completion    Date Egg  \\\n",
       "0  Torgersen  Adult, 1 Egg Stage          N1A1               Yes  2007-11-11   \n",
       "1  Torgersen  Adult, 1 Egg Stage          N1A2               Yes  2007-11-11   \n",
       "2  Torgersen  Adult, 1 Egg Stage          N2A1               Yes  2007-11-16   \n",
       "3  Torgersen  Adult, 1 Egg Stage          N2A2               Yes  2007-11-16   \n",
       "4  Torgersen  Adult, 1 Egg Stage          N3A1               Yes  2007-11-16   \n",
       "\n",
       "   Culmen Length (mm)  Culmen Depth (mm)  Flipper Length (mm)  Body Mass (g)  \\\n",
       "0                39.1               18.7                181.0         3750.0   \n",
       "1                39.5               17.4                186.0         3800.0   \n",
       "2                40.3               18.0                195.0         3250.0   \n",
       "3                 NaN                NaN                  NaN            NaN   \n",
       "4                36.7               19.3                193.0         3450.0   \n",
       "\n",
       "      Sex  Delta 15 N (o/oo)  Delta 13 C (o/oo)  \\\n",
       "0    MALE                NaN                NaN   \n",
       "1  FEMALE            8.94956          -24.69454   \n",
       "2  FEMALE            8.36821          -25.33302   \n",
       "3     NaN                NaN                NaN   \n",
       "4  FEMALE            8.76651          -25.32426   \n",
       "\n",
       "                         Comments  \n",
       "0  Not enough blood for isotopes.  \n",
       "1                             NaN  \n",
       "2                             NaN  \n",
       "3              Adult not sampled.  \n",
       "4                             NaN  "
      ]
     },
     "execution_count": 5,
     "metadata": {},
     "output_type": "execute_result"
    }
   ],
   "source": [
    "df.head()"
   ]
  },
  {
   "cell_type": "markdown",
   "id": "9bee7a99",
   "metadata": {},
   "source": [
    "Per convenienza, creeremo una nuova colonna `Species2` che contiene una versione semplificata delle specie."
   ]
  },
  {
   "cell_type": "code",
   "execution_count": 6,
   "id": "146e9ce3",
   "metadata": {},
   "outputs": [],
   "source": [
    "def shorten(species):\n",
    "    return species.split()[0]\n",
    "\n",
    "df['Species2'] = df['Species'].apply(shorten)"
   ]
  },
  {
   "cell_type": "markdown",
   "id": "9a2179e3",
   "metadata": {},
   "source": [
    "Tre specie di pinguini sono rappresentate nel dataset: Adélie, Chinstrap e Gentoo.\n",
    "Le misure che useremo sono:\n",
    "\n",
    "* Massa del corpo in grammi (g).\n",
    "* Lunghezza della pinna (mm).\n",
    "* Lunghezza del culmen (mm).\n",
    "* Profondità del culmen (mm).\n",
    "\n",
    "Se non abbiamo familiarità con la parola \"culmen\", ci riferiamo al [margine superiore del becco](https://en.wikipedia.org/wiki/Bird_measurement#Culmen).\n",
    "\n",
    "Questa misure sono molto utili per la classificazione se se ci sono sostanziali differenze tra le specie e piccole diffenze dentro lo stesso gruppo.  \n",
    "\n",
    "Per vedere se è vero, e in che misura, creiamo un grafico della distribuzione cumulativa per ogni misura delle specie.\n",
    "La seguente funzione pende un `DataFrame` e un nome di colonna.\n",
    "Viene restituito un dizionario che mappa ogni specie in un `Cdf` con i valori della colonna `colname`."
   ]
  },
  {
   "cell_type": "code",
   "execution_count": 7,
   "id": "9fb782ab",
   "metadata": {},
   "outputs": [],
   "source": [
    "def make_cdf_map(df, colname, by='Species2'):\n",
    "    \"\"\"Make a CDF for each species.\"\"\"\n",
    "    cdf_map = {}\n",
    "    grouped = df.groupby(by)[colname]\n",
    "    for species, group in grouped:\n",
    "        cdf_map[species] = Cdf.from_seq(group, name=species)\n",
    "    return cdf_map"
   ]
  },
  {
   "cell_type": "markdown",
   "id": "ae5b8096",
   "metadata": {},
   "source": [
    "La seguente funzione crea un grafico `Cdf` con i valori della colonna per ogni specie:"
   ]
  },
  {
   "cell_type": "code",
   "execution_count": 8,
   "id": "e5a4fb73",
   "metadata": {},
   "outputs": [],
   "source": [
    "from distribution import Cdf\n",
    "from utils import decorate\n",
    "\n",
    "def plot_cdfs(df, colname, by='Species2'):\n",
    "    \"\"\"Make a CDF for each species.\n",
    "    \n",
    "    df: DataFrame\n",
    "    colname: string column name\n",
    "    by: string column name\n",
    "\n",
    "    returns: dictionary from species name to Cdf\n",
    "    \"\"\"\n",
    "    cdf_map = make_cdf_map(df, colname, by)\n",
    "    \n",
    "    for species, cdf in cdf_map.items():\n",
    "        cdf.plot(label=species, marker='')\n",
    "    \n",
    "    decorate(xlabel=colname,\n",
    "             ylabel='CDF')"
   ]
  },
  {
   "cell_type": "markdown",
   "id": "abc940ee",
   "metadata": {},
   "source": [
    "Qui la dimostrazione dei valori della lunghezza del culmen."
   ]
  },
  {
   "cell_type": "code",
   "execution_count": 9,
   "id": "ad7a8144",
   "metadata": {},
   "outputs": [
    {
     "data": {
      "image/png": "[encoded data removed]",
      "text/plain": [
       "<Figure size 432x288 with 1 Axes>"
      ]
     },
     "metadata": {
      "needs_background": "light"
     },
     "output_type": "display_data"
    }
   ],
   "source": [
    "colname = 'Culmen Length (mm)'\n",
    "plot_cdfs(df, colname)"
   ]
  },
  {
   "cell_type": "markdown",
   "id": "21a67c8b",
   "metadata": {},
   "source": [
    "Qui la distribuzione della lunghezza della pinna."
   ]
  },
  {
   "cell_type": "code",
   "execution_count": 10,
   "id": "76a5b8a8",
   "metadata": {},
   "outputs": [
    {
     "data": {
      "image/png": "[encoded data removed]",
      "text/plain": [
       "<Figure size 432x288 with 1 Axes>"
      ]
     },
     "metadata": {
      "needs_background": "light"
     },
     "output_type": "display_data"
    }
   ],
   "source": [
    "colname = 'Flipper Length (mm)'\n",
    "plot_cdfs(df, colname)"
   ]
  },
  {
   "cell_type": "markdown",
   "id": "b5d9bc93",
   "metadata": {},
   "source": [
    "Qui la distribuzione della profondità del culmen."
   ]
  },
  {
   "cell_type": "code",
   "execution_count": 11,
   "id": "3a106d39",
   "metadata": {},
   "outputs": [
    {
     "data": {
      "image/png": "[encoded data removed]",
      "text/plain": [
       "<Figure size 432x288 with 1 Axes>"
      ]
     },
     "metadata": {
      "needs_background": "light"
     },
     "output_type": "display_data"
    }
   ],
   "source": [
    "colname = 'Culmen Depth (mm)'\n",
    "plot_cdfs(df, colname)"
   ]
  },
  {
   "cell_type": "markdown",
   "id": "de0b8400",
   "metadata": {},
   "source": [
    "Qui la distribuzione della massa."
   ]
  },
  {
   "cell_type": "code",
   "execution_count": 12,
   "id": "c989d957",
   "metadata": {},
   "outputs": [
    {
     "data": {
      "image/png": "[encoded data removed]",
      "text/plain": [
       "<Figure size 432x288 with 1 Axes>"
      ]
     },
     "metadata": {
      "needs_background": "light"
     },
     "output_type": "display_data"
    }
   ],
   "source": [
    "colname = 'Body Mass (g)'\n",
    "plot_cdfs(df, colname)"
   ]
  },
  {
   "cell_type": "markdown",
   "id": "749ab726",
   "metadata": {},
   "source": [
    "La profondità del culmen e la massa distinguone i pinguini Gentoo rispetto alle altre due specie, ma queste caratteristiche possono aggiungere informazioni addizionali, ed è per questo che useremo la lunghezza della pinna e del culmen. \n",
    "\n",
    "## Modelli normali\n",
    "Useremo queste caratteristiche per classificare i pingini. Procederemo nel seguente modo Bayesiano:\n",
    "\n",
    "1. Definiamo una distribuzione a priori con le tre possibili specie con la probabilità a priori di ogni\n",
    "2. Calcoliamo la verosomiglinza del dato per ogni ipotetica specie e poi\n",
    "3. Calcoliamo la probabilità a posteriori per ogni ipotesi.\n",
    "\n",
    "Per calcolare la verosomiglianza del dato sotto ogni ipotesi, useremo il dato per stimare il parametro di una distribuzione per ogni specie.\n",
    "\n",
    "La seguente funzione prende un `DataFrame` e un nome di colonna; restituisce un dizionario che mappa per ogni specie con un oggetto `norm`.\n",
    "\n",
    "`norm` è definito in SciPy; e rappresenta una distribuzione normale con un media e una deviazione standard impostata."
   ]
  },
  {
   "cell_type": "code",
   "execution_count": 13,
   "id": "d079816b",
   "metadata": {},
   "outputs": [],
   "source": [
    "from scipy.stats import norm\n",
    "\n",
    "def make_norm_map(df, colname, by='Species2'):\n",
    "    \"\"\"Make a map from species to norm object.\"\"\"\n",
    "    norm_map = {}\n",
    "    grouped = df.groupby(by)[colname]\n",
    "    for species, group in grouped:\n",
    "        mean = group.mean()\n",
    "        std = group.std()\n",
    "        norm_map[species] = norm(mean, std)\n",
    "    return norm_map"
   ]
  },
  {
   "cell_type": "markdown",
   "id": "ad98b95f",
   "metadata": {},
   "source": [
    "Creiamo un dizionario di oggetti `norm` per la lunghezza della pinna:"
   ]
  },
  {
   "cell_type": "code",
   "execution_count": 14,
   "id": "e8490774",
   "metadata": {},
   "outputs": [
    {
     "data": {
      "text/plain": [
       "dict_keys(['Adelie', 'Chinstrap', 'Gentoo'])"
      ]
     },
     "execution_count": 14,
     "metadata": {},
     "output_type": "execute_result"
    }
   ],
   "source": [
    "flipper_map = make_norm_map(df, 'Flipper Length (mm)')\n",
    "flipper_map.keys()"
   ]
  },
  {
   "cell_type": "markdown",
   "id": "4b39f464",
   "metadata": {},
   "source": [
    "Ora supponiamo di misurare un pinguino e di trovare che la pinna sia 193 cm. Quale è la probabilità di questa misura sotto ogni ipotesi?\n",
    "\n",
    "L'oggetto `norm` ha una proprietà `pdf`, che calcola la densità di probabilità della distribuzione normale. "
   ]
  },
  {
   "cell_type": "code",
   "execution_count": 15,
   "id": "65fdde0f",
   "metadata": {},
   "outputs": [
    {
     "data": {
      "text/plain": [
       "0.054732511875530694"
      ]
     },
     "execution_count": 15,
     "metadata": {},
     "output_type": "execute_result"
    }
   ],
   "source": [
    "data = 193\n",
    "flipper_map['Adelie'].pdf(data)"
   ]
  },
  {
   "cell_type": "markdown",
   "id": "d263f469",
   "metadata": {},
   "source": [
    "Il risultato è una densità di probabilità, dunque non possiamo interpretarlo come una probbailità. Ma è proporzionale alla verosomiglianza del datom dunque possiamo usarla per aggiornare la distribuzione a priori.\n",
    "\n",
    "Qui come calcolare la verosomiglianza del dato in ogni distribuzione."
   ]
  },
  {
   "cell_type": "code",
   "execution_count": 16,
   "id": "c9182267",
   "metadata": {},
   "outputs": [
    {
     "data": {
      "text/plain": [
       "[0.054732511875530694, 0.051721356158881626, 5.866045366199098e-05]"
      ]
     },
     "execution_count": 16,
     "metadata": {},
     "output_type": "execute_result"
    }
   ],
   "source": [
    "hypos = flipper_map.keys()\n",
    "likelihood = [flipper_map[hypo].pdf(data) for hypo in hypos]\n",
    "likelihood"
   ]
  },
  {
   "cell_type": "markdown",
   "id": "eb019c21",
   "metadata": {},
   "source": [
    "Ora siamo pronti per aggiornare il dato.\n",
    "## L'aggiornamento\n",
    "\n",
    "Come al solito useremo `Pmf` per rappresentare la distribuzione a priori. Per semplicità, assumeremo che ogni specie è ugualmente probabile."
   ]
  },
  {
   "cell_type": "code",
   "execution_count": 17,
   "id": "a967b33f",
   "metadata": {},
   "outputs": [
    {
     "data": {
      "text/html": [
       "<div>\n",
       "<style scoped>\n",
       "    .dataframe tbody tr th:only-of-type {\n",
       "        vertical-align: middle;\n",
       "    }\n",
       "\n",
       "    .dataframe tbody tr th {\n",
       "        vertical-align: top;\n",
       "    }\n",
       "\n",
       "    .dataframe thead th {\n",
       "        text-align: right;\n",
       "    }\n",
       "</style>\n",
       "<table border=\"1\" class=\"dataframe\">\n",
       "  <thead>\n",
       "    <tr style=\"text-align: right;\">\n",
       "      <th></th>\n",
       "      <th>probs</th>\n",
       "    </tr>\n",
       "  </thead>\n",
       "  <tbody>\n",
       "    <tr>\n",
       "      <th>Adelie</th>\n",
       "      <td>0.333333</td>\n",
       "    </tr>\n",
       "    <tr>\n",
       "      <th>Chinstrap</th>\n",
       "      <td>0.333333</td>\n",
       "    </tr>\n",
       "    <tr>\n",
       "      <th>Gentoo</th>\n",
       "      <td>0.333333</td>\n",
       "    </tr>\n",
       "  </tbody>\n",
       "</table>\n",
       "</div>"
      ],
      "text/plain": [
       "Adelie       0.333333\n",
       "Chinstrap    0.333333\n",
       "Gentoo       0.333333\n",
       "Name: , dtype: float64"
      ]
     },
     "execution_count": 17,
     "metadata": {},
     "output_type": "execute_result"
    }
   ],
   "source": [
    "from distribution import Pmf\n",
    "\n",
    "prior = Pmf(1/3, hypos)\n",
    "prior"
   ]
  },
  {
   "cell_type": "markdown",
   "id": "53569bea",
   "metadata": {},
   "source": [
    "Ora possiamo fare l'aggiornamento nel modo usuale."
   ]
  },
  {
   "cell_type": "code",
   "execution_count": 18,
   "id": "1a13fbe9",
   "metadata": {},
   "outputs": [
    {
     "data": {
      "text/html": [
       "<div>\n",
       "<style scoped>\n",
       "    .dataframe tbody tr th:only-of-type {\n",
       "        vertical-align: middle;\n",
       "    }\n",
       "\n",
       "    .dataframe tbody tr th {\n",
       "        vertical-align: top;\n",
       "    }\n",
       "\n",
       "    .dataframe thead th {\n",
       "        text-align: right;\n",
       "    }\n",
       "</style>\n",
       "<table border=\"1\" class=\"dataframe\">\n",
       "  <thead>\n",
       "    <tr style=\"text-align: right;\">\n",
       "      <th></th>\n",
       "      <th>probs</th>\n",
       "    </tr>\n",
       "  </thead>\n",
       "  <tbody>\n",
       "    <tr>\n",
       "      <th>Adelie</th>\n",
       "      <td>0.513860</td>\n",
       "    </tr>\n",
       "    <tr>\n",
       "      <th>Chinstrap</th>\n",
       "      <td>0.485589</td>\n",
       "    </tr>\n",
       "    <tr>\n",
       "      <th>Gentoo</th>\n",
       "      <td>0.000551</td>\n",
       "    </tr>\n",
       "  </tbody>\n",
       "</table>\n",
       "</div>"
      ],
      "text/plain": [
       "Adelie       0.513860\n",
       "Chinstrap    0.485589\n",
       "Gentoo       0.000551\n",
       "Name: , dtype: float64"
      ]
     },
     "execution_count": 18,
     "metadata": {},
     "output_type": "execute_result"
    }
   ],
   "source": [
    "posterior = prior * likelihood\n",
    "posterior.normalize()\n",
    "posterior"
   ]
  },
  {
   "cell_type": "markdown",
   "id": "677b9247",
   "metadata": {},
   "source": [
    "Un pingino con una pinna lunga 193 mm non ha molta probabilità di essere un Gentoo, ma potrebbe essere un Adélie oppure Chinstrap (assumendo che le tre specie siano egualmente distribuite prima della misura).\n",
    "\n",
    "La seguente funzione incapsula i passi appena fatti. "
   ]
  },
  {
   "cell_type": "code",
   "execution_count": 19,
   "id": "edb74c93",
   "metadata": {},
   "outputs": [],
   "source": [
    "def update_penguin(prior, data, norm_map):\n",
    "    \"\"\"Update hypothetical species.\"\"\"\n",
    "    hypos = prior.qs\n",
    "    likelihood = [norm_map[hypo].pdf(data) for hypo in hypos]\n",
    "    posterior = prior * likelihood\n",
    "    posterior.normalize()\n",
    "    return posterior"
   ]
  },
  {
   "cell_type": "markdown",
   "id": "41dd1f5f",
   "metadata": {},
   "source": [
    "Il valore ritornato è una distribuzione a posteriori.\n",
    "Qui l'esempio precedente usando `update_penguin`:"
   ]
  },
  {
   "cell_type": "code",
   "execution_count": 20,
   "id": "019d7390",
   "metadata": {},
   "outputs": [
    {
     "data": {
      "text/html": [
       "<div>\n",
       "<style scoped>\n",
       "    .dataframe tbody tr th:only-of-type {\n",
       "        vertical-align: middle;\n",
       "    }\n",
       "\n",
       "    .dataframe tbody tr th {\n",
       "        vertical-align: top;\n",
       "    }\n",
       "\n",
       "    .dataframe thead th {\n",
       "        text-align: right;\n",
       "    }\n",
       "</style>\n",
       "<table border=\"1\" class=\"dataframe\">\n",
       "  <thead>\n",
       "    <tr style=\"text-align: right;\">\n",
       "      <th></th>\n",
       "      <th>probs</th>\n",
       "    </tr>\n",
       "  </thead>\n",
       "  <tbody>\n",
       "    <tr>\n",
       "      <th>Adelie</th>\n",
       "      <td>0.513860</td>\n",
       "    </tr>\n",
       "    <tr>\n",
       "      <th>Chinstrap</th>\n",
       "      <td>0.485589</td>\n",
       "    </tr>\n",
       "    <tr>\n",
       "      <th>Gentoo</th>\n",
       "      <td>0.000551</td>\n",
       "    </tr>\n",
       "  </tbody>\n",
       "</table>\n",
       "</div>"
      ],
      "text/plain": [
       "Adelie       0.513860\n",
       "Chinstrap    0.485589\n",
       "Gentoo       0.000551\n",
       "Name: , dtype: float64"
      ]
     },
     "execution_count": 20,
     "metadata": {},
     "output_type": "execute_result"
    }
   ],
   "source": [
    "posterior1 = update_penguin(prior, 193, flipper_map)\n",
    "posterior1"
   ]
  },
  {
   "cell_type": "markdown",
   "id": "c7e2db68",
   "metadata": {},
   "source": [
    "Come abbiamo visto prima, la lunghezza della pinna non riesce a distignuere fortemente tra i pinguini Adélie e Chinstrap.\n",
    "Ma la lunghezza del culmen *potrebbe* fare questa distinzione, dunque usiamola per fare un secondo passaggio di classifiche.\n",
    "Primo stimiamo le distribuzioni della lunghezza del culmen per ogni specie: "
   ]
  },
  {
   "cell_type": "code",
   "execution_count": 21,
   "id": "a7136ee1",
   "metadata": {},
   "outputs": [],
   "source": [
    "culmen_map = make_norm_map(df, 'Culmen Length (mm)')"
   ]
  },
  {
   "cell_type": "markdown",
   "id": "5c5082fd",
   "metadata": {},
   "source": [
    "Ora supponiamo di misurare la lunghezza del culmen e di ottenere  48 mm.\n",
    "Possiamo usarlo per aggiornare la distribuzione a priori."
   ]
  },
  {
   "cell_type": "code",
   "execution_count": 22,
   "id": "917b8008",
   "metadata": {},
   "outputs": [
    {
     "data": {
      "text/html": [
       "<div>\n",
       "<style scoped>\n",
       "    .dataframe tbody tr th:only-of-type {\n",
       "        vertical-align: middle;\n",
       "    }\n",
       "\n",
       "    .dataframe tbody tr th {\n",
       "        vertical-align: top;\n",
       "    }\n",
       "\n",
       "    .dataframe thead th {\n",
       "        text-align: right;\n",
       "    }\n",
       "</style>\n",
       "<table border=\"1\" class=\"dataframe\">\n",
       "  <thead>\n",
       "    <tr style=\"text-align: right;\">\n",
       "      <th></th>\n",
       "      <th>probs</th>\n",
       "    </tr>\n",
       "  </thead>\n",
       "  <tbody>\n",
       "    <tr>\n",
       "      <th>Adelie</th>\n",
       "      <td>0.001557</td>\n",
       "    </tr>\n",
       "    <tr>\n",
       "      <th>Chinstrap</th>\n",
       "      <td>0.474658</td>\n",
       "    </tr>\n",
       "    <tr>\n",
       "      <th>Gentoo</th>\n",
       "      <td>0.523785</td>\n",
       "    </tr>\n",
       "  </tbody>\n",
       "</table>\n",
       "</div>"
      ],
      "text/plain": [
       "Adelie       0.001557\n",
       "Chinstrap    0.474658\n",
       "Gentoo       0.523785\n",
       "Name: , dtype: float64"
      ]
     },
     "execution_count": 22,
     "metadata": {},
     "output_type": "execute_result"
    }
   ],
   "source": [
    "posterior2 = update_penguin(prior, 48, culmen_map)\n",
    "posterior2"
   ]
  },
  {
   "cell_type": "markdown",
   "id": "eed228f7",
   "metadata": {},
   "source": [
    "Un pinguino con un culmen lungo 48mm è egualmenti probabile tra Chinstrap o Gentoo.\n",
    "Usando una feature alla volta, possiamo usare la regola per una specie o altre, ma generalmente non possiamo identificare la specie con una buona confidenza. \n",
    "Possiamo fare meglio usando e feature multiple.\n",
    "\n",
    "## Classificazione Naive Bayes\n",
    "Per rendere semplice l'aggiornamento multiplo, useremo la seguente funzione, che usa una distribuzione a priori `Pmf`, una sequenza di misure e una corrispondente sequenza di dizionari contenente le stime della distribuzioni.\n"
   ]
  },
  {
   "cell_type": "code",
   "execution_count": 23,
   "id": "39a396c3",
   "metadata": {},
   "outputs": [],
   "source": [
    "def update_naive(prior, data_seq, norm_maps):\n",
    "    \"\"\"Naive Bayesian classifier\n",
    "    \n",
    "    prior: Pmf\n",
    "    data_seq: sequence of measurements\n",
    "    norm_maps: sequence of maps from species to distribution\n",
    "    \n",
    "    returns: Pmf representing the posterior distribution\n",
    "    \"\"\"\n",
    "    posterior = prior.copy()\n",
    "    for data, norm_map in zip(data_seq, norm_maps):\n",
    "        posterior = update_penguin(posterior, data, norm_map)\n",
    "    return posterior"
   ]
  },
  {
   "cell_type": "markdown",
   "id": "bd121c49",
   "metadata": {},
   "source": [
    "Esegue una serie di agiornamenti, usando una variabile alla volta e ritorna una distribuzione a posteriori `Pmf`.\n",
    "Per provarlo, useremo le stesse caratteristiche che abbiamo visto nelle sezioni precedenti: la lunghezza del culmen e la lunghezza della pinna."
   ]
  },
  {
   "cell_type": "code",
   "execution_count": 24,
   "id": "c7527b94",
   "metadata": {},
   "outputs": [],
   "source": [
    "colnames = ['Flipper Length (mm)', 'Culmen Length (mm)']\n",
    "norm_maps = [flipper_map, culmen_map]"
   ]
  },
  {
   "cell_type": "markdown",
   "id": "4ab1657d",
   "metadata": {},
   "source": [
    "Ora supponiamo di avere un pinguino con la pinna lunga 193 mm e un culmen lungo 48 mm.\n",
    "Qui l'aggiornamento:"
   ]
  },
  {
   "cell_type": "code",
   "execution_count": 25,
   "id": "4618ae62",
   "metadata": {},
   "outputs": [
    {
     "data": {
      "text/html": [
       "<div>\n",
       "<style scoped>\n",
       "    .dataframe tbody tr th:only-of-type {\n",
       "        vertical-align: middle;\n",
       "    }\n",
       "\n",
       "    .dataframe tbody tr th {\n",
       "        vertical-align: top;\n",
       "    }\n",
       "\n",
       "    .dataframe thead th {\n",
       "        text-align: right;\n",
       "    }\n",
       "</style>\n",
       "<table border=\"1\" class=\"dataframe\">\n",
       "  <thead>\n",
       "    <tr style=\"text-align: right;\">\n",
       "      <th></th>\n",
       "      <th>probs</th>\n",
       "    </tr>\n",
       "  </thead>\n",
       "  <tbody>\n",
       "    <tr>\n",
       "      <th>Adelie</th>\n",
       "      <td>0.003455</td>\n",
       "    </tr>\n",
       "    <tr>\n",
       "      <th>Chinstrap</th>\n",
       "      <td>0.995299</td>\n",
       "    </tr>\n",
       "    <tr>\n",
       "      <th>Gentoo</th>\n",
       "      <td>0.001246</td>\n",
       "    </tr>\n",
       "  </tbody>\n",
       "</table>\n",
       "</div>"
      ],
      "text/plain": [
       "Adelie       0.003455\n",
       "Chinstrap    0.995299\n",
       "Gentoo       0.001246\n",
       "Name: , dtype: float64"
      ]
     },
     "execution_count": 25,
     "metadata": {},
     "output_type": "execute_result"
    }
   ],
   "source": [
    "data_seq = 193, 48\n",
    "posterior = update_naive(prior, data_seq, norm_maps)\n",
    "posterior"
   ]
  },
  {
   "cell_type": "markdown",
   "id": "107cae12",
   "metadata": {},
   "source": [
    "Ora siamo quasi sicuro che sia un Chinstrap.\n",
    "\n"
   ]
  },
  {
   "cell_type": "code",
   "execution_count": 26,
   "id": "38b5d87f",
   "metadata": {},
   "outputs": [
    {
     "data": {
      "text/plain": [
       "'Chinstrap'"
      ]
     },
     "execution_count": 26,
     "metadata": {},
     "output_type": "execute_result"
    }
   ],
   "source": [
    "posterior.max_prob()"
   ]
  },
  {
   "cell_type": "markdown",
   "id": "d45c0d3e",
   "metadata": {},
   "source": [
    "Possiamo usare il dataset per classificare ogni pinguino con queste due features."
   ]
  },
  {
   "cell_type": "code",
   "execution_count": 27,
   "id": "61d9b2be",
   "metadata": {},
   "outputs": [],
   "source": [
    "import numpy as np\n",
    "\n",
    "df['Classification'] = np.nan\n",
    "\n",
    "for i, row in df.iterrows():\n",
    "    data_seq = row[colnames]\n",
    "    posterior = update_naive(prior, data_seq, norm_maps)\n",
    "    df.loc[i, 'Classification'] = posterior.max_prob()"
   ]
  },
  {
   "cell_type": "markdown",
   "id": "1bf77295",
   "metadata": {},
   "source": [
    "Questo loop aggiunge una colonna chiamata `Classification` al `DataFrame`; e contiene la specie con la massima probabilità per ogni pinguino.\n",
    "\n",
    "Ora vediamo quante previsioni sono corrette."
   ]
  },
  {
   "cell_type": "code",
   "execution_count": 28,
   "id": "0239fa38",
   "metadata": {},
   "outputs": [
    {
     "data": {
      "text/plain": [
       "344"
      ]
     },
     "execution_count": 28,
     "metadata": {},
     "output_type": "execute_result"
    }
   ],
   "source": [
    "len(df)"
   ]
  },
  {
   "cell_type": "code",
   "execution_count": 29,
   "id": "775c63dc",
   "metadata": {},
   "outputs": [
    {
     "data": {
      "text/plain": [
       "342"
      ]
     },
     "execution_count": 29,
     "metadata": {},
     "output_type": "execute_result"
    }
   ],
   "source": [
    "valid = df['Classification'].notna()\n",
    "valid.sum()"
   ]
  },
  {
   "cell_type": "code",
   "execution_count": 30,
   "id": "993f8652",
   "metadata": {},
   "outputs": [
    {
     "data": {
      "text/plain": [
       "324"
      ]
     },
     "execution_count": 30,
     "metadata": {},
     "output_type": "execute_result"
    }
   ],
   "source": [
    "same = df['Species2'] == df['Classification']\n",
    "same.sum()"
   ]
  },
  {
   "cell_type": "markdown",
   "id": "43430240",
   "metadata": {},
   "source": [
    "Abbiamo 344 pinguini nel dataset, ma due sono senza misure, dunque abbiamo 342 casi validi. Di questi 324 sono classificati correttamente che è circa il 95%. "
   ]
  },
  {
   "cell_type": "code",
   "execution_count": 31,
   "id": "6331ccf8",
   "metadata": {},
   "outputs": [
    {
     "data": {
      "text/plain": [
       "0.9473684210526315"
      ]
     },
     "execution_count": 31,
     "metadata": {},
     "output_type": "execute_result"
    }
   ],
   "source": [
    "same.sum() / valid.sum()"
   ]
  },
  {
   "cell_type": "markdown",
   "id": "025e88ca",
   "metadata": {},
   "source": [
    "La seguente funzione incapsula questi passi."
   ]
  },
  {
   "cell_type": "code",
   "execution_count": 32,
   "id": "041eb774",
   "metadata": {},
   "outputs": [],
   "source": [
    "def accuracy(df):\n",
    "    \"\"\"Compute the accuracy of classification.\"\"\"\n",
    "    valid = df['Classification'].notna()\n",
    "    same = df['Species2'] == df['Classification']\n",
    "    return same.sum() / valid.sum()"
   ]
  },
  {
   "cell_type": "markdown",
   "id": "52af5eb8",
   "metadata": {},
   "source": [
    "Il classificatore che abbiamo usato in questa sezione è chiamato \"naive\" perchè ignora la correlazione tra queste feature.\n",
    "Per vedere perchè è importante, creeremo un classificatore meno naive: prendiamo in considerazione della distribuzione congiunta delle features.\n",
    "\n",
    "## Distribuzioni congiunte\n",
    "\n",
    "Partiamo con un grafico dei dati"
   ]
  },
  {
   "cell_type": "code",
   "execution_count": 33,
   "id": "714f8976",
   "metadata": {},
   "outputs": [],
   "source": [
    "import matplotlib.pyplot as plt\n",
    "\n",
    "def scatterplot(df, var1, var2):\n",
    "    \"\"\"Make a scatter plot.\"\"\"\n",
    "    grouped = df.groupby('Species2')\n",
    "    for species, group in grouped:\n",
    "        plt.plot(group[var1], group[var2],\n",
    "                 label=species, lw=0, alpha=0.3)\n",
    "    \n",
    "    decorate(xlabel=var1, ylabel=var2)"
   ]
  },
  {
   "cell_type": "markdown",
   "id": "94f1061a",
   "metadata": {},
   "source": [
    "Qui il grafico che mette in relazione la lunghezza del culmen e della pinna per tutte e tre le specie."
   ]
  },
  {
   "cell_type": "code",
   "execution_count": 34,
   "id": "ff561138",
   "metadata": {},
   "outputs": [
    {
     "data": {
      "image/png": "[encoded data removed]",
      "text/plain": [
       "<Figure size 432x288 with 1 Axes>"
      ]
     },
     "metadata": {
      "needs_background": "light"
     },
     "output_type": "display_data"
    }
   ],
   "source": [
    "var1 = 'Flipper Length (mm)'\n",
    "var2 = 'Culmen Length (mm)'\n",
    "scatterplot(df, var1, var2)"
   ]
  },
  {
   "cell_type": "markdown",
   "id": "a74ef720",
   "metadata": {},
   "source": [
    "Per ogni specie, la distribuzione congiunta di queste misure creano una forma ovale, almeno approssimativamente.\n",
    "L'orientamento dell'ovale è lungo la diagonale, che indica l'esistenza di una correlazione tra la lunghezza del culmen e della pinna.\n",
    "\n",
    "Se ignoriamo queste correlazioni, stiamo assumendo che queste features sono indipendenti. Per vedere che aspetto ha, creeremo una distribuzione di ogni specie assumendo l'indipendenza.\n",
    "\n",
    "La seguente funzione crea un oggetto discreto `Pmf` che approssima una distribuzione normale."
   ]
  },
  {
   "cell_type": "code",
   "execution_count": 35,
   "id": "c08a08cf",
   "metadata": {},
   "outputs": [],
   "source": [
    "def make_pmf_norm(dist, sigmas=3, n=101):\n",
    "    \"\"\"Make a Pmf approximation to a normal distribution.\"\"\"\n",
    "    mean, std = dist.mean(), dist.std()\n",
    "    low = mean - sigmas * std\n",
    "    high = mean + sigmas * std\n",
    "    qs = np.linspace(low, high, n)\n",
    "    ps = dist.pdf(qs)\n",
    "    pmf = Pmf(ps, qs)\n",
    "    pmf.normalize()\n",
    "    return pmf"
   ]
  },
  {
   "cell_type": "markdown",
   "id": "33e55a15",
   "metadata": {},
   "source": [
    "Possiamo usarla, assieme a `make_joint`, per creare una distribuzione congiunta tra la lunghezza del culmen e la lunghezza della pinna per ogni specie."
   ]
  },
  {
   "cell_type": "code",
   "execution_count": 36,
   "id": "aff6c352",
   "metadata": {},
   "outputs": [],
   "source": [
    "from utils import make_joint\n",
    "\n",
    "joint_map = {}\n",
    "for species in hypos:\n",
    "    pmf1 = make_pmf_norm(flipper_map[species])\n",
    "    pmf2 = make_pmf_norm(culmen_map[species])\n",
    "    joint_map[species] = make_joint(pmf1, pmf2)"
   ]
  },
  {
   "cell_type": "markdown",
   "id": "a59b8d18",
   "metadata": {},
   "source": [
    "Il grafico seguente, compara i grafici dei dati con il contorno della distribuzione congiunta assumento l'indipendenza."
   ]
  },
  {
   "cell_type": "code",
   "execution_count": 37,
   "id": "78a634e9",
   "metadata": {},
   "outputs": [
    {
     "data": {
      "image/png": "[encoded data removed]",
      "text/plain": [
       "<Figure size 432x288 with 1 Axes>"
      ]
     },
     "metadata": {
      "needs_background": "light"
     },
     "output_type": "display_data"
    }
   ],
   "source": [
    "from utils import plot_contour\n",
    "\n",
    "scatterplot(df, var1, var2)\n",
    "for species in hypos:\n",
    "    plot_contour(joint_map[species], alpha=0.5)"
   ]
  },
  {
   "cell_type": "markdown",
   "id": "edf78d23",
   "metadata": {},
   "source": [
    "I contorni della distribuzione congiunta formano ellissi.\n",
    "In questo esempio, in quanto le features non sono correlate, le ellissi sono allieneate sugli assi. \n",
    "Ma questi non sono ben allineati con i dati.\n",
    "Possiamo ottenere un modello migliore dal dato e usarlo per calcolare una migliore verosomiglianza, con una distribuzione normale multivariata.\n",
    "\n",
    "## Distribuzione Normale Multivariata\n",
    "\n",
    "Come abbiamo visto, la distribuzione normale univariata è caratterizzata dalla sua media e dalla deviazione standard.\n",
    "Una distribuzione normale multivariata è caratterizzata dalle medie delle sue features e dalla **matrice di covarianza** che contiene le **varianze**, che quantificano la diffusione delle features, e le **covarianze** che quantifica le relazioni tra essi.\n",
    "\n",
    "Possiamo usare i dati per stimare le medie e la matrice di covarianza per la popolazione dei pinguini.\n",
    "Prima selezioniamo le colonne che vogliamo.\n"
   ]
  },
  {
   "cell_type": "code",
   "execution_count": 38,
   "id": "797992bb",
   "metadata": {},
   "outputs": [],
   "source": [
    "features = df[[var1, var2]]"
   ]
  },
  {
   "cell_type": "markdown",
   "id": "a4e9b6d1",
   "metadata": {},
   "source": [
    "e calcoliamo le medie."
   ]
  },
  {
   "cell_type": "code",
   "execution_count": 39,
   "id": "490322b0",
   "metadata": {},
   "outputs": [
    {
     "data": {
      "text/plain": [
       "Flipper Length (mm)    200.915205\n",
       "Culmen Length (mm)      43.921930\n",
       "dtype: float64"
      ]
     },
     "execution_count": 39,
     "metadata": {},
     "output_type": "execute_result"
    }
   ],
   "source": [
    "mean = features.mean()\n",
    "mean"
   ]
  },
  {
   "cell_type": "markdown",
   "id": "6f4cd479",
   "metadata": {},
   "source": [
    "Possiamo calcolare la matrice di covarianza:"
   ]
  },
  {
   "cell_type": "code",
   "execution_count": 40,
   "id": "1dff8d12",
   "metadata": {},
   "outputs": [
    {
     "data": {
      "text/html": [
       "<div>\n",
       "<style scoped>\n",
       "    .dataframe tbody tr th:only-of-type {\n",
       "        vertical-align: middle;\n",
       "    }\n",
       "\n",
       "    .dataframe tbody tr th {\n",
       "        vertical-align: top;\n",
       "    }\n",
       "\n",
       "    .dataframe thead th {\n",
       "        text-align: right;\n",
       "    }\n",
       "</style>\n",
       "<table border=\"1\" class=\"dataframe\">\n",
       "  <thead>\n",
       "    <tr style=\"text-align: right;\">\n",
       "      <th></th>\n",
       "      <th>Flipper Length (mm)</th>\n",
       "      <th>Culmen Length (mm)</th>\n",
       "    </tr>\n",
       "  </thead>\n",
       "  <tbody>\n",
       "    <tr>\n",
       "      <th>Flipper Length (mm)</th>\n",
       "      <td>197.731792</td>\n",
       "      <td>50.375765</td>\n",
       "    </tr>\n",
       "    <tr>\n",
       "      <th>Culmen Length (mm)</th>\n",
       "      <td>50.375765</td>\n",
       "      <td>29.807054</td>\n",
       "    </tr>\n",
       "  </tbody>\n",
       "</table>\n",
       "</div>"
      ],
      "text/plain": [
       "                     Flipper Length (mm)  Culmen Length (mm)\n",
       "Flipper Length (mm)           197.731792           50.375765\n",
       "Culmen Length (mm)             50.375765           29.807054"
      ]
     },
     "execution_count": 40,
     "metadata": {},
     "output_type": "execute_result"
    }
   ],
   "source": [
    "cov = features.cov()\n",
    "cov"
   ]
  },
  {
   "cell_type": "markdown",
   "id": "d894ed3c",
   "metadata": {},
   "source": [
    "Il risultato è un `DataFrame` con una riga e una colonna per ogni feature. Gli elementi sulla diagonale sono le varianze; gli elementi fuori dalla diagonale sono le covarianze.\n",
    "\n",
    "Da sole, varianza e covarianza sono difficili da interpretare. Possiamo usarli per calcolare la deviazione standard e i coefficienti di correlazione, che sono più facili da interpretare , ma per i dettagli dei calcolo non sono importanti per ora.\n",
    "\n",
    "Invece, passeremo la matrice di covarianza con `multivariate_normal`, che è una funzione di SciPy che crea un oggetto che rappresenta un distribuzione multivariata normale."
   ]
  },
  {
   "cell_type": "code",
   "execution_count": 41,
   "id": "bf0ec33a",
   "metadata": {},
   "outputs": [],
   "source": [
    "from scipy.stats import multivariate_normal\n",
    "\n",
    "multinorm = multivariate_normal(mean, cov)"
   ]
  },
  {
   "cell_type": "markdown",
   "id": "c8da1df2",
   "metadata": {},
   "source": [
    "La seguente funzione crea un oggetto `multivariate_normal` per ogni specie."
   ]
  },
  {
   "cell_type": "code",
   "execution_count": 42,
   "id": "85bb97b5",
   "metadata": {},
   "outputs": [],
   "source": [
    "def make_multinorm_map(df, colnames):\n",
    "    \"\"\"Make a map from each species to a multivariate normal.\"\"\"\n",
    "    multinorm_map = {}\n",
    "    grouped = df.groupby('Species2')\n",
    "    for species, group in grouped:\n",
    "        features = group[colnames]\n",
    "        mean = features.mean()\n",
    "        cov = features.cov()\n",
    "        multinorm_map[species] = multivariate_normal(mean, cov)\n",
    "    return multinorm_map"
   ]
  },
  {
   "cell_type": "markdown",
   "id": "0b5a7f08",
   "metadata": {},
   "source": [
    "Qui come creare questa mappa per le prime due features, la lunghezza della pinna e del culmen."
   ]
  },
  {
   "cell_type": "code",
   "execution_count": 43,
   "id": "ec7a0580",
   "metadata": {},
   "outputs": [],
   "source": [
    "multinorm_map = make_multinorm_map(df, [var1, var2])"
   ]
  },
  {
   "cell_type": "markdown",
   "id": "37d7cae1",
   "metadata": {},
   "source": [
    "## Visualizzare una distribuzione normale multivariata\n",
    "\n",
    "In questa sezione useremo alcune funzionalità di Numpy per generare un grafico che rappresenta la distribuzione normale multivariata. \n",
    "\n",
    "Se questo ti interessa, bene! Nella prossima sezione faremo la classificazione vera e propria, che risulta essere più semplice della visualizzazione.\n",
    "\n",
    "Partiremo con il creare una mappa per la distribuzione delle features tra i pingioni Adélie.\n",
    "Qui le distribuzioni univariate per le due features, useremo anche la distribuzione multivariata appena calcolata.\n",
    "\n"
   ]
  },
  {
   "cell_type": "code",
   "execution_count": 44,
   "id": "4176de1f",
   "metadata": {},
   "outputs": [],
   "source": [
    "norm1 = flipper_map['Adelie']\n",
    "norm2 = culmen_map['Adelie']\n",
    "multinorm = multinorm_map['Adelie']"
   ]
  },
  {
   "cell_type": "markdown",
   "id": "84a5bda5",
   "metadata": {},
   "source": [
    "Creiamo una approssimazione discreta `Pmf` per ogni distribuzione univariata."
   ]
  },
  {
   "cell_type": "code",
   "execution_count": 45,
   "id": "057ff504",
   "metadata": {},
   "outputs": [],
   "source": [
    "pmf1 = make_pmf_norm(norm1)\n",
    "pmf2 = make_pmf_norm(norm2)"
   ]
  },
  {
   "cell_type": "markdown",
   "id": "698badae",
   "metadata": {},
   "source": [
    "E useremo per create una griglia che contiene tutte le coppie di valori."
   ]
  },
  {
   "cell_type": "code",
   "execution_count": 46,
   "id": "3f854845",
   "metadata": {},
   "outputs": [
    {
     "data": {
      "text/plain": [
       "(101, 101)"
      ]
     },
     "execution_count": 46,
     "metadata": {},
     "output_type": "execute_result"
    }
   ],
   "source": [
    "X, Y = np.meshgrid(pmf1.qs, pmf2.qs)\n",
    "X.shape"
   ]
  },
  {
   "cell_type": "markdown",
   "id": "4879fc17",
   "metadata": {},
   "source": [
    "Questa griglia è rappresentata da due array: il primo contiene le quantità da  `pmf1` lungo l'asse `x`; la seconda contiene le quantità da `pmf2` lungo l'asse `y`.\n",
    "\n",
    "In ordine per valutare la distribuzione multivariata di ogni coppia di valori dobbiamo \"impilare\" i due array."
   ]
  },
  {
   "cell_type": "code",
   "execution_count": 47,
   "id": "21721b8f",
   "metadata": {},
   "outputs": [
    {
     "data": {
      "text/plain": [
       "(101, 101, 2)"
      ]
     },
     "execution_count": 47,
     "metadata": {},
     "output_type": "execute_result"
    }
   ],
   "source": [
    "pos = np.dstack((X, Y))\n",
    "pos.shape"
   ]
  },
  {
   "cell_type": "markdown",
   "id": "f61aeb09",
   "metadata": {},
   "source": [
    "IL risultato è un array 3D che possiamo pensare con un array 2D di coppie. Quando passiamo questo array alla funzione `multinorm.pdf`, questa valuta la funzione di densità di probabilità della distribuzione per ogni coppia di valori. "
   ]
  },
  {
   "cell_type": "code",
   "execution_count": 48,
   "id": "23c99db6",
   "metadata": {},
   "outputs": [
    {
     "data": {
      "text/plain": [
       "(101, 101)"
      ]
     },
     "execution_count": 48,
     "metadata": {},
     "output_type": "execute_result"
    }
   ],
   "source": [
    "densities = multinorm.pdf(pos)\n",
    "densities.shape"
   ]
  },
  {
   "cell_type": "markdown",
   "id": "6fc15879",
   "metadata": {},
   "source": [
    "Il risultato è un array di densità di probabilità. Se le mettiamo in un DataFrame e lo normalizziamo il risultato è una approssimazione discreta della distribuzione congiunta delle due features. "
   ]
  },
  {
   "cell_type": "code",
   "execution_count": 49,
   "id": "e092df90",
   "metadata": {},
   "outputs": [
    {
     "data": {
      "text/plain": [
       "15.871343639913832"
      ]
     },
     "execution_count": 49,
     "metadata": {},
     "output_type": "execute_result"
    }
   ],
   "source": [
    "from utils import normalize\n",
    "\n",
    "joint = pd.DataFrame(densities, columns=pmf1.qs, index=pmf2.qs)\n",
    "normalize(joint)"
   ]
  },
  {
   "cell_type": "markdown",
   "id": "881c163b",
   "metadata": {},
   "source": [
    "Qui il risultato."
   ]
  },
  {
   "cell_type": "code",
   "execution_count": 50,
   "id": "b677244b",
   "metadata": {},
   "outputs": [
    {
     "data": {
      "image/png": "[encoded data removed]",
      "text/plain": [
       "<Figure size 432x288 with 1 Axes>"
      ]
     },
     "metadata": {
      "needs_background": "light"
     },
     "output_type": "display_data"
    }
   ],
   "source": [
    "plot_contour(joint)\n",
    "decorate(xlabel=var1,\n",
    "         ylabel=var2)"
   ]
  },
  {
   "cell_type": "markdown",
   "id": "20d40929",
   "metadata": {},
   "source": [
    "I contorni della distribuzione multivariata sono ancora delle ellissi, ma ora dobbiamo prendere in considerazione la correlazione tra le features, le ellissi non sono allineate con gli assi.\n",
    "\n",
    "La seguente funzione incapsula i passi che abbiamo appena fatto."
   ]
  },
  {
   "cell_type": "code",
   "execution_count": 51,
   "id": "7132cee0",
   "metadata": {},
   "outputs": [],
   "source": [
    "def make_joint(norm1, norm2, multinorm):\n",
    "    \"\"\"Make a joint distribution.\n",
    "    \n",
    "    norm1: `norm` object representing the distribution of the first feature\n",
    "    norm2: `norm` object representing the distribution of the second feature\n",
    "    multinorm: `multivariate_normal` object representing the joint distribution\n",
    "    \"\"\"\n",
    "    pmf1 = make_pmf_norm(norm1)\n",
    "    pmf2 = make_pmf_norm(norm2)\n",
    "    X, Y = np.meshgrid(pmf1.qs, pmf2.qs)\n",
    "    pos = np.dstack((X, Y))\n",
    "    densities = multinorm.pdf(pos)\n",
    "    joint = pd.DataFrame(densities, columns=pmf1.qs, index=pmf2.qs)\n",
    "    return joint"
   ]
  },
  {
   "cell_type": "markdown",
   "id": "d9f91b83",
   "metadata": {},
   "source": [
    "La seguente figura mostra un grafico dei dati della distribuzione multivariata della distribuzione normale per ogni specie. "
   ]
  },
  {
   "cell_type": "code",
   "execution_count": 52,
   "id": "27ab0e58",
   "metadata": {},
   "outputs": [
    {
     "data": {
      "image/png": "[encoded data removed]",
      "text/plain": [
       "<Figure size 432x288 with 1 Axes>"
      ]
     },
     "metadata": {
      "needs_background": "light"
     },
     "output_type": "display_data"
    }
   ],
   "source": [
    "scatterplot(df, var1, var2)\n",
    "\n",
    "for species in hypos:\n",
    "    norm1 = flipper_map[species]\n",
    "    norm2 = culmen_map[species]\n",
    "    multinorm = multinorm_map[species]\n",
    "    joint = make_joint(norm1, norm2, multinorm)\n",
    "    plot_contour(joint, alpha=0.5)"
   ]
  },
  {
   "cell_type": "markdown",
   "id": "de74ad5f",
   "metadata": {},
   "source": [
    "Visto che la distribuzione normale multivariata prende in considerazione la correlazione tra le features, rappresenta un modello migliore per rappresentare il dato. Ci sono meno sovrapposizioni dei contorni delle tre distribuzioni, il che ci suggerisce che avremo una migliore classificazione.\n",
    "\n",
    "\n",
    "## Un classificatore meno Naive\n",
    "\n",
    "Nella sezione precedente abbiamo usato `update_penguin` per aggiornare la distribuzione a priori `Pmf` basandosi sui dati osservati e una collezione di oggetti `norm` che modellano la distribuzione delle osservazioni sotto ogni ipotesi.  "
   ]
  },
  {
   "cell_type": "code",
   "execution_count": 53,
   "id": "40cdb7c6",
   "metadata": {},
   "outputs": [],
   "source": [
    "def update_penguin(prior, data, norm_map):\n",
    "    \"\"\"Update hypothetical species.\"\"\"\n",
    "    hypos = prior.qs\n",
    "    likelihood = [norm_map[hypo].pdf(data) for hypo in hypos]\n",
    "    posterior = prior * likelihood\n",
    "    posterior.normalize()\n",
    "    return posterior"
   ]
  },
  {
   "cell_type": "markdown",
   "id": "e6055374",
   "metadata": {},
   "source": [
    "L'ultima volta che abbiamo usato questa funzione, i valori `norm_map` erano oggetti `norm`, ma questo funziona anche se trattiamo oggetti di tipo `multivariate_normal`.  \n",
    "\n",
    "Possiamo usarlo per classificare un pinguino con una pinna lunga 193cm e un culmen lungo 48cm:"
   ]
  },
  {
   "cell_type": "code",
   "execution_count": 54,
   "id": "92248140",
   "metadata": {},
   "outputs": [
    {
     "data": {
      "text/html": [
       "<div>\n",
       "<style scoped>\n",
       "    .dataframe tbody tr th:only-of-type {\n",
       "        vertical-align: middle;\n",
       "    }\n",
       "\n",
       "    .dataframe tbody tr th {\n",
       "        vertical-align: top;\n",
       "    }\n",
       "\n",
       "    .dataframe thead th {\n",
       "        text-align: right;\n",
       "    }\n",
       "</style>\n",
       "<table border=\"1\" class=\"dataframe\">\n",
       "  <thead>\n",
       "    <tr style=\"text-align: right;\">\n",
       "      <th></th>\n",
       "      <th>probs</th>\n",
       "    </tr>\n",
       "  </thead>\n",
       "  <tbody>\n",
       "    <tr>\n",
       "      <th>Adelie</th>\n",
       "      <td>0.002740</td>\n",
       "    </tr>\n",
       "    <tr>\n",
       "      <th>Chinstrap</th>\n",
       "      <td>0.997257</td>\n",
       "    </tr>\n",
       "    <tr>\n",
       "      <th>Gentoo</th>\n",
       "      <td>0.000003</td>\n",
       "    </tr>\n",
       "  </tbody>\n",
       "</table>\n",
       "</div>"
      ],
      "text/plain": [
       "Adelie       0.002740\n",
       "Chinstrap    0.997257\n",
       "Gentoo       0.000003\n",
       "Name: , dtype: float64"
      ]
     },
     "execution_count": 54,
     "metadata": {},
     "output_type": "execute_result"
    }
   ],
   "source": [
    "data = 193, 48\n",
    "update_penguin(prior, data, multinorm_map)"
   ]
  },
  {
   "cell_type": "markdown",
   "id": "98074b53",
   "metadata": {},
   "source": [
    "Un pinguino con queste misure è quasi certamente un Chinstrap.\n",
    "Ora vediamo se il classificatore funziona meglio del classificatore precedente."
   ]
  },
  {
   "cell_type": "code",
   "execution_count": 55,
   "id": "fc266474",
   "metadata": {},
   "outputs": [],
   "source": [
    "df['Classification'] = np.nan\n",
    "\n",
    "for i, row in df.iterrows():\n",
    "    data = row[colnames]\n",
    "    posterior = update_penguin(prior, data, multinorm_map)\n",
    "    df.loc[i, 'Classification'] = posterior.idxmax()"
   ]
  },
  {
   "cell_type": "markdown",
   "id": "71feb2c2",
   "metadata": {},
   "source": [
    "Ora calcoliamo l'accuratezza:"
   ]
  },
  {
   "cell_type": "code",
   "execution_count": 56,
   "id": "5bffa77e",
   "metadata": {},
   "outputs": [
    {
     "data": {
      "text/plain": [
       "0.9532163742690059"
      ]
     },
     "execution_count": 56,
     "metadata": {},
     "output_type": "execute_result"
    }
   ],
   "source": [
    "accuracy(df)"
   ]
  },
  {
   "cell_type": "markdown",
   "id": "f5a7cb08",
   "metadata": {},
   "source": [
    "Queste osservazioni funziona leggermente meglio siamo passati da un valore 94.7% a un 95.3%.\n",
    "\n",
    "## Riassunto\n",
    "\n",
    "In questo capitolo, abbiamo implementato un classificatore Bayesiano \"naive\", nel senso che assume che le features usate per la classificazione sono indipendenti.\n",
    "\n",
    "Per vederer quanto siano sbagliate queste assunzioni, abbiamo anche implementato un classificatore che usa una distibuzione multivariata normale per modellare la distribuzione congiunta che include anche le dipendenze. \n",
    "\n",
    "In questo esempio, il classificatore non naive funziona solo marginalmente meglio.\n",
    "In un certo senso, questo è deludente. Dopo tutto questo lavoro, vorremmo vedere un sensibile miglioramento.\n",
    "Ma questa è anche una buona notizia. In generale, un classificatore Baesyano è facile da implementare e richiede pochi calcoli.\n",
    "Se questo lavora quasi bene come il sistema complesso, potrebbe essere una buona scelta per scopi pratici.\n",
    "\n",
    "Parlando di casi pratici, potresti aver notato che questo esempio non è molto pratico. Se vuoi identificare le specie dei pinguini, ci sono modi molto più semplici della misura del becco e della pinna.\n",
    "\n",
    "Ma si sono usi più scentifici di questa classificazione. Uno di questi è relativo al [disformismo sessuale](https://en.wikipedia.org/wiki/Sexual_dimorphism) che rappresenta le differenze tra maschi e femmine negli animali.\n",
    "\n",
    "In alcune specie, come la rana pescatrice, maschi e femmine sono molto differenti. In altre specie, come il tordo, sono difficili da distinguire.\n",
    "Vale la pena studiarlo perchè ci da informazioni relative ai comportamenti sociali, la selezione sessuale e l'evoluzione.\n",
    "\n",
    "Un modo per quantificare il gradi di disformismo sessuale nelle specie è quello di usare un algoritmo di classificazione. Se troviamo che un insieme di features rende possibile la classificazione con una alta accuratezza, avremo una evidenza di alto disformismo. \n",
    "\n"
   ]
  },
  {
   "cell_type": "code",
   "execution_count": null,
   "id": "f2546507",
   "metadata": {},
   "outputs": [],
   "source": []
  }
 ],
 "metadata": {
  "kernelspec": {
   "display_name": "Python 3 (ipykernel)",
   "language": "python",
   "name": "python3"
  },
  "language_info": {
   "codemirror_mode": {
    "name": "ipython",
    "version": 3
   },
   "file_extension": ".py",
   "mimetype": "text/x-python",
   "name": "python",
   "nbconvert_exporter": "python",
   "pygments_lexer": "ipython3",
   "version": "3.9.7"
  }
 },
 "nbformat": 4,
 "nbformat_minor": 5
}
