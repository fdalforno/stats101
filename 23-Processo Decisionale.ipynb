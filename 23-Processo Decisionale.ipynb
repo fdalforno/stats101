{
 "cells": [
  {
   "cell_type": "markdown",
   "id": "0cee092f",
   "metadata": {},
   "source": [
    "from utils import set_pyplot_params\n",
    "set_pyplot_params()"
   ]
  },
  {
   "cell_type": "markdown",
   "id": "f8c210ca",
   "metadata": {},
   "source": [
    "In questo capitolo presenteremo un problema inspirato ad un quiz televisivo *Il prezzo è giusto*.\n",
    "E' un esempio stupido, ma ci dimostra un utile processo chiamato [Analisi Decisionale Bayesiana](https://en.wikipedia.org/wiki/Decision_analysis).\n",
    "\n",
    "Come nell'esempio precedente, useremo i dati e una distribuzione a priori per calcolare una distribuzione a posteriori; poi useremo la distribuzione a posteriori per calcolare una strategia ottimale in un gioco che prevede una offerta.\n",
    "\n",
    "Come parte della soluzione, useremo la stima della densità del kernel (KDE) per stimare la distribuzione a priori, e la distribuzione normale per calcolare la verosomiglianza del dato.\n",
    "\n",
    "## Il problema del prezzo è giusto\n",
    "\n",
    "Il primo novembre del 2007 i concorrenti che chiameremo Letia e Nathianiel apparvero al quiz televisivo *Il prezzo è giusto*.\n",
    "Essi gareggiarono in un gioco chiamato \"La Vetrina\" dove l'obiettivo era quello di indovinare il prezzo corretto da un insieme di prezzi. Il concorrente che si avvicina al prezzo corretto, senza superarlo, vince il premio.\n",
    "\n",
    "Nathaniel è andato per primo, La sua vertrina conteneva una lavapiatti, una cantinetta, un computer portatile e una macchina. La sua offerta fu di \\\\$26,000.\n",
    "\n",
    "La vetrina di Letia includeva una flipper, un videogioco, un tavolo da biliardo e una criociera alle Bahamas. La sua offerta fu di \\\\$21,500.\n",
    "\n",
    "Il valore della vertrina di Nathaniel era di \\\\$25,347. Avendo la sua offerta era troppo alta dunque ha perso.\n",
    "Il valore della vetrina di Letia era di \\\\$21,578. \n",
    "\n",
    "Sbagliando solo di \\\\$78, lei vinse la sua vetrina e in quanto la sua offerta era sbagliata meno di 250 lei vince anche quella di Nathaniel.\n",
    "\n",
    "Per un pensatore Bayesiano, questo scenario ci suggerisce le seguenti domande:\n",
    "\n",
    "1. Prima di vedere i prezzi, quale sono le convinzioni a priori che il partecipante dovrebbe avere circa il prezzo della sua vetrina?\n",
    "\n",
    "2. Dopo aver visto i prezzi, come dovrebbe aggiornare le prorie credenze il giocatore?\n",
    "\n",
    "3. Basandosi sulla distribuzione a posteriori, quanto dovrebbero offrire i concorrenti?\n",
    "\n",
    "La terza domanda ci indirizza verso un uso comune dei metodi Bayesiani: l'analisi decisionale.\n",
    "\n",
    "Questo problema è inspirato da [un esempio](https://nbviewer.jupyter.org/github/CamDavidsonPilon/Probabilistic-Programming-and-Bayesian-Methods-for-Hackers/blob/master/Chapter5_LossFunctions/Ch5_LossFunctions_PyMC3.ipynb) del libro di Cameron Davidson-Pilon.\n",
    "\n",
    "## La Distribuzione a priori\n",
    "\n",
    "Per ottenere una distribuzione di prezzi, possiamo ottenere un vantaggio dai dati degli episodi precedenti. Fortunatamente i fan dello spettacolo hanno segnato i dati di tutte le puntate.\n",
    "\n",
    "Per prima cosa analizziamo i dati contenenti i dati per ogni vetrina delle stagioni dal 2011 al 2012 e le offerte fatte dai concorrenti.\n",
    "\n"
   ]
  },
  {
   "cell_type": "code",
   "execution_count": 2,
   "id": "c1484064",
   "metadata": {},
   "outputs": [],
   "source": [
    "import pandas as pd\n",
    "\n",
    "def read_data(filename):\n",
    "    \"\"\"Read the showcase price data.\"\"\"\n",
    "    df = pd.read_csv(filename, index_col=0, skiprows=[1])\n",
    "    return df.dropna().transpose()"
   ]
  },
  {
   "cell_type": "code",
   "execution_count": 3,
   "id": "85119ea8",
   "metadata": {},
   "outputs": [],
   "source": [
    "df2011 = read_data('./data/showcases.2011.csv')\n",
    "df2012 = read_data('./data/showcases.2012.csv')\n",
    "\n",
    "df = pd.concat([df2011, df2012], ignore_index=True)"
   ]
  },
  {
   "cell_type": "code",
   "execution_count": 4,
   "id": "40fd1075",
   "metadata": {},
   "outputs": [
    {
     "name": "stdout",
     "output_type": "stream",
     "text": [
      "(191, 6) (122, 6) (313, 6)\n"
     ]
    }
   ],
   "source": [
    "print(df2011.shape, df2012.shape, df.shape)"
   ]
  },
  {
   "cell_type": "markdown",
   "id": "4a1521f4",
   "metadata": {},
   "source": [
    "Diamo uno sguardo ai dati "
   ]
  },
  {
   "cell_type": "code",
   "execution_count": 5,
   "id": "7588ac7d",
   "metadata": {},
   "outputs": [
    {
     "data": {
      "text/html": [
       "<div>\n",
       "<style scoped>\n",
       "    .dataframe tbody tr th:only-of-type {\n",
       "        vertical-align: middle;\n",
       "    }\n",
       "\n",
       "    .dataframe tbody tr th {\n",
       "        vertical-align: top;\n",
       "    }\n",
       "\n",
       "    .dataframe thead th {\n",
       "        text-align: right;\n",
       "    }\n",
       "</style>\n",
       "<table border=\"1\" class=\"dataframe\">\n",
       "  <thead>\n",
       "    <tr style=\"text-align: right;\">\n",
       "      <th></th>\n",
       "      <th>Showcase 1</th>\n",
       "      <th>Showcase 2</th>\n",
       "      <th>Bid 1</th>\n",
       "      <th>Bid 2</th>\n",
       "      <th>Difference 1</th>\n",
       "      <th>Difference 2</th>\n",
       "    </tr>\n",
       "  </thead>\n",
       "  <tbody>\n",
       "    <tr>\n",
       "      <th>0</th>\n",
       "      <td>50969.0</td>\n",
       "      <td>45429.0</td>\n",
       "      <td>42000.0</td>\n",
       "      <td>34000.0</td>\n",
       "      <td>8969.0</td>\n",
       "      <td>11429.0</td>\n",
       "    </tr>\n",
       "    <tr>\n",
       "      <th>1</th>\n",
       "      <td>21901.0</td>\n",
       "      <td>34061.0</td>\n",
       "      <td>14000.0</td>\n",
       "      <td>59900.0</td>\n",
       "      <td>7901.0</td>\n",
       "      <td>-25839.0</td>\n",
       "    </tr>\n",
       "    <tr>\n",
       "      <th>2</th>\n",
       "      <td>32815.0</td>\n",
       "      <td>53186.0</td>\n",
       "      <td>32000.0</td>\n",
       "      <td>45000.0</td>\n",
       "      <td>815.0</td>\n",
       "      <td>8186.0</td>\n",
       "    </tr>\n",
       "  </tbody>\n",
       "</table>\n",
       "</div>"
      ],
      "text/plain": [
       "   Showcase 1  Showcase 2    Bid 1    Bid 2  Difference 1  Difference 2\n",
       "0     50969.0     45429.0  42000.0  34000.0        8969.0       11429.0\n",
       "1     21901.0     34061.0  14000.0  59900.0        7901.0      -25839.0\n",
       "2     32815.0     53186.0  32000.0  45000.0         815.0        8186.0"
      ]
     },
     "execution_count": 5,
     "metadata": {},
     "output_type": "execute_result"
    }
   ],
   "source": [
    "df.head(3)"
   ]
  },
  {
   "cell_type": "markdown",
   "id": "7291f218",
   "metadata": {},
   "source": [
    "Le prime due colonne, Showcase 1 e Showcase 2, sono valori delle vetrine in dollari. Le prossime due colonne sono le puntate che i concorrenti hanno fatto. Le ultime due colonne sono le differenze tra il valore della vetrina e le puntate. "
   ]
  },
  {
   "cell_type": "markdown",
   "id": "428d3371",
   "metadata": {},
   "source": [
    "## Kernel Density Estimation\n",
    "\n",
    "Il dataset contiene i prezzi per le 313 vetrine precedenti, che possiamo pensare come un campione dei possibili prezzi.\n",
    "\n",
    "Possiamo usare questo campione per stimare la distribuzione a priori delle vetrine dei prezzi. Un modo per farlo è quello di usare la stima della densità del kernel (KDE) che usa il campione per stimare una distribuzione regolare. \n",
    "\n",
    "Se non hai familiarità con la stima della densità del kernel puoi [leggere qui](https://mathisonian.github.io/kde).\n",
    "Scipy fornisce il metodo `gaussian_kde`, che prende un campione e ritorna un oggetto che rappresenta la distribuzione stimata.\n",
    "\n",
    "\n",
    "La seguente funzione prende in ingresso `sample`, crea un oggetto KDE lo valuta tramite la sequenza di quantità `qs` e ritorna i risultati come una PMF normalizzata."
   ]
  },
  {
   "cell_type": "code",
   "execution_count": 6,
   "id": "fe2e34c6",
   "metadata": {},
   "outputs": [],
   "source": [
    "from scipy.stats import gaussian_kde\n",
    "from distribution import Pmf\n",
    "\n",
    "def kde_from_sample(sample, qs):\n",
    "    \"\"\"Make a kernel density estimate from a sample.\"\"\"\n",
    "    kde = gaussian_kde(sample)\n",
    "    ps = kde(qs)\n",
    "    pmf = Pmf(ps, qs)\n",
    "    pmf.normalize()\n",
    "    return pmf"
   ]
  },
  {
   "cell_type": "markdown",
   "id": "06b2ae92",
   "metadata": {},
   "source": [
    "Qui la stima della distribuzione dei valori del campo Showcase 1:"
   ]
  },
  {
   "cell_type": "code",
   "execution_count": 7,
   "id": "325f8fe1",
   "metadata": {},
   "outputs": [],
   "source": [
    "import numpy as np\n",
    "\n",
    "qs = np.linspace(0, 80000, 81)\n",
    "prior1 = kde_from_sample(df['Showcase 1'], qs)"
   ]
  },
  {
   "cell_type": "code",
   "execution_count": 8,
   "id": "c49fb488",
   "metadata": {},
   "outputs": [],
   "source": [
    "from utils import decorate\n",
    "\n",
    "def decorate_value(title=''):\n",
    "    decorate(xlabel='Showcase value ($)',\n",
    "        ylabel='PMF',\n",
    "        title=title)"
   ]
  },
  {
   "cell_type": "code",
   "execution_count": 9,
   "id": "ad85f83b",
   "metadata": {},
   "outputs": [
    {
     "data": {
      "image/png": "[encoded data removed]",
      "text/plain": [
       "<Figure size 432x288 with 1 Axes>"
      ]
     },
     "metadata": {
      "needs_background": "light"
     },
     "output_type": "display_data"
    }
   ],
   "source": [
    "prior1.plot(label='Prior 1')\n",
    "decorate_value('Prior distribution of showcase value')"
   ]
  },
  {
   "cell_type": "markdown",
   "id": "81abd855",
   "metadata": {},
   "source": [
    "Facciamo gli stessi calcoli per il campo  Showcase 2:"
   ]
  },
  {
   "cell_type": "code",
   "execution_count": 10,
   "id": "db115762",
   "metadata": {},
   "outputs": [
    {
     "data": {
      "image/png": "[encoded data removed]",
      "text/plain": [
       "<Figure size 432x288 with 1 Axes>"
      ]
     },
     "metadata": {
      "needs_background": "light"
     },
     "output_type": "display_data"
    }
   ],
   "source": [
    "qs = np.linspace(0, 80000, 81)\n",
    "prior2 = kde_from_sample(df['Showcase 2'], qs)\n",
    "prior2.plot(label='Prior 2')\n",
    "decorate_value('Prior distribution of showcase value')"
   ]
  },
  {
   "cell_type": "markdown",
   "id": "6d385d51",
   "metadata": {},
   "source": [
    "# Distribuzione dell'errore\n",
    "\n",
    "Per aggiornare queste distribuzioni a priori, dobbiamo rispondere a queste domande:\n",
    "\n",
    "* Quale dato deve essere considerato e come dobbiamo quantificarlo?\n",
    "\n",
    "* Possiamo calcolare la funzione di verosomiglianza per ogni ipotetico prezzo, possiamo calcolare la veromiglianza condizionale del dato?\n",
    "\n",
    "Per rispondere a queste domande, modelerremo ogni partecipante come uno strumento indovina prezzi con caratteristiche di errore conosciute.\n",
    "In questo modello, quando un partecipante guarda i prezzi esso indovina i prezzi per ogni premio e lo aggiunge ai prezzi.\n",
    "Chiamiamo questa somma `guess`.\n",
    "\n",
    "Ora la domanda che ci facciamo è: \"Se il prezzo del premio è `price`, quale è la verosomiglianza che la stima del concorrente sia `guess` ?\"\n",
    "\n",
    "Possiamo mettere la domanda in questo modo se definiamo `error = guess - price`, possiamo domandarci, \"Quale è la verosomiglianza che la stima del concorrente sia sbagliata di una quantità pari a `error`?\"\n",
    "\n",
    "Per rispondere a questa domanda, Useremo i dati storici ancora.\n",
    "Per ogni vetrina del dataset, guardiamo la differenza tra l'offerta del concorrente e il prezzo attuale:"
   ]
  },
  {
   "cell_type": "code",
   "execution_count": 11,
   "id": "4f8f9f63",
   "metadata": {},
   "outputs": [],
   "source": [
    "sample_diff1 = df['Bid 1'] - df['Showcase 1']\n",
    "sample_diff2 = df['Bid 2'] - df['Showcase 2']"
   ]
  },
  {
   "cell_type": "code",
   "execution_count": 12,
   "id": "a789f622",
   "metadata": {},
   "outputs": [],
   "source": [
    "qs = np.linspace(-40000, 20000, 61)\n",
    "kde_diff1 = kde_from_sample(sample_diff1, qs)\n",
    "kde_diff2 = kde_from_sample(sample_diff2, qs)"
   ]
  },
  {
   "cell_type": "markdown",
   "id": "4876aeb5",
   "metadata": {},
   "source": [
    "Mostriamo ora le distribzioni:"
   ]
  },
  {
   "cell_type": "code",
   "execution_count": 13,
   "id": "cd5c5f7b",
   "metadata": {},
   "outputs": [
    {
     "data": {
      "image/png": "[encoded data removed]",
      "text/plain": [
       "<Figure size 432x288 with 1 Axes>"
      ]
     },
     "metadata": {
      "needs_background": "light"
     },
     "output_type": "display_data"
    }
   ],
   "source": [
    "kde_diff1.plot(label='Diff 1', color='C8')\n",
    "kde_diff2.plot(label='Diff 2', color='C4')\n",
    "\n",
    "decorate(xlabel='Difference in value ($)',\n",
    "        ylabel='PMF',\n",
    "        title='Difference between bid and actual value')"
   ]
  },
  {
   "cell_type": "markdown",
   "id": "cef0c62b",
   "metadata": {},
   "source": [
    "Sembra che le puntate siano più basse che troppo alte e questo ha un senso. Ricordate che la regola principale del gioco è: si perde se la scommessa è troppo alta, dunque i partecipanti tendono a fare offerte più basse volontariamente.\n",
    "\n",
    "Per esempio, se si pensa che il valore della vetrina sia \\\\$40,000, la loro offerta sarà di \\\\$36,000 per evitare di andare sopra.\n",
    "\n",
    "Sembra che questa distribuzione sia ben modellata da una distribuzione normale, possiamo riassumerla con la media e la deviazione standard.\n",
    "\n",
    "Come esempio questa è la media e la deviazione standard di `Diff` per il primo giocatore."
   ]
  },
  {
   "cell_type": "code",
   "execution_count": 14,
   "id": "a3044dc3",
   "metadata": {},
   "outputs": [
    {
     "name": "stdout",
     "output_type": "stream",
     "text": [
      "-4116.3961661341855 6899.909806377115\n"
     ]
    }
   ],
   "source": [
    "mean_diff1 = sample_diff1.mean()\n",
    "std_diff1 = sample_diff1.std()\n",
    "\n",
    "print(mean_diff1, std_diff1)"
   ]
  },
  {
   "cell_type": "markdown",
   "id": "45a23d8c",
   "metadata": {},
   "source": [
    "Ora possiamo usare queste differenze per modellare la distribuzione degli errori.\n",
    "Questo passo è un pochino complicato perchè attualmente conosciamo le ipotesi del concorrente, conosciamo solo le sua puntate.\n",
    "\n",
    "Dunque facciamo queste assunzioni:\n",
    "\n",
    "* Assumeremo che i partecipanti sottostimano per questioni strategiche, e in media le loro stime sono accurate. In altre parole, la media dei loro errori è 0.\n",
    "\n",
    "\n",
    "* Ma assumeremo che che lo spread delle differenze riflette l'attuale spread degli errori. Dunque useremo la deviazione standard delle differenze della deviazione standard degli errori.\n",
    "\n",
    "\n",
    "Basandosi su queste assunzioni, creeremo una distribuzione normale con paremetri 0 e `std_diff1`.\n",
    "\n",
    "SciPy ci fornisce un oggetto chiamato `norm` che rappresenta una distribuzione normale con media e deviazione standard data."
   ]
  },
  {
   "cell_type": "code",
   "execution_count": 15,
   "id": "0fb00752",
   "metadata": {},
   "outputs": [],
   "source": [
    "from scipy.stats import norm\n",
    "\n",
    "error_dist1 = norm(0, std_diff1)"
   ]
  },
  {
   "cell_type": "markdown",
   "id": "dcda36c8",
   "metadata": {},
   "source": [
    "Il risultato è un oggetto `pdf` che rappresenta la funzione di densita della probabilità della distribuzione normale.\n",
    "Per esempio, questa è la densità dellla probabilita di `error=-100`, basata sulla distribuzione degli errori del giocatore 1.\n",
    "\n"
   ]
  },
  {
   "cell_type": "code",
   "execution_count": 16,
   "id": "3234281c",
   "metadata": {},
   "outputs": [
    {
     "data": {
      "text/plain": [
       "5.7812405640086924e-05"
      ]
     },
     "execution_count": 16,
     "metadata": {},
     "output_type": "execute_result"
    }
   ],
   "source": [
    "error = -100\n",
    "error_dist1.pdf(error)"
   ]
  },
  {
   "cell_type": "markdown",
   "id": "0f735c0f",
   "metadata": {},
   "source": [
    "Da solo questo numero non significa molto perchè la densità di probabilità non è una probabilità. Ma esse sono proporzionali alla probabilità, dunque possiamo usarle nell'aggiornamento bayesiano, come vedremo nella prossima sezione.\n",
    "\n",
    "## Aggiornamento\n",
    "\n",
    "Supponiamo di essere il giocatore 1.Vediamo il prezzo della nostra vetrina e stimiamo il prezzo di \\\\$23,000.\n",
    "Dalla nostra stima sottraiamo ogni ipotetico prezzo della distribuzione a priori, il risultato è il tuo errore sotto ogni ipotesi.\n",
    "\n"
   ]
  },
  {
   "cell_type": "code",
   "execution_count": 17,
   "id": "df05d767",
   "metadata": {},
   "outputs": [],
   "source": [
    "guess1 = 23000\n",
    "error1 = guess1 - prior1.qs"
   ]
  },
  {
   "cell_type": "markdown",
   "id": "c958fa48",
   "metadata": {},
   "source": [
    "Ora supponiamo di conoscere basandosi sui risultati passati, che la stima dell'errore sia ben modellata da  `error_dist1`.\n",
    "Sotto questa assunzione possiamo calcolare la verosomiglianza dell'errore sotto ogni ipotesi.\n"
   ]
  },
  {
   "cell_type": "code",
   "execution_count": 18,
   "id": "c2fcb19d",
   "metadata": {},
   "outputs": [],
   "source": [
    "likelihood1 = error_dist1.pdf(error1)"
   ]
  },
  {
   "cell_type": "markdown",
   "id": "c7d31422",
   "metadata": {},
   "source": [
    "Il risultato è un array di verosomiglianze, che possiamo usare per aggiornare la distribuzione a priori."
   ]
  },
  {
   "cell_type": "code",
   "execution_count": 19,
   "id": "4a80a159",
   "metadata": {},
   "outputs": [
    {
     "data": {
      "text/plain": [
       "3.3889812097254624e-05"
      ]
     },
     "execution_count": 19,
     "metadata": {},
     "output_type": "execute_result"
    }
   ],
   "source": [
    "posterior1 = prior1 * likelihood1\n",
    "posterior1.normalize()"
   ]
  },
  {
   "cell_type": "markdown",
   "id": "f65e4e1c",
   "metadata": {},
   "source": [
    "Qui la distribuzione a posteriori "
   ]
  },
  {
   "cell_type": "code",
   "execution_count": 20,
   "id": "c2249042",
   "metadata": {},
   "outputs": [
    {
     "data": {
      "image/png": "[encoded data removed]",
      "text/plain": [
       "<Figure size 432x288 with 1 Axes>"
      ]
     },
     "metadata": {
      "needs_background": "light"
     },
     "output_type": "display_data"
    }
   ],
   "source": [
    "prior1.plot(color='C5', label='Prior 1')\n",
    "posterior1.plot(color='C4', label='Posterior 1')\n",
    "\n",
    "decorate_value('Prior and posterior distribution of showcase value')"
   ]
  },
  {
   "cell_type": "markdown",
   "id": "3a4c79ce",
   "metadata": {},
   "source": [
    "Visto che la stima iniziale è nella parte bassa dell'intervallo, la distribuzione a posteriori viene spostata verso sinistra. Possiamo calcolare la media della distribuzione a posteriori e vedere di quanto."
   ]
  },
  {
   "cell_type": "code",
   "execution_count": 21,
   "id": "8cc44271",
   "metadata": {},
   "outputs": [
    {
     "data": {
      "text/plain": [
       "(30299.488817891375, 26192.02400239254)"
      ]
     },
     "execution_count": 21,
     "metadata": {},
     "output_type": "execute_result"
    }
   ],
   "source": [
    "prior1.mean(), posterior1.mean()"
   ]
  },
  {
   "cell_type": "markdown",
   "id": "63882108",
   "metadata": {},
   "source": [
    "Prima di dire i prezzi, ci aspettavamo di vedere una vetrina con un valore vicino a \\\\$30,000.\n",
    "Dopo aver fatto la stima di \\\\$23,000, abbiamo aggiornato la distribuzione a priori.\n",
    "Basandosi la combinazione della distribuzione a priori e della stime, possiamo aspettarci che il prezzo sia circa di \\\\$26,000.\n",
    "\n",
    "Ora supponiamo di essere il giocatore numero 2, quando vediamo la nostra vetrina stimiamo che il prezzo totale sia di  \\\\$38,000.\n",
    "\n",
    "Usiamo `diff2` per calcolare la distribuzione normale che rappresenta la distribuzione della stima degli errori.\n",
    "Calcoliamo la verosomiglianza della nostra stima per ogni prezzo attuale e usiamo per aggiornare `prior2`."
   ]
  },
  {
   "cell_type": "code",
   "execution_count": 22,
   "id": "d956bce8",
   "metadata": {},
   "outputs": [],
   "source": [
    "guess2 = 38000\n",
    "error2 = guess2 - prior2.qs"
   ]
  },
  {
   "cell_type": "code",
   "execution_count": 24,
   "id": "9ede9da7",
   "metadata": {},
   "outputs": [
    {
     "name": "stdout",
     "output_type": "stream",
     "text": [
      "-3675.891373801917 6886.26071132341\n"
     ]
    }
   ],
   "source": [
    "mean_diff2 = sample_diff2.mean()\n",
    "std_diff2 = sample_diff2.std()\n",
    "\n",
    "print(mean_diff2, std_diff2)\n",
    "\n",
    "error_dist2 = norm(0, std_diff2)\n",
    "likelihood2 = error_dist2.pdf(error2)"
   ]
  },
  {
   "cell_type": "code",
   "execution_count": 25,
   "id": "9d7786bc",
   "metadata": {},
   "outputs": [
    {
     "data": {
      "text/plain": [
       "2.6978123219107018e-05"
      ]
     },
     "execution_count": 25,
     "metadata": {},
     "output_type": "execute_result"
    }
   ],
   "source": [
    "posterior2 = prior2 * likelihood2\n",
    "posterior2.normalize()"
   ]
  },
  {
   "cell_type": "code",
   "execution_count": 26,
   "id": "328740e5",
   "metadata": {},
   "outputs": [
    {
     "data": {
      "image/png": "[encoded data removed]",
      "text/plain": [
       "<Figure size 432x288 with 1 Axes>"
      ]
     },
     "metadata": {
      "needs_background": "light"
     },
     "output_type": "display_data"
    }
   ],
   "source": [
    "prior2.plot(color='C5', label='Prior 2')\n",
    "posterior2.plot(color='C4', label='Posterior 2')\n",
    "\n",
    "decorate_value('Prior and posterior distribution of showcase value')"
   ]
  },
  {
   "cell_type": "code",
   "execution_count": 27,
   "id": "fb0d871b",
   "metadata": {},
   "outputs": [
    {
     "data": {
      "text/plain": [
       "(31047.623719122505, 34305.201616424696)"
      ]
     },
     "execution_count": 27,
     "metadata": {},
     "output_type": "execute_result"
    }
   ],
   "source": [
    "prior2.mean(), posterior2.mean()"
   ]
  },
  {
   "cell_type": "markdown",
   "id": "9bf2398a",
   "metadata": {},
   "source": [
    "## Probabilità di vincita\n",
    "\n",
    "Ora che abbiamo una distribuzione a posteriori per ogni giocatore, pensiamo alla strategia.\n",
    "\n",
    "Prima, partendo dal punto di vista del giocatore 1, calcoliamo la probabilità che il giocatore 2 sovrastimi. \n",
    "Per farla semplice, useremo solo i risultati dei giocatori passati ignorando il valore della vetrina.\n",
    "\n",
    "La seguente funzione prende una sequenza di puntate passate e ritorna la frazione delle sovrastime."
   ]
  },
  {
   "cell_type": "code",
   "execution_count": 28,
   "id": "8d867aac",
   "metadata": {},
   "outputs": [],
   "source": [
    "def prob_overbid(sample_diff):\n",
    "    \"\"\"Compute the probability of an overbid.\"\"\"\n",
    "    return np.mean(sample_diff > 0)"
   ]
  },
  {
   "cell_type": "markdown",
   "id": "b304cf6e",
   "metadata": {},
   "source": [
    "Qui la stima delle probabilità che il giocatore 2 sovrastimi."
   ]
  },
  {
   "cell_type": "code",
   "execution_count": 29,
   "id": "27fb6494",
   "metadata": {},
   "outputs": [
    {
     "data": {
      "text/plain": [
       "0.29073482428115016"
      ]
     },
     "execution_count": 29,
     "metadata": {},
     "output_type": "execute_result"
    }
   ],
   "source": [
    "prob_overbid(sample_diff2)"
   ]
  },
  {
   "cell_type": "markdown",
   "id": "4a07e00f",
   "metadata": {},
   "source": [
    "Ora supponiamo che il giocatore 1 sottostimi di \\\\$5000.\n",
    "Quale è la probabilità che il giocatore 2 sottostimi di più?\n",
    "\n",
    "La seguente funzione usa i risultati precedenti per stimare la probabilità che il giocatore sottostimi di più per un ammontare `diff`:"
   ]
  },
  {
   "cell_type": "code",
   "execution_count": 30,
   "id": "0266e881",
   "metadata": {},
   "outputs": [],
   "source": [
    "def prob_worse_than(diff, sample_diff):\n",
    "    \"\"\"Probability opponent diff is worse than given diff.\"\"\"\n",
    "    return np.mean(sample_diff < diff)"
   ]
  },
  {
   "cell_type": "markdown",
   "id": "c4ec4fdd",
   "metadata": {},
   "source": [
    "Qui la probabilità che il giocatore 2 sottostimi più di \\\\$5000."
   ]
  },
  {
   "cell_type": "code",
   "execution_count": 31,
   "id": "e600ca90",
   "metadata": {},
   "outputs": [
    {
     "data": {
      "text/plain": [
       "0.38338658146964855"
      ]
     },
     "execution_count": 31,
     "metadata": {},
     "output_type": "execute_result"
    }
   ],
   "source": [
    "prob_worse_than(-5000, sample_diff2)"
   ]
  },
  {
   "cell_type": "markdown",
   "id": "6a5ef778",
   "metadata": {},
   "source": [
    "E qui la probabilità che stimi più di \\\\$10,000."
   ]
  },
  {
   "cell_type": "code",
   "execution_count": 32,
   "id": "f2ab9872",
   "metadata": {},
   "outputs": [
    {
     "data": {
      "text/plain": [
       "0.14376996805111822"
      ]
     },
     "execution_count": 32,
     "metadata": {},
     "output_type": "execute_result"
    }
   ],
   "source": [
    "prob_worse_than(-10000, sample_diff2)"
   ]
  },
  {
   "cell_type": "markdown",
   "id": "32f7befd",
   "metadata": {},
   "source": [
    "Possiamo combinare queste funzioni per calcolare la probabilità che il giocatore 1 vinca , date le differenze tra le puntate e il prezzo attuale:"
   ]
  },
  {
   "cell_type": "code",
   "execution_count": 33,
   "id": "a40f0791",
   "metadata": {},
   "outputs": [],
   "source": [
    "def compute_prob_win(diff, sample_diff):\n",
    "    \"\"\"Probability of winning for a given diff.\"\"\"\n",
    "    # if you overbid you lose\n",
    "    if diff > 0:\n",
    "        return 0\n",
    "    \n",
    "    # if the opponent overbids, you win\n",
    "    p1 = prob_overbid(sample_diff)\n",
    "    \n",
    "    # or of their bid is worse than yours, you win\n",
    "    p2 = prob_worse_than(diff, sample_diff)\n",
    "    \n",
    "    # p1 and p2 are mutually exclusive, so we can add them\n",
    "    return p1 + p2"
   ]
  },
  {
   "cell_type": "markdown",
   "id": "9b1c0c65",
   "metadata": {},
   "source": [
    "Questa è la probabilità che tu vinca, sapendo che la tua sottostima è di \\\\$5000."
   ]
  },
  {
   "cell_type": "code",
   "execution_count": 34,
   "id": "9efd07b8",
   "metadata": {},
   "outputs": [
    {
     "data": {
      "text/plain": [
       "0.6741214057507987"
      ]
     },
     "execution_count": 34,
     "metadata": {},
     "output_type": "execute_result"
    }
   ],
   "source": [
    "compute_prob_win(-5000, sample_diff2)"
   ]
  },
  {
   "cell_type": "markdown",
   "id": "6dc17c95",
   "metadata": {},
   "source": [
    "Qui la probabilità di vincere per ogni possibile valore"
   ]
  },
  {
   "cell_type": "code",
   "execution_count": 35,
   "id": "06a67585",
   "metadata": {},
   "outputs": [],
   "source": [
    "xs = np.linspace(-30000, 5000, 121)\n",
    "ys = [compute_prob_win(x, sample_diff2) \n",
    "      for x in xs]"
   ]
  },
  {
   "cell_type": "markdown",
   "id": "76a25586",
   "metadata": {},
   "source": [
    "Qui la visualizzazione:"
   ]
  },
  {
   "cell_type": "code",
   "execution_count": 36,
   "id": "57bb4c9c",
   "metadata": {},
   "outputs": [
    {
     "data": {
      "image/png": "[encoded data removed]",
      "text/plain": [
       "<Figure size 432x288 with 1 Axes>"
      ]
     },
     "metadata": {
      "needs_background": "light"
     },
     "output_type": "display_data"
    }
   ],
   "source": [
    "import matplotlib.pyplot as plt\n",
    "\n",
    "plt.plot(xs, ys)\n",
    "\n",
    "decorate(xlabel='Difference between bid and actual price ($)',\n",
    "         ylabel='Probability of winning',\n",
    "         title='Player 1')"
   ]
  },
  {
   "cell_type": "markdown",
   "id": "49dc000f",
   "metadata": {},
   "source": [
    "Se sottostimi di \\\\$30,000 le possibilità di vincita è di circa del 30%, che rappresenta pressochè la possibilità che il concorrente 2 vada in sovrastima. \n",
    "\n",
    "Non appena la puntata si avvicina al prezzo reale, le possibilità di vincita si avvicinano a 1.\n",
    "E ovviamente se se sovrastimiamo tu perdi sempre che il giocatore opposto non sovrastimi pure lui.\n",
    "\n",
    "Eseguiamo le stesse analisi per il giocatore 2"
   ]
  },
  {
   "cell_type": "code",
   "execution_count": 37,
   "id": "dde363ca",
   "metadata": {},
   "outputs": [],
   "source": [
    "xs = np.linspace(-30000, 5000, 121)\n",
    "ys = [compute_prob_win(x, sample_diff1) \n",
    "      for x in xs]"
   ]
  },
  {
   "cell_type": "code",
   "execution_count": 39,
   "id": "6be919ac",
   "metadata": {},
   "outputs": [
    {
     "data": {
      "image/png": "[encoded data removed]",
      "text/plain": [
       "<Figure size 432x288 with 1 Axes>"
      ]
     },
     "metadata": {
      "needs_background": "light"
     },
     "output_type": "display_data"
    }
   ],
   "source": [
    "import matplotlib.pyplot as plt\n",
    "\n",
    "plt.plot(xs, ys)\n",
    "\n",
    "decorate(xlabel='Difference between bid and actual price ($)',\n",
    "         ylabel='Probability of winning',\n",
    "         title='Player 2')"
   ]
  },
  {
   "cell_type": "markdown",
   "id": "d2d095d3",
   "metadata": {},
   "source": [
    "## Massimizazione del guadagno atteso\n",
    "\n",
    "Nella sezione preceente abbiamo calcolato la puntata che massimizza la possibilità di vincere. \n",
    "E se questo è il tuo obiettivo, la puntata calcolata è ottimale.\n",
    "\n",
    "Ma vincere non è tutto. Ricorda che se la tua puntata ha un errore minore di \\\\$250 o meno, possiamo vincere entrambe le vetrine. Perciò potrebbe essere interessante aumentare la puntata di un pochino: aumenta le possibilità di fare una sovrastima e perdere, ma aumenta anche la possibilità di vincere entrambe le vetrine. \n",
    "\n",
    "Ora vediamo come impostare il problema.\n",
    "La seguente funzione calcola quanto possiamo vincere, in media, data la nostra puntata il prezzo degli oggetti e un campione di errori del concorrente avversario."
   ]
  },
  {
   "cell_type": "code",
   "execution_count": 40,
   "id": "bffe73fd",
   "metadata": {},
   "outputs": [],
   "source": [
    "def compute_gain(bid, price, sample_diff):\n",
    "    \"\"\"Compute expected gain given a bid and actual price.\"\"\"\n",
    "    diff = bid - price\n",
    "    prob = compute_prob_win(diff, sample_diff)\n",
    "\n",
    "    # if you are within 250 dollars, you win both showcases\n",
    "    if -250 <= diff <= 0:\n",
    "        return 2 * price * prob\n",
    "    else:\n",
    "        return price * prob"
   ]
  },
  {
   "cell_type": "markdown",
   "id": "018132ce",
   "metadata": {},
   "source": [
    "Per esempio se il prezzo degli oggetti è pari a \\\\$35000 e la nostra puntata è \\\\$30000,  vincerai circa \\\\$23,600 di premi in media, tenendo conto della probabilità di perdere , vincere una vetrina o vincerle entrambe.\n"
   ]
  },
  {
   "cell_type": "code",
   "execution_count": 41,
   "id": "ba513f72",
   "metadata": {},
   "outputs": [
    {
     "data": {
      "text/plain": [
       "23594.249201277955"
      ]
     },
     "execution_count": 41,
     "metadata": {},
     "output_type": "execute_result"
    }
   ],
   "source": [
    "compute_gain(30000, 35000, sample_diff2)"
   ]
  },
  {
   "cell_type": "markdown",
   "id": "3171d00c",
   "metadata": {},
   "source": [
    "In realtà non sappiamo il prezzo della vetrina, ma abbiamo la distribuzione a posteriori che rappresenta cosa sappiamo circa lo stesso.\n",
    "\n",
    "Facendo la media dei prezzi e le probabilità nella distribuzione a posteriori, possiamo calcolare il guadagno che ci aspettiamo per una particolare puntata.\n",
    "\n",
    "In questo contesto, \"aspettato\" rappresenta la media di tutte i possibili valori delle vetrine, pesati con le loro probabilità.\n"
   ]
  },
  {
   "cell_type": "code",
   "execution_count": 42,
   "id": "ad2ef45e",
   "metadata": {},
   "outputs": [],
   "source": [
    "def expected_gain(bid, posterior, sample_diff):\n",
    "    \"\"\"Compute the expected gain of a given bid.\"\"\"\n",
    "    total = 0\n",
    "    for price, prob in posterior.items():\n",
    "        total += prob * compute_gain(bid, price, sample_diff)\n",
    "    return total"
   ]
  },
  {
   "cell_type": "markdown",
   "id": "e7570e46",
   "metadata": {},
   "source": [
    "Con la distribuzione a posteriori calcolata prima, basandosi sulla puntata di \\\\$23,000, ci aspettiamo che il guadagno data una punatata di \\\\$21,000 sia di \\\\$16,900."
   ]
  },
  {
   "cell_type": "code",
   "execution_count": 43,
   "id": "56f3bd9c",
   "metadata": {},
   "outputs": [
    {
     "data": {
      "text/plain": [
       "16923.59933856512"
      ]
     },
     "execution_count": 43,
     "metadata": {},
     "output_type": "execute_result"
    }
   ],
   "source": [
    "expected_gain(21000, posterior1, sample_diff2)"
   ]
  },
  {
   "cell_type": "markdown",
   "id": "440364a8",
   "metadata": {},
   "source": [
    "possiamo fare di meglio?\n",
    "Per trovarlo, possiamo iterare tutti i valori delle puntate per trovare quella che massimizza il guadagno aspettato."
   ]
  },
  {
   "cell_type": "code",
   "execution_count": 44,
   "id": "6f7a4451",
   "metadata": {},
   "outputs": [],
   "source": [
    "bids = posterior1.qs\n",
    "\n",
    "gains = [expected_gain(bid, posterior1, sample_diff2) for bid in bids]\n",
    "\n",
    "expected_gain_series = pd.Series(gains, index=bids)"
   ]
  },
  {
   "cell_type": "code",
   "execution_count": 45,
   "id": "cb3302f1",
   "metadata": {},
   "outputs": [
    {
     "data": {
      "image/png": "[encoded data removed]",
      "text/plain": [
       "<Figure size 432x288 with 1 Axes>"
      ]
     },
     "metadata": {
      "needs_background": "light"
     },
     "output_type": "display_data"
    }
   ],
   "source": [
    "expected_gain_series.plot(label='Player 1', color='C2')\n",
    "\n",
    "decorate(xlabel='Bid ($)',\n",
    "         ylabel='Expected gain ($)',\n",
    "         title='Optimal bid: expected gain')"
   ]
  },
  {
   "cell_type": "markdown",
   "id": "005314d6",
   "metadata": {},
   "source": [
    "Qui abbiamo la puntata ottimale."
   ]
  },
  {
   "cell_type": "code",
   "execution_count": 46,
   "id": "eba98a19",
   "metadata": {},
   "outputs": [
    {
     "data": {
      "text/plain": [
       "22000.0"
      ]
     },
     "execution_count": 46,
     "metadata": {},
     "output_type": "execute_result"
    }
   ],
   "source": [
    "expected_gain_series.idxmax()"
   ]
  },
  {
   "cell_type": "markdown",
   "id": "7e0506e8",
   "metadata": {},
   "source": [
    "Con questa puntata ci aspettiamo un guadagno di \\\\$17,400."
   ]
  },
  {
   "cell_type": "code",
   "execution_count": 47,
   "id": "99b2798a",
   "metadata": {},
   "outputs": [
    {
     "data": {
      "text/plain": [
       "17384.8995844308"
      ]
     },
     "execution_count": 47,
     "metadata": {},
     "output_type": "execute_result"
    }
   ],
   "source": [
    "expected_gain_series.max()"
   ]
  },
  {
   "cell_type": "markdown",
   "id": "45a10976",
   "metadata": {},
   "source": [
    "Ricordando la stima iniziale era di \\\\$23,000, la puntata che massimizza la probabilità vincita è di \\\\$21,000 mentre la puntata che massimizza il guadagno aspettato è \\\\$22,000."
   ]
  },
  {
   "cell_type": "code",
   "execution_count": 48,
   "id": "d54cfc83",
   "metadata": {},
   "outputs": [],
   "source": [
    "bids = posterior2.qs\n",
    "\n",
    "gains = [expected_gain(bid, posterior2, sample_diff1) for bid in bids]\n",
    "expected_gain_series = pd.Series(gains, index=bids)"
   ]
  },
  {
   "cell_type": "code",
   "execution_count": 50,
   "id": "4dcdb5af",
   "metadata": {},
   "outputs": [
    {
     "data": {
      "image/png": "[encoded data removed]",
      "text/plain": [
       "<Figure size 432x288 with 1 Axes>"
      ]
     },
     "metadata": {
      "needs_background": "light"
     },
     "output_type": "display_data"
    }
   ],
   "source": [
    "expected_gain_series.plot(label='Player 2', color='C3')\n",
    "\n",
    "decorate(xlabel='Bid ($)',\n",
    "         ylabel='Expected gain ($)',\n",
    "         title='Optimal bid: expected gain')"
   ]
  },
  {
   "cell_type": "code",
   "execution_count": 51,
   "id": "47a1b7b2",
   "metadata": {},
   "outputs": [
    {
     "data": {
      "text/plain": [
       "30000.0"
      ]
     },
     "execution_count": 51,
     "metadata": {},
     "output_type": "execute_result"
    }
   ],
   "source": [
    "expected_gain_series.idxmax()"
   ]
  },
  {
   "cell_type": "code",
   "execution_count": 52,
   "id": "df9dbb72",
   "metadata": {},
   "outputs": [
    {
     "data": {
      "text/plain": [
       "19404.164188501607"
      ]
     },
     "execution_count": 52,
     "metadata": {},
     "output_type": "execute_result"
    }
   ],
   "source": [
    "expected_gain_series.max()"
   ]
  },
  {
   "cell_type": "markdown",
   "id": "c2b648d6",
   "metadata": {},
   "source": [
    "## Riassunto\n",
    "\n",
    "Abbiamo fatto molte cose in questo capitolo, riassumiamolo in questi passi:\n",
    "\n",
    "1. Primo passo, abbiamo usato il KDE dei dati passati per stimare la distribuzione a priori per valutare le vetrine.\n",
    "\n",
    "2. Poi abbiamo usato le puntate passate per modellare la distribuzione degli errori come una distribuzione normale.\n",
    "\n",
    "3. Abbiamo eseguito l'aggiornamento Byesiano usando la distribuzione degli errori per calcolare la verosomiglianza dei dati.\n",
    "\n",
    "\n",
    "4. Abbiamo usato la distribuzione a posteriori delle vetrine per calcolare la probabilità di vincere ogni possibile puntata e identificare la puntata che massimizza le possibilità di vittoria.\n",
    "\n",
    "5. Finalmente, abbiamo usato la probabilità di vittoria per calcolare il guadagno aspettato di ogni possibile puntata e identificato la puntatata con il massimo guadagno.\n",
    "\n",
    "Accidentalmente, questo esempio dimostra il rischio di usare la parola \"ottimale\" senza specificare cosa si sta ottimizzando.\n",
    "La puntata che massimizza la possibilità di vincere non è generalmente la stessa puntata che massimizza il guadagno aspettato.\n",
    "\n",
    "## Note\n",
    "Quando le persone discutono sui pro e sui contro delle stime Bayesiane, in contrasto con i classici metodi che alcune volte chiamiamo \"frequentisti\", spesso affermano che in molti casi i metodi Bayesiani e frequentisti producono gli stessi risultati.\n",
    "Come opinioni personali questa affermazione è sbagliata perchè i metodi Bayesiani e frequentisti producono differenti *tipi* di risultati:\n",
    "\n",
    "* Il risultato dei metodi frequentisti è tipicamente un valore singolo ed è considerato la migliore stima (secondo uno dei vari criteri) o un intervallo che quantifica la precisione della stima.\n",
    "\n",
    "* Il risultato dei metodi Bayesiani è una distribuzione a posteriori che rappresenta tutti i possibili risultati con le loro probabilità. \n",
    "\n",
    "\n",
    "Certo, puoi utilizzare la distribuzione a posteriori per scegliere una stima \"migliore\" o calcolare un intervallo.\n",
    "E in tal caso il risultato potrebbe essere lo stesso della stima frequentista.\n",
    "\n",
    "Ma così facendo vengono scartate molte informazioni utili e non andiamo ad usare il beneficio primario dei metodi Bayesiani: la distribuzione a posteriori è più utile di una singola stima o di un intervallo.\n",
    "\n",
    "Un esempio di questo capitolo ci dimostra il punto,\n",
    "Usando l'intera distribuzione a posteriori possiamo calcolare la puntata che massimizza la probabilità di vincere o la puntata che massimizza il guadagno aspettato, anche se le regole per il calcolo del guadagno sono complicate e non lineari.\n",
    "\n",
    "Con una singola stima o un intervallo, non possiamo fare questo. In generale le stime frequentiste provvedono poche indicazioni per le decisioni."
   ]
  },
  {
   "cell_type": "code",
   "execution_count": null,
   "id": "c4c61a39",
   "metadata": {},
   "outputs": [],
   "source": []
  }
 ],
 "metadata": {
  "kernelspec": {
   "display_name": "Python 3 (ipykernel)",
   "language": "python",
   "name": "python3"
  },
  "language_info": {
   "codemirror_mode": {
    "name": "ipython",
    "version": 3
   },
   "file_extension": ".py",
   "mimetype": "text/x-python",
   "name": "python",
   "nbconvert_exporter": "python",
   "pygments_lexer": "ipython3",
   "version": "3.9.7"
  }
 },
 "nbformat": 4,
 "nbformat_minor": 5
}
