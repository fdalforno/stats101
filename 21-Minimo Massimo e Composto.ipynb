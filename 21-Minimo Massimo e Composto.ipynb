{
 "cells": [
  {
   "cell_type": "code",
   "execution_count": 1,
   "id": "49519a93",
   "metadata": {},
   "outputs": [],
   "source": [
    "from utils import set_pyplot_params\n",
    "set_pyplot_params()"
   ]
  },
  {
   "cell_type": "markdown",
   "id": "989e0042",
   "metadata": {},
   "source": [
    "Nel capitolo precedente abbiamo calcolato la distribuzione delle somme.\n",
    "In questo capitolo, calcoleremo distribuzioni di minimi e massimi e useremo questo per risolvere sia il problema in avanti che il problema inverso.\n",
    "\n",
    "Ora guarderemo le distribuzioni che sono composte da altre distribuzioni, questo si rivelerà utile per fare delle previsioni.\n",
    "Ma prima partiamo da un potente strumento per lavorare con le distribuzioni, la funzione di distribuzione cumulativa.\n",
    "\n",
    "## Funzione di distribuzione cumulativa\n",
    "Dunque abbiamo usato la funzione di probabilità che rappresenta le distribuzioni. Un uso alternativo è la **funzione di distribuzione cumulativa** o CDF. \n",
    "\n",
    "Come esempio la useremo questo per calcolare la distribuzione a posteriori per il problema dell'Euro che abbiamo già visto in passato.\n",
    "\n",
    "Qui la distribuzione a priori con cui siamo partiti."
   ]
  },
  {
   "cell_type": "code",
   "execution_count": 2,
   "id": "f5c8fdbe",
   "metadata": {},
   "outputs": [],
   "source": [
    "import numpy as np\n",
    "from distribution import Pmf\n",
    "\n",
    "hypos = np.linspace(0, 1, 101)\n",
    "pmf = Pmf(1, hypos)\n",
    "data = 140, 250"
   ]
  },
  {
   "cell_type": "markdown",
   "id": "84814bb6",
   "metadata": {},
   "source": [
    "E qui la funzione di aggiornamento."
   ]
  },
  {
   "cell_type": "code",
   "execution_count": 3,
   "id": "fce2f818",
   "metadata": {},
   "outputs": [],
   "source": [
    "from scipy.stats import binom\n",
    "\n",
    "def update_binomial(pmf, data):\n",
    "    \"\"\"Update pmf using the binomial distribution.\"\"\"\n",
    "    k, n = data\n",
    "    xs = pmf.qs\n",
    "    likelihood = binom.pmf(k, n, xs)\n",
    "    pmf *= likelihood\n",
    "    pmf.normalize()"
   ]
  },
  {
   "cell_type": "code",
   "execution_count": 4,
   "id": "98b02c4f",
   "metadata": {},
   "outputs": [],
   "source": [
    "update_binomial(pmf, data)"
   ]
  },
  {
   "cell_type": "markdown",
   "id": "dedcae12",
   "metadata": {},
   "source": [
    "La funzione CDF è la somma cumulativa del PMF, dunque possiamo calcolare la probabilità in questo modo:"
   ]
  },
  {
   "cell_type": "code",
   "execution_count": 5,
   "id": "1f68c000",
   "metadata": {},
   "outputs": [],
   "source": [
    "cumulative = pmf.cumsum()"
   ]
  },
  {
   "cell_type": "markdown",
   "id": "632ecb7d",
   "metadata": {},
   "source": [
    "Ed ecco come appare assieme al PMF."
   ]
  },
  {
   "cell_type": "code",
   "execution_count": 6,
   "id": "dcce9ef2",
   "metadata": {},
   "outputs": [],
   "source": [
    "from utils import decorate\n",
    "\n",
    "def decorate_euro(title):\n",
    "    decorate(xlabel='Proportion of heads (x)',\n",
    "             ylabel='Probability',\n",
    "             title=title)"
   ]
  },
  {
   "cell_type": "code",
   "execution_count": 7,
   "id": "7663191b",
   "metadata": {},
   "outputs": [
    {
     "data": {
      "image/png": "[encoded data removed]",
      "text/plain": [
       "<Figure size 432x288 with 1 Axes>"
      ]
     },
     "metadata": {
      "needs_background": "light"
     },
     "output_type": "display_data"
    }
   ],
   "source": [
    "cumulative.plot(label='CDF')\n",
    "pmf.plot(label='PMF')\n",
    "decorate_euro(title='Posterior distribution for the Euro problem')"
   ]
  },
  {
   "cell_type": "markdown",
   "id": "5b22f36c",
   "metadata": {},
   "source": [
    "Il range della funzione cumulativa è sempre tra 0 e 1, in contrasto con la funzione PMF dove il massimo può essere una probabilità. Il risultato di `cumsum` è una `Series` Pandas, possiamo usare l'operatore parentesi quadra per selezionare un elemento:"
   ]
  },
  {
   "cell_type": "code",
   "execution_count": 8,
   "id": "e6a2ab64",
   "metadata": {},
   "outputs": [
    {
     "data": {
      "text/plain": [
       "0.9638303193984252"
      ]
     },
     "execution_count": 8,
     "metadata": {},
     "output_type": "execute_result"
    }
   ],
   "source": [
    "cumulative[0.61]"
   ]
  },
  {
   "cell_type": "markdown",
   "id": "118d0107",
   "metadata": {},
   "source": [
    "Il risultato è circa 0.96, che significa che la probabilità totale di tutte le quantità minori o uguali a 0.61 rappresenta il 96%\n",
    "\n",
    "Per vederla in un altro modo per cercare la probabilità e ottenere il corrispondente quantile possiamo usare l'interpolazione:"
   ]
  },
  {
   "cell_type": "code",
   "execution_count": 9,
   "id": "2fb8fd8c",
   "metadata": {},
   "outputs": [
    {
     "data": {
      "text/plain": [
       "array(0.60890171)"
      ]
     },
     "execution_count": 9,
     "metadata": {},
     "output_type": "execute_result"
    }
   ],
   "source": [
    "from scipy.interpolate import interp1d\n",
    "\n",
    "ps = cumulative.values\n",
    "qs = cumulative.index\n",
    "\n",
    "interp = interp1d(ps, qs)\n",
    "interp(0.96)"
   ]
  },
  {
   "cell_type": "markdown",
   "id": "65be3438",
   "metadata": {},
   "source": [
    "Il risultato è circa il 0.61, questo conferma che il 96° percentile della distribuzione è 0.61.\n",
    "L'oggetto `Pmf` ci permette di usare la classe `Cdf` che ci da accesso alla funzione di distribuzione cumulativa."
   ]
  },
  {
   "cell_type": "code",
   "execution_count": 10,
   "id": "36767205",
   "metadata": {},
   "outputs": [],
   "source": [
    "cdf = pmf.make_cdf()"
   ]
  },
  {
   "cell_type": "markdown",
   "id": "e01ff24d",
   "metadata": {},
   "source": [
    "`make_cdf` usa `np.cumsum` per calcolare la somma cumulativa delle probabilità."
   ]
  },
  {
   "cell_type": "code",
   "execution_count": 11,
   "id": "6b6a14d8",
   "metadata": {},
   "outputs": [
    {
     "data": {
      "text/plain": [
       "0.9638303193984252"
      ]
     },
     "execution_count": 11,
     "metadata": {},
     "output_type": "execute_result"
    }
   ],
   "source": [
    "cdf[0.61]"
   ]
  },
  {
   "cell_type": "markdown",
   "id": "288895ea",
   "metadata": {},
   "source": [
    "Ma se volessimo ottenere una quantità che non è nella distribuzione otteniamo un `KeyError`."
   ]
  },
  {
   "cell_type": "code",
   "execution_count": 12,
   "id": "7208f9d3",
   "metadata": {},
   "outputs": [
    {
     "name": "stdout",
     "output_type": "stream",
     "text": [
      "KeyError(0.615)\n"
     ]
    }
   ],
   "source": [
    "try:\n",
    "    cdf[0.615]\n",
    "except KeyError as e:\n",
    "    print(repr(e))"
   ]
  },
  {
   "cell_type": "markdown",
   "id": "0a3dea11",
   "metadata": {},
   "source": [
    "Per ovviare a questo problema possiamo usare `Cdf` come una funzione usando le parentesi.\n",
    "Se questo argomento non appare in `Cdf`, il valore viene interpolato tra le quantità."
   ]
  },
  {
   "cell_type": "code",
   "execution_count": 13,
   "id": "b7a75956",
   "metadata": {},
   "outputs": [
    {
     "data": {
      "text/plain": [
       "array(0.96383032)"
      ]
     },
     "execution_count": 13,
     "metadata": {},
     "output_type": "execute_result"
    }
   ],
   "source": [
    "cdf(0.615)"
   ]
  },
  {
   "cell_type": "markdown",
   "id": "a23830a9",
   "metadata": {},
   "source": [
    "Possiamo usare la funzione `quantile` per ottenere dalla probabilità cumulativa la corrispondente quantità:"
   ]
  },
  {
   "cell_type": "code",
   "execution_count": 14,
   "id": "ec872429",
   "metadata": {},
   "outputs": [
    {
     "data": {
      "text/plain": [
       "array(0.61)"
      ]
     },
     "execution_count": 14,
     "metadata": {},
     "output_type": "execute_result"
    }
   ],
   "source": [
    "cdf.quantile(0.9638303)"
   ]
  },
  {
   "cell_type": "markdown",
   "id": "15deb70e",
   "metadata": {},
   "source": [
    "`Cdf` ci da la possibilità di usare `credible_interval`,  per calcolare l'intervallo di credibilità:"
   ]
  },
  {
   "cell_type": "code",
   "execution_count": 15,
   "id": "833398ea",
   "metadata": {},
   "outputs": [
    {
     "data": {
      "text/plain": [
       "array([0.51, 0.61])"
      ]
     },
     "execution_count": 15,
     "metadata": {},
     "output_type": "execute_result"
    }
   ],
   "source": [
    "cdf.credible_interval(0.9)"
   ]
  },
  {
   "cell_type": "markdown",
   "id": "6d4f6d88",
   "metadata": {},
   "source": [
    "Gli oggetti CDF e PMF sono equivalenti nel senso che contengono le stesse informazioni sulla distribuzione e possiamo sempre convertire una nell'altra. \n",
    "\n",
    "Dato un oggetto `Cdf` possiamo ottenere l'equivalente  `Pmf` così:"
   ]
  },
  {
   "cell_type": "code",
   "execution_count": 16,
   "id": "c05cc374",
   "metadata": {},
   "outputs": [],
   "source": [
    "pmf = cdf.make_pmf()"
   ]
  },
  {
   "cell_type": "markdown",
   "id": "029fc91b",
   "metadata": {},
   "source": [
    "`make_pmf` usa `np.diff` per calcolare le differenze tra probabilità cumulative consecutive.\n",
    "Una ragione per usare l'oggetto `Cdf` è che viene facile calcolare i quantili in modo efficiente.\n",
    "Un'altra è che viene facile calcolare la distribuzione del massimo o minimo come vedremo nell prossima sezione.\n",
    "\n",
    "## Il meglio dei tre di quattro\n",
    "\n",
    "Nel gioco *dangeons and dragons* ogni personaggio ha 6 attributi: forza, intelligenza, saggezza, destrezza, costituzione e carisma.\n",
    "\n",
    "Per generare il personaggio, i giocatori lanciano quattro dadi da sei facce per ogni attributo e sommano i migliori dei tre.\n",
    "Per esempio, se lancio i dadi per la forza e ottengo 1,2,3,4 sui dadi il mio personaggio avrà una forza pari a 9.\n",
    "\n",
    "Come esercizio, immaginiamo la distribuzione di questi attributi.\n",
    "Poi per ogni carattere, immaginiamo la distribuzione dei loro attributi migliori.\n",
    "\n",
    "Usiamo due funzioni del capitolo precedente `make_die`, che crea un oggetto `Pmf` che rappresenta i risultati del lancio dei dadi e `add_dist_seq`, che prende una sequenza di oggetti `Pmf` e calcola la distribuzione della loro somma.\n",
    "\n",
    "Qui un oggetto `Pmf` che rappresenta un dado a 6 facce e una sequenza di tre lanci:"
   ]
  },
  {
   "cell_type": "code",
   "execution_count": 17,
   "id": "cea2ce78",
   "metadata": {},
   "outputs": [],
   "source": [
    "from utils import make_die\n",
    "\n",
    "die = make_die(6)\n",
    "dice = [die] * 3"
   ]
  },
  {
   "cell_type": "code",
   "execution_count": 18,
   "id": "1635787c",
   "metadata": {},
   "outputs": [],
   "source": [
    "from utils import add_dist_seq\n",
    "\n",
    "pmf_3d6 = add_dist_seq(dice)"
   ]
  },
  {
   "cell_type": "markdown",
   "id": "09608716",
   "metadata": {},
   "source": [
    "Qui la distribuzione visuale:"
   ]
  },
  {
   "cell_type": "code",
   "execution_count": 19,
   "id": "efa71a6d",
   "metadata": {},
   "outputs": [],
   "source": [
    "def decorate_dice(title=''):\n",
    "    decorate(xlabel='Outcome',\n",
    "             ylabel='PMF',\n",
    "             title=title)"
   ]
  },
  {
   "cell_type": "code",
   "execution_count": 20,
   "id": "47364576",
   "metadata": {},
   "outputs": [
    {
     "data": {
      "image/png": "[encoded data removed]",
      "text/plain": [
       "<Figure size 432x288 with 1 Axes>"
      ]
     },
     "metadata": {
      "needs_background": "light"
     },
     "output_type": "display_data"
    }
   ],
   "source": [
    "pmf_3d6.plot()\n",
    "decorate_dice('Distribution of attributes')"
   ]
  },
  {
   "cell_type": "markdown",
   "id": "a604e0be",
   "metadata": {},
   "source": [
    "Se lanciamo quattro dadi e sommiamo i tre migliori risultati, calcolare la distribuzione della somma è più complicato.\n",
    "Stimeremo la distribuzione simulando 10'000 lanci.\n",
    "\n",
    "Prima creiamo un array con dei valori casuali tra 1 e 6 con 10'000 righe e 4 colonne:"
   ]
  },
  {
   "cell_type": "code",
   "execution_count": 21,
   "id": "1fecd3ee",
   "metadata": {},
   "outputs": [],
   "source": [
    "n = 10000\n",
    "a = np.random.randint(1, 7, size=(n, 4))"
   ]
  },
  {
   "cell_type": "markdown",
   "id": "944e79bd",
   "metadata": {},
   "source": [
    "Per trovare i tre migliori risultati di ogni riga ordiniamo usando la funzione `sort` con il parametro `axis=1`, che ordina le righe in ordine ascendente."
   ]
  },
  {
   "cell_type": "code",
   "execution_count": 22,
   "id": "517e4363",
   "metadata": {},
   "outputs": [],
   "source": [
    "a.sort(axis=1)"
   ]
  },
  {
   "cell_type": "markdown",
   "id": "c3e479d0",
   "metadata": {},
   "source": [
    "Finalmente, sceglieremo i tre migliori risultati e li sommiamo."
   ]
  },
  {
   "cell_type": "code",
   "execution_count": 23,
   "id": "17e3b65a",
   "metadata": {},
   "outputs": [],
   "source": [
    "t = a[:, 1:].sum(axis=1)"
   ]
  },
  {
   "cell_type": "markdown",
   "id": "995b59f7",
   "metadata": {},
   "source": [
    "Ora `t` è un array con una singola colonna e 10'000 righe.\n",
    "Possiamo calcolare il PMF dei valori di `t` in questo modo:"
   ]
  },
  {
   "cell_type": "code",
   "execution_count": 24,
   "id": "5d9179e2",
   "metadata": {},
   "outputs": [],
   "source": [
    "pmf_best3 = Pmf.from_seq(t)"
   ]
  },
  {
   "cell_type": "markdown",
   "id": "564058a2",
   "metadata": {},
   "source": [
    "Il seguente grafico mostra la distribuzione delle somme dei tre dadi."
   ]
  },
  {
   "cell_type": "code",
   "execution_count": 25,
   "id": "8fe9a801",
   "metadata": {},
   "outputs": [
    {
     "data": {
      "image/png": "[encoded data removed]",
      "text/plain": [
       "<Figure size 432x288 with 1 Axes>"
      ]
     },
     "metadata": {
      "needs_background": "light"
     },
     "output_type": "display_data"
    }
   ],
   "source": [
    "pmf_3d6.plot(label='sum of 3 dice')\n",
    "pmf_best3.plot(label='best 3 of 4', style='--')\n",
    "\n",
    "decorate_dice('Distribution of attributes')"
   ]
  },
  {
   "cell_type": "markdown",
   "id": "4674e678",
   "metadata": {},
   "source": [
    "Come ci si aspetta, scegliere il migliore dei tre valori su 4 tende a dare valori più alti.\n",
    "Ora troviamo la distribuzione del massimo dei 6 attriburi, ogni uno è la somma dei tre risultati migliori.\n",
    "\n",
    "## Massimo\n",
    "\n",
    "Per calcolare il massimo o il minimo della distribuzione, possiamo far buon uso della distribuzione cumulativa.\n",
    "Per prima cosa calcoliamo il `Cdf` delle tre migliori delle 4 distribuzioni:"
   ]
  },
  {
   "cell_type": "code",
   "execution_count": 26,
   "id": "12ac5bc1",
   "metadata": {},
   "outputs": [],
   "source": [
    "cdf_best3 = pmf_best3.make_cdf()"
   ]
  },
  {
   "cell_type": "markdown",
   "id": "a4a0f646",
   "metadata": {},
   "source": [
    "Ricorda che `Cdf(x)` è la somma delle probabilità per i quantili minori o uguali di `x`.\n",
    "Si può dire anche che è la probabilità che un valore a caso scelto dalla distribuzione sia minore o uguale a `x`.\n",
    "\n",
    "Ora supponiamo si avere i 6 valori della distribuzione. La probabilità che tutti e 6 i valori siano minori o uguali a `x` è `Cdf(x)` elevato alla sesta, che possiamo calcolare facilmente in questo modo:"
   ]
  },
  {
   "cell_type": "code",
   "execution_count": 27,
   "id": "c26f9714",
   "metadata": {},
   "outputs": [
    {
     "data": {
      "text/plain": [
       "3     7.290000e-22\n",
       "4     2.441406e-16\n",
       "5     1.340096e-12\n",
       "6     3.705175e-10\n",
       "7     3.614157e-08\n",
       "8     1.201025e-06\n",
       "9     2.396769e-05\n",
       "10    3.212346e-04\n",
       "11    2.830219e-03\n",
       "12    1.696421e-02\n",
       "13    6.618243e-02\n",
       "14    1.982419e-01\n",
       "15    4.183060e-01\n",
       "16    6.872319e-01\n",
       "17    8.978413e-01\n",
       "18    1.000000e+00\n",
       "Name: , dtype: float64"
      ]
     },
     "execution_count": 27,
     "metadata": {},
     "output_type": "execute_result"
    }
   ],
   "source": [
    "cdf_best3**6"
   ]
  },
  {
   "cell_type": "markdown",
   "id": "d5c69eb5",
   "metadata": {},
   "source": [
    "Se tutti e 6 i valori sono minori o uguali di `x`, questo signfica che il loro massimo è minoro o uguare a `x`.\n",
    "Quindi il risultato è il CDF del loro massimo.\n",
    "\n",
    "Possiamo convertirlo in un oggetto `Cdf` in questo modo:"
   ]
  },
  {
   "cell_type": "code",
   "execution_count": 28,
   "id": "1e5c54a4",
   "metadata": {},
   "outputs": [],
   "source": [
    "from distribution import Cdf\n",
    "\n",
    "cdf_max6 = Cdf(cdf_best3**6)"
   ]
  },
  {
   "cell_type": "markdown",
   "id": "8318aa92",
   "metadata": {},
   "source": [
    "Calcoliamo l'equivalente Pmf in questo modo:"
   ]
  },
  {
   "cell_type": "code",
   "execution_count": 29,
   "id": "53f4b1d2",
   "metadata": {},
   "outputs": [],
   "source": [
    "pmf_max6 = cdf_max6.make_pmf()"
   ]
  },
  {
   "cell_type": "markdown",
   "id": "fb8e44ae",
   "metadata": {},
   "source": [
    "Il seguente grafico mostra i risultati."
   ]
  },
  {
   "cell_type": "code",
   "execution_count": 30,
   "id": "4ef80c6e",
   "metadata": {},
   "outputs": [
    {
     "data": {
      "image/png": "[encoded data removed]",
      "text/plain": [
       "<Figure size 432x288 with 1 Axes>"
      ]
     },
     "metadata": {
      "needs_background": "light"
     },
     "output_type": "display_data"
    }
   ],
   "source": [
    "pmf_max6.plot(label='max of 6 attributes')\n",
    "\n",
    "decorate_dice('Distribution of attributes')"
   ]
  },
  {
   "cell_type": "markdown",
   "id": "9f72631f",
   "metadata": {},
   "source": [
    "Molte delle caratteristiche hanno almeno un attributo maggiore di 12 e almeno il 10% hanno un valore 18.\n",
    "Il seguente grafico mostra i CDF delle tre distribuzioni che abbiamo calcolato."
   ]
  },
  {
   "cell_type": "code",
   "execution_count": 31,
   "id": "3abce09c",
   "metadata": {},
   "outputs": [
    {
     "data": {
      "image/png": "[encoded data removed]",
      "text/plain": [
       "<Figure size 432x288 with 1 Axes>"
      ]
     },
     "metadata": {
      "needs_background": "light"
     },
     "output_type": "display_data"
    }
   ],
   "source": [
    "import matplotlib.pyplot as plt\n",
    "\n",
    "cdf_3d6 = pmf_3d6.make_cdf()\n",
    "cdf_3d6.plot(label='sum of 3 dice')\n",
    "\n",
    "cdf_best3 = pmf_best3.make_cdf()\n",
    "cdf_best3.plot(label='best 3 of 4 dice', style='--')\n",
    "\n",
    "cdf_max6.plot(label='max of 6 attributes', style=':')\n",
    "\n",
    "decorate_dice('Distribution of attributes')\n",
    "plt.ylabel('CDF');"
   ]
  },
  {
   "cell_type": "markdown",
   "id": "407ca3d9",
   "metadata": {},
   "source": [
    "L'oggetto `Cdf` fornisce un oggetto `max_dist` che esegue gli stessi calcoli, dunque possiamo calcolare il massimo del `Cdf` come il massimo in questo modo:"
   ]
  },
  {
   "cell_type": "code",
   "execution_count": 32,
   "id": "767b6db1",
   "metadata": {},
   "outputs": [],
   "source": [
    "cdf_max_dist6 = cdf_best3.max_dist(6)"
   ]
  },
  {
   "cell_type": "markdown",
   "id": "72b0220e",
   "metadata": {},
   "source": [
    "E qui confermiamo che le differenze sono piccole."
   ]
  },
  {
   "cell_type": "code",
   "execution_count": 33,
   "id": "259036fb",
   "metadata": {},
   "outputs": [
    {
     "data": {
      "text/plain": [
       "True"
      ]
     },
     "execution_count": 33,
     "metadata": {},
     "output_type": "execute_result"
    }
   ],
   "source": [
    "np.allclose(cdf_max_dist6, cdf_max6)"
   ]
  },
  {
   "cell_type": "markdown",
   "id": "6310b86f",
   "metadata": {},
   "source": [
    "Nella prossima sezione troveremo la distribuzione del minimo.\n",
    "Questo processo è simile, ma leggermente più complicato.\n",
    "\n",
    "## Minimo\n",
    "\n",
    "Nella sezione precedente abbiamo calcolato la distribuzione dei migliori attributi per il personaggio.\n",
    "Calcoliamo ora la distribuzione del peggiore.\n",
    "Per calcolare la distribuzione del minimo useremo il **CDF complementare**, che viene calcolato nel seguente modo:\n"
   ]
  },
  {
   "cell_type": "code",
   "execution_count": 34,
   "id": "9fd8d199",
   "metadata": {},
   "outputs": [],
   "source": [
    "prob_gt = 1 - cdf_best3"
   ]
  },
  {
   "cell_type": "markdown",
   "id": "d5d8eb29",
   "metadata": {},
   "source": [
    "Come suggerito dalla variabile, il CDF complementare rappresenta la probabilità che un valore della distribuzione sia maggiore di `x`.\n",
    "\n",
    "Se otteniamo 6 valori dalla distribuzione, la probabilità che tutti e 6 superino `x` è:"
   ]
  },
  {
   "cell_type": "code",
   "execution_count": 35,
   "id": "039cfc6b",
   "metadata": {},
   "outputs": [],
   "source": [
    "prob_gt6 = prob_gt**6"
   ]
  },
  {
   "cell_type": "markdown",
   "id": "f007f95f",
   "metadata": {},
   "source": [
    "Se tutte e 6 eccedono `x`, questo significa che il loro minimo supera `x`, dunque `prob_gt6` è complementare al CDF del minimo.\n",
    "E questa significa che possiamo calcolare il CDF del minimo in questo modo:"
   ]
  },
  {
   "cell_type": "code",
   "execution_count": 36,
   "id": "6c3beb3e",
   "metadata": {},
   "outputs": [],
   "source": [
    "prob_le6 = 1 - prob_gt6"
   ]
  },
  {
   "cell_type": "markdown",
   "id": "2c2079df",
   "metadata": {},
   "source": [
    "Il risultato è un oggetto `Series` di Pandas che rappresenta il CDF del minimo dei sei attributi. Possiamo mettere i valori in un oggetto `Cdf` in questo modo:"
   ]
  },
  {
   "cell_type": "code",
   "execution_count": 37,
   "id": "c304c50a",
   "metadata": {},
   "outputs": [],
   "source": [
    "cdf_min6 = Cdf(prob_le6)"
   ]
  },
  {
   "cell_type": "markdown",
   "id": "5010fa47",
   "metadata": {},
   "source": [
    "Ecco come appare assieme alla distribuzione assieme alla distribuzione del massimo:"
   ]
  },
  {
   "cell_type": "code",
   "execution_count": 38,
   "id": "b3f8054d",
   "metadata": {},
   "outputs": [
    {
     "data": {
      "image/png": "[encoded data removed]",
      "text/plain": [
       "<Figure size 432x288 with 1 Axes>"
      ]
     },
     "metadata": {
      "needs_background": "light"
     },
     "output_type": "display_data"
    }
   ],
   "source": [
    "cdf_min6.plot(color='C4', label='minimum of 6')\n",
    "cdf_max6.plot(color='C2', label='maximum of 6', style=':')\n",
    "decorate_dice('Minimum and maximum of six attributes')\n",
    "plt.ylabel('CDF');"
   ]
  },
  {
   "cell_type": "markdown",
   "id": "40fd8611",
   "metadata": {},
   "source": [
    "L'oggetto `Cdf` fornisce il metodo `min_dist`,che esegue gli stessi calcoli:"
   ]
  },
  {
   "cell_type": "code",
   "execution_count": 39,
   "id": "9d145cbf",
   "metadata": {},
   "outputs": [],
   "source": [
    "cdf_min_dist6 = cdf_best3.min_dist(6)"
   ]
  },
  {
   "cell_type": "markdown",
   "id": "6d7febf1",
   "metadata": {},
   "source": [
    "E confermiamo che le differenze sono minuscole."
   ]
  },
  {
   "cell_type": "code",
   "execution_count": 40,
   "id": "05c9630b",
   "metadata": {},
   "outputs": [
    {
     "data": {
      "text/plain": [
       "True"
      ]
     },
     "execution_count": 40,
     "metadata": {},
     "output_type": "execute_result"
    }
   ],
   "source": [
    "np.allclose(cdf_min_dist6, cdf_min6)"
   ]
  },
  {
   "cell_type": "markdown",
   "id": "d07ccc70",
   "metadata": {},
   "source": [
    "Negli esercizi alla fine del capitolo, useremo le distribuzioni del minimo e del massimo per fare delle inferenze Bayesiane.\n",
    "Ma prima vediamo cosa succede se mescoliamo le distribuzioni.\n",
    "\n",
    "## Miscela\n",
    "\n",
    "In questa sezione, mostreremo come calcolare la distribuzione che rappresenta una miscela di altre distribuzioni.\n",
    "Spiegheremo cosa significa con alcuni semplici esempi; vedremo poi come queste miscele possano essere utilizzate per fare delle previsioni.\n",
    "\n",
    "Qui un altro esempio insipirato da *Dungeons & Dragons*:\n",
    "\n",
    "* Supponiamo che il personaggio sia armato con un pungale in una mano e una spada corta nell'altra.\n",
    "* Durante ogni round, attacchiamo  il mostro con una delle due armi scelta a caso.\n",
    "* Il pugnale causa un danno scelto da un dado a 4 facce, la spada corta causa un danno un danno scelto da un danno da 6 facce.\n",
    "\n",
    "Quale è la distribuzione del danno inflitto a ogni round?\n",
    "\n",
    "Per rispondere alla domanda, Creiamo due oggetti `Pmf` per rappresentare un dado a 4 e 6 facce:"
   ]
  },
  {
   "cell_type": "code",
   "execution_count": 41,
   "id": "58656eb8",
   "metadata": {},
   "outputs": [],
   "source": [
    "d4 = make_die(4)\n",
    "d6 = make_die(6)"
   ]
  },
  {
   "cell_type": "markdown",
   "id": "7c54f856",
   "metadata": {},
   "source": [
    "Ora, calcoliamo la probabilità di infliggere un punto di danno.\n",
    "\n",
    "* Se attacchiamo con il pugnale è 1/4\n",
    "* Se attacchiamo con la spada è 1/6.\n",
    "\n",
    "In quanto la probabilità di scegliere una arma è 1/2 la probabilità totale è la media:"
   ]
  },
  {
   "cell_type": "code",
   "execution_count": 42,
   "id": "d6b92e2f",
   "metadata": {},
   "outputs": [
    {
     "data": {
      "text/plain": [
       "0.20833333333333331"
      ]
     },
     "execution_count": 42,
     "metadata": {},
     "output_type": "execute_result"
    }
   ],
   "source": [
    "prob_1 = (d4(1) + d6(1)) / 2\n",
    "prob_1"
   ]
  },
  {
   "cell_type": "markdown",
   "id": "36cc61a7",
   "metadata": {},
   "source": [
    "Per i risultati 2, 3 e 4 la probabilità è la stessa ma per 5 e 6, perchè i risultati sono impossibili per un dado a 4 facce."
   ]
  },
  {
   "cell_type": "code",
   "execution_count": 43,
   "id": "1db27958",
   "metadata": {},
   "outputs": [
    {
     "data": {
      "text/plain": [
       "0.08333333333333333"
      ]
     },
     "execution_count": 43,
     "metadata": {},
     "output_type": "execute_result"
    }
   ],
   "source": [
    "prob_6 = (d4(6) + d6(6)) / 2\n",
    "prob_6"
   ]
  },
  {
   "cell_type": "markdown",
   "id": "14b0642e",
   "metadata": {},
   "source": [
    "Per calcolare la distribuzione della miscela, possiamo iterare su tutti i possibili risultati e calcolare le loro probabilità.\n",
    "Ma possiamo fare gli stessi calcoli usando l'operatore  `+`:"
   ]
  },
  {
   "cell_type": "code",
   "execution_count": 44,
   "id": "c6fa7102",
   "metadata": {},
   "outputs": [],
   "source": [
    "mix1 = (d4 + d6) / 2"
   ]
  },
  {
   "cell_type": "markdown",
   "id": "4cdfac01",
   "metadata": {},
   "source": [
    "Qui la miscela delle distribuzioni."
   ]
  },
  {
   "cell_type": "code",
   "execution_count": 45,
   "id": "adf2b23f",
   "metadata": {},
   "outputs": [
    {
     "data": {
      "image/png": "[encoded data removed]",
      "text/plain": [
       "<Figure size 432x288 with 1 Axes>"
      ]
     },
     "metadata": {
      "needs_background": "light"
     },
     "output_type": "display_data"
    }
   ],
   "source": [
    "mix1.bar(alpha=0.7)\n",
    "decorate_dice('Mixture of one 4-sided and one 6-sided die')"
   ]
  },
  {
   "cell_type": "markdown",
   "id": "35174d24",
   "metadata": {},
   "source": [
    "Ora supponiamo che stiamo combattendo tre mostri:\n",
    "\n",
    "* uno ha una clava, che causa un danno scelto da un dado a 4 facce.\n",
    "\n",
    "* uno ha una mazza che causa un danno scelto da un dado a 6 facce.\n",
    "\n",
    "* e un altro ha una mazza ferrata, che causa anche lui un danno scelto da un dado a 6 facce. \n",
    "\n",
    "Visto che la mischia è disorganizzata, attacchiamo uno di questi mostri alla volta scelto a caso.\n",
    "Per trovare la distribuzione del danno che infliggono, possiamo calcolare la media pesata delle distribuzioni in questo modo:"
   ]
  },
  {
   "cell_type": "code",
   "execution_count": 46,
   "id": "41c42af1",
   "metadata": {},
   "outputs": [],
   "source": [
    "mix2 = (d4 + 2*d6) / 3"
   ]
  },
  {
   "cell_type": "markdown",
   "id": "d695e41c",
   "metadata": {},
   "source": [
    "La distribuzione è una miscela di uno dei dadi a 4 facce e due dadi a 6 facce.\n",
    "Qui come si visualizza la distribuzione."
   ]
  },
  {
   "cell_type": "code",
   "execution_count": 47,
   "id": "844437c5",
   "metadata": {},
   "outputs": [
    {
     "data": {
      "image/png": "[encoded data removed]",
      "text/plain": [
       "<Figure size 432x288 with 1 Axes>"
      ]
     },
     "metadata": {
      "needs_background": "light"
     },
     "output_type": "display_data"
    }
   ],
   "source": [
    "mix2.bar(alpha=0.7)\n",
    "decorate_dice('Mixture of one 4-sided and two 6-sided die')"
   ]
  },
  {
   "cell_type": "markdown",
   "id": "0ecfed2d",
   "metadata": {},
   "source": [
    "In questa sezione abbiamo usato l'operatore `+` che aggiunge le probabilità nelle distribuzioni, non deve essere confuso con `Pmf.add_dist`che calcola la distribuzione come la somma delle distribuzioni:"
   ]
  },
  {
   "cell_type": "code",
   "execution_count": 48,
   "id": "8e93adbd",
   "metadata": {},
   "outputs": [],
   "source": [
    "total_damage = Pmf.add_dist(mix1, mix2)"
   ]
  },
  {
   "cell_type": "code",
   "execution_count": 49,
   "id": "098ea886",
   "metadata": {},
   "outputs": [
    {
     "data": {
      "image/png": "[encoded data removed]",
      "text/plain": [
       "<Figure size 432x288 with 1 Axes>"
      ]
     },
     "metadata": {
      "needs_background": "light"
     },
     "output_type": "display_data"
    }
   ],
   "source": [
    "total_damage.bar(alpha=0.7)\n",
    "decorate_dice('Total damage inflicted by both parties')"
   ]
  },
  {
   "cell_type": "markdown",
   "id": "55fff38c",
   "metadata": {},
   "source": [
    "## Miscele Generalizzate\n",
    "\n",
    "Nella sezione precedente abbiamo calcolato le miscele in modo *ad hoc*.\n",
    "Ora vedremo come vedere una soluzione generalizzata.\n",
    "Nei capitoli futuri, vedremo questa soluzione per generalizzare le previsioni nei problemi reali, non solo per i giochi di ruolo.\n",
    "Ma con un pochino di pazienza, continueremo gli esempi precedenti per una ulteriore sezione.\n",
    "\n",
    "Supponiamo che i tre mostri si uniscano nel combattimento, ognuno di essi con una ascia di battaglia con un dado a 8 facce per i danni.\n",
    "\n",
    "Ancora, solo un mostro attacca per turno, scelto a caso, il danno che infliggono è una miscela di:\n",
    "\n",
    "* Un dado a 4 facce,\n",
    "* Due dadi a 6 facce,\n",
    "* Tre dadi a 8 facce.\n",
    "\n",
    "Useremo l'oggetto `Pmf` per rappresentare un mostro scelto a caso:"
   ]
  },
  {
   "cell_type": "code",
   "execution_count": 50,
   "id": "27ffa12d",
   "metadata": {},
   "outputs": [
    {
     "data": {
      "text/html": [
       "<div>\n",
       "<style scoped>\n",
       "    .dataframe tbody tr th:only-of-type {\n",
       "        vertical-align: middle;\n",
       "    }\n",
       "\n",
       "    .dataframe tbody tr th {\n",
       "        vertical-align: top;\n",
       "    }\n",
       "\n",
       "    .dataframe thead th {\n",
       "        text-align: right;\n",
       "    }\n",
       "</style>\n",
       "<table border=\"1\" class=\"dataframe\">\n",
       "  <thead>\n",
       "    <tr style=\"text-align: right;\">\n",
       "      <th></th>\n",
       "      <th>probs</th>\n",
       "    </tr>\n",
       "  </thead>\n",
       "  <tbody>\n",
       "    <tr>\n",
       "      <th>4</th>\n",
       "      <td>0.166667</td>\n",
       "    </tr>\n",
       "    <tr>\n",
       "      <th>6</th>\n",
       "      <td>0.333333</td>\n",
       "    </tr>\n",
       "    <tr>\n",
       "      <th>8</th>\n",
       "      <td>0.500000</td>\n",
       "    </tr>\n",
       "  </tbody>\n",
       "</table>\n",
       "</div>"
      ],
      "text/plain": [
       "4    0.166667\n",
       "6    0.333333\n",
       "8    0.500000\n",
       "Name: , dtype: float64"
      ]
     },
     "execution_count": 50,
     "metadata": {},
     "output_type": "execute_result"
    }
   ],
   "source": [
    "hypos = [4,6,8]\n",
    "counts = [1,2,3]\n",
    "pmf_dice = Pmf(counts, hypos)\n",
    "pmf_dice.normalize()\n",
    "pmf_dice"
   ]
  },
  {
   "cell_type": "markdown",
   "id": "45cdf852",
   "metadata": {},
   "source": [
    "Questa distribuzione rappresenta il numero dei lati di ciascun dado e la probabilità di ciascun lato.\n",
    "Per esempio, uno dei sei mostri ha un pugnale, dunque abbiamo che la probabilità di lanciare un dado a 4 facce è un $1/6$.\n",
    "\n",
    "Poi creereno una sequenza di oggetti `Pmf` per rappresentare il dado:"
   ]
  },
  {
   "cell_type": "code",
   "execution_count": 51,
   "id": "42da655b",
   "metadata": {},
   "outputs": [],
   "source": [
    "dice = [make_die(sides) for sides in hypos]"
   ]
  },
  {
   "cell_type": "markdown",
   "id": "10e8ace2",
   "metadata": {},
   "source": [
    "Per calcolare la distribizione della miscela, calcoleremo la media pesata del dado usando le probabilità di `pmf_dice` come pesi.\n",
    "\n",
    "Per esprimere questo calcolo è conveniente mettere le distribuzioni Pandas `DataFrame`:"
   ]
  },
  {
   "cell_type": "code",
   "execution_count": 52,
   "id": "c8519055",
   "metadata": {},
   "outputs": [
    {
     "data": {
      "text/html": [
       "<div>\n",
       "<style scoped>\n",
       "    .dataframe tbody tr th:only-of-type {\n",
       "        vertical-align: middle;\n",
       "    }\n",
       "\n",
       "    .dataframe tbody tr th {\n",
       "        vertical-align: top;\n",
       "    }\n",
       "\n",
       "    .dataframe thead th {\n",
       "        text-align: right;\n",
       "    }\n",
       "</style>\n",
       "<table border=\"1\" class=\"dataframe\">\n",
       "  <thead>\n",
       "    <tr style=\"text-align: right;\">\n",
       "      <th></th>\n",
       "      <th>1</th>\n",
       "      <th>2</th>\n",
       "      <th>3</th>\n",
       "      <th>4</th>\n",
       "      <th>5</th>\n",
       "      <th>6</th>\n",
       "      <th>7</th>\n",
       "      <th>8</th>\n",
       "    </tr>\n",
       "  </thead>\n",
       "  <tbody>\n",
       "    <tr>\n",
       "      <th></th>\n",
       "      <td>0.250000</td>\n",
       "      <td>0.250000</td>\n",
       "      <td>0.250000</td>\n",
       "      <td>0.250000</td>\n",
       "      <td>NaN</td>\n",
       "      <td>NaN</td>\n",
       "      <td>NaN</td>\n",
       "      <td>NaN</td>\n",
       "    </tr>\n",
       "    <tr>\n",
       "      <th></th>\n",
       "      <td>0.166667</td>\n",
       "      <td>0.166667</td>\n",
       "      <td>0.166667</td>\n",
       "      <td>0.166667</td>\n",
       "      <td>0.166667</td>\n",
       "      <td>0.166667</td>\n",
       "      <td>NaN</td>\n",
       "      <td>NaN</td>\n",
       "    </tr>\n",
       "    <tr>\n",
       "      <th></th>\n",
       "      <td>0.125000</td>\n",
       "      <td>0.125000</td>\n",
       "      <td>0.125000</td>\n",
       "      <td>0.125000</td>\n",
       "      <td>0.125000</td>\n",
       "      <td>0.125000</td>\n",
       "      <td>0.125</td>\n",
       "      <td>0.125</td>\n",
       "    </tr>\n",
       "  </tbody>\n",
       "</table>\n",
       "</div>"
      ],
      "text/plain": [
       "         1         2         3         4         5         6      7      8\n",
       "  0.250000  0.250000  0.250000  0.250000       NaN       NaN    NaN    NaN\n",
       "  0.166667  0.166667  0.166667  0.166667  0.166667  0.166667    NaN    NaN\n",
       "  0.125000  0.125000  0.125000  0.125000  0.125000  0.125000  0.125  0.125"
      ]
     },
     "execution_count": 52,
     "metadata": {},
     "output_type": "execute_result"
    }
   ],
   "source": [
    "import pandas as pd\n",
    "\n",
    "pd.DataFrame(dice)"
   ]
  },
  {
   "cell_type": "markdown",
   "id": "643e602a",
   "metadata": {},
   "source": [
    "Il risultato è un `DataFrame`con una riga per ogni distribuzione e una colonna per ogni risultato.\n",
    "non tutte le righe sono di egual lunghezza, dunque pandas riempie gli spazi con dei caratteri speciali `NaN`, che sta per \"not a number\".\n",
    "\n",
    "Possiamo usare `fillna` per rimpiazzare e valori `NaN` con 0.\n",
    "\n",
    "Il prossimo passo è quello di moltiplicare le righe con le probabilità `pmf_dice`, che risulta essere più facile da lavorare se trasponiamo la matrice delle distribuzioni che trasforma le righe in colonne:"
   ]
  },
  {
   "cell_type": "code",
   "execution_count": 53,
   "id": "2f411453",
   "metadata": {},
   "outputs": [
    {
     "data": {
      "text/html": [
       "<div>\n",
       "<style scoped>\n",
       "    .dataframe tbody tr th:only-of-type {\n",
       "        vertical-align: middle;\n",
       "    }\n",
       "\n",
       "    .dataframe tbody tr th {\n",
       "        vertical-align: top;\n",
       "    }\n",
       "\n",
       "    .dataframe thead th {\n",
       "        text-align: right;\n",
       "    }\n",
       "</style>\n",
       "<table border=\"1\" class=\"dataframe\">\n",
       "  <thead>\n",
       "    <tr style=\"text-align: right;\">\n",
       "      <th></th>\n",
       "      <th></th>\n",
       "      <th></th>\n",
       "      <th></th>\n",
       "    </tr>\n",
       "  </thead>\n",
       "  <tbody>\n",
       "    <tr>\n",
       "      <th>1</th>\n",
       "      <td>0.25</td>\n",
       "      <td>0.166667</td>\n",
       "      <td>0.125</td>\n",
       "    </tr>\n",
       "    <tr>\n",
       "      <th>2</th>\n",
       "      <td>0.25</td>\n",
       "      <td>0.166667</td>\n",
       "      <td>0.125</td>\n",
       "    </tr>\n",
       "    <tr>\n",
       "      <th>3</th>\n",
       "      <td>0.25</td>\n",
       "      <td>0.166667</td>\n",
       "      <td>0.125</td>\n",
       "    </tr>\n",
       "    <tr>\n",
       "      <th>4</th>\n",
       "      <td>0.25</td>\n",
       "      <td>0.166667</td>\n",
       "      <td>0.125</td>\n",
       "    </tr>\n",
       "    <tr>\n",
       "      <th>5</th>\n",
       "      <td>0.00</td>\n",
       "      <td>0.166667</td>\n",
       "      <td>0.125</td>\n",
       "    </tr>\n",
       "    <tr>\n",
       "      <th>6</th>\n",
       "      <td>0.00</td>\n",
       "      <td>0.166667</td>\n",
       "      <td>0.125</td>\n",
       "    </tr>\n",
       "    <tr>\n",
       "      <th>7</th>\n",
       "      <td>0.00</td>\n",
       "      <td>0.000000</td>\n",
       "      <td>0.125</td>\n",
       "    </tr>\n",
       "    <tr>\n",
       "      <th>8</th>\n",
       "      <td>0.00</td>\n",
       "      <td>0.000000</td>\n",
       "      <td>0.125</td>\n",
       "    </tr>\n",
       "  </tbody>\n",
       "</table>\n",
       "</div>"
      ],
      "text/plain": [
       "                        \n",
       "1  0.25  0.166667  0.125\n",
       "2  0.25  0.166667  0.125\n",
       "3  0.25  0.166667  0.125\n",
       "4  0.25  0.166667  0.125\n",
       "5  0.00  0.166667  0.125\n",
       "6  0.00  0.166667  0.125\n",
       "7  0.00  0.000000  0.125\n",
       "8  0.00  0.000000  0.125"
      ]
     },
     "execution_count": 53,
     "metadata": {},
     "output_type": "execute_result"
    }
   ],
   "source": [
    "df = pd.DataFrame(dice).fillna(0).transpose()\n",
    "df"
   ]
  },
  {
   "cell_type": "markdown",
   "id": "02ae1b22",
   "metadata": {},
   "source": [
    "Ora possiamo moltiplicare le probabilità in `pmf_dice`:"
   ]
  },
  {
   "cell_type": "code",
   "execution_count": 54,
   "id": "215e31e1",
   "metadata": {},
   "outputs": [],
   "source": [
    "df *= pmf_dice.ps"
   ]
  },
  {
   "cell_type": "code",
   "execution_count": 55,
   "id": "be177c99",
   "metadata": {},
   "outputs": [
    {
     "data": {
      "text/html": [
       "<div>\n",
       "<style scoped>\n",
       "    .dataframe tbody tr th:only-of-type {\n",
       "        vertical-align: middle;\n",
       "    }\n",
       "\n",
       "    .dataframe tbody tr th {\n",
       "        vertical-align: top;\n",
       "    }\n",
       "\n",
       "    .dataframe thead th {\n",
       "        text-align: right;\n",
       "    }\n",
       "</style>\n",
       "<table border=\"1\" class=\"dataframe\">\n",
       "  <thead>\n",
       "    <tr style=\"text-align: right;\">\n",
       "      <th></th>\n",
       "      <th></th>\n",
       "      <th></th>\n",
       "      <th></th>\n",
       "    </tr>\n",
       "  </thead>\n",
       "  <tbody>\n",
       "    <tr>\n",
       "      <th>1</th>\n",
       "      <td>0.041667</td>\n",
       "      <td>0.055556</td>\n",
       "      <td>0.0625</td>\n",
       "    </tr>\n",
       "    <tr>\n",
       "      <th>2</th>\n",
       "      <td>0.041667</td>\n",
       "      <td>0.055556</td>\n",
       "      <td>0.0625</td>\n",
       "    </tr>\n",
       "    <tr>\n",
       "      <th>3</th>\n",
       "      <td>0.041667</td>\n",
       "      <td>0.055556</td>\n",
       "      <td>0.0625</td>\n",
       "    </tr>\n",
       "    <tr>\n",
       "      <th>4</th>\n",
       "      <td>0.041667</td>\n",
       "      <td>0.055556</td>\n",
       "      <td>0.0625</td>\n",
       "    </tr>\n",
       "    <tr>\n",
       "      <th>5</th>\n",
       "      <td>0.000000</td>\n",
       "      <td>0.055556</td>\n",
       "      <td>0.0625</td>\n",
       "    </tr>\n",
       "    <tr>\n",
       "      <th>6</th>\n",
       "      <td>0.000000</td>\n",
       "      <td>0.055556</td>\n",
       "      <td>0.0625</td>\n",
       "    </tr>\n",
       "    <tr>\n",
       "      <th>7</th>\n",
       "      <td>0.000000</td>\n",
       "      <td>0.000000</td>\n",
       "      <td>0.0625</td>\n",
       "    </tr>\n",
       "    <tr>\n",
       "      <th>8</th>\n",
       "      <td>0.000000</td>\n",
       "      <td>0.000000</td>\n",
       "      <td>0.0625</td>\n",
       "    </tr>\n",
       "  </tbody>\n",
       "</table>\n",
       "</div>"
      ],
      "text/plain": [
       "                             \n",
       "1  0.041667  0.055556  0.0625\n",
       "2  0.041667  0.055556  0.0625\n",
       "3  0.041667  0.055556  0.0625\n",
       "4  0.041667  0.055556  0.0625\n",
       "5  0.000000  0.055556  0.0625\n",
       "6  0.000000  0.055556  0.0625\n",
       "7  0.000000  0.000000  0.0625\n",
       "8  0.000000  0.000000  0.0625"
      ]
     },
     "execution_count": 55,
     "metadata": {},
     "output_type": "execute_result"
    }
   ],
   "source": [
    "df"
   ]
  },
  {
   "cell_type": "markdown",
   "id": "cc026f0d",
   "metadata": {},
   "source": [
    "E sommiamo le distribuzioni pesate:"
   ]
  },
  {
   "cell_type": "code",
   "execution_count": 56,
   "id": "78b2dcb1",
   "metadata": {},
   "outputs": [
    {
     "data": {
      "text/plain": [
       "1    0.159722\n",
       "2    0.159722\n",
       "3    0.159722\n",
       "4    0.159722\n",
       "5    0.118056\n",
       "6    0.118056\n",
       "7    0.062500\n",
       "8    0.062500\n",
       "dtype: float64"
      ]
     },
     "execution_count": 56,
     "metadata": {},
     "output_type": "execute_result"
    }
   ],
   "source": [
    "df.sum(axis=1)"
   ]
  },
  {
   "cell_type": "markdown",
   "id": "9fbffcdb",
   "metadata": {},
   "source": [
    "L'argomento `axis=1` significa che vogliamo sommare i valori sulle righe. Il risultato è una serie Pandas.\n",
    "Mettere tutto essieme creiamo una funzione che crea una miscela delle distribuzioni."
   ]
  },
  {
   "cell_type": "code",
   "execution_count": 57,
   "id": "187fb4f7",
   "metadata": {},
   "outputs": [],
   "source": [
    "def make_mixture(pmf, pmf_seq):\n",
    "    \"\"\"Make a mixture of distributions.\"\"\"\n",
    "    df = pd.DataFrame(pmf_seq).fillna(0).transpose()\n",
    "    df *= np.array(pmf)\n",
    "    total = df.sum(axis=1)\n",
    "    return Pmf(total)"
   ]
  },
  {
   "cell_type": "markdown",
   "id": "8c65cc82",
   "metadata": {},
   "source": [
    "Il primo parametro è un oggetto `Pmf` che mappa ogni ipotesi in probabilità.\n",
    "Il secondo parametro è una sequenza di oggetti `Pmf` uno per ogni ipotesi.\n",
    "\n",
    "Possiamo usarlo così:"
   ]
  },
  {
   "cell_type": "code",
   "execution_count": 58,
   "id": "e809e9df",
   "metadata": {},
   "outputs": [],
   "source": [
    "mix = make_mixture(pmf_dice, dice)"
   ]
  },
  {
   "cell_type": "markdown",
   "id": "fbe8d8b6",
   "metadata": {},
   "source": [
    "e qui il risultato"
   ]
  },
  {
   "cell_type": "code",
   "execution_count": 59,
   "id": "d905f9ee",
   "metadata": {},
   "outputs": [
    {
     "data": {
      "image/png": "[encoded data removed]",
      "text/plain": [
       "<Figure size 432x288 with 1 Axes>"
      ]
     },
     "metadata": {
      "needs_background": "light"
     },
     "output_type": "display_data"
    }
   ],
   "source": [
    "mix.bar(label='mixture', alpha=0.6)\n",
    "decorate_dice('Distribution of damage with three different weapons')"
   ]
  },
  {
   "cell_type": "markdown",
   "id": "67b6820c",
   "metadata": {},
   "source": [
    "In questa sezionne abbiamo usato Pandas per creare `make_mixture` una funzione efficiente e molto utile.\n",
    "Useremo la funzione `make_mixture` nel prossimo capitolo.\n",
    "\n",
    "## Sommario\n",
    "\n",
    "Questo capitolo introduce l'oggetto `Cdf`, che rappresenta la funzione di distribuzione cumulativa.\n",
    "\n",
    "Un `Pmf` e il corrispondente `Cdf` sono equivalente nel senso che contengno le stesse informazioni, duqnue possiamo convertire una forma in un'altra.\n",
    "\n",
    "La differenza primaria tra loro è le performace: alcune operazioni sono veloci e semplici con il `Pmf`; altre sono veloci con l'oggetto `Cdf`.\n",
    "\n",
    "In questo capitolo abbiamo usato gli oggetti `Cdf` per calcolare le distribuzioni del massimo e del minimo; queste distribuzioni sono utili per l'inferenza se ci viene fornito un massimo un minimo come dato.\n",
    "\n",
    "Vedremo alcuni esempi negli esercizi e nei capitoli futuri.\n",
    "Abbiamo anche calcolare le miscele di distribuzioni, che potremo usare nel prossimo capitolo per fare previsioni.\n",
    "\n",
    "## Esercizi\n",
    "\n",
    "**Esercizio:** Quando generiamo un personaggio di D&D, invece di lanciare i dadi, possiamo usare lo \"standard array\" degli attributi che ha valore 15, 14, 13, 12, 10 e 8.\n",
    "\n",
    "Pensi che sia meglio usare lo standard arrao o lanciare i dadi?\n",
    "Compara i valori delle distribuzioni nello standard array rispetto ai valori che abbiamo calcolato per il migliori tre dei quattro:\n",
    "\n",
    "* Quale distribuzione ha la media più alta? Usare il metodo `mean`.\n",
    "* Quale distribuzione ha la deviasione standard più alta? Usare il metodo `std`.\n",
    "* Il valore minimo nello standard array è 8. Per ogni attributo quale è la probabilità di ottenere un valore minore di 8? Se lanciamo il dado sei volte, quale è la probabilità che almeno un attributo sia meno di 8?\n",
    "* Il valore più alto dello standard array è 15.Per ogni attributo quale è la probabilità di ottenere un valore più grande di 15? Se lancio il dado 6 volte quale è la probabilità che almeno un attributo sia maggiore di 15?\n",
    "\n",
    "Per partire, qui la rappresentazione `Cdf` che rappresenta la distribuzione degli attributi nello standard array:"
   ]
  },
  {
   "cell_type": "code",
   "execution_count": 60,
   "id": "dd22f941",
   "metadata": {},
   "outputs": [],
   "source": [
    "standard = [15,14,13,12,10,8]\n",
    "cdf_standard = Cdf.from_seq(standard)"
   ]
  },
  {
   "cell_type": "markdown",
   "id": "72be2e4d",
   "metadata": {},
   "source": [
    "Possiamo comparali con la distribuzione degli attributi che ottieni sommando i migliori tre risultati di quattro."
   ]
  },
  {
   "cell_type": "code",
   "execution_count": 61,
   "id": "6a15d337",
   "metadata": {},
   "outputs": [
    {
     "data": {
      "image/png": "[encoded data removed]",
      "text/plain": [
       "<Figure size 432x288 with 1 Axes>"
      ]
     },
     "metadata": {
      "needs_background": "light"
     },
     "output_type": "display_data"
    }
   ],
   "source": [
    "cdf_best3.plot(label='best 3 of 4', color='C1', style='--')\n",
    "cdf_standard.step(label='standard set', color='C7')\n",
    "\n",
    "decorate_dice('Distribution of attributes')\n",
    "plt.ylabel('CDF');"
   ]
  },
  {
   "cell_type": "markdown",
   "id": "c3a55b92",
   "metadata": {},
   "source": [
    "Ho visualizzato il dato `cdf_standard` come una funzione gradino per mostrare chiaramente che contiene solo poche quantità."
   ]
  },
  {
   "cell_type": "code",
   "execution_count": 62,
   "id": "ead9a0d5",
   "metadata": {},
   "outputs": [
    {
     "data": {
      "text/plain": [
       "(12.2988, 12.2988)"
      ]
     },
     "execution_count": 62,
     "metadata": {},
     "output_type": "execute_result"
    }
   ],
   "source": [
    "cdf_best3.mean(),cdf_best3.mean()"
   ]
  },
  {
   "cell_type": "code",
   "execution_count": 63,
   "id": "3d42c818",
   "metadata": {},
   "outputs": [
    {
     "data": {
      "text/plain": [
       "(2.8440672565887044, 2.3804761428476167)"
      ]
     },
     "execution_count": 63,
     "metadata": {},
     "output_type": "execute_result"
    }
   ],
   "source": [
    "cdf_best3.std(), cdf_standard.std()"
   ]
  },
  {
   "cell_type": "code",
   "execution_count": 64,
   "id": "b3c05c49",
   "metadata": {},
   "outputs": [
    {
     "data": {
      "text/plain": [
       "0.057499999999999996"
      ]
     },
     "execution_count": 64,
     "metadata": {},
     "output_type": "execute_result"
    }
   ],
   "source": [
    "cdf_best3.lt_dist(8)"
   ]
  },
  {
   "cell_type": "code",
   "execution_count": 65,
   "id": "f861dcf8",
   "metadata": {},
   "outputs": [
    {
     "data": {
      "text/plain": [
       "0.1352"
      ]
     },
     "execution_count": 65,
     "metadata": {},
     "output_type": "execute_result"
    }
   ],
   "source": [
    "cdf_best3.gt_dist(15)"
   ]
  },
  {
   "cell_type": "code",
   "execution_count": 66,
   "id": "2e918b49",
   "metadata": {},
   "outputs": [
    {
     "data": {
      "text/plain": [
       "(0.2990482033172146, 0.2990482033172146)"
      ]
     },
     "execution_count": 66,
     "metadata": {},
     "output_type": "execute_result"
    }
   ],
   "source": [
    "#calcolo la probabilità che lanciando il dado 6 volte almeno un attributo sia minore di 8\n",
    "\n",
    "cdf_min6.lt_dist(8), 1 - (1-cdf_best3.lt_dist(8))**6"
   ]
  },
  {
   "cell_type": "code",
   "execution_count": 67,
   "id": "786ca8c6",
   "metadata": {},
   "outputs": [
    {
     "data": {
      "text/plain": [
       "(0.5816940079806041, 0.5816940079806041)"
      ]
     },
     "execution_count": 67,
     "metadata": {},
     "output_type": "execute_result"
    }
   ],
   "source": [
    "#calcolo la probabilità che lanciando il dado 6 volte almeno un attributo sia maggiore di 15\n",
    "\n",
    "cdf_max6.gt_dist(15), 1 - (1-cdf_best3.gt_dist(15))**6"
   ]
  },
  {
   "cell_type": "markdown",
   "id": "f6dbf369",
   "metadata": {},
   "source": [
    "**Esercizio** Supponiamo che stiamo combattendo tre mostri:\n",
    "* Uno è armato con una spada corta che causa un danno derivato da un dado a 6 facce, \n",
    "* Uno è armato con una ascia da battaglia che causa un danno derivato da un dado a 8 facce, \n",
    "* Uno è armato con una spada bastarda che causa un danno derivato da un dado a 10 facce.\n",
    "\n",
    "\n",
    "Il mostro viene scelto in modo casuale, ti attacca e fa un punto di danno.\n",
    "Quale mostro piensi sia stato? Calcola la probabilità a posteriori per ciascun attacante.\n",
    "Se lo stesso mostro ti attacca nuovamente, quale è la probabilità che tu abbia 6 punti di danno?\n",
    "\n",
    "Suggerimento: Calcola a posteriori la distribuzione che abbiamo fatto prima e passa come un argomento alla funzione `make_mixture`."
   ]
  },
  {
   "cell_type": "code",
   "execution_count": 68,
   "id": "be159bcc",
   "metadata": {},
   "outputs": [
    {
     "data": {
      "text/html": [
       "<div>\n",
       "<style scoped>\n",
       "    .dataframe tbody tr th:only-of-type {\n",
       "        vertical-align: middle;\n",
       "    }\n",
       "\n",
       "    .dataframe tbody tr th {\n",
       "        vertical-align: top;\n",
       "    }\n",
       "\n",
       "    .dataframe thead th {\n",
       "        text-align: right;\n",
       "    }\n",
       "</style>\n",
       "<table border=\"1\" class=\"dataframe\">\n",
       "  <thead>\n",
       "    <tr style=\"text-align: right;\">\n",
       "      <th></th>\n",
       "      <th>probs</th>\n",
       "    </tr>\n",
       "  </thead>\n",
       "  <tbody>\n",
       "    <tr>\n",
       "      <th>6</th>\n",
       "      <td>0.425532</td>\n",
       "    </tr>\n",
       "    <tr>\n",
       "      <th>8</th>\n",
       "      <td>0.319149</td>\n",
       "    </tr>\n",
       "    <tr>\n",
       "      <th>10</th>\n",
       "      <td>0.255319</td>\n",
       "    </tr>\n",
       "  </tbody>\n",
       "</table>\n",
       "</div>"
      ],
      "text/plain": [
       "6     0.425532\n",
       "8     0.319149\n",
       "10    0.255319\n",
       "Name: , dtype: float64"
      ]
     },
     "execution_count": 68,
     "metadata": {},
     "output_type": "execute_result"
    }
   ],
   "source": [
    "hypos = [6, 8, 10]\n",
    "prior = Pmf(1, hypos)\n",
    "likelihood = 1/prior.qs\n",
    "posterior = prior * likelihood\n",
    "posterior.normalize()\n",
    "posterior"
   ]
  },
  {
   "cell_type": "code",
   "execution_count": 69,
   "id": "2d840cef",
   "metadata": {},
   "outputs": [],
   "source": [
    "d6 = make_die(6)\n",
    "d8 = make_die(8)\n",
    "d10 = make_die(10)\n",
    "\n",
    "dice = d6, d8, d10"
   ]
  },
  {
   "cell_type": "code",
   "execution_count": 70,
   "id": "7d628e1a",
   "metadata": {},
   "outputs": [
    {
     "data": {
      "image/png": "[encoded data removed]",
      "text/plain": [
       "<Figure size 432x288 with 1 Axes>"
      ]
     },
     "metadata": {
      "needs_background": "light"
     },
     "output_type": "display_data"
    }
   ],
   "source": [
    "mix3 = make_mixture(posterior, dice)\n",
    "mix3.bar()"
   ]
  },
  {
   "cell_type": "code",
   "execution_count": 71,
   "id": "9b60e91f",
   "metadata": {},
   "outputs": [
    {
     "data": {
      "text/plain": [
       "0.13634751773049647"
      ]
     },
     "execution_count": 71,
     "metadata": {},
     "output_type": "execute_result"
    }
   ],
   "source": [
    "mix3[6]"
   ]
  },
  {
   "cell_type": "markdown",
   "id": "0e81cead",
   "metadata": {},
   "source": [
    "**Esercizio:** Henri Poincaré è stato un matematico Francese che insegnò alla Sorbona attorno al 1900. Il seguente aneddoto su di lui è probabilmente una finzione ma ci da uno spunto su un interessante problema.\n",
    "\n",
    "Poincaré sospettava che il suo panettiere gli stesse vendendo delle pagnotte più leggere del peso concordato di 1 k, dunque per un anno comprò e pesò le stesse. Alla fine dell'anno stampò e visualizzò le misure mostrando che questa era conforme ad una distribuzione normale con media di 950g e una deviazione standard di 50g.\n",
    "\n",
    "Portò questa evidenza alla polizia del pane che ha avvertito il fornaio.\n",
    "Nell'anno successivo, Poincarè continuò a pesare il suo pane ogni giorno. Alla fine dell'anno trovò che la media del pane era di 1000g, come avrebbe dovuto essere, ma ancora si lamentò com la polizia del pane che questa voltà multò il panettiere.\n",
    "\n",
    "Questo perchè la forma della nuova distribuzione era asimmetrica. Invece della distribuzione normale, questa era pendente verso destra, il che è coerente con l'ipotesi che il fornaio stesse facendo ancora pagnotte da 950g ma che stesse dando le più pesanto a Poincaré.\n",
    "\n",
    "Per capire se questo aneddoto è plausibile, supponiamo che quando il panettiere vede Poincaré arrivare, prende  `n` pagnotte di pane e da a Poincaré quella più pesante. Quante pagnotte dovrebbe pesare il fornaio per creare la media del massimo di 1000g?"
   ]
  },
  {
   "cell_type": "code",
   "execution_count": 72,
   "id": "efcaa22c",
   "metadata": {},
   "outputs": [],
   "source": [
    "mean = 950\n",
    "std = 50\n",
    "\n",
    "np.random.seed(17)\n",
    "sample = np.random.normal(mean, std, size=365)"
   ]
  },
  {
   "cell_type": "code",
   "execution_count": 73,
   "id": "d6ed7252",
   "metadata": {},
   "outputs": [
    {
     "name": "stdout",
     "output_type": "stream",
     "text": [
      "2 978.4666876067706\n",
      "3 992.7589004318227\n",
      "4 1002.0372868686195\n",
      "5 1008.8226939493089\n"
     ]
    }
   ],
   "source": [
    "cdf = Cdf.from_seq(sample)\n",
    "\n",
    "for n in range(2, 6):\n",
    "    cdf_max = cdf.max_dist(n)\n",
    "    print(n, cdf_max.mean())"
   ]
  },
  {
   "cell_type": "code",
   "execution_count": 74,
   "id": "e26fda8e",
   "metadata": {},
   "outputs": [
    {
     "data": {
      "image/png": "[encoded data removed]",
      "text/plain": [
       "<Figure size 432x288 with 1 Axes>"
      ]
     },
     "metadata": {
      "needs_background": "light"
     },
     "output_type": "display_data"
    }
   ],
   "source": [
    "cdf.plot(label='one loaf')\n",
    "cdf.max_dist(4).plot(label='maximum of four loaves')\n",
    "\n",
    "decorate(xlabel='Weight in grams',\n",
    "         ylabel='CDF')"
   ]
  },
  {
   "cell_type": "code",
   "execution_count": null,
   "id": "551c06dc",
   "metadata": {},
   "outputs": [],
   "source": []
  }
 ],
 "metadata": {
  "kernelspec": {
   "display_name": "Python 3 (ipykernel)",
   "language": "python",
   "name": "python3"
  },
  "language_info": {
   "codemirror_mode": {
    "name": "ipython",
    "version": 3
   },
   "file_extension": ".py",
   "mimetype": "text/x-python",
   "name": "python",
   "nbconvert_exporter": "python",
   "pygments_lexer": "ipython3",
   "version": "3.9.7"
  }
 },
 "nbformat": 4,
 "nbformat_minor": 5
}
