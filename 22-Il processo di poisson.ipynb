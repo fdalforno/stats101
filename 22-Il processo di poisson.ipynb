{
 "cells": [
  {
   "cell_type": "code",
   "execution_count": 1,
   "id": "a908d5c7",
   "metadata": {},
   "outputs": [],
   "source": [
    "from utils import set_pyplot_params\n",
    "set_pyplot_params()"
   ]
  },
  {
   "cell_type": "markdown",
   "id": "bfba3e14",
   "metadata": {},
   "source": [
    "Il capitolo introduce il [processo di Poisson](https://en.wikipedia.org/wiki/Poisson_point_process), che è un modello usato per descrivere eventi che accadono a intervalli casuali.\n",
    "\n",
    "Un esempio di un processo Poisson, modelleremo i goal del calcio. Useremo i goal segnati in una partita per stimare i parametri dei processi di Poisson; poi useremo la distribuzioni a posteriori per fare delle previsioni.\n",
    "\n",
    "E poi risolveremo il problema della Coppa del Mondo.\n",
    "\n",
    "## Il problema della Coppa Del Mondo\n",
    "\n",
    "Nel 2018 nella finale della coppa del mondo FIFA, la Francia battè la Croazia per 4 goal a 2. Basandosi su questo risultato:\n",
    "\n",
    "1. Quanto dovremmo essere confidenti che la Francia sia la squadra migliore?\n",
    "2. Se le stesse squadre giocassero ancora, quale è la possibilità che la Francia vinca ancora?\n",
    "\n",
    "Per rispondere a queste domande, dobbiamo fare alcune decisioni di modellazione.\n",
    "\n",
    "* Primo, assumeremo che per ogni squadra che si incontra con un'altra squadra ci sia un rapporto di goal sconosciuto, misurato in goal per partita, che denoteremo la variabile python `lam` o la lettera greca $\\lambda$, pronunciata \"lambda\".\n",
    "\n",
    "* Secondo, assumeremo che un goal e ugualmente probabile durante ogni minuto di gioco, Dunque in una partita di 90 minuti la probabilità di segnare durante il minuto sarà $\\lambda/90$.\n",
    "\n",
    "* Terzo assumeremo che una squadra non segnerà mai due volte nello stesso munito.\n",
    "\n",
    "Queste assunzioni non sono completamente vere nel mondo reale, ma dovrebbero essere delle semplificazioni ragionabili.\n",
    "Come disse George Box, \"Tutti i modelli sono sbagliti ma alcuni sono utili.\" (https://en.wikipedia.org/wiki/All_models_are_wrong).\n",
    "\n",
    "In questo caso il modello è utile in quanto queste assunzioni sono vere almeno approssimativamente. Il numero dei goal nel gioco seguono la distribuzione di Poisson almeno approssimativamente. \n",
    "\n",
    "## La distribuzione di Poisson\n",
    "Se il numero di goal segnati in una partita segue la [distribuzione di Poisson](https://en.wikipedia.org/wiki/Poisson_distribution) con un tasso di goal per partita $\\lambda$ la probabilità di segnare $k$ goal è  \n",
    "\n",
    "$$\\lambda^k \\exp(-\\lambda) ~/~ k!$$\n",
    "\n",
    "per ogni valore non negativo di $k$.\n",
    "\n",
    "SciPy fornisce un oggetto `poisson` che rappresenta una distribuzione Poisson.\n",
    "Ne creiamo una con il parametro $\\lambda=1.4$ come questo:"
   ]
  },
  {
   "cell_type": "code",
   "execution_count": 2,
   "id": "033370a6",
   "metadata": {},
   "outputs": [
    {
     "data": {
      "text/plain": [
       "scipy.stats._distn_infrastructure.rv_frozen"
      ]
     },
     "execution_count": 2,
     "metadata": {},
     "output_type": "execute_result"
    }
   ],
   "source": [
    "from scipy.stats import poisson\n",
    "\n",
    "lam = 1.4\n",
    "dist = poisson(lam)\n",
    "type(dist)"
   ]
  },
  {
   "cell_type": "markdown",
   "id": "ebfa46a1",
   "metadata": {},
   "source": [
    "Il risultato è un oggetto che rappresenta la variabile casuale \"bloccata\" e ci fornisce un oggetto `pmf` che calcola la funzione di probabilità di massa della distribuzione di Poisson."
   ]
  },
  {
   "cell_type": "code",
   "execution_count": 3,
   "id": "39f114ee",
   "metadata": {},
   "outputs": [
    {
     "data": {
      "text/plain": [
       "0.039471954028253146"
      ]
     },
     "execution_count": 3,
     "metadata": {},
     "output_type": "execute_result"
    }
   ],
   "source": [
    "k = 4\n",
    "dist.pmf(k)"
   ]
  },
  {
   "cell_type": "markdown",
   "id": "7a06b6a7",
   "metadata": {},
   "source": [
    "Questo risultato implica che la media dei gol per partita è di 1.4, la probabilità di segnare 4 gol in una partita è del 4%\n",
    "Useremo questa funzione per creare un oggetto `Pmf` che rappresenta la distribuzione di Poisson."
   ]
  },
  {
   "cell_type": "code",
   "execution_count": 4,
   "id": "f197206e",
   "metadata": {},
   "outputs": [],
   "source": [
    "import numpy as np\n",
    "from distribution import Pmf\n",
    "\n",
    "def make_poisson_pmf(lam, qs):\n",
    "    \"\"\"Make a Pmf of a Poisson distribution.\"\"\"\n",
    "    ps = poisson(lam).pmf(qs)\n",
    "    pmf = Pmf(ps, qs)\n",
    "    pmf.normalize()\n",
    "    return pmf"
   ]
  },
  {
   "cell_type": "markdown",
   "id": "da3a2798",
   "metadata": {},
   "source": [
    "`make_poisson_pmf` prende come parametri il tasso di goal per partita `lam`, e una array di quantità `qs`, che serve per valutare il pmf della distribuzione. Viene poi restituito un oggetto `Pmf`.\n",
    "\n",
    "Per esempio qui la distribuzione dei goal segnati per `lam=1.4`, calcolata per i valori `k` da 0 a 9."
   ]
  },
  {
   "cell_type": "code",
   "execution_count": 5,
   "id": "0b7dadf4",
   "metadata": {},
   "outputs": [],
   "source": [
    "import numpy as np\n",
    "\n",
    "lam = 1.4\n",
    "goals = np.arange(10)\n",
    "pmf_goals = make_poisson_pmf(lam, goals)"
   ]
  },
  {
   "cell_type": "code",
   "execution_count": 6,
   "id": "a2984460",
   "metadata": {},
   "outputs": [],
   "source": [
    "from utils import decorate\n",
    "\n",
    "def decorate_goals(title=''):\n",
    "    decorate(xlabel='Number of goals',\n",
    "        ylabel='PMF',\n",
    "        title=title)"
   ]
  },
  {
   "cell_type": "code",
   "execution_count": 7,
   "id": "a8f5e923",
   "metadata": {},
   "outputs": [
    {
     "data": {
      "image/png": "[encoded data removed]",
      "text/plain": [
       "<Figure size 432x288 with 1 Axes>"
      ]
     },
     "metadata": {
      "needs_background": "light"
     },
     "output_type": "display_data"
    }
   ],
   "source": [
    "pmf_goals.bar(label=r'Poisson distribution with $\\lambda=1.4$')\n",
    "\n",
    "decorate_goals('Distribution of goals scored')"
   ]
  },
  {
   "cell_type": "markdown",
   "id": "67779a8d",
   "metadata": {},
   "source": [
    "I valori più probabili sono 0,1 e 2 valori più alti sono possibili ma sono sempre più improbabili.\n",
    "Valori sopra 7 sono trascurabili, questa distribuzione mostra che se conosciamo il rapporto dei goal, possiamo fare previsioni sul numero di goal segnati.\n",
    "\n",
    "Ora giriamo il problema: dato il numero di goal, cosa possiamo dire circa il rapporto dei goal segnati?\n",
    "Per rispondere a questo, abbiamo bisogno di pensare circa la distribuzione a priori `lam`, che rappresenta la gamma dei possibili valori e delle possibili probabilità prima di vedere il punteggio.\n",
    "\n",
    "## La distribuzione Gamma\n",
    "\n",
    "Se hai mai visto una partita di calcio, hai qualche informazioni circa `lam`. Nella maggior parte delle partite le squadre segnano qualche goal ciascuna. In rari casi, le squadre segnano più di 5  goal, ma raramente vengono segnati più di 10 goal.\n",
    "\n",
    "Usando i dati delle [passate coppe del mondo](https://www.statista.com/statistics/269031/goals-scored-per-game-at-the-fifa-world-cup-since-1930/), Stimiamo che ogni team segna circa 1.4 goal per partita in media. Dunque abbiamo impostato il parametro \n",
    "`lam` a 1.4.\n",
    "\n",
    "Questo valora può cambiare in quanto se giochiamo con una squadra pessima `lam` avrà certamente un valore più alto.Mentre se ci scontriamo con una squadra più forte ci aspettiamo che questo valore sia più basso.\n",
    "\n",
    "Per modellare la distribuzione del tasso dei goal, useremo la [distribuzione gamma](https://en.wikipedia.org/wiki/Gamma_distribution), l'abbiamo scelta in quanto:\n",
    "\n",
    "1. Il tasso di goal è continuo e non negativo, la distribuzione gamma è appropriata per questo tipo di quantità.\n",
    "2. La distribuzione gamma ha solo un parametro, `alpha`, che rappresenta la media. Dunque è facile costruire una distribuzione gamma con la media che vogliamo.\n",
    "3. Come vedremo, la forma della distribuzione gamma è una scelta ragionabile, dato quello che sappiamo circa il calcio.\n",
    "\n",
    "C'è anche un motivo in più che vedremo più avanti.\n",
    "\n",
    "Scipy ci fornisce `gamma`, che crea un oggetto che rappresenta la distribuzione gamma.\n",
    "Tale oggetto ci da anche la funzione `pdf`, che calcola la **funzione della densità di probabilità** (PDF) della distribuzione gamma.\n",
    "\n",
    "Qui un esempio."
   ]
  },
  {
   "cell_type": "code",
   "execution_count": 8,
   "id": "b3b016a5",
   "metadata": {},
   "outputs": [],
   "source": [
    "from scipy.stats import gamma\n",
    "\n",
    "alpha = 1.4\n",
    "qs = np.linspace(0, 10, 101)\n",
    "ps = gamma(alpha).pdf(qs)"
   ]
  },
  {
   "cell_type": "markdown",
   "id": "201fecad",
   "metadata": {},
   "source": [
    "Il parametro,  `alpha`, è la media della distribuzione.\n",
    "La variabile `qs` rappresenta i possibili valori di `lam` tra 0 e 10.\n",
    "Mentre `ps` rappresenta la **densità della probabilità** che possiamo pensare come delle probabilità non normalizzate.\n",
    "Per normalizzarle possiamo mettere questi valori in in oggetto `Pmf` e chiamare la funzione `normalize`:"
   ]
  },
  {
   "cell_type": "code",
   "execution_count": 9,
   "id": "267698c1",
   "metadata": {},
   "outputs": [
    {
     "data": {
      "text/plain": [
       "9.889360237140306"
      ]
     },
     "execution_count": 9,
     "metadata": {},
     "output_type": "execute_result"
    }
   ],
   "source": [
    "from distribution import Pmf\n",
    "\n",
    "prior = Pmf(ps, qs)\n",
    "prior.normalize()"
   ]
  },
  {
   "cell_type": "markdown",
   "id": "c0802e92",
   "metadata": {},
   "source": [
    "Il risultato è una approssimazione discreta della distribuzione gamma."
   ]
  },
  {
   "cell_type": "code",
   "execution_count": 10,
   "id": "92390c02",
   "metadata": {},
   "outputs": [],
   "source": [
    "def decorate_rate(title=''):\n",
    "    decorate(xlabel='Goal scoring rate (lam)',\n",
    "        ylabel='PMF',\n",
    "        title=title)"
   ]
  },
  {
   "cell_type": "code",
   "execution_count": 11,
   "id": "eb883aed",
   "metadata": {},
   "outputs": [
    {
     "data": {
      "image/png": "[encoded data removed]",
      "text/plain": [
       "<Figure size 432x288 with 1 Axes>"
      ]
     },
     "metadata": {
      "needs_background": "light"
     },
     "output_type": "display_data"
    }
   ],
   "source": [
    "prior.plot(style='--', label='prior', color='C5')\n",
    "decorate_rate(r'Prior distribution of $\\lambda$')"
   ]
  },
  {
   "cell_type": "markdown",
   "id": "abe2fb06",
   "metadata": {},
   "source": [
    "Questa distribuzione rappresenta la nostra conoscenza a priori circa il rapporto \n",
    "\n",
    "Questa distribuzione rappresenta la nostra conoscenza a priori circa i goal segnati: `lam` è di solito meno di 2 e occasionalmente più alto di 6 e raramente superiore a quel valore."
   ]
  },
  {
   "cell_type": "code",
   "execution_count": 12,
   "id": "f8600b64",
   "metadata": {},
   "outputs": [
    {
     "data": {
      "text/plain": [
       "1.4140818156118378"
      ]
     },
     "execution_count": 12,
     "metadata": {},
     "output_type": "execute_result"
    }
   ],
   "source": [
    "prior.mean()"
   ]
  },
  {
   "cell_type": "markdown",
   "id": "3d336566",
   "metadata": {},
   "source": [
    "Confermiamo che la media della distribuzione è circa 1.4.\n",
    "\n",
    "Come al solito, delle persone potrebbero non essere d'accordo circa il dettaglio della distribuzione, ma questo è utile per iniziare. Facciamo un aggiornamento.\n",
    "\n",
    "## L'aggiornamento\n",
    "\n",
    "Supponiamo che ti venga dato la rapporto, $\\lambda$, ci viene chiesto di calcola la probabilità di segnare un numero di goal, $k$.\n",
    "\n",
    "Questo è esattamente la domanda a cui abbiamo risposto calcolando il PMF della distribuzione di Poisson.\n",
    "Per esempio, se $\\lambda$ è 1.4, la probabilità di segnare 4 goal in una partita è:"
   ]
  },
  {
   "cell_type": "code",
   "execution_count": 13,
   "id": "44572050",
   "metadata": {},
   "outputs": [
    {
     "data": {
      "text/plain": [
       "0.039471954028253146"
      ]
     },
     "execution_count": 13,
     "metadata": {},
     "output_type": "execute_result"
    }
   ],
   "source": [
    "lam = 1.4\n",
    "k = 4\n",
    "poisson(lam).pmf(k)"
   ]
  },
  {
   "cell_type": "markdown",
   "id": "f5301ee9",
   "metadata": {},
   "source": [
    "Ora supponiamo che di avere un array di possibili valori di $\\lambda$; possiamo calcolare i valori della verosomiglianza dei dati per ogni valore ipotetico di `lam`, come questo:"
   ]
  },
  {
   "cell_type": "code",
   "execution_count": 14,
   "id": "ba4608e5",
   "metadata": {},
   "outputs": [],
   "source": [
    "lams = prior.qs\n",
    "k = 4\n",
    "likelihood = poisson(lams).pmf(k)"
   ]
  },
  {
   "cell_type": "markdown",
   "id": "096bb469",
   "metadata": {},
   "source": [
    "E questo e quello di cui abbiamo bisogono.\n",
    "Per ottenere la distribuzione a posteriori, possiamo moltiplicare la distribuzione a priori con la verosomiglianza che abbiamo calcolato e la normalizziamo.\n",
    "\n",
    "La seguente funzione unisce tutti i passi."
   ]
  },
  {
   "cell_type": "code",
   "execution_count": 15,
   "id": "449f843e",
   "metadata": {},
   "outputs": [],
   "source": [
    "def update_poisson(pmf, data):\n",
    "    \"\"\"Update Pmf with a Poisson likelihood.\"\"\"\n",
    "    k = data\n",
    "    lams = pmf.qs\n",
    "    likelihood = poisson(lams).pmf(k)\n",
    "    pmf *= likelihood\n",
    "    pmf.normalize()"
   ]
  },
  {
   "cell_type": "markdown",
   "id": "68510e44",
   "metadata": {},
   "source": [
    "Il primo parametro è la il priori; il secondo è il numero dei goal.\n",
    "In questo esempio la squadra della Francia ha segnato 4 gol, dunque creeremo una copia della distribuzione a priori e aggiorneremo con i dati."
   ]
  },
  {
   "cell_type": "code",
   "execution_count": 16,
   "id": "338dcadf",
   "metadata": {},
   "outputs": [],
   "source": [
    "france = prior.copy()\n",
    "update_poisson(france, 4)"
   ]
  },
  {
   "cell_type": "markdown",
   "id": "bea55d9e",
   "metadata": {},
   "source": [
    "Qui la distribuzione a posteriori rispetto a quella a priori."
   ]
  },
  {
   "cell_type": "code",
   "execution_count": 17,
   "id": "101556cb",
   "metadata": {},
   "outputs": [
    {
     "data": {
      "image/png": "[encoded data removed]",
      "text/plain": [
       "<Figure size 432x288 with 1 Axes>"
      ]
     },
     "metadata": {
      "needs_background": "light"
     },
     "output_type": "display_data"
    }
   ],
   "source": [
    "prior.plot(style='--', label='prior', color='C5')\n",
    "france.plot(label='France posterior', color='C3')\n",
    "\n",
    "decorate_rate('Posterior distribution for France')"
   ]
  },
  {
   "cell_type": "markdown",
   "id": "6c0bf678",
   "metadata": {},
   "source": [
    "Il valore `k=4` crea un valore più alto di `lam`, e la distribuzione è spostata verso destra.\n",
    "Facciamo lo stesso con la croazia:"
   ]
  },
  {
   "cell_type": "code",
   "execution_count": 18,
   "id": "bdb6306a",
   "metadata": {},
   "outputs": [],
   "source": [
    "croatia = prior.copy()\n",
    "update_poisson(croatia, 2)"
   ]
  },
  {
   "cell_type": "code",
   "execution_count": 19,
   "id": "6b79846b",
   "metadata": {},
   "outputs": [
    {
     "data": {
      "image/png": "[encoded data removed]",
      "text/plain": [
       "<Figure size 432x288 with 1 Axes>"
      ]
     },
     "metadata": {
      "needs_background": "light"
     },
     "output_type": "display_data"
    }
   ],
   "source": [
    "prior.plot(style='--', label='prior', color='C5')\n",
    "croatia.plot(label='Croatia posterior', color='C0')\n",
    "\n",
    "decorate_rate('Posterior distribution for Croatia')"
   ]
  },
  {
   "cell_type": "markdown",
   "id": "f04978da",
   "metadata": {},
   "source": [
    "Qui la media a posteriori delle distribuzioni."
   ]
  },
  {
   "cell_type": "code",
   "execution_count": 20,
   "id": "5f9e0203",
   "metadata": {},
   "outputs": [
    {
     "data": {
      "text/plain": [
       "(1.6999765866755225, 2.699772393342308)"
      ]
     },
     "execution_count": 20,
     "metadata": {},
     "output_type": "execute_result"
    }
   ],
   "source": [
    "croatia.mean(), france.mean()"
   ]
  },
  {
   "cell_type": "markdown",
   "id": "651043c6",
   "metadata": {},
   "source": [
    "La media della distribuzione a priori è circa di 1.4.\n",
    "Dopo che la Croazia ha segnato 2 goal, la media a posteriori è di 1.7, che è vicina al punto centrale della distribuzione di partenza.\n",
    "\n",
    "Allo stesso modo dopo che la Francia segna 4 goal, la sua media della distribuzione è 2.7.\n",
    "Questi risultati sono tipici di un aggiornamento Bayesiano, la distribuzione a posteriori è un compromesso tra la distribuzione a priori e i dati.\n",
    "\n",
    "## La probabilità della superiorità\n",
    "\n",
    "Ora abbiamo la distribuione a posteriori per ogni team, possiamo rispondere alla prima domanda: Quanto siamo confidenti che la Francia sia la squadra migliore?\n",
    "\n",
    "In questo modello, \"migliore\" significa avere un tasso di goal più alto dello sfidante. Possiamo usare le distribuzioni a posteriori per calcolare la probabilità che un valore casuale scelto dalla distribuzione della squarda Francese ecceda i valori della Croazia.\n",
    "\n",
    "Un modo per falo e quello di iterare tutte le coppie di valori delle due distribuzioni, sommando la probabilità totale che un valore ecceda l'altro.\n",
    "\n"
   ]
  },
  {
   "cell_type": "code",
   "execution_count": 21,
   "id": "7d99af2a",
   "metadata": {},
   "outputs": [],
   "source": [
    "def prob_gt(pmf1, pmf2):\n",
    "    \"\"\"Compute the probability of superiority.\"\"\"\n",
    "    total = 0\n",
    "    for q1, p1 in pmf1.items():\n",
    "        for q2, p2 in pmf2.items():\n",
    "            if q1 > q2:\n",
    "                total += p1 * p2\n",
    "    return total"
   ]
  },
  {
   "cell_type": "markdown",
   "id": "a5534866",
   "metadata": {},
   "source": [
    "Questo metodo è molto simile a quanto fatto nelle lezioni precedenti"
   ]
  },
  {
   "cell_type": "code",
   "execution_count": 22,
   "id": "1bf4d6bd",
   "metadata": {},
   "outputs": [
    {
     "data": {
      "text/plain": [
       "0.7499366290930155"
      ]
     },
     "execution_count": 22,
     "metadata": {},
     "output_type": "execute_result"
    }
   ],
   "source": [
    "prob_gt(france, croatia)"
   ]
  },
  {
   "cell_type": "markdown",
   "id": "c1d6c552",
   "metadata": {},
   "source": [
    "`Pmf` ha al suo interno una funzione che fa questo lavoro per noi."
   ]
  },
  {
   "cell_type": "code",
   "execution_count": 23,
   "id": "4f806c5b",
   "metadata": {},
   "outputs": [
    {
     "data": {
      "text/plain": [
       "0.7499366290930174"
      ]
     },
     "execution_count": 23,
     "metadata": {},
     "output_type": "execute_result"
    }
   ],
   "source": [
    "Pmf.gt_dist(france, croatia)"
   ]
  },
  {
   "cell_type": "markdown",
   "id": "fe5e7178",
   "metadata": {},
   "source": [
    "I risultati sono leggermente differenti in quanto `Pmf.gt_dist` usa gli operatori su array piuttosto che il ciclo `for`.\n",
    "In entrambre i casi, il risultato è vicino al 75%, Dunque, basandosi su questo gioco, possiamo avere una moderata confidenza che la Francia sia attualmente la squadra migliore.\n",
    "\n",
    "Ovviamente, dobbiamo ricordarci che questo risultato è basato sull'assunto che il tasso di goal sia costante.\n",
    "In realtà, se una squadra è sotto di un goal, potrebbe giocare in modo più aggressivo verso la fine del gioco, rendendo più probabile che segni ma potrebbero anche più propensi a rinunciare a rinunciare.\n",
    "\n",
    "Come sempre, i risultati sono buoni solo per il modello.\n",
    "\n",
    "## Prevedere la rivincita\n",
    "Ora possiamo rispondere alla seconda domanda: Se le stesse squadre giocassero di nuovo quale è la probabilità che la Croazia possa vincere?.\n",
    "\n",
    "Per rispondere a questa domanda, potremo generare la \"Distribuzione a posteriori predittiva\", che è il numero dei goal che ci aspettiamo che un team segni.\n",
    "\n",
    "Se conosciamo il tasso di goal segnati, `lam`, la distribuzione dei goal potrebbe essere una distribuzione di Poisson con il parametro `lam`.\n",
    "\n",
    "Dal momento che non conosciamo il valore `lam`, la distribuzione dei goal è una miscela di distribuzioni di Poisson con differenti valori di `lam`.\n",
    "Per prima cosa generemo una sequenza di `Pmf`, uno per ogni valore di `lam`."
   ]
  },
  {
   "cell_type": "code",
   "execution_count": 24,
   "id": "424f0b03",
   "metadata": {},
   "outputs": [],
   "source": [
    "pmf_seq = [make_poisson_pmf(lam, goals) \n",
    "           for lam in prior.qs]"
   ]
  },
  {
   "cell_type": "markdown",
   "id": "77589d4e",
   "metadata": {},
   "source": [
    "La seguente figura mostra come queste distribuzioni appaiono dopo pochi valori di `lam`."
   ]
  },
  {
   "cell_type": "code",
   "execution_count": 25,
   "id": "14ab1854",
   "metadata": {},
   "outputs": [
    {
     "data": {
      "image/png": "[encoded data removed]",
      "text/plain": [
       "<Figure size 432x288 with 4 Axes>"
      ]
     },
     "metadata": {
      "needs_background": "light"
     },
     "output_type": "display_data"
    }
   ],
   "source": [
    "import matplotlib.pyplot as plt\n",
    "\n",
    "for i, index in enumerate([10, 20, 30, 40]):\n",
    "    plt.subplot(2, 2, i+1)\n",
    "    lam = prior.qs[index]\n",
    "    pmf = pmf_seq[index]\n",
    "    pmf.bar(label=f'$\\lambda$ = {lam}', color='C3')\n",
    "    decorate_goals()"
   ]
  },
  {
   "cell_type": "markdown",
   "id": "222430e3",
   "metadata": {},
   "source": [
    "La distribuzione predittiva è una miscela di questi oggetti `Pmf`, ponderati con le probabilità a posteriori."
   ]
  },
  {
   "cell_type": "code",
   "execution_count": 26,
   "id": "31761bee",
   "metadata": {},
   "outputs": [],
   "source": [
    "from distribution import make_mixture\n",
    "\n",
    "pred_france = make_mixture(france, pmf_seq)"
   ]
  },
  {
   "cell_type": "markdown",
   "id": "d50b58ae",
   "metadata": {},
   "source": [
    "Qui la distribuzione predittiva per il numero di goal Francesi che verrebbero segnati in una rivincita."
   ]
  },
  {
   "cell_type": "code",
   "execution_count": 27,
   "id": "48008423",
   "metadata": {},
   "outputs": [
    {
     "data": {
      "image/png": "[encoded data removed]",
      "text/plain": [
       "<Figure size 432x288 with 1 Axes>"
      ]
     },
     "metadata": {
      "needs_background": "light"
     },
     "output_type": "display_data"
    }
   ],
   "source": [
    "pred_france.bar(color='C3', label='France')\n",
    "decorate_goals('Posterior predictive distribution')"
   ]
  },
  {
   "cell_type": "markdown",
   "id": "aabfe9fb",
   "metadata": {},
   "source": [
    "Questa distribuzione rappresenta due sorgenti di incertezze: non conosciamo il valore attuale di `lam`, e anche se lo facessimo non conosceremmo il numero di goal segnati nel prossimo gioco.\n",
    "\n",
    "Qui la distribuzione predittiva della Croazia."
   ]
  },
  {
   "cell_type": "code",
   "execution_count": 28,
   "id": "0bf48df1",
   "metadata": {},
   "outputs": [],
   "source": [
    "pred_croatia = make_mixture(croatia, pmf_seq)"
   ]
  },
  {
   "cell_type": "code",
   "execution_count": 29,
   "id": "198748b8",
   "metadata": {},
   "outputs": [
    {
     "data": {
      "image/png": "[encoded data removed]",
      "text/plain": [
       "<Figure size 432x288 with 1 Axes>"
      ]
     },
     "metadata": {
      "needs_background": "light"
     },
     "output_type": "display_data"
    }
   ],
   "source": [
    "pred_croatia.bar(color='C0', label='Croatia')\n",
    "decorate_goals('Posterior predictive distribution')"
   ]
  },
  {
   "cell_type": "markdown",
   "id": "97462d98",
   "metadata": {},
   "source": [
    "Possiamo usare queste distribuzioni per calcolare la probabilità che la Francia vinca, perda o pareggi lo scontro."
   ]
  },
  {
   "cell_type": "code",
   "execution_count": 30,
   "id": "77602e6b",
   "metadata": {},
   "outputs": [
    {
     "data": {
      "text/plain": [
       "0.5703522415934519"
      ]
     },
     "execution_count": 30,
     "metadata": {},
     "output_type": "execute_result"
    }
   ],
   "source": [
    "win = Pmf.gt_dist(pred_france, pred_croatia)\n",
    "win"
   ]
  },
  {
   "cell_type": "code",
   "execution_count": 31,
   "id": "f49a868e",
   "metadata": {},
   "outputs": [
    {
     "data": {
      "text/plain": [
       "0.26443376257235873"
      ]
     },
     "execution_count": 31,
     "metadata": {},
     "output_type": "execute_result"
    }
   ],
   "source": [
    "lose = Pmf.lt_dist(pred_france, pred_croatia)\n",
    "lose"
   ]
  },
  {
   "cell_type": "code",
   "execution_count": 32,
   "id": "732d1a46",
   "metadata": {},
   "outputs": [
    {
     "data": {
      "text/plain": [
       "0.16521399583418947"
      ]
     },
     "execution_count": 32,
     "metadata": {},
     "output_type": "execute_result"
    }
   ],
   "source": [
    "tie = Pmf.eq_dist(pred_france, pred_croatia)\n",
    "tie"
   ]
  },
  {
   "cell_type": "markdown",
   "id": "08738b45",
   "metadata": {},
   "source": [
    "Assumendo che la Franche vinca metà dei pareggi, le possibilità di vittoria della rivincita è circa del 65%."
   ]
  },
  {
   "cell_type": "code",
   "execution_count": 33,
   "id": "bc756f97",
   "metadata": {},
   "outputs": [
    {
     "data": {
      "text/plain": [
       "0.6529592395105466"
      ]
     },
     "execution_count": 33,
     "metadata": {},
     "output_type": "execute_result"
    }
   ],
   "source": [
    "win + tie/2"
   ]
  },
  {
   "cell_type": "markdown",
   "id": "ed6dc3cf",
   "metadata": {},
   "source": [
    "Questa è leggermente inferiore della probabilità di superiorità che è del 75%.\n",
    "E questo ha senso, in quanto c'è meno certezza circa il risultato di una singola partita che circa il tasso dei gol segnati.\n",
    "Anche se la Francia è una squadra migliore, potrebbe perdere la partita.\n",
    "\n",
    "## La distribuzione Esponenziale\n",
    "Come esercizio alla fine di questo notebook, avremo una possibilità do lavorare alla seguente variante del problema della coppa del mondo:\n",
    "\n",
    ">Nel 2014 durante la coppa del mondo, La Germania giocò contro il Brasile nelle semifinali. La Germania segno dopo 11 minuti e ancora dopo 23 minuti. A questo punto della partita, quanti goal ci si aspetta che la Germania abbia segnato dopo 90 minuti? Quale è la probabilità che tale squadra segni 5 punti (come alla fine è successo)? \n",
    "\n",
    "In questa versione, non siamo interessati al numero di goal in tempo prefissato ma il tempo che passa tra un goal e l'altro.\n",
    "Per calcolare la verosomiglianza di un dato come questo possiamo sfruttare nuovamente la teoria dei processi di Poisson. Se ogni squadra ha un tasso di goal costande, ci aspettiamo che che i goal vengano segnati con una distanza di tempo che seguono la [distribuzione esponenziale](https://en.wikipedia.org/wiki/Exponential_distribution).\n",
    "\n",
    "Se il rapporto dei goal segnati è $\\lambda$, la probabilità di osservare un intervallo tra i goal $t$ è proporzionale alla PDF della distribuzione esponenziale:\n",
    "\n",
    "$$\\lambda \\exp(-\\lambda t)$$\n",
    "\n",
    "Siccome $t$ è una quantità continua, il valor di questa espressione non è una probabilità; è una densità di probabilità.\n",
    "Comunque è proporzionale alla probabilità del dato, dunque possiamo usare la verosomiglianza in un aggiornamento Bayesiano.\n",
    "\n",
    "SciPy fornisce la funzione  `expon`, che crea un oggetto che rappresenta la distribuzione esponenziale.\n",
    "Comunque, questa non usa il parametro `lam` nel modo in cui si aspetterebbe, il che rende difficile lavorarci.\n",
    "Visto che il PDF di una distribuzione esponenziale è facile da calcolare useremo una nostra funzione."
   ]
  },
  {
   "cell_type": "code",
   "execution_count": 34,
   "id": "3082792c",
   "metadata": {},
   "outputs": [],
   "source": [
    "def expo_pdf(t, lam):\n",
    "    \"\"\"Compute the PDF of the exponential distribution.\"\"\"\n",
    "    return lam * np.exp(-lam * t)"
   ]
  },
  {
   "cell_type": "markdown",
   "id": "5e1155e3",
   "metadata": {},
   "source": [
    "Per vedere come una distribuzione esponenziale assomigli, assumiamo ancora che il parametro `lam` sia 1.4; possiamo calcolare la distribuzione di $t$ in questo modo:"
   ]
  },
  {
   "cell_type": "code",
   "execution_count": 35,
   "id": "c5ff5553",
   "metadata": {},
   "outputs": [
    {
     "data": {
      "text/plain": [
       "25.616650745459093"
      ]
     },
     "execution_count": 35,
     "metadata": {},
     "output_type": "execute_result"
    }
   ],
   "source": [
    "lam = 1.4\n",
    "qs = np.linspace(0, 4, 101)\n",
    "ps = expo_pdf(qs, lam)\n",
    "pmf_time = Pmf(ps, qs)\n",
    "pmf_time.normalize()"
   ]
  },
  {
   "cell_type": "code",
   "execution_count": 36,
   "id": "98f4d096",
   "metadata": {},
   "outputs": [],
   "source": [
    "def decorate_time(title=''):\n",
    "    decorate(xlabel='Time between goals (games)',\n",
    "             ylabel='PMF',\n",
    "             title=title)"
   ]
  },
  {
   "cell_type": "code",
   "execution_count": 37,
   "id": "fb70ec60",
   "metadata": {},
   "outputs": [
    {
     "data": {
      "image/png": "[encoded data removed]",
      "text/plain": [
       "<Figure size 432x288 with 1 Axes>"
      ]
     },
     "metadata": {
      "needs_background": "light"
     },
     "output_type": "display_data"
    }
   ],
   "source": [
    "pmf_time.plot(label='exponential with $\\lambda$ = 1.4')\n",
    "\n",
    "decorate_time('Distribution of time between goals')"
   ]
  },
  {
   "cell_type": "markdown",
   "id": "23af673a",
   "metadata": {},
   "source": [
    "E' controintuitivo ma vero, è molto probabile che il tempo per segnare un goal sia nell'immediato. Dopo questo la probabilità per ogni singolo intervallo è leggermente più piccola.\n",
    "\n",
    "Con un rapporto di goal di 1.4, è possibile che questa squadra segnerà più di un goal per partita, ma è improbabile che servano più di due partite per segnarli.\n",
    "\n",
    "## Summario\n",
    "Questo capitolo introduce tre nuove distribuzioni, dunque potrebbe essere difficile aver capito tutto.\n",
    "Ripassiamo tutto quanto:\n",
    "\n",
    "* Se un sistema soddisfa le assunzioni di un modello di Poisson, il numero di eventi in un periodo di tempo segue la distribuzione di Poisson, che è una distribuzione discreta con delle quantità che vanno da 0 a infinito. Nella pratica possiamo di solito ignorare le basse probabilità sopra un certo limite finito.\n",
    "\n",
    "* Anche sotto il modello di Poisson, l'intervallo tra gli eventi segue una distribuzione esponenziale, che è una distribuzione continua con quantità da 0 a infinito. In quanto continua, essa descrive una funzione di densità di probabilità piuttosto che una funzione PMF. Possiamo usare la distribuzione esponenziale per calcolare la verosomiglianza della verosomiglianza dei dati, possiamo trattare le densita cone delle probabilità non normalizzate. \n",
    "\n",
    "* La distribuzione esponenziale e di poisson sono parametrizzati da un tasso di evento $\\lambda$ o `lam`.\n",
    "\n",
    "* Per la distribuzione a priori di $\\lambda$, Abbiamo usato una distribuzione gamma, che è una distribuzione continua con quantità tra 0 e infinito, l'abbiamo approssimata con una distribuzione discreta. La distribuzione gamma ha un parametro, denotato $\\alpha$ o `alpha` che è anche la sua media.\n",
    "\n",
    "Abbiamo scelto la distribuzione gamma perchè la sua forma è consistente con la nostra conoscenza di fondo circa il tasso di goal segnati.\n",
    "\n",
    "Ci sarebbero altre distribuzioni che potrebbero essere usate; comunque in futuro vedremo che la distribuzione gamma.\n",
    "\n",
    "## Esercizi\n",
    "**Esercizio:** Finiamo l'esercizio che avevamo iniziato:\n",
    ">Nel 2014 durante la coppa del mondo, La Germania giocò con il Brasile la partita della semifinale. La Germania segnò dopo 11 minuti e ancora dopo il 23° minuto. A questo punto della partita quanti goal ci aspettiamo che la Germania segni dopo 90 minuti? Quale è la probabilità che vengano segnati più di 5 goal (come nei fatti è successo)? \n",
    "\n",
    "Qui i passi raccomandati:\n",
    "1. Partendo con la stessa distribuzione gamma che abbiamo usato nel precedente problema, calcoliamo la verosomiglianza di segnare un goal dopo 11 minuti per ogni possibile valore di  `lam`. Non dimenticare di convertire tutti i tempi in gioco anzichè in minuti.\n",
    "\n",
    "2. Calcolare la distribuzione a posteriori di `lam` per la Germania dopo il primo goal.\n",
    "\n",
    "3. Calcolare la verosomiglianza di segnare un altro goal dopo 12 o più minuti e fare un altro aggiornamento. Visualizzare la distribzione a priori, quella a posteriori dopo due goal. \n",
    "\n",
    "4. Calcolare la distribuzione a posteriori predittiva dei goal segnati dalla Germania durante il rimanente tempo di gioco, `90-23` minutes. Nota: puoi pensare come generare i goal predetti in una frazione di gioco.\n",
    "\n",
    "5. Calcolare la probabilità di segnare 5 o più goal nella fase rimanente di gioco."
   ]
  },
  {
   "cell_type": "code",
   "execution_count": 38,
   "id": "b1ca6121",
   "metadata": {},
   "outputs": [],
   "source": [
    "# Solution\n",
    "\n",
    "# Here's a function that updates the distribution of lam\n",
    "# with the given time between goals\n",
    "\n",
    "def update_expo(pmf, data):\n",
    "    \"\"\"Update based on an observed interval\n",
    "    \n",
    "    pmf: prior PMF\n",
    "    data: time between goals in minutes\n",
    "    \"\"\"\n",
    "    t = data / 90\n",
    "    lams = pmf.qs\n",
    "    likelihood = expo_pdf(t, lams)\n",
    "    pmf *= likelihood\n",
    "    pmf.normalize()"
   ]
  },
  {
   "cell_type": "code",
   "execution_count": 39,
   "id": "46343f02",
   "metadata": {},
   "outputs": [],
   "source": [
    "# Solution\n",
    "\n",
    "# Here are the updates for the first and second goals\n",
    "\n",
    "germany = prior.copy()\n",
    "update_expo(germany, 11)\n",
    "\n",
    "germany2 = germany.copy()\n",
    "update_expo(germany2, 12)"
   ]
  },
  {
   "cell_type": "code",
   "execution_count": 40,
   "id": "734461bc",
   "metadata": {},
   "outputs": [
    {
     "data": {
      "text/plain": [
       "(2.1358882653086892, 2.703059034926364)"
      ]
     },
     "execution_count": 40,
     "metadata": {},
     "output_type": "execute_result"
    }
   ],
   "source": [
    "# Solution\n",
    "\n",
    "# Here are the mean values of `lam` after each update\n",
    "\n",
    "germany.mean(), germany2.mean()"
   ]
  },
  {
   "cell_type": "code",
   "execution_count": 41,
   "id": "b311b093",
   "metadata": {},
   "outputs": [
    {
     "data": {
      "image/png": "[encoded data removed]",
      "text/plain": [
       "<Figure size 432x288 with 1 Axes>"
      ]
     },
     "metadata": {
      "needs_background": "light"
     },
     "output_type": "display_data"
    }
   ],
   "source": [
    "# Solution\n",
    "\n",
    "# Here's what the posterior distributions look like\n",
    "\n",
    "prior.plot(ls='--', label='prior', color='C5')\n",
    "germany.plot(color='C3', label='Posterior after 1 goal')\n",
    "germany2.plot(color='C16', label='Posterior after 2 goals')\n",
    "\n",
    "decorate_rate('Prior and posterior distributions')"
   ]
  },
  {
   "cell_type": "code",
   "execution_count": 42,
   "id": "4287a1b0",
   "metadata": {},
   "outputs": [],
   "source": [
    "# Solution\n",
    "\n",
    "# Here's the predictive distribution for each possible value of `lam`\n",
    "\n",
    "t = (90-23) / 90\n",
    "\n",
    "pmf_seq = [make_poisson_pmf(lam*t, goals) \n",
    "           for lam in germany2.qs]"
   ]
  },
  {
   "cell_type": "code",
   "execution_count": 43,
   "id": "4d646bed",
   "metadata": {},
   "outputs": [],
   "source": [
    "# Solution\n",
    "\n",
    "# And here's the mixture of predictive distributions,\n",
    "# weighted by the probabilities in the posterior distribution.\n",
    "\n",
    "pred_germany2 = make_mixture(germany2, pmf_seq)"
   ]
  },
  {
   "cell_type": "code",
   "execution_count": 44,
   "id": "aa0971a6",
   "metadata": {},
   "outputs": [
    {
     "data": {
      "text/plain": [
       "0.047109658706113416"
      ]
     },
     "execution_count": 44,
     "metadata": {},
     "output_type": "execute_result"
    }
   ],
   "source": [
    "# Solution\n",
    "\n",
    "# Here's the probability of scoring exactly 5 more goals\n",
    "\n",
    "pred_germany2[5]"
   ]
  },
  {
   "cell_type": "code",
   "execution_count": 47,
   "id": "7a8b6797",
   "metadata": {},
   "outputs": [
    {
     "data": {
      "text/plain": [
       "0.09286200122834538"
      ]
     },
     "execution_count": 47,
     "metadata": {},
     "output_type": "execute_result"
    }
   ],
   "source": [
    "# Solution\n",
    "\n",
    "# And the probability of 5 or more\n",
    "\n",
    "pred_germany2.ge_dist(5)"
   ]
  },
  {
   "cell_type": "code",
   "execution_count": null,
   "id": "4138d0ff",
   "metadata": {},
   "outputs": [],
   "source": []
  }
 ],
 "metadata": {
  "kernelspec": {
   "display_name": "Python 3 (ipykernel)",
   "language": "python",
   "name": "python3"
  },
  "language_info": {
   "codemirror_mode": {
    "name": "ipython",
    "version": 3
   },
   "file_extension": ".py",
   "mimetype": "text/x-python",
   "name": "python",
   "nbconvert_exporter": "python",
   "pygments_lexer": "ipython3",
   "version": "3.9.7"
  }
 },
 "nbformat": 4,
 "nbformat_minor": 5
}
