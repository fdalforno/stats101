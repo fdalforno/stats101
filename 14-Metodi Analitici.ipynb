{
 "cells": [
  {
   "cell_type": "markdown",
   "id": "b7b5b7c3",
   "metadata": {},
   "source": [
    "# Metodi Analitici\n",
    "\n",
    "Abbiamo sempre trattato i metodi computazionali come simulazioni e ricampionamenti ma alcuni problemi che abbiamo risolto hanno soluzioni analitiche che risolvono il problema più velocemente.\n",
    "\n",
    "Presenteremo alcuni di questi metodi e spiegheremo il loro funzionamento. \n",
    "\n",
    "## Distribuzione normale\n",
    "\n",
    "Come esempio di partenza riprendiamo il problema dei gorilla:\n",
    "\n",
    "Supponiamo che tu sia uno scienziato che studia i gorilla nella natura. Abbiamo pesato 9 gorilla e abbiamo trovato che la media del peso del campione $\\overline{x}$ è di 90 Kg con una deviazione standard di 7.5 Kg. Se usassimo $\\overline{x}$  per stimare la media della popolazione quale sarebbe l'errore standard della stima?\n",
    "\n",
    "Per rispondere a questa domanda, dobbiamo campionale la distribuzione di $\\overline{x}$. In passato abbiamo approssimato la distribuzione simulando l'esperimento (i pesi dei 9 gorilla), calcolando $\\overline{x}$ per ogni esperimento simulato e accumulando la distribuzione delle stime.\n",
    "\n",
    "Il risultato è una approssimazione del campione di distribuzione. Poi usiamo il campione di distribuzione per calcolare gli errori standard e gli intervalli di confidenza:\n",
    "\n",
    "1. La deviazione standard della distribuzione campionaria è lo standard error delle stime, che in questo esempio è circa di 2.5 Kg.\n",
    "\n",
    "2. L'intervallo tra il 5° e il 95° percentile del campione di distribuzione è il 90% dell'intervallo di confidenza. Se eseguiamo l'esperimento molte volte, ci aspettiamo che le stime cadano in questo intervallo il 90% del tempo. In questo esempio il 90% dell'intervallo di confidenza è di (86,94) Kg.\n",
    "\n",
    "Ora faremo gli stessi calcoli analiticamente. Partiamo dal fatto che che i pesi delle femmine adulte sono più o meno distribuite normalmente. Le distribuzioni normali hanno due proprietà che le rendono suscettibili per le analisi: sono \"chiuse\" per le trasformazioni lineare e per le addizioni. (Il risultato è ancora una distribuzione normale).\n",
    "Per spiegare cosa significhi serve qualche notazione.\n",
    "\n",
    "Se la distribuzione di una quantità, $X$ è normale con i parametri $\\mu$ e $\\sigma$ \n",
    "$$X \\sim \\mathcal{N} (\\mu, \\sigma^{2})$$\n",
    "\n",
    "Dove il simbolo $\\sim$ significa è distribuito e la lettera $\\mathcal{N}$ significa normale.\n",
    "Una trasformazione lineare di $X$ è  $X' = aX + b$ dove $a$ e $b$ sono numeri reali.\n",
    "Una famiglia di distribuzioni è chiusa sulle trasformazini lineari se $X'$ è nella stessa famiglia di $X$\n",
    "\n",
    "La distribuzione normale ha questa proprietà se $X \\sim \\mathcal{N} (\\mu, \\sigma^{2})$ allora:\n",
    "\n",
    "$$X' \\sim \\mathcal{N} (a \\mu + b, a^{2} \\sigma^2)$$\n",
    "\n",
    "Le distribuzioni normali sono anche chiuse sulla addizione. Se $Z = X + Y$ con $X \\sim \\mathcal{N} (\\mu_{x}, \\sigma^2_{x})$ e $Y \\sim \\mathcal{N} (\\mu_{y}, \\sigma^2_{y})$ allora \n",
    "\n",
    "$$Z \\sim \\mathcal{N}(\\mu_X + \\mu_Y, \\sigma_X^2 + \\sigma_Y^2)$$\n",
    "\n",
    "Nel caso speciale $Z = X + X$\n",
    "\n",
    "$$Z \\sim \\mathcal{N}(2\\mu_X, 2\\sigma_X^2)$$\n",
    "\n",
    "In generale se calcoliamo $n$ valori di $X$\n",
    "\n",
    "$$Z \\sim \\mathcal{N} (n \\mu_X, n \\sigma_X^2)$$\n",
    "\n",
    "## Campionare le distribuzioni\n",
    "\n"
   ]
  },
  {
   "cell_type": "code",
   "execution_count": null,
   "id": "aa59c3bf",
   "metadata": {},
   "outputs": [],
   "source": []
  }
 ],
 "metadata": {
  "kernelspec": {
   "display_name": "Python 3 (ipykernel)",
   "language": "python",
   "name": "python3"
  },
  "language_info": {
   "codemirror_mode": {
    "name": "ipython",
    "version": 3
   },
   "file_extension": ".py",
   "mimetype": "text/x-python",
   "name": "python",
   "nbconvert_exporter": "python",
   "pygments_lexer": "ipython3",
   "version": "3.9.7"
  }
 },
 "nbformat": 4,
 "nbformat_minor": 5
}
