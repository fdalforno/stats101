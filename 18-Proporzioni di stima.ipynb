{
 "cells": [
  {
   "cell_type": "code",
   "execution_count": 1,
   "id": "fd8667b1",
   "metadata": {},
   "outputs": [],
   "source": [
    "from utils import set_pyplot_params\n",
    "set_pyplot_params()"
   ]
  },
  {
   "cell_type": "markdown",
   "id": "4161634e",
   "metadata": {},
   "source": [
    "Nel capitolo precedente abbiamo risolto il problema delle 101 tazze, è come si è visto non si tratta di indovinare da quale tazza il biscotto proviene, si tratta di stimare le proporzioni.\n",
    "\n",
    "In questo capitolo, facciamo un altro passo in avanti verso la statistica Bayesiana per risolvere il problema dell'Euro.\n",
    "Partiremo con la stessa distribuzione a priori, e vedremo che l'aggiornamente è lo stesso, matematicamente parlando. Ma sosterrò che è un problema differente, filosoficamente e useremo questo per introdurre due elementi chiave della statistica Bayesiana:\n",
    "\n",
    "* Scegliere la distribuzione a priori\n",
    "* Usare la probabilità per rappresentare l'incognito.\n",
    "\n",
    "## Il problema dell'euro\n",
    "\n",
    "Le libro *Information Theory, Inference, and Learning Algorithms*, David MacKay pone questo problema:\n",
    "Una affermazione statistica è apparsa sul *The Guardian* Venerdì 4 gennaio del 2002:\n",
    "\n",
    "> Quando facciamo girare sul filo una moneta da un Euro Belga 250 volte otteniamo 140 volte testa e 110 volte coda. 'Sembra molto sospetto per me' disse Barry Blight, docente di statistica alla London School of Economics.\n",
    "'Se la moneta fosse imparziale, la probabilità di ottenere un risultato così estremo sarebbe del 7%.'\n",
    "\n",
    "\"Ma come chiede MacKay con questi dati ci danno evidenza che la moneta è truccata piuttosto che giusta?\"\n",
    "\n",
    "Per rispondere a questa domanda, procederemo in due passi.\n",
    "Primo useremo la distribuzione binomiale per vedere da dove proviene quel 7%; poi usereremo il teorema di Bayes per stimare la probabilità che questa moneta esca testa.\n",
    "\n",
    "## La Distribuzione binomiale\n",
    "Supponiamo ti dica che la moneta sia \"giusta\", così è, la probabilità di testa è 50%. Se la lanciamo due volte possiamo ottenere 4 risultati: `HH`, `HT`, `TH` e `TT`. Tutte e 4 le combinazioni hanno la stessa probabilità, 25%\n",
    "\n",
    "Se sommiamo il numero totale delle teste, ci sono tre possibili risultati: 0,1 o 2. Le probabilità di 0 e 2 sono del 25%, 1/4.\n",
    "Mentre la probabilità di 1 è 50% 2/4.\n",
    "\n",
    "Più generalmente, supponiamo che la probabilità di testa sia $p$ e di far girare la moneta $n$ volte.\n",
    "La probabilità di ottenere un numero totale $k$ di teste è dato dalla [distribuzione binomiale](https://en.wikipedia.org/wiki/Binomial_distribution):\n",
    "\n",
    "$$\\binom{n}{k} p^k (1-p)^{n-k}$$\n",
    "\n",
    "per ogni valore $k$ da 0 a $n$ inclusi.\n",
    "Il termine $\\binom{n}{k}$ è il [coefficiente binomiale](https://en.wikipedia.org/wiki/Binomial_coefficient) e di solito si pronuncia \"n scelto k\".  \n",
    "\n",
    "$$\\binom{n}{k} = \\frac{n!}{k!(n-k)!}$$\n",
    "\n",
    "Possiamo valutare questa espressione da soli, ma possiamo usare la funzione di SciPy `binom.pmf`.\n",
    "Per esempio, se landiamo una moneta `n=2` volte e la probabilità di avere testa è `p=0.5`, la probabilità di otterenere `k=1` testa:"
   ]
  },
  {
   "cell_type": "markdown",
   "id": "42cc75c6",
   "metadata": {},
   "source": [
    "from scipy.stats import binom\n",
    "\n",
    "n = 2\n",
    "p = 0.5\n",
    "k = 1\n",
    "\n",
    "binom.pmf(k, n, p)"
   ]
  },
  {
   "cell_type": "markdown",
   "id": "347bb739",
   "metadata": {},
   "source": [
    "Invece di usare un singolo valore di `k`, possiamo usare `binom.pmf` con un array di valori."
   ]
  },
  {
   "cell_type": "code",
   "execution_count": 3,
   "id": "953e7282",
   "metadata": {},
   "outputs": [
    {
     "data": {
      "text/plain": [
       "array([0.25, 0.5 , 0.25])"
      ]
     },
     "execution_count": 3,
     "metadata": {},
     "output_type": "execute_result"
    }
   ],
   "source": [
    "import numpy as np\n",
    "ks = np.arange(n+1)\n",
    "\n",
    "ps = binom.pmf(ks, n, p)\n",
    "ps"
   ]
  },
  {
   "cell_type": "markdown",
   "id": "761f2a98",
   "metadata": {},
   "source": [
    "Il risultato è un array Numpy con la probabilità di 0,1 o 2 teste. se mettiamo queste probabilità in un oggetto `Pmf` il risultato sarà la distribuzione di k per i valori di n e p.\n",
    "\n",
    "Vediamo il risultato:"
   ]
  },
  {
   "cell_type": "code",
   "execution_count": 4,
   "id": "d7bf9a7c",
   "metadata": {},
   "outputs": [
    {
     "data": {
      "text/html": [
       "<div>\n",
       "<style scoped>\n",
       "    .dataframe tbody tr th:only-of-type {\n",
       "        vertical-align: middle;\n",
       "    }\n",
       "\n",
       "    .dataframe tbody tr th {\n",
       "        vertical-align: top;\n",
       "    }\n",
       "\n",
       "    .dataframe thead th {\n",
       "        text-align: right;\n",
       "    }\n",
       "</style>\n",
       "<table border=\"1\" class=\"dataframe\">\n",
       "  <thead>\n",
       "    <tr style=\"text-align: right;\">\n",
       "      <th></th>\n",
       "      <th>probs</th>\n",
       "    </tr>\n",
       "  </thead>\n",
       "  <tbody>\n",
       "    <tr>\n",
       "      <th>0</th>\n",
       "      <td>0.25</td>\n",
       "    </tr>\n",
       "    <tr>\n",
       "      <th>1</th>\n",
       "      <td>0.50</td>\n",
       "    </tr>\n",
       "    <tr>\n",
       "      <th>2</th>\n",
       "      <td>0.25</td>\n",
       "    </tr>\n",
       "  </tbody>\n",
       "</table>\n",
       "</div>"
      ],
      "text/plain": [
       "0    0.25\n",
       "1    0.50\n",
       "2    0.25\n",
       "Name: , dtype: float64"
      ]
     },
     "execution_count": 4,
     "metadata": {},
     "output_type": "execute_result"
    }
   ],
   "source": [
    "from distribution import Pmf\n",
    "\n",
    "pmf_k = Pmf(ps, ks)\n",
    "pmf_k"
   ]
  },
  {
   "cell_type": "markdown",
   "id": "ce670d9c",
   "metadata": {},
   "source": [
    "La seguente funzione calcola la distribuzione binomiale per un valore di `n` e `p` e ritorna un oggetto `Pmf` che rappresenta il risultato."
   ]
  },
  {
   "cell_type": "code",
   "execution_count": 5,
   "id": "1bd6726c",
   "metadata": {},
   "outputs": [],
   "source": [
    "def make_binomial(n, p):\n",
    "    \"\"\"Make a binomial Pmf.\"\"\"\n",
    "    ks = np.arange(n+1)\n",
    "    ps = binom.pmf(ks, n, p)\n",
    "    return Pmf(ps, ks)"
   ]
  },
  {
   "cell_type": "markdown",
   "id": "fb3f6711",
   "metadata": {},
   "source": [
    "Qui il risultato con `n=250` e `p=0.5`:"
   ]
  },
  {
   "cell_type": "code",
   "execution_count": 6,
   "id": "6e53491f",
   "metadata": {},
   "outputs": [],
   "source": [
    "pmf_k = make_binomial(n=250, p=0.5)"
   ]
  },
  {
   "cell_type": "code",
   "execution_count": 7,
   "id": "9e85c3f6",
   "metadata": {},
   "outputs": [
    {
     "data": {
      "image/png": "[encoded data removed]",
      "text/plain": [
       "<Figure size 432x288 with 1 Axes>"
      ]
     },
     "metadata": {
      "needs_background": "light"
     },
     "output_type": "display_data"
    }
   ],
   "source": [
    "from utils import decorate\n",
    "\n",
    "pmf_k.plot(label='n=250, p=0.5')\n",
    "\n",
    "decorate(xlabel='Number of heads (k)',\n",
    "         ylabel='PMF',\n",
    "         title='Binomial distribution')"
   ]
  },
  {
   "cell_type": "markdown",
   "id": "30e2fef2",
   "metadata": {},
   "source": [
    "La quantità più probabile della distribuzione è 125:"
   ]
  },
  {
   "cell_type": "code",
   "execution_count": 8,
   "id": "bcb26833",
   "metadata": {},
   "outputs": [
    {
     "data": {
      "text/plain": [
       "125"
      ]
     },
     "execution_count": 8,
     "metadata": {},
     "output_type": "execute_result"
    }
   ],
   "source": [
    "pmf_k.max_prob()"
   ]
  },
  {
   "cell_type": "markdown",
   "id": "fa0c5aa3",
   "metadata": {},
   "source": [
    "Ma sebbene questa sia la quantità più probabile, la probabilità che otteniamo con il valore di 125 teste è di circa il 5%"
   ]
  },
  {
   "cell_type": "code",
   "execution_count": 9,
   "id": "80ee1d85",
   "metadata": {},
   "outputs": [
    {
     "data": {
      "text/plain": [
       "0.050412213147309655"
      ]
     },
     "execution_count": 9,
     "metadata": {},
     "output_type": "execute_result"
    }
   ],
   "source": [
    "pmf_k[125]"
   ]
  },
  {
   "cell_type": "markdown",
   "id": "578171ad",
   "metadata": {},
   "source": [
    "Nell'esempio di MacKay otteniamo 140 teste, che è meno probabile di 125:"
   ]
  },
  {
   "cell_type": "code",
   "execution_count": 12,
   "id": "0f8c4504",
   "metadata": {},
   "outputs": [
    {
     "data": {
      "text/plain": [
       "0.008357181724918204"
      ]
     },
     "execution_count": 12,
     "metadata": {},
     "output_type": "execute_result"
    }
   ],
   "source": [
    "pmf_k[140]"
   ]
  },
  {
   "cell_type": "markdown",
   "id": "82c77a1d",
   "metadata": {},
   "source": [
    "Nell'articolo MacKay cita, gli statistici dicono \"Se la moneta non è truccata la probabilità di ottenere un risultato estremo come questo dovrebbe essere meno del 7%\".\n",
    "\n",
    "Possiamo usare la distribuzione binomiale per controllare questo matematicamente.\n",
    "La funzione seguente prende un PMF e calcola la probabilità totale di una quantita di essere maggiore o uguale al `threshold`. "
   ]
  },
  {
   "cell_type": "code",
   "execution_count": 13,
   "id": "872f37bc",
   "metadata": {},
   "outputs": [],
   "source": [
    "def prob_ge(pmf, threshold):\n",
    "    \"\"\"Probability of quantities greater than threshold.\"\"\"\n",
    "    ge = (pmf.qs >= threshold)\n",
    "    total = pmf[ge].sum()\n",
    "    return total"
   ]
  },
  {
   "cell_type": "markdown",
   "id": "fc70a0aa",
   "metadata": {},
   "source": [
    "qui la probabilità di ottenere 140 teste o più:"
   ]
  },
  {
   "cell_type": "code",
   "execution_count": 14,
   "id": "69999ca8",
   "metadata": {},
   "outputs": [
    {
     "data": {
      "text/plain": [
       "0.03321057562002164"
      ]
     },
     "execution_count": 14,
     "metadata": {},
     "output_type": "execute_result"
    }
   ],
   "source": [
    "prob_ge(pmf_k, 140)"
   ]
  },
  {
   "cell_type": "markdown",
   "id": "34f2e3de",
   "metadata": {},
   "source": [
    "`Pmf` fornisce un metodo per fare lo stesso calcolo."
   ]
  },
  {
   "cell_type": "code",
   "execution_count": 16,
   "id": "380fb9e1",
   "metadata": {},
   "outputs": [
    {
     "data": {
      "text/plain": [
       "0.03321057562002164"
      ]
     },
     "execution_count": 16,
     "metadata": {},
     "output_type": "execute_result"
    }
   ],
   "source": [
    "pmf_k.ge_dist(140)"
   ]
  },
  {
   "cell_type": "code",
   "execution_count": null,
   "id": "9db72c17",
   "metadata": {},
   "outputs": [],
   "source": []
  }
 ],
 "metadata": {
  "kernelspec": {
   "display_name": "Python 3 (ipykernel)",
   "language": "python",
   "name": "python3"
  },
  "language_info": {
   "codemirror_mode": {
    "name": "ipython",
    "version": 3
   },
   "file_extension": ".py",
   "mimetype": "text/x-python",
   "name": "python",
   "nbconvert_exporter": "python",
   "pygments_lexer": "ipython3",
   "version": "3.9.7"
  }
 },
 "nbformat": 4,
 "nbformat_minor": 5
}
