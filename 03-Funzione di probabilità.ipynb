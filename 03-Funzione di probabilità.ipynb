{
 "cells": [
  {
   "cell_type": "markdown",
   "id": "a21598db",
   "metadata": {},
   "source": [
    "# Funzione di probabilità\n",
    "\n",
    "Un altro modo per rappresentare una distribuzione è tramite  la funzione di probabiltià (probability mass function), che mappa ogni valore nella sua probabilità.\n",
    "\n",
    "La **probabilità** è la frequenza espressa in frazione del campione *n*. Per ottenere dalla frequenza la probabilità si divide la stessa per il valore n, questo è anche chiamato **normalizzazione**.\n",
    "\n",
    "Riprendiamo l'esempio del capitolo precedente vedere il risultato"
   ]
  },
  {
   "cell_type": "code",
   "execution_count": 2,
   "id": "8bda8b9a",
   "metadata": {},
   "outputs": [],
   "source": [
    "t = [1,2,2,3,5]"
   ]
  },
  {
   "cell_type": "code",
   "execution_count": 3,
   "id": "3a322ef6",
   "metadata": {},
   "outputs": [
    {
     "data": {
      "text/plain": [
       "{1: 1, 2: 2, 3: 1, 5: 1}"
      ]
     },
     "execution_count": 3,
     "metadata": {},
     "output_type": "execute_result"
    }
   ],
   "source": [
    "hist = {}\n",
    "for x in t:\n",
    "    hist[x] = hist.get(x,0) + 1\n",
    "\n",
    "hist"
   ]
  },
  {
   "cell_type": "code",
   "execution_count": 4,
   "id": "a2ac0b4d",
   "metadata": {},
   "outputs": [
    {
     "data": {
      "text/plain": [
       "{1: 0.2, 2: 0.4, 3: 0.2, 5: 0.2}"
      ]
     },
     "execution_count": 4,
     "metadata": {},
     "output_type": "execute_result"
    }
   ],
   "source": [
    "n = len(t)\n",
    "d = {}\n",
    "for x, freq in hist.items():\n",
    "    d[x] = freq/n\n",
    "\n",
    "d"
   ]
  },
  {
   "cell_type": "markdown",
   "id": "947da556",
   "metadata": {},
   "source": [
    "se sommiamo tutti gli elemento otterremo la probabilità totale con valore 1\n",
    "\n",
    "## Visualizzare le funzioni di probabilità\n",
    "\n",
    "Riprendiamo ora l'analisi del problema visto prima analizzando le distribuzioni della PMF"
   ]
  },
  {
   "cell_type": "code",
   "execution_count": 5,
   "id": "908690b1",
   "metadata": {},
   "outputs": [],
   "source": [
    "from utils import readReadFemPreg\n",
    "\n",
    "preg = readReadFemPreg()\n",
    "live = preg[preg.outcome == 1]\n",
    "\n",
    "firts = live[live.birthord == 1]\n",
    "others = live[live.birthord > 1]"
   ]
  },
  {
   "cell_type": "code",
   "execution_count": 6,
   "id": "20f436be",
   "metadata": {},
   "outputs": [],
   "source": [
    "pfirst  = firts['prglngth'].value_counts(normalize=True).sort_index()\n",
    "pothers = others['prglngth'].value_counts(normalize=True).sort_index()"
   ]
  },
  {
   "cell_type": "code",
   "execution_count": 7,
   "id": "e6ad566b",
   "metadata": {},
   "outputs": [
    {
     "data": {
      "text/plain": [
       "(27.0, 46.0)"
      ]
     },
     "execution_count": 7,
     "metadata": {},
     "output_type": "execute_result"
    },
    {
     "data": {
      "image/png": "[encoded data removed]",
      "text/plain": [
       "<Figure size 432x288 with 1 Axes>"
      ]
     },
     "metadata": {
      "needs_background": "light"
     },
     "output_type": "display_data"
    }
   ],
   "source": [
    "import matplotlib.pyplot as plt\n",
    "import numpy as np\n",
    "width = 0.35\n",
    "\n",
    "\n",
    "fig, ax = plt.subplots()\n",
    "\n",
    "xs = np.arange(50)\n",
    "plt.xticks(xs, xs)\n",
    "\n",
    "ax.bar(pfirst.index - width/2,pfirst.values, width, label='first')\n",
    "ax.bar(pothers.index + width/2,pothers.values, width, label='others')\n",
    "\n",
    "plt.legend(loc='upper right')\n",
    "plt.xlim(27, 46)"
   ]
  },
  {
   "cell_type": "markdown",
   "id": "70a78c5f",
   "metadata": {},
   "source": [
    "Utilizzando la funzione di probabilità possiamo comparare le due distribuzioni senza essere influenzati dalla differenza di dimensione dei campioni, guardando la figura il primo bambino sembra che tenda ad arrivare un pochino dopo tra la 41 esima e la 42 esima settimana.\n",
    "\n",
    "## Altre visualizzazioni"
   ]
  },
  {
   "cell_type": "code",
   "execution_count": 8,
   "id": "43aeaf39",
   "metadata": {},
   "outputs": [
    {
     "data": {
      "image/png": "[encoded data removed]",
      "text/plain": [
       "<Figure size 432x288 with 1 Axes>"
      ]
     },
     "metadata": {
      "needs_background": "light"
     },
     "output_type": "display_data"
    }
   ],
   "source": [
    "start = 35\n",
    "end = 46\n",
    "\n",
    "mask = (pfirst.index >= start) & (pfirst.index <= end)\n",
    "p1 = pfirst[mask]\n",
    "\n",
    "mask = (pothers.index >= start) & (pothers.index <= end)\n",
    "p2 = pothers[mask]\n",
    "\n",
    "diff = 100 * (p1-p2)\n",
    "\n",
    "ax = diff.plot.bar()"
   ]
  },
  {
   "cell_type": "markdown",
   "id": "fc3d4815",
   "metadata": {},
   "source": [
    "## Il paradosso della dimensione della classe\n",
    "\n",
    "Analizziamo un tipo di calcolo che si può fare con la funzione di probabilità. Chiamiamo questo esempio come paradosso della dimensione della classe.\n",
    "\n",
    "In molti molti scuole e università americane il rapporto tra studente e facoltà e circa 10 a 1. Gli studenti però sono sorpresi di scoprire che la media della dimensione della classe del corso è più grande di 10.\n",
    "\n",
    "Ci sono due ragioni per la discrepanza:\n",
    "\n",
    "* Gli studenti tipicamente frequentano 4/5 classi per semestre, ma il professore spesso insegna in una o due\n",
    "* Il numero di studenti che frequentano classi piccole è piccolo e ovvimante il numero di studenti che frequentano classi grandi e ovviamente ... grande\n",
    "\n",
    "Il primo punto è ovvio, il secondo è un pochino più subdolo, facciamo un esempio:\n",
    "\n",
    "Supponiamo che una scuola offra 65 corsi in un determinato semestre con la seguente distribuzione delle dimensioni:\n",
    "\n",
    "| Dimensione  | Numero |\n",
    "|---|---|\n",
    "| 5-9  | 8 |\n",
    "| 10-14  | 8  |\n",
    "| 15-19  | 14  |\n",
    "| 20-24  | 4  |\n",
    "| 25-29  | 6  |\n",
    "| 30-34  | 12  |\n",
    "| 35-39  | 8  |\n",
    "| 40-44  | 3  |\n",
    "| 45-49  | 2  |\n",
    "\n",
    "Se chiediamo al preside la dimensione media di una classe lui calcolerà la media in questo modo:"
   ]
  },
  {
   "cell_type": "code",
   "execution_count": 9,
   "id": "d30a55cb",
   "metadata": {},
   "outputs": [
    {
     "name": "stdout",
     "output_type": "stream",
     "text": [
      "Tot 65\n"
     ]
    },
    {
     "data": {
      "text/plain": [
       "{7: 0.12307692307692308,\n",
       " 12: 0.12307692307692308,\n",
       " 17: 0.2153846153846154,\n",
       " 22: 0.06153846153846154,\n",
       " 27: 0.09230769230769231,\n",
       " 32: 0.18461538461538463,\n",
       " 37: 0.12307692307692308,\n",
       " 42: 0.046153846153846156,\n",
       " 47: 0.03076923076923077}"
      ]
     },
     "execution_count": 9,
     "metadata": {},
     "output_type": "execute_result"
    }
   ],
   "source": [
    "c = {7:8,12:8,17:14,22:4,27:6,32:12,37:8,42:3,47:2}\n",
    "tot = sum(c for x, c in c.items())\n",
    "\n",
    "print(\"Tot {0}\".format(tot))\n",
    "\n",
    "d = {}\n",
    "\n",
    "for x,v in c.items():\n",
    "    d[x] = v / tot\n",
    "\n",
    "d\n"
   ]
  },
  {
   "cell_type": "code",
   "execution_count": 10,
   "id": "be75ed4b",
   "metadata": {},
   "outputs": [
    {
     "name": "stdout",
     "output_type": "stream",
     "text": [
      "mean 23.69\n"
     ]
    }
   ],
   "source": [
    "print(\"mean {0:.2f}\".format(sum(p * x for x, p in d.items())))"
   ]
  },
  {
   "cell_type": "markdown",
   "id": "573b5c84",
   "metadata": {},
   "source": [
    "Se prendiamo dei campioni e calcoliamo la media delle classi ci troveremo un valore ben diverso.\n",
    "\n",
    "Primo calcoliamo la distribuzione osservata dagli studenti dove la probabilità associata ad ogni classe è aggiustata col numero dei studenti in classe"
   ]
  },
  {
   "cell_type": "code",
   "execution_count": 11,
   "id": "55cb1375",
   "metadata": {},
   "outputs": [],
   "source": [
    "def biasPMF(pmf):\n",
    "    p1 = pmf.copy()\n",
    "    \n",
    "    for x,v in p1.items():\n",
    "        p1[x] = v * x\n",
    "    \n",
    "    tot = sum(c for x, c in p1.items())\n",
    "    \n",
    "    for x,v in p1.items():\n",
    "        p1[x] = v / tot\n",
    "    \n",
    "    return p1\n",
    "\n",
    "biased = biasPMF(d)\n",
    "    "
   ]
  },
  {
   "cell_type": "code",
   "execution_count": 12,
   "id": "bcd15009",
   "metadata": {},
   "outputs": [
    {
     "name": "stdout",
     "output_type": "stream",
     "text": [
      "mean 29.12\n"
     ]
    }
   ],
   "source": [
    "print(\"mean {0:.2f}\".format(sum(p * x for x, p in biased.items())))"
   ]
  },
  {
   "cell_type": "code",
   "execution_count": 26,
   "id": "28909ae7",
   "metadata": {},
   "outputs": [
    {
     "data": {
      "text/plain": [
       "<matplotlib.legend.Legend at 0x23f40bba160>"
      ]
     },
     "execution_count": 26,
     "metadata": {},
     "output_type": "execute_result"
    },
    {
     "data": {
      "image/png": "[encoded data removed]",
      "text/plain": [
       "<Figure size 432x288 with 1 Axes>"
      ]
     },
     "metadata": {
      "needs_background": "light"
     },
     "output_type": "display_data"
    }
   ],
   "source": [
    "import matplotlib.pyplot as plt\n",
    "import numpy as np\n",
    "\n",
    "width = 0.4\n",
    "\n",
    "x = np.asarray(list(d.keys()))\n",
    "\n",
    "dvalues = d.values()\n",
    "bvalues = biased.values()\n",
    "\n",
    "fig, ax = plt.subplots()\n",
    "ax.bar(x, dvalues, width, label='actual')\n",
    "ax.bar(x + 0.5, bvalues, width, label='observed')\n",
    "\n",
    "ax.set_ylabel('PMF')\n",
    "ax.set_xlabel('Class Size')\n",
    "\n",
    "\n",
    "plt.xticks(x, x)\n",
    "\n",
    "ax.legend()"
   ]
  },
  {
   "cell_type": "code",
   "execution_count": null,
   "id": "e8d15a96",
   "metadata": {},
   "outputs": [],
   "source": []
  }
 ],
 "metadata": {
  "kernelspec": {
   "display_name": "Python 3 (ipykernel)",
   "language": "python",
   "name": "python3"
  },
  "language_info": {
   "codemirror_mode": {
    "name": "ipython",
    "version": 3
   },
   "file_extension": ".py",
   "mimetype": "text/x-python",
   "name": "python",
   "nbconvert_exporter": "python",
   "pygments_lexer": "ipython3",
   "version": "3.9.7"
  }
 },
 "nbformat": 4,
 "nbformat_minor": 5
}
