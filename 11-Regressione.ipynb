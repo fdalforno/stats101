{
 "cells": [
  {
   "cell_type": "markdown",
   "id": "083bfefb",
   "metadata": {},
   "source": [
    "# Regressione multipla e regressione multivariata\n",
    "\n",
    "I minimi quadrati visti nell'esempio precedente sono un esempio di **regressione**.\n",
    "L'obiettivo della analisi di regressione è quello di descrivere una relazione tra una o più variabili dette variabili dipendenti e un altro insieme di variabili dette indipendenti o esplicative.\n",
    "\n",
    "Nel capitolo precendente abbiamo usato l'età della madre come variabile indipendente per fare una previsione sul peso del nascituro come variabile dipendente. Quando c'è una sola variabile dipendente e una sola variabile indipendente si dice che siamo di fronte ad un problema di semplice regressione. In questo capitolo ci muoveremo verso la regressione multipla che tratta più di una variabile esplicativa.\n",
    "\n",
    "Se invece si tratta di avere più variabili dipendenti allora possiamo dire di trattare un problema di regressione multivariata.\n",
    "Se la relazione tra le variabili dipendenti e le variabili indipendenti è lineare allora diremo che la regressione è lineare.\n",
    "\n",
    "Per esempio se la variabile $y$ è la **variabile dipendente** mentre $x_1$ e $x_2$ sono le **variabili esplicative** potremo scrivere il nostro modello come:\n",
    "\n",
    "$$\n",
    "    y = \\beta_0 + x_1 \\beta_1 + x_2 \\beta_2 + \\varepsilon\n",
    "$$\n",
    "\n",
    "dove $\\beta_0$ rappresenta il punto di intersezione mentre $\\beta_1$ e $\\beta_2$ rappresentano i parametri associati alle variabili e $\\varepsilon$ rappresenta il residuale dovuto a fattori casuali o sconosciuti.\n",
    "\n",
    "L'obiettivo è far si che $\\beta_0$,$\\beta_1$ e $\\beta_2$ minimizzino $\\varepsilon^2$, questo processo è anche chiamato metodo dei minimi quadrati **ordinary least squares**.\n",
    "\n",
    "## Statsmodels\n",
    "\n",
    "Per una regressione singola abbiamo usato il codice visto in precenza per creare del codice capibile. Ora dovremo utilizzare un pacchetto più completo chiamato [statsmodels](https://www.statsmodels.org/stable/index.html).\n",
    "\n",
    "Se usiamo anaconda come sto facendo io questo pacchetto è presente altrimenti va installato.<br/>\n",
    "Qui sotto un esempio di codice"
   ]
  },
  {
   "cell_type": "code",
   "execution_count": 43,
   "id": "bba4df97",
   "metadata": {},
   "outputs": [],
   "source": [
    "import numpy as np\n",
    "import statsmodels.api as sm\n",
    "import statsmodels.formula.api as smf\n",
    "from utils import readReadFemPreg\n",
    "\n",
    "preg = readReadFemPreg()\n",
    "live = preg[preg.outcome == 1]\n",
    "\n",
    "live = live.dropna(subset=['agepreg','totalwgt_lb'])\n",
    "\n",
    "formula = 'totalwgt_lb ~ agepreg'\n",
    "model = smf.ols(formula, data=live)\n",
    "results = model.fit()"
   ]
  },
  {
   "cell_type": "markdown",
   "id": "3ff0d9bb",
   "metadata": {},
   "source": [
    "`statsmodels` fornisce due interfacce le api formula che usano stringhe per identificare i due tipi di variabili dipendenti e indipendenti. Viene usato il linguaggio [`patsy`](https://patsy.readthedocs.io/en/latest/). E il simbolo `~` identifica la separazione tra le variabili dipendenti sulla sinistra e quelle indipendenti sulla destra.\n",
    "\n",
    "Viene poi usata la parte `smf.ols` che lavora la string e il dataframe `live` e restituisce un oggetto OLS che rappresenta il modello come detto prima OLS sta per \"ordinary least squares\" metodo dei minimi quadrati. \n",
    "\n",
    "Il metodo `fit` adatta (fit) il modello ai dati e ci restituice un oggetto `RegressionResults` che contiene il risultato voluto.\n",
    "\n",
    "I risultati sono disponibili come attributi. Params è una Serie che mappa i nomi delle variabili con i loro parametri, otteniamo dunque quello che ci serve."
   ]
  },
  {
   "cell_type": "code",
   "execution_count": 44,
   "id": "788ba332",
   "metadata": {},
   "outputs": [
    {
     "name": "stdout",
     "output_type": "stream",
     "text": [
      "intercept = 6.83 slope = 0.0175\n"
     ]
    }
   ],
   "source": [
    "inter = results.params['Intercept']\n",
    "slope = results.params['agepreg']\n",
    "\n",
    "print(\"intercept = {0:.2f} slope = {1:.4f}\".format(inter,slope))"
   ]
  },
  {
   "cell_type": "markdown",
   "id": "3930e378",
   "metadata": {},
   "source": [
    "I valori sono in linea a quanto ottenuto nel capitolo precedente.\n",
    "Un altro attributo interessante è `pvalues` che mappa i nomi delle variabili con il loro p-value, possiamo dunque verificare se il parametro slope (pendenza) è statisticamente significante."
   ]
  },
  {
   "cell_type": "code",
   "execution_count": 45,
   "id": "898c392f",
   "metadata": {},
   "outputs": [
    {
     "data": {
      "text/plain": [
       "5.722947107314471e-11"
      ]
     },
     "execution_count": 45,
     "metadata": {},
     "output_type": "execute_result"
    }
   ],
   "source": [
    "slope_pvalue = results.pvalues['agepreg']\n",
    "slope_pvalue"
   ]
  },
  {
   "cell_type": "markdown",
   "id": "b74a9ba4",
   "metadata": {},
   "source": [
    "Vediamo che il valore è molto minore di 0.001 come ci può aspettare. \n",
    "Il prossomo campo è `results.rsquared` che contiene $R^2$ che ha come valore 0.0047, `results` ci fornisce anche `f_pvalue` che è il valore p-value associato al modello nel suo complesso che assomiglia a verificare se $R^2$ è statisticamente significante.\n",
    "Abbiamo che il campo `resid` una sequenza di residuali e `fittedvalues` una sequenza di valori previsti dal modello usando `agepreg`."
   ]
  },
  {
   "cell_type": "code",
   "execution_count": 46,
   "id": "8a64ed51",
   "metadata": {},
   "outputs": [
    {
     "name": "stdout",
     "output_type": "stream",
     "text": [
      "rsquared = 0.0047 f_pvalue = 0.0000\n"
     ]
    }
   ],
   "source": [
    "rsquared = results.rsquared \n",
    "f_pvalue = results.f_pvalue\n",
    "\n",
    "print(\"rsquared = {0:.4f} f_pvalue = {1:.4f}\".format(rsquared,f_pvalue))"
   ]
  },
  {
   "cell_type": "code",
   "execution_count": 47,
   "id": "bac7faad",
   "metadata": {},
   "outputs": [
    {
     "name": "stdout",
     "output_type": "stream",
     "text": [
      "0    1.403333\n",
      "1    0.359539\n",
      "2    2.044489\n",
      "3   -0.141599\n",
      "4   -0.962826\n",
      "5    1.260849\n",
      "6    2.228908\n",
      "7    1.018195\n",
      "8    0.241999\n",
      "9   -0.769680\n",
      "dtype: float64\n"
     ]
    }
   ],
   "source": [
    "resid = results.resid \n",
    "fittedvalues = results.fittedvalues\n",
    "\n",
    "print(resid[:10])"
   ]
  },
  {
   "cell_type": "code",
   "execution_count": 48,
   "id": "72f43a07",
   "metadata": {},
   "outputs": [
    {
     "name": "stdout",
     "output_type": "stream",
     "text": [
      "0    7.409167\n",
      "1    7.515461\n",
      "2    7.080511\n",
      "3    7.141599\n",
      "4    7.150326\n",
      "5    7.301651\n",
      "6    7.333592\n",
      "7    7.356805\n",
      "8    7.320501\n",
      "9    7.394680\n",
      "dtype: float64\n"
     ]
    }
   ],
   "source": [
    "print(fittedvalues[:10])"
   ]
  },
  {
   "cell_type": "markdown",
   "id": "db4c72e4",
   "metadata": {},
   "source": [
    "L'oggetto results ci fornisce anche il comodo summary(), che rappresenta i risultati in un formato leggbile."
   ]
  },
  {
   "cell_type": "code",
   "execution_count": 49,
   "id": "0b5b578a",
   "metadata": {},
   "outputs": [
    {
     "name": "stdout",
     "output_type": "stream",
     "text": [
      "                            OLS Regression Results                            \n",
      "==============================================================================\n",
      "Dep. Variable:            totalwgt_lb   R-squared:                       0.005\n",
      "Model:                            OLS   Adj. R-squared:                  0.005\n",
      "Method:                 Least Squares   F-statistic:                     43.02\n",
      "Date:                Thu, 10 Feb 2022   Prob (F-statistic):           5.72e-11\n",
      "Time:                        10:04:47   Log-Likelihood:                -15897.\n",
      "No. Observations:                9038   AIC:                         3.180e+04\n",
      "Df Residuals:                    9036   BIC:                         3.181e+04\n",
      "Df Model:                           1                                         \n",
      "Covariance Type:            nonrobust                                         \n",
      "==============================================================================\n",
      "                 coef    std err          t      P>|t|      [0.025      0.975]\n",
      "------------------------------------------------------------------------------\n",
      "Intercept      6.8304      0.068    100.470      0.000       6.697       6.964\n",
      "agepreg        0.0175      0.003      6.559      0.000       0.012       0.023\n",
      "==============================================================================\n",
      "Omnibus:                     1024.052   Durbin-Watson:                   1.618\n",
      "Prob(Omnibus):                  0.000   Jarque-Bera (JB):             3081.833\n",
      "Skew:                          -0.601   Prob(JB):                         0.00\n",
      "Kurtosis:                       5.596   Cond. No.                         118.\n",
      "==============================================================================\n",
      "\n",
      "Notes:\n",
      "[1] Standard Errors assume that the covariance matrix of the errors is correctly specified.\n"
     ]
    }
   ],
   "source": [
    "print(results.summary())"
   ]
  },
  {
   "cell_type": "markdown",
   "id": "02aee09d",
   "metadata": {},
   "source": [
    "## Regressione multipla\n",
    "\n",
    "Nelle lezioni precedenti abbiamo detto che il primo bambino tende ad essere più leggero dei successivi, e questo effetto è statisticamente significante. \n",
    "\n",
    "Ma questo è uno strano risultato perchè non abbiamo una spiegazione ovvia sul perchè, in effetti una possibile spiegazione potrebbe esserci, abbiamo visto che il peso del bambino è legato alla età della madre e potremmo dunque aspettarci che le madri che partoriscono il primo figlio siano più giovani delle altre.\n",
    "\n",
    "Con qualche calcolo verificheremo se questa spiegazione, useremo quindi la regressione multipla per indagare più attentamente.\n",
    "Per prima cosa vediamo quanto è grande la differenza di peso."
   ]
  },
  {
   "cell_type": "code",
   "execution_count": 50,
   "id": "b22f65a9",
   "metadata": {},
   "outputs": [
    {
     "data": {
      "text/plain": [
       "-0.12476118453549034"
      ]
     },
     "execution_count": 50,
     "metadata": {},
     "output_type": "execute_result"
    }
   ],
   "source": [
    "firsts = live[live.birthord == 1]\n",
    "others = live[live.birthord > 1]\n",
    "\n",
    "\n",
    "diff_weight = firsts.totalwgt_lb.mean() - others.totalwgt_lb.mean()\n",
    "diff_weight"
   ]
  },
  {
   "cell_type": "markdown",
   "id": "1b0a480c",
   "metadata": {},
   "source": [
    "Vediamo poi la differenza di età tra il primo figlio e gli altri"
   ]
  },
  {
   "cell_type": "code",
   "execution_count": 51,
   "id": "23528a0a",
   "metadata": {},
   "outputs": [
    {
     "data": {
      "text/plain": [
       "-3.558721516986065"
      ]
     },
     "execution_count": 51,
     "metadata": {},
     "output_type": "execute_result"
    }
   ],
   "source": [
    "diff_age = firsts.agepreg.mean() - others.agepreg.mean()\n",
    "diff_age"
   ]
  },
  {
   "cell_type": "markdown",
   "id": "37d9b188",
   "metadata": {},
   "source": [
    "e calcoliamo quando dovrebbe essere la differenza di peso usando il modello di regressione creato prima"
   ]
  },
  {
   "cell_type": "code",
   "execution_count": 52,
   "id": "212f78f9",
   "metadata": {},
   "outputs": [
    {
     "data": {
      "text/plain": [
       "-0.06211339678698344"
      ]
     },
     "execution_count": 52,
     "metadata": {},
     "output_type": "execute_result"
    }
   ],
   "source": [
    "slope * diff_age"
   ]
  },
  {
   "cell_type": "markdown",
   "id": "420699ba",
   "metadata": {},
   "source": [
    "si vede che la differenza di peso previstà è esattamente la metà di quella media, quindi possiamo concludere almeno in parte che l'età della madre spiega l'aumento del peso solo in parte.\n",
    "\n",
    "Usando la regressione multipla, possiamo esplorare queste relazioni in modo più sistematico."
   ]
  },
  {
   "cell_type": "code",
   "execution_count": 53,
   "id": "490219aa",
   "metadata": {},
   "outputs": [],
   "source": [
    "live['isfirst'] = live.birthord == 1\n",
    "formula = 'totalwgt_lb ~ isfirst'\n",
    "results = smf.ols(formula, data=live).fit()"
   ]
  },
  {
   "cell_type": "markdown",
   "id": "b3811ea9",
   "metadata": {},
   "source": [
    "La prima riga del codice crea una nuova colonna che ha valore `True` se stiamo vedendo il primo figlio `False` altrimenti.\n",
    "Di seguito adattiamo il modello usando la colonna `isfirst` come variabile indipendente."
   ]
  },
  {
   "cell_type": "code",
   "execution_count": 54,
   "id": "c5c8147f",
   "metadata": {},
   "outputs": [
    {
     "name": "stdout",
     "output_type": "stream",
     "text": [
      "Intercept   7.33   (0)\n",
      "isfirst[T.True]   -0.125   (2.55e-05)\n",
      "R^2 0.00196\n",
      "Std(ys) 1.408\n",
      "Std(res) 1.407\n"
     ]
    }
   ],
   "source": [
    "def summarizeResults(results):\n",
    "    \"\"\"\n",
    "    visualizza i parametri più importanti del modello di regressione\n",
    "    \"\"\"\n",
    "    for name, param in results.params.items():\n",
    "        pvalue = results.pvalues[name]\n",
    "        print('%s   %0.3g   (%.3g)' % (name, param, pvalue))\n",
    "\n",
    "    try:\n",
    "        print('R^2 %.4g' % results.rsquared)\n",
    "        ys = results.model.endog\n",
    "        print('Std(ys) %.4g' % ys.std())\n",
    "        print('Std(res) %.4g' % results.resid.std())\n",
    "    except AttributeError:\n",
    "        print('R^2 %.4g' % results.prsquared)\n",
    "        \n",
    "summarizeResults(results)"
   ]
  },
  {
   "cell_type": "markdown",
   "id": "0ed73e04",
   "metadata": {},
   "source": [
    "Il parametro `isfirst` è un booleano, `ols` lo tratta come una variabile categorica e non può essere trattato come un numero.\n",
    "Il parametro stimato è l'effetto sul peso del nascituro quando `isfirst` ha valore `True` il risultato è -0.125 che rappresenta la differenza di peso tra il primo e gli altri bambini.\n",
    "\n",
    "Il risultato è statisticamente significativo il che significa che è improbabile che la relazione si verifichi per caso, ma il valore $R^2$ risultante è molto piccolo ($R^2$ assume valori compresi tra 0 e 1) il che significa che la variabile `isfirst` \n",
    "non rappresenta una parte sostanziale nella variazione del peso del nascituro.\n",
    "\n",
    "Stesso ragionamento vale per `agepreg` che come abbiamo visto prima ha un valore $R^2$ pari a 0.0047\n",
    "Proviamo ora ad assemblare un modello che includa entrambe le variabili.\n",
    "Con la formula `totalwgt_lb ~ isfirst + agepreg` otteniamo:"
   ]
  },
  {
   "cell_type": "code",
   "execution_count": 55,
   "id": "eeb3fd12",
   "metadata": {},
   "outputs": [
    {
     "name": "stdout",
     "output_type": "stream",
     "text": [
      "Intercept   6.91   (0)\n",
      "isfirst[T.True]   -0.0698   (0.0253)\n",
      "agepreg   0.0154   (3.93e-08)\n",
      "R^2 0.005289\n",
      "Std(ys) 1.408\n",
      "Std(res) 1.405\n"
     ]
    }
   ],
   "source": [
    "formula = 'totalwgt_lb ~ isfirst + agepreg'\n",
    "results = smf.ols(formula, data=live).fit()\n",
    "\n",
    "summarizeResults(results)"
   ]
  },
  {
   "cell_type": "markdown",
   "id": "dd58ef48",
   "metadata": {},
   "source": [
    "Nel nuovo modello, i parametri per `isfirst` sono piccoli di circa la metà, il che significa che la parte dell'effetto apparente di `isfirst` è recuperata da `agepreg`. Anche il p-value di `isfirst` è circa il 2.5% che è al confine della significatività statistica.\n",
    "\n",
    "Il valore $R^2$ di questo modello è leggermente maggiore, il che indica che le due variabili assieme contribuiscono a migliorare la previsione del peso (ma non di molto).\n",
    "\n",
    "## Relazioni non lineari\n",
    "\n",
    "Ricordando che il contributo di `agepreg` potrebbe essere non lineare, potremmo considerare una variabile per catturare meglio questa relazione. Una opzione è quella di creare una colonna `agepreg2` valorizzata con il quadrato delle età.\n"
   ]
  },
  {
   "cell_type": "code",
   "execution_count": 56,
   "id": "bbe44d15",
   "metadata": {},
   "outputs": [
    {
     "name": "stdout",
     "output_type": "stream",
     "text": [
      "Intercept   5.69   (1.38e-86)\n",
      "isfirst[T.True]   -0.0504   (0.109)\n",
      "agepreg   0.112   (3.23e-07)\n",
      "agepreg2   -0.00185   (8.8e-06)\n",
      "R^2 0.007462\n",
      "Std(ys) 1.408\n",
      "Std(res) 1.403\n"
     ]
    }
   ],
   "source": [
    "live['agepreg2'] = live.agepreg**2\n",
    "formula = 'totalwgt_lb ~ isfirst + agepreg + agepreg2'\n",
    "results = smf.ols(formula, data=live).fit()\n",
    "summarizeResults(results)"
   ]
  },
  {
   "cell_type": "markdown",
   "id": "f275fb43",
   "metadata": {},
   "source": [
    "Ora usando i parametri `agepreg` e `agepreg2` stiamo effettivamente costruendo una parabola. Il valore di `agepreg2` è negativo il che vuol dire che la parabola curva verso il basso il che concorda con quanto visto precedentemente.\n",
    "\n",
    "Il modello quadratico gestisce meglio la variabilità del peso e sempre in questo modello il parametro `isfirst` è piccolo e sempre meno statistimanente significativo. \n",
    "\n",
    "L'uso delle variabili calcolate come `agepreg2` è un  modo comune per adattare modelli polinomiali e altre funzioni ai dati.\n",
    "\n",
    "Il processo può essere ancora considerato una regressione lineare perchè la variabile dipendente è una funzione lineare delle variabili indipendenti, indipendentemente dal fatto che alcune variabili siano funzioni non lineari di altre.\n",
    "\n",
    "La seguente tabellina indica i risultati delle regressioni:\n",
    "\n",
    "|           \t|  isfirst \t        |   agepreg\t    |   agepreg2\t|   R2\t    |\n",
    "|:-:\t        |---\t            |---\t        |---\t        |---\t    |\n",
    "|   Modello 1\t|    -0.125 *\t    |   –\t        |   –\t        |   0.002\t|\n",
    "|   Modello 2\t|   –\t            |   0.0175 *\t|   –\t        |   0.0047\t|\n",
    "|   Modello 3\t|   -0.0698 (0.025)\t|   0.0154 *\t|   –        \t|   0.0053\t|\n",
    "|   Modello 4\t|   -0.0504 (0.11)\t|   0.112 *     |   -0.00185 *\t|   0.0075\t|\n",
    "\n",
    "\n",
    "Le colonne in questa tabella sono le variabili esplicative e i lori coefficienti $R^2$, Ogni riga rappresenta il parametro stimato e il suo p-value nelle i valori asteriscati cono quelli che hanno un p-value minore dello 0.001.\n",
    "\n",
    "Possiamo concludere che l'apparente differenza di peso è spiegato, almeno in parte, dalla differenza di età della madre.\n",
    "Quando si include l'età nel modello l'effetto della variabile `isfirst` diventa più piccolo.\n",
    "\n",
    "In questo esempio, l'età della madre funge da variabile di controllo. L'inclusione di `agepreg` nel modello \"controlla\" la differenza in età tra le prime mamme e le altre, rendendo così possibile isolare l'effetto (se mai ci fosse) di `isfirst`.\n",
    "\n",
    "\n",
    "## Data mining\n",
    "\n",
    "Abbiamo appena usato un modello di regressione per dare delle spiegazioni, per esempio nella sezione precedente abbiamo scoperto che una differenza apparente nel peso del bambino è legato alla differenza di età della madre.\n",
    "Ma il valore di $R^2$ di questo modello è molto basso, il che significa che ha uno scarso potere predittivo. In questa sezione proveremo a fare di meglio. \n",
    "\n",
    "Supponiomo che una delle nostre colleghe aspetti un bambino e che in ufficio si stia scommettendo sul peso del nascituro. \n",
    "Ora supponiamo che tu voglia veramente vincere la scommessa. Come si potrebbe aumentare la sperannza di vittoria ?\n",
    "Bene il dataset contiene 244 variabili per ognuna delle gravidanze e altre 3087 vaiabili per ciascun intervistato.\n",
    "Potrebbe essere che qualcuna di queste variabili abbia un potere predittivo. Per scoprire le più utili perche non provarle tutte?.\n",
    "\n",
    "Provare le variabili della tabella delle gravidanze è semplice, ma usare quella degli intervistati risulta un pochino più complicato. In teoria possiamo iterare attraverso le righe della tabella delle gravidanze, usare il campo `caseid` per trovare le risposte dell'intervistato e copiare i valori nella tabella gravidanze.\n",
    "Questo però risulta un po lento.\n",
    "\n",
    "Una soluzione migliore è quella di usare l'operazione di join messa a disposizione dall'oggetto DataFrame:"
   ]
  },
  {
   "cell_type": "code",
   "execution_count": 57,
   "id": "08f4c817",
   "metadata": {},
   "outputs": [],
   "source": [
    "from utils import readFemResp\n",
    "\n",
    "live = live[live.prglngth>30]\n",
    "resp = readFemResp()\n",
    "\n",
    "resp.index = resp.caseid\n",
    "join = live.join(resp, on='caseid', rsuffix='_r')"
   ]
  },
  {
   "cell_type": "markdown",
   "id": "451953ab",
   "metadata": {},
   "source": [
    "La prima riga seleziona i record delle gravidanze più lunghe di 30 settimane, stiamo assumendo che la scommessa sia stata fatta alcune settimane prima dell'evento.\n",
    "\n",
    "Infine in questo esempio alcune colonne sono presenti sia nella prima che nella seconda tabella ad esempio la colonna `race` darà come risultato due colonne `race` e `race_r`.\n",
    "\n",
    "Proviamo ora le variabili:"
   ]
  },
  {
   "cell_type": "code",
   "execution_count": 58,
   "id": "b756c814",
   "metadata": {},
   "outputs": [],
   "source": [
    " t = []\n",
    "for name in join.columns:\n",
    "    try:\n",
    "        if join[name].var() < 1e-7:\n",
    "            continue\n",
    "\n",
    "        formula = 'totalwgt_lb ~ agepreg + ' + name\n",
    "        model = smf.ols(formula, data=join)\n",
    "        if model.nobs < len(join)/2:\n",
    "            continue\n",
    "\n",
    "        results = model.fit()\n",
    "    except (ValueError, TypeError):\n",
    "        continue\n",
    "\n",
    "    t.append((results.rsquared, name))"
   ]
  },
  {
   "cell_type": "markdown",
   "id": "1298aa58",
   "metadata": {},
   "source": [
    "Per ogni variabile costruiamo il modello, calcoliamo $R^2$ e mettiamo il risultato nella lista. Tutti i modelli includono `agepreg` che sappiamo già avere un potere predittivo.\n",
    "\n",
    "Controlliamo ogni variabile indipendente abbia una certa variabilità, altrimenti il risultato della regressione sarà inaffidabile. \n",
    "Controlliamo anche il numero delle osservazioni per ogni modello. Variabili che contengono un gran numero di NAN non sono dei buoni candidati per fare una previsione.\n",
    "\n",
    "Per molte di queste variabili, non abbiamo fatto nessuna attività di pulizia. Alcune di queste sono codificate in un modo che non lavora molto bene per la regressione lineare.\n",
    "Come risultato, potremmo escludere alcune variabili che sarebbero utili se pulite correttamente. Ma forse troveremo lo stesso dei buoni candidati.\n",
    "\n",
    "## Previsioni\n",
    "Il prossimo passo è quello di ordinare i risultati e selezionare le variabiali che producono i più alti valori di $R^2$."
   ]
  },
  {
   "cell_type": "code",
   "execution_count": 59,
   "id": "fbff8a48",
   "metadata": {},
   "outputs": [
    {
     "name": "stdout",
     "output_type": "stream",
     "text": [
      "totalwgt_lb 1.0\n",
      "birthwgt_lb 0.9498127305978009\n",
      "lbw1 0.3008240784470769\n",
      "prglngth 0.13012519488625063\n",
      "wksgest 0.12340041363361054\n",
      "agecon 0.10203149928156041\n",
      "mosgest 0.02714427463957969\n",
      "babysex 0.01855092529394209\n",
      "race_r 0.016199503586252995\n",
      "race 0.016199503586252995\n",
      "nbrnaliv 0.016017752709788113\n",
      "paydu 0.014003795578114597\n",
      "rmarout03 0.013430066465713209\n",
      "birthwgt_oz 0.013102457615706165\n",
      "anynurse 0.012529022541810764\n",
      "bfeedwks 0.01219368840449575\n",
      "totincr 0.011870069031173602\n",
      "marout03 0.011807801994375033\n",
      "marcon03 0.011752599354395654\n",
      "cebow 0.011437770919637047\n",
      "rmarout01 0.011407737138640184\n",
      "rmarout6 0.011354138472805753\n",
      "marout01 0.011269357246806555\n",
      "hisprace_r 0.011238349302030715\n",
      "hisprace 0.011238349302030715\n",
      "mar1diss 0.010961563590751733\n",
      "fmarcon5 0.0106049646842995\n",
      "rmarout02 0.0105469132065652\n",
      "marcon02 0.01048140179553414\n",
      "fmarout5 0.010461691367376957\n"
     ]
    }
   ],
   "source": [
    "t.sort(reverse=True)\n",
    "for mse, name in t[:30]:\n",
    "    print(name, mse)"
   ]
  },
  {
   "cell_type": "markdown",
   "id": "3049f978",
   "metadata": {},
   "source": [
    "Le prime due variabili sono `totalwgt_lb` e `birthwgt_lb` che ovviamente non possono essere usate per prevedere il peso del bambino.\n",
    "\n",
    "Similmente `prglngth` ha un buon potere predittivo, ovviamente per la nostra scommesssa la gestazione non può essere usata.\n",
    "La prima variabile utile è la `babysex` che indica se il bambino è un maschietto o una femminuccia. \n",
    "Nel nostro dataset i ragazzi sono all'incirca 0.3 lbs più pesanti. \n",
    "Assumendo di sapere il sesso del bimbo, possiamo usarla per la previsone.\n",
    "\n",
    "Il prossimo campo è la razza, indicante se l'intervistato è bianco nero o altro. Come variabile esplicativa, la razza può essere problematica. In dataset come NSFG la razza è correlata con moltre altre variabili, incluso reddito e altri fattori socioeconomici.\n",
    "\n",
    "In un modello di regressione, la razza si comporta come una variabile prox, dunque le correlazioni del campo razza sono spesso causatel almeno in parte da altri fattori.\n",
    "\n",
    "La prossima variabile nella lista è `nbrnaliv`, che indica se la gravidanza ha prodotto dei gemelli. I gemelli tendono ad essere più leggeri degli altri bambini, dunque per la nostra scommessa questo può aiutare.\n",
    "\n",
    "Andiamo ora a vedere la variabile `paydu`, che indica se l'intervistato possiede la sua casa. E' una delle tante relative variabili relativi al reddito che risultano predettivi. In questo dataset reddito e salute sono correlati praticamente a tutto.\n",
    "In questo esempio il reddito, la dieta, l'assistenza sanitaria e altri fattori sono correlati al peso del bebè.\n",
    "\n",
    "Alcune altre variabili nella lista sono cose che non possiamo usare, come ad esempio `bfeedwks` il numero di settimane che il bambino è stato allattato al seno.\n",
    "Non possiamo usare queste variabili per la nostra previsione, ma possiamo provare a fare delle speculazioni.\n",
    "A volte si inizia con una teoria e si usano i dati per confermarla, altre volte si inizia con i dati e si va alla ricerca di qualche teoria.\n",
    "\n",
    "Questo approccio è chiamato **data mining**. Un vantaggio è quello di poter scoprire delle relazioni inaspettate. Un rischio però \n",
    "è che molte delle relazioni scoperte siano randomiche o spurie.\n",
    "Avendo identificato le potenziali varibili indipendenti scegliamo questo modello:"
   ]
  },
  {
   "cell_type": "code",
   "execution_count": 60,
   "id": "fc006b1e",
   "metadata": {},
   "outputs": [],
   "source": [
    "formula = ('totalwgt_lb ~ agepreg + C(race) + babysex==1 + '\n",
    "               'nbrnaliv>1 + paydu==1 + totincr')\n",
    "results = smf.ols(formula, data=join).fit()"
   ]
  },
  {
   "cell_type": "markdown",
   "id": "96744e16",
   "metadata": {},
   "source": [
    "Questa formula usa della sintassi che non abbiamo mai visto prima: \n",
    "\n",
    "* `C(race)` dice al parser di trattare la razza come una variabile categorica anche se codificata come un numero.\n",
    "* La codifica di `babysex` è 1 per i maschietti 2 per le femminucce, scrivendo `babysex==1` questo converte il campo in un booleano \n",
    "* Similmente `nbrnaliv>1` è True per i parti gemellari mentre `paydu==1` per gli intervistati che hanno la loro casa.\n",
    "* `totincr` è codificato come un numero compreso tra 1 e 14 ogni incremento rappresenta circa 5000$ di inclemento nel reddito annuo. Possiamo dunque trattare questa variabile come numerica. \n",
    "\n",
    "Questo il risultato:"
   ]
  },
  {
   "cell_type": "code",
   "execution_count": 61,
   "id": "9b7bc58e",
   "metadata": {},
   "outputs": [
    {
     "name": "stdout",
     "output_type": "stream",
     "text": [
      "Intercept   6.63   (0)\n",
      "C(race)[T.2]   0.357   (5.43e-29)\n",
      "C(race)[T.3]   0.266   (2.33e-07)\n",
      "babysex == 1[T.True]   0.295   (5.39e-29)\n",
      "nbrnaliv > 1[T.True]   -1.38   (5.1e-37)\n",
      "paydu == 1[T.True]   0.12   (0.000114)\n",
      "agepreg   0.00741   (0.0035)\n",
      "totincr   0.0122   (0.00188)\n",
      "R^2 0.05999\n",
      "Std(ys) 1.271\n",
      "Std(res) 1.232\n"
     ]
    }
   ],
   "source": [
    "summarizeResults(results)"
   ]
  },
  {
   "cell_type": "markdown",
   "id": "057a25bc",
   "metadata": {},
   "source": [
    "Abbiamo avuto in incremento di $R^2$ ma il valore è ancora molto basso. Dunque le probabilità di vincere la scommessa sono ancora molto basse.\n",
    "\n",
    "## Regressione logistica\n",
    "\n",
    "Nell'esempio precedente, alcune delle variabili indipendenti erano numeriche e altre erano categoriche. Ma la variabile dipendente era sempre numerica.\n",
    "\n",
    "La regressione lineare può essere generalizzata per gestire anche altri tipi di variabili dipendenti.\n",
    "Se la varibile dipendente è booleana, il modello si chiamerà regressione logistica. Se il modello è in intero averemo un regressione di Poisson.\n",
    "\n",
    "Come esempio di regressione logistica, consideriamo una variazione della scommessa. Supponiamo di voler predire il sesso del nascituro. Possiamo provare ad usare i dati del dataset per trovare i fattori che influenzano il \"rapporto tra i sessi\", che convenzionalemente definisce la probabilità di avere un maschietto.\n",
    "\n",
    "Se codifichiamo la variabile dipendente numericamente per esempio impostiamo 0 per una bambina e 1 per un bambino possiamo usare il metodo dei minimi quadrati, ma avremmo dei problemi. Il modello lineare assomiglierà ad una cosa del genere:\n",
    "\n",
    "$$\n",
    "y = \\beta_0 + \\beta_1 x1 + \\beta_2 x2 + \\varepsilon\n",
    "$$\n",
    "\n",
    "\n",
    "Dove $y$ rappresenta la variabile dipendente e $x1$, $x2$ sono le variabili indipendenti, troveremo poi i parametri che minimizzano i residuali.\n",
    "\n",
    "Il problema con questo approccio è che produce una previsione difficile da interpretare, Dato i parametri stimati e i valori di $x1$ e $x2$ il modello potrebbe restiruire come risultato $y=0.5$, ma ovviamente gli unici valori significativi di y sono 0 e 1.\n",
    "\n",
    "Potremmo essere tentati a interpretare il risultato come una probabilità, per esempio potremmo dire che il valore sopra rappresenta il 50% di probabilità di avere un ragazzo. Ma il modello potrebbe tranquillamente dare come risultato $y=1.1$ o $y=-0.1$ e queste ovviamente non sono probabilità valide.\n",
    "\n",
    "La regressione logistica evita questo problema esprimento la previzione in termini di quote invece che di probabilità.\n",
    "Se non si e familiare con le quote, \"quote a favore\" di un evento è il rapporto tra la probabilità che questo evento avvenga e la probabibilità che questo non avvenga.\n",
    "\n",
    "Per fare un esempio se ho il 75% di probabilita di vittoria, Sto semplicemente dicendo che le quote in nostro favore sono tre a uno perchè le possibilità di vincere sono tre volte la possibilità di perdere.\n",
    "\n",
    "Le quote le probabilità sono due rappresentazioni differenti della stessa informazione. Data una probabilità posso calcolare le quote semplicemente usando la formula:\n",
    "\n",
    "$$\n",
    "o = \\frac{p}{(1-p)}\n",
    "$$\n",
    "\n",
    "mentre per tornare alla probabilità si usa semplicemente funzione inversa:\n",
    "\n",
    "$$\n",
    "p = \\frac{o}{(o+1)}\n",
    "$$\n",
    "\n",
    "La regressione logistica è basata sul modello seguente:\n",
    "\n",
    "$$\n",
    "    log(o) = \\beta_0 + \\beta_1 x1 + \\beta_2 x2 + \\varepsilon \n",
    "$$\n",
    "\n",
    "\n",
    "Dove o rappresenta la quota a nostro favore di un particolare esito, nel nostro caso è la quota a nostro favore di avere un ragazzo.\n",
    "Supponiamo di avere stimato i parametri $\\beta_0$, $\\beta_1$, $\\beta_2$ e supponiamo di avere i valori di $x1$ e $x2$.\n",
    "Possiamo cosi avere i valori di log(o) e convertirli in probabilità con il seguente codice:\n",
    "\n",
    "```python\n",
    "\n",
    "o = np.exp(log_o)\n",
    "p = o / (o+1)\n",
    "\n",
    "```\n",
    "\n",
    "Possiamo dunque calcolare probabilità, ma come possiamo stimare i parametri?\n",
    "\n",
    "## Stima dei parametri\n",
    "Sfortunatamente la regressione logistica non ha una soluzione a forma chiusa, il problema deve essere risolto dando una soluzione iniziale e provvedere a migliorarla iterativamente.\n",
    "L'obiettivo più comunune è quello di trovare il maximum-likelihood estimate (MLE) che rappresenta l'insieme dei parametri che massimizza la probabilità dei dati, supponiamo di avere i seguenti dati:"
   ]
  },
  {
   "cell_type": "code",
   "execution_count": 62,
   "id": "7aa65a4c",
   "metadata": {},
   "outputs": [],
   "source": [
    "y = np.array([0, 1, 0, 1])\n",
    "x1 = np.array([0, 0, 0, 1])\n",
    "x2 = np.array([0, 1, 1, 1])"
   ]
  },
  {
   "cell_type": "markdown",
   "id": "772077dd",
   "metadata": {},
   "source": [
    "Partiamo con i seguenti parametri iniziali $\\beta_0=−1.5$, $\\beta_1=2.8$ e $\\beta_2=1.1$:\n",
    "Per ogni riga possiamo calcolare `log_o`"
   ]
  },
  {
   "cell_type": "code",
   "execution_count": 63,
   "id": "80eb293b",
   "metadata": {},
   "outputs": [
    {
     "data": {
      "text/plain": [
       "array([-1.5, -0.4, -0.4,  2.4])"
      ]
     },
     "execution_count": 63,
     "metadata": {},
     "output_type": "execute_result"
    }
   ],
   "source": [
    "beta = [-1.5, 2.8, 1.1]\n",
    "log_o = beta[0] + beta[1] * x1 + beta[2] * x2 \n",
    "log_o"
   ]
  },
  {
   "cell_type": "markdown",
   "id": "c032c7f4",
   "metadata": {},
   "source": [
    "Convertiamo poi il rapporto in probabilità:"
   ]
  },
  {
   "cell_type": "code",
   "execution_count": 64,
   "id": "0851ef91",
   "metadata": {},
   "outputs": [
    {
     "data": {
      "text/plain": [
       "array([ 0.22313016,  0.67032005,  0.67032005, 11.02317638])"
      ]
     },
     "execution_count": 64,
     "metadata": {},
     "output_type": "execute_result"
    }
   ],
   "source": [
    "o = np.exp(log_o)\n",
    "o"
   ]
  },
  {
   "cell_type": "code",
   "execution_count": 65,
   "id": "6b4f5caa",
   "metadata": {},
   "outputs": [
    {
     "data": {
      "text/plain": [
       "array([0.18242552, 0.40131234, 0.40131234, 0.9168273 ])"
      ]
     },
     "execution_count": 65,
     "metadata": {},
     "output_type": "execute_result"
    }
   ],
   "source": [
    "p = o / (o+1)\n",
    "p"
   ]
  },
  {
   "cell_type": "markdown",
   "id": "38e911ae",
   "metadata": {},
   "source": [
    "Si noti che quando `log_o` e maggiore di 0 consegue che `o` sarà maggiore di 1 e `p` sarà maggiore di 0.5.\n",
    "Per calcolare il valore di mle usiamo p quando il valore di y sarà 1 altrimenti 1-p quando il valore di y sarà 0.\n",
    "Facciamo un esempio se il modello restituisce una probabilità di un bambino pari a 0.8 se y rappresenta un bambino il risultato della nostra funzione sarà 0.8 altrimenti se y rappresenta una bambina il risultato sarà 0.2 \n",
    "Possiamo calcolare questa probabilità in questo modo:"
   ]
  },
  {
   "cell_type": "code",
   "execution_count": 66,
   "id": "c22c89ec",
   "metadata": {},
   "outputs": [
    {
     "data": {
      "text/plain": [
       "array([0.81757448, 0.40131234, 0.59868766, 0.9168273 ])"
      ]
     },
     "execution_count": 66,
     "metadata": {},
     "output_type": "execute_result"
    }
   ],
   "source": [
    "likes = y * p + (1-y) * (1-p)\n",
    "likes"
   ]
  },
  {
   "cell_type": "markdown",
   "id": "95f7384b",
   "metadata": {},
   "source": [
    "La probabiità complessiva è il prodotto delle singole probabilità"
   ]
  },
  {
   "cell_type": "code",
   "execution_count": 67,
   "id": "680c66dc",
   "metadata": {},
   "outputs": [
    {
     "data": {
      "text/plain": [
       "0.1800933529673034"
      ]
     },
     "execution_count": 67,
     "metadata": {},
     "output_type": "execute_result"
    }
   ],
   "source": [
    "like = np.prod(likes)\n",
    "like"
   ]
  },
  {
   "cell_type": "markdown",
   "id": "cda85cee",
   "metadata": {},
   "source": [
    "Per questi parametri di beta, la probabilità complessiva è pari a 0.18. L'obiettivo della regressione logistica è quello di trovare i parametri che massimizzano tale valore. Per farlo i più importanti software di statistica usano il risolutori tipo il metodo di Newton.\n",
    "\n",
    "## Implementazione\n",
    "StatsModels fornisce una implementazione della regressione logistica chiamata logit. \n",
    "Per dimostrare come usarlo, cercheremo di vedere quali variabili influicono col rapporto del sesso del nascituro."
   ]
  },
  {
   "cell_type": "code",
   "execution_count": 68,
   "id": "791dbf70",
   "metadata": {},
   "outputs": [],
   "source": [
    "live['boy'] = (live.babysex==1).astype(int)"
   ]
  },
  {
   "cell_type": "markdown",
   "id": "dd709ee7",
   "metadata": {},
   "source": [
    "I fattori che potrebbero influenzare il sesso del nascituro includono l'età della madre, la razza e lo status sociale.\n",
    "Partiamo analizzando l'età della madre:"
   ]
  },
  {
   "cell_type": "code",
   "execution_count": 69,
   "id": "4e0e27b2",
   "metadata": {},
   "outputs": [
    {
     "name": "stdout",
     "output_type": "stream",
     "text": [
      "Optimization terminated successfully.\n",
      "         Current function value: 0.693022\n",
      "         Iterations 3\n"
     ]
    }
   ],
   "source": [
    "import statsmodels.formula.api as smf\n",
    "\n",
    "model = smf.logit('boy ~ agepreg', data=live)\n",
    "results = model.fit()"
   ]
  },
  {
   "cell_type": "markdown",
   "id": "e5560364",
   "metadata": {},
   "source": [
    "`logit` funziona allo stesso modo di `ols` con la stessa formula scritta in Patsy. Il risultato è un oggetto di tipo `Logit` che rappresenta il modello.\n",
    "L'oggetto contiene degli attributi chiamati endog e exog che contiene le variabili endogene, un altro nome delle variabili dipendenti e le variabili esogene un altro nome per le variabili indipendenti.\n",
    "\n",
    "Visto che il risultato in Numpy, a volte è conveniente convertirlo in un DataFrames:"
   ]
  },
  {
   "cell_type": "code",
   "execution_count": 70,
   "id": "cded04cf",
   "metadata": {},
   "outputs": [],
   "source": [
    "import pandas as pd\n",
    "\n",
    "endog = pd.DataFrame(model.endog, columns=[model.endog_names])\n",
    "exog = pd.DataFrame(model.exog, columns=model.exog_names)"
   ]
  },
  {
   "cell_type": "markdown",
   "id": "491e0119",
   "metadata": {},
   "source": [
    "Il risultato di `model.fit` è un oggetto di tipo `BinaryResults` molto simile al tipo già visto `RegressionResults` questo è il risultato:"
   ]
  },
  {
   "cell_type": "code",
   "execution_count": 71,
   "id": "f1535639",
   "metadata": {},
   "outputs": [
    {
     "name": "stdout",
     "output_type": "stream",
     "text": [
      "Intercept   0.00669   (0.946)\n",
      "agepreg   0.000982   (0.798)\n",
      "R^2 5.361e-06\n"
     ]
    }
   ],
   "source": [
    "summarizeResults(results)"
   ]
  },
  {
   "cell_type": "markdown",
   "id": "7c6cc399",
   "metadata": {},
   "source": [
    "Il parametro `agepreg` è positivo il che suggerisce che le madri più anziane hanno più probabilità ad avere dei maschietti ma il valore di p-value è pari a 0.783 che significa che l'effetto apparente è facilmente dovuto al caso.\n",
    "\n",
    "Il coefficiente di determinazione $R^2$ non si applica alla regressione logistica, ma ci sono molte alternative che possono essere usate come uno pseudo valore $R^2$.\n",
    "Questo valore può essere utile per comparare i modelli, per esempio abbiamo creato un modello che include anche altri fattori:"
   ]
  },
  {
   "cell_type": "code",
   "execution_count": 72,
   "id": "8bd28b26",
   "metadata": {},
   "outputs": [
    {
     "name": "stdout",
     "output_type": "stream",
     "text": [
      "Optimization terminated successfully.\n",
      "         Current function value: 0.692727\n",
      "         Iterations 4\n"
     ]
    }
   ],
   "source": [
    "formula = 'boy ~ agepreg + hpagelb + birthord + C(race)'\n",
    "model = smf.logit(formula, data=live)\n",
    "results = model.fit()"
   ]
  },
  {
   "cell_type": "markdown",
   "id": "2541e460",
   "metadata": {},
   "source": [
    "Assieme all'età della madre il modello include l'età del padre `hpagelb` e l'ordine di nascita `birthord` il campo `race` è stato codificato come una variabile categorica, qui i risultati:"
   ]
  },
  {
   "cell_type": "code",
   "execution_count": 73,
   "id": "4071aaed",
   "metadata": {},
   "outputs": [
    {
     "name": "stdout",
     "output_type": "stream",
     "text": [
      "Intercept   -0.0259   (0.801)\n",
      "C(race)[T.2]   -0.0303   (0.553)\n",
      "C(race)[T.3]   -0.00638   (0.939)\n",
      "agepreg   -0.00339   (0.463)\n",
      "hpagelb   0.00483   (0.0435)\n",
      "birthord   0.013   (0.558)\n",
      "R^2 0.000431\n"
     ]
    }
   ],
   "source": [
    "summarizeResults(results)"
   ]
  },
  {
   "cell_type": "markdown",
   "id": "b7fc8b75",
   "metadata": {},
   "source": [
    "Nessuno dei parametri è statisticamente significativo, il valore di pseudo-$R^2$ è leggermente più grande, ma questo potrebbe essere dovuto al caso.\n",
    "\n",
    "## Accuratezza\n",
    "\n",
    "Nello scenario della scommessa d'ufficio, siamo interessati alla accuratezza del modello: il numero di previsioni corrette, rispetto a quello che avremo per puro caso. \n",
    "Nel dataset NSFG ci sono più bambini che bambine, dunque la strategia di base potrebbe essere quella di restituire sempre come risultato il valore \"bambino\". L'accuratezza di questa strategia è la frazione dei ragazzi:"
   ]
  },
  {
   "cell_type": "code",
   "execution_count": 74,
   "id": "d8ee3b1d",
   "metadata": {},
   "outputs": [],
   "source": [
    "actual = endog['boy']\n",
    "baseline = actual.mean()"
   ]
  },
  {
   "cell_type": "markdown",
   "id": "f4cab1c1",
   "metadata": {},
   "source": [
    "Visto `actual` è codificato come un campo intero, la media rappresenta la frazione dei ragazzi che è pari a:"
   ]
  },
  {
   "cell_type": "code",
   "execution_count": 75,
   "id": "f5bd8133",
   "metadata": {},
   "outputs": [
    {
     "data": {
      "text/plain": [
       "0.5078009338344153"
      ]
     },
     "execution_count": 75,
     "metadata": {},
     "output_type": "execute_result"
    }
   ],
   "source": [
    "baseline"
   ]
  },
  {
   "cell_type": "markdown",
   "id": "55de338f",
   "metadata": {},
   "source": [
    "Calcoliamo l'accuratezza del modello:"
   ]
  },
  {
   "cell_type": "code",
   "execution_count": 76,
   "id": "5b010895",
   "metadata": {},
   "outputs": [],
   "source": [
    "predict = (results.predict() >= 0.5)\n",
    "true_pos = predict * actual\n",
    "true_neg = (1 - predict) * (1 - actual)"
   ]
  },
  {
   "cell_type": "markdown",
   "id": "56a0157d",
   "metadata": {},
   "source": [
    "`results.predict` restituisce un array Numpy di probabilità, che arrontonderemo a valori di 0 e 1.\n",
    "Moltiplicando i valori attuali con le previsioni otteniamo il numero di previsione dei ragazzi corrette, che chiamaremo veri positivi.\n",
    "Similmente per i valori veri negativi `true_neg` indicheremo il numero delle previsioni delle ragazze corrette. \n",
    "L'Accuratezza rappresenta la frazione delle previsioni corrette:"
   ]
  },
  {
   "cell_type": "code",
   "execution_count": 77,
   "id": "f6752ded",
   "metadata": {},
   "outputs": [
    {
     "data": {
      "text/plain": [
       "0.516000455528983"
      ]
     },
     "execution_count": 77,
     "metadata": {},
     "output_type": "execute_result"
    }
   ],
   "source": [
    "acc = (sum(true_pos) + sum(true_neg)) / len(actual)\n",
    "acc"
   ]
  },
  {
   "cell_type": "markdown",
   "id": "1ed1d62f",
   "metadata": {},
   "source": [
    "Il risultato è leggermente migliore del valore baseline. \n",
    "Ma questo valore non deve essere preso troppo seriamente. \n",
    "Abbiamo usato gli stessi dati per costruire e testare il modello, dunque il modello potrebbe non evere molto potere previsionale sui nuovi dati.\n",
    "\n",
    "Tuttavia, useremo il modello per eseguire la previsione della nostra scommessa dell'ufficio.\n",
    "Supponiamo che la nostra amica abbia 35 anni sia bianca e il suo marito abbia 39 anni e che stiano aspettando il terzo figlio:"
   ]
  },
  {
   "cell_type": "code",
   "execution_count": 78,
   "id": "7b3fc692",
   "metadata": {},
   "outputs": [
    {
     "data": {
      "text/plain": [
       "0    0.513137\n",
       "dtype: float64"
      ]
     },
     "execution_count": 78,
     "metadata": {},
     "output_type": "execute_result"
    }
   ],
   "source": [
    "columns = ['agepreg', 'hpagelb', 'birthord', 'race']\n",
    "new = pd.DataFrame([[35, 39, 3, 2]], columns=columns)\n",
    "results.predict(new)"
   ]
  },
  {
   "cell_type": "markdown",
   "id": "ea9eed46",
   "metadata": {},
   "source": [
    "Il modello restituisce il valore 0.51 il che indica che con poca probabilità avremo un bambino.\n",
    "Il modello aumenta la possibilità di vincita ma con poca differenza dal modello base."
   ]
  }
 ],
 "metadata": {
  "kernelspec": {
   "display_name": "Python 3 (ipykernel)",
   "language": "python",
   "name": "python3"
  },
  "language_info": {
   "codemirror_mode": {
    "name": "ipython",
    "version": 3
   },
   "file_extension": ".py",
   "mimetype": "text/x-python",
   "name": "python",
   "nbconvert_exporter": "python",
   "pygments_lexer": "ipython3",
   "version": "3.9.7"
  }
 },
 "nbformat": 4,
 "nbformat_minor": 5
}
