{
 "cells": [
  {
   "cell_type": "markdown",
   "id": "55664360",
   "metadata": {},
   "source": [
    "# I limiti della Funzione di probabilità\n",
    "\n",
    "La funzione di probabilità lavora bene se il numero di valori è piccolo, se il numero di valori aumenta la probabilità associata ad ogni uno diventa piccola e l'effetto del rumore aumenta.\n",
    "\n",
    "Per esempio potremmo essere interessati alla distribuzione dei valori del peso del bebè. Nel nostro dataset la colonna da analizzare è la `totalwgt_lb` che misura il valore in libbre.\n",
    "\n",
    "Il grafico qui sotto mostra i valori del primo bambino rispetto agli altri"
   ]
  },
  {
   "cell_type": "code",
   "execution_count": 1,
   "id": "a4c4ac82",
   "metadata": {},
   "outputs": [],
   "source": [
    "from utils import readReadFemPreg\n",
    "\n",
    "preg = readReadFemPreg()\n",
    "live = preg[preg.outcome == 1]\n",
    "\n",
    "firts = live[live.birthord == 1]\n",
    "others = live[live.birthord > 1]"
   ]
  },
  {
   "cell_type": "code",
   "execution_count": 2,
   "id": "a79e89a8",
   "metadata": {},
   "outputs": [],
   "source": [
    "pfirst  = firts['totalwgt_lb'].value_counts(normalize=True).sort_index()\n",
    "pothers = others['totalwgt_lb'].value_counts(normalize=True).sort_index()"
   ]
  },
  {
   "cell_type": "code",
   "execution_count": 3,
   "id": "4ef67d94",
   "metadata": {},
   "outputs": [
    {
     "data": {
      "text/plain": [
       "<matplotlib.legend.Legend at 0x24cff6c3670>"
      ]
     },
     "execution_count": 3,
     "metadata": {},
     "output_type": "execute_result"
    },
    {
     "data": {
      "image/png": "[encoded data removed]",
      "text/plain": [
       "<Figure size 432x288 with 1 Axes>"
      ]
     },
     "metadata": {
      "needs_background": "light"
     },
     "output_type": "display_data"
    }
   ],
   "source": [
    "import matplotlib.pyplot as plt\n",
    "import numpy as np\n",
    "width = 0.1\n",
    "\n",
    "fig, ax = plt.subplots()\n",
    "ax.bar(pfirst.index - width/2,pfirst.values, width, label='first')\n",
    "ax.bar(pothers.index + width/2,pothers.values, width, label='others')\n",
    "\n",
    "plt.legend(loc='upper right')"
   ]
  },
  {
   "cell_type": "markdown",
   "id": "93a4afaf",
   "metadata": {},
   "source": [
    "Nel complesso queste distribuzioni ricordano la forma a campana di una distribuzione normale, con molti valori vicino alla media e pochi più alti e più bassi.\n",
    "\n",
    "Ma parti di questa figura sono di difficile interpretazione, ci sono molti picchi e avvallamenti con alcune apparenti differenze tra le distribuzioni. \n",
    "\n",
    "È difficile dire quali di queste features siano significative, ed inoltre è difficile capire complessivamente i suo pattern.\n",
    "Per esempio quale delle due distribizioni ha la media più alta ?\n",
    "\n",
    "Questi problemi possono essere mitigati usando la tecnica del binning, dividendo i dati in bin con valori che non si sovrappongano ma quale è la dimensione giusta da dare a ciascuno?\n",
    "\n",
    "Come alternativa si puo usare la funzione di ripartizione, prima di partire dobbiamo riprendere in mano il concetto di **percentile**.\n",
    "\n",
    "## I percentili\n",
    "\n",
    "Se si è mai fatto un test standardizzato probabilmente si è ricevuta ua risposta e un rango percentile. In questo contesto il rango percentile è la frazione di persone che hanno ricevuto un voto inferiore o uguale al tuo. Dunque se sei nel 90-esimo percentile il tuo voto è stato migliore o uguale del 90% delle persone che hanno eseguito il test.\n",
    "\n",
    "Come si calcola il percentile lo abbiamo visto nella lezione precedente, la differenza tra percentile e rango percentile sta nel fatto che il rango percentile dato un valore calcola il percentile associato ad esso mentre nel percentile viene presto un rango percentile e come risultato si ha il percentile associato ad esso.\n",
    "\n",
    "## La Funzione di ripartizione\n",
    "Ora che sappiamo come funzionano i percentili e il rango percentile possiamo affrontare la funzione di ripartizione (CDF cumulative distribution function).\n",
    "Questa funzione mappa un valore nel suo rango percentile, possiamo dire che la funzione CDF è una funzione di x dove per ogni x  valore della distribuzione si calcola la frazione di valori che sono minori o uguali ad x.\n",
    "\n",
    "Se dovessimo scrivere in codice pyhton questa funzione dovrebbe prendere in ingresso la sequenza di valori t e il valore x\n",
    "\n",
    "```pyhton\n",
    "def evalCdf(t,x):\n",
    "    count = 0.0\n",
    "    for value in t:\n",
    "        if value <= x:\n",
    "            count += 1.0\n",
    "    \n",
    "    prob = count / len(t)\n",
    "    \n",
    "    return prob\n",
    " ```\n",
    " \n",
    "Supponiamo di avere la sequenza di valori `[1, 2, 2, 2, 5]` la funzione di ripartizione avrà i seguenti risultati per i vari valori di x:\n",
    "\n",
    "* CDF(0) = 0\n",
    "* CDF(1) = 0.2\n",
    "* CDF(2) = 0.6\n",
    "* CDF(3) = 0.8\n",
    "* CDF(4) = 0.8\n",
    "* CDF(5) = 1\n",
    "\n",
    "Possiamo valutare la funzione per ogni valore di x, non solo i valori presenti nel campione.\n",
    "Se x è più piccolo del più piccolo valore del campione CDF(x) ha come valore 0 mentre se x è più grande del massimo valore del campione CDF(x) sarà 1.\n",
    "\n",
    "La rappresentazione grafica del campione visto prima può essere rappresentato graficamente:"
   ]
  },
  {
   "cell_type": "code",
   "execution_count": 4,
   "id": "d8850a8e",
   "metadata": {},
   "outputs": [
    {
     "data": {
      "text/plain": [
       "<BarContainer object of 7 artists>"
      ]
     },
     "execution_count": 4,
     "metadata": {},
     "output_type": "execute_result"
    },
    {
     "data": {
      "image/png": "[encoded data removed]",
      "text/plain": [
       "<Figure size 432x288 with 1 Axes>"
      ]
     },
     "metadata": {
      "needs_background": "light"
     },
     "output_type": "display_data"
    }
   ],
   "source": [
    "%matplotlib inline\n",
    "import matplotlib.pyplot as plt\n",
    "import numpy as np\n",
    "\n",
    "t = [1, 2, 2, 2, 5]\n",
    "\n",
    "def evalCdf(t,x):\n",
    "    count = 0.0\n",
    "    for value in t:\n",
    "        if value <= x:\n",
    "            count += 1.0\n",
    "\n",
    "    prob = count / len(t)\n",
    "\n",
    "    return prob\n",
    "\n",
    "d = {}\n",
    "for x in range(max(t) + 2):\n",
    "    d[x] = evalCdf(t,x)\n",
    "\n",
    "plt.bar(d.keys(), d.values())"
   ]
  },
  {
   "cell_type": "markdown",
   "id": "b217c605",
   "metadata": {},
   "source": [
    "Utilizziamo ora pandas per rappresentare la funzione di ripartizione applicata al periodo di gestazione del dataset"
   ]
  },
  {
   "cell_type": "code",
   "execution_count": 5,
   "id": "0efdd0ac",
   "metadata": {},
   "outputs": [],
   "source": [
    "import pandas as pd\n",
    "stats_df = live.groupby('prglngth')['prglngth'].agg('count').pipe(pd.DataFrame).rename(columns = {'prglngth': 'frequency'})\n",
    "stats_df['pmf'] = stats_df['frequency'] / sum(stats_df['frequency'])\n",
    "stats_df['cdf'] = stats_df['pmf'].cumsum()\n",
    "stats_df = stats_df.reset_index()"
   ]
  },
  {
   "cell_type": "code",
   "execution_count": 6,
   "id": "3de59621",
   "metadata": {},
   "outputs": [
    {
     "data": {
      "text/plain": [
       "<matplotlib.collections.LineCollection at 0x24c9352a760>"
      ]
     },
     "execution_count": 6,
     "metadata": {},
     "output_type": "execute_result"
    },
    {
     "data": {
      "image/png": "[encoded data removed]",
      "text/plain": [
       "<Figure size 432x288 with 1 Axes>"
      ]
     },
     "metadata": {
      "needs_background": "light"
     },
     "output_type": "display_data"
    }
   ],
   "source": [
    "stats_df.plot(x = 'prglngth', y = ['pmf', 'cdf'], grid = True)\n",
    "plt.vlines(39, 0, 1, linestyles =\"dotted\", colors =\"k\")"
   ]
  },
  {
   "cell_type": "markdown",
   "id": "c0339a77",
   "metadata": {},
   "source": [
    "Un modo di leggere la funzione di ripartizione è cercare il percentile. A esempio sembra che il 10% delle gravidanze sia più corta di 36 settimane e circa il 90% delle gravidanze sia più corta di 41 settimane.\n",
    "\n",
    "La funzione di ripartizione fornisce una rappresentazione visuale della forma della distribuzione. \n",
    "Un valore comune appare come un gradino, nell'esempio precendente si vede che la moda di 39 settembre e ci sono pochissimi valori sotto le 30 settimane e li il grafico si appiattisce.\n",
    "\n",
    "## Comparare le distribuzioni \n",
    "\n",
    "La funzione di ripartizione è molto utile se dobbiamo confrontare delle distribuzione "
   ]
  },
  {
   "cell_type": "code",
   "execution_count": 7,
   "id": "0652b770",
   "metadata": {},
   "outputs": [],
   "source": [
    "stats_df = firts.groupby('totalwgt_lb')['totalwgt_lb'].agg('count').pipe(pd.DataFrame).rename(columns = {'totalwgt_lb': 'frequency'})\n",
    "stats_df['pmf'] = stats_df['frequency'] / sum(stats_df['frequency'])\n",
    "stats_df['cdf'] = stats_df['pmf'].cumsum()\n",
    "stats_df = stats_df.reset_index()"
   ]
  },
  {
   "cell_type": "code",
   "execution_count": 8,
   "id": "72af72f5",
   "metadata": {},
   "outputs": [],
   "source": [
    "stats_dfo = others.groupby('totalwgt_lb')['totalwgt_lb'].agg('count').pipe(pd.DataFrame).rename(columns = {'totalwgt_lb': 'frequency'})\n",
    "stats_dfo['pmf'] = stats_dfo['frequency'] / sum(stats_dfo['frequency'])\n",
    "stats_dfo['cdf'] = stats_dfo['pmf'].cumsum()\n",
    "stats_dfo = stats_dfo.reset_index()"
   ]
  },
  {
   "cell_type": "code",
   "execution_count": 9,
   "id": "e1fb4415",
   "metadata": {},
   "outputs": [
    {
     "data": {
      "text/plain": [
       "<matplotlib.legend.Legend at 0x24c93647f70>"
      ]
     },
     "execution_count": 9,
     "metadata": {},
     "output_type": "execute_result"
    },
    {
     "data": {
      "image/png": "[encoded data removed]",
      "text/plain": [
       "<Figure size 432x288 with 1 Axes>"
      ]
     },
     "metadata": {
      "needs_background": "light"
     },
     "output_type": "display_data"
    }
   ],
   "source": [
    "plt.plot(stats_df.totalwgt_lb,stats_df.cdf, label='first')\n",
    "plt.plot(stats_dfo.totalwgt_lb,stats_dfo.cdf, label='others')\n",
    "\n",
    "plt.ylim(0,1)\n",
    "plt.legend(loc='upper right')"
   ]
  },
  {
   "cell_type": "markdown",
   "id": "4c7a2d3c",
   "metadata": {},
   "source": [
    "La figura sopra mostra il risultato della comparazione, possiamo vedere che il primo figlio tenda ad essere leggermente più leggero dei successivi. \n",
    "\n",
    "\n",
    "## Comparare i ranghi percentili\n",
    "\n",
    "I ranghi percentili sono utili per comparare delle misure tra diversi gruppi.\n",
    "Per esempio le persone che completano una gara di corsa sono raggruppate per età e sesso.\n",
    "\n",
    "Per comparare le persone in differenti gruppi di età si possono convertire i tempi in ranghi percentili, per poi riportare il percentile dell'altro gruppo al valore desiderato.\n"
   ]
  },
  {
   "cell_type": "code",
   "execution_count": null,
   "id": "41e31b30",
   "metadata": {},
   "outputs": [],
   "source": []
  }
 ],
 "metadata": {
  "kernelspec": {
   "display_name": "Python 3 (ipykernel)",
   "language": "python",
   "name": "python3"
  },
  "language_info": {
   "codemirror_mode": {
    "name": "ipython",
    "version": 3
   },
   "file_extension": ".py",
   "mimetype": "text/x-python",
   "name": "python",
   "nbconvert_exporter": "python",
   "pygments_lexer": "ipython3",
   "version": "3.9.7"
  }
 },
 "nbformat": 4,
 "nbformat_minor": 5
}
