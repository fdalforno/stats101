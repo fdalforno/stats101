{
 "cells": [
  {
   "cell_type": "markdown",
   "id": "679ab12b",
   "metadata": {},
   "source": [
    "# Probabilità\n",
    "\n",
    "Fino ad ora abbiamo visto la parte di statistica che partendo dai dati ci aiuta a capire le cause di un fenomeno.\n",
    "Iniziamo un nuovo capitolo dedicato alla probabilità che partendo dalla descrizione delle cause ci aiuta a prevedere i dati.\n",
    "\n",
    "Partiamo subito con una parte importante del nostro corso, la probabilità condizionata.\n",
    "Cominciamo con un esperimento mentale \n",
    "\n",
    "## Linda la bancaria\n",
    "Per introdurre la probabilità condizionata useremo un esperimento di Tversky and Kahneman due studiosi che posero questa domanda ad un gruppo di persone:\n",
    "\n",
    "Linda ha 31 anni, single, aperta e molto brillante. Si è laureata in filosofia. Da studente, era molto impegnata nei problemi di discriminazione e giustizia sociale, e ha anche partecipato a manifestazioni antinucleari. Quale delle due seguenti alternative è più probabile:\n",
    "\n",
    "Linda lavora in banca come cassiera.\n",
    "Linda lavora in banca come cassiera ed è un’attivista nel movimento femminista.\n",
    "\n",
    "Molte persone scelsero la seconda opzione presubilmente perchè sembra più coerente con la descrizione, sembra sia insolito che Linda sia solo una cassiera, ci sembra più consistente che sia anche femminista.\n",
    "\n",
    "Ma la seconda risposta non può essere più probabile, vediamo il perchè.\n",
    "Supponiamo di avere 1000 persone che corrispondono alla descrizione di Linda, e che 10 lavorino in banca come cassiera.\n",
    "Quante di loro saranno anche femministe?  Al massimo lo saranno tutte e 10 in quel caso la seconda opzione e equiprobabile. \n",
    "Se come converrete con me queste saranno meno di 10 la seconda opzione sarà meno probabile. Ma in nessun modo la seconda opzione sarà più probabile.\n",
    "\n",
    "A questo punto possiamo iniziare a spiegare la definizione di probabilità, questa però puo rilevarsi più difficile da spiegare di quel che si pensi.\n",
    "\n",
    "Ora per evitare di bloccarci già all'inizio diamo la definizione semplice, la probabilità è una frazione di un insieme finito.\n",
    "Per esempio de intrervistiamo 1000 persone e 20 sono dei cassieri, la frazione che lavora come cassieri rappresenta il 0.02 o il 2%.\n",
    "\n",
    "Se scegliessimo una persona in questa popolazione a caso, la probabilità che questa sia un banchiere è del 2%.\n",
    "Quando diciamo \"a caso\" intendiamo che ogni persona ha la stessa probabilità di essere scelta.\n",
    "\n",
    "Con queste definizioni e un dataset appropriato possiamo calcolare le probabilità."
   ]
  },
  {
   "cell_type": "code",
   "execution_count": 1,
   "id": "9ea69103",
   "metadata": {},
   "outputs": [
    {
     "data": {
      "text/html": [
       "<div>\n",
       "<style scoped>\n",
       "    .dataframe tbody tr th:only-of-type {\n",
       "        vertical-align: middle;\n",
       "    }\n",
       "\n",
       "    .dataframe tbody tr th {\n",
       "        vertical-align: top;\n",
       "    }\n",
       "\n",
       "    .dataframe thead th {\n",
       "        text-align: right;\n",
       "    }\n",
       "</style>\n",
       "<table border=\"1\" class=\"dataframe\">\n",
       "  <thead>\n",
       "    <tr style=\"text-align: right;\">\n",
       "      <th></th>\n",
       "      <th>year</th>\n",
       "      <th>age</th>\n",
       "      <th>sex</th>\n",
       "      <th>polviews</th>\n",
       "      <th>partyid</th>\n",
       "      <th>indus10</th>\n",
       "    </tr>\n",
       "    <tr>\n",
       "      <th>caseid</th>\n",
       "      <th></th>\n",
       "      <th></th>\n",
       "      <th></th>\n",
       "      <th></th>\n",
       "      <th></th>\n",
       "      <th></th>\n",
       "    </tr>\n",
       "  </thead>\n",
       "  <tbody>\n",
       "    <tr>\n",
       "      <th>1</th>\n",
       "      <td>1974</td>\n",
       "      <td>21.0</td>\n",
       "      <td>1</td>\n",
       "      <td>4.0</td>\n",
       "      <td>2.0</td>\n",
       "      <td>4970.0</td>\n",
       "    </tr>\n",
       "    <tr>\n",
       "      <th>2</th>\n",
       "      <td>1974</td>\n",
       "      <td>41.0</td>\n",
       "      <td>1</td>\n",
       "      <td>5.0</td>\n",
       "      <td>0.0</td>\n",
       "      <td>9160.0</td>\n",
       "    </tr>\n",
       "    <tr>\n",
       "      <th>5</th>\n",
       "      <td>1974</td>\n",
       "      <td>58.0</td>\n",
       "      <td>2</td>\n",
       "      <td>6.0</td>\n",
       "      <td>1.0</td>\n",
       "      <td>2670.0</td>\n",
       "    </tr>\n",
       "    <tr>\n",
       "      <th>6</th>\n",
       "      <td>1974</td>\n",
       "      <td>30.0</td>\n",
       "      <td>1</td>\n",
       "      <td>5.0</td>\n",
       "      <td>4.0</td>\n",
       "      <td>6870.0</td>\n",
       "    </tr>\n",
       "    <tr>\n",
       "      <th>7</th>\n",
       "      <td>1974</td>\n",
       "      <td>48.0</td>\n",
       "      <td>1</td>\n",
       "      <td>5.0</td>\n",
       "      <td>4.0</td>\n",
       "      <td>7860.0</td>\n",
       "    </tr>\n",
       "  </tbody>\n",
       "</table>\n",
       "</div>"
      ],
      "text/plain": [
       "        year   age  sex  polviews  partyid  indus10\n",
       "caseid                                             \n",
       "1       1974  21.0    1       4.0      2.0   4970.0\n",
       "2       1974  41.0    1       5.0      0.0   9160.0\n",
       "5       1974  58.0    2       6.0      1.0   2670.0\n",
       "6       1974  30.0    1       5.0      4.0   6870.0\n",
       "7       1974  48.0    1       5.0      4.0   7860.0"
      ]
     },
     "execution_count": 1,
     "metadata": {},
     "output_type": "execute_result"
    }
   ],
   "source": [
    "import pandas as pd\n",
    "\n",
    "gss = pd.read_csv('./data/gss_bayes.csv', index_col=0)\n",
    "gss.head()"
   ]
  },
  {
   "cell_type": "markdown",
   "id": "b81b9538",
   "metadata": {},
   "source": [
    "Il dataframe che contiene i dati è composto dalle seguenti colonne:\n",
    "\n",
    "* caseid: Il codice che rappresenta l'intervistato\n",
    "* year: l'anno in cui la persona ha risposto all'intervista\n",
    "* age: l'età della persona intervistata\n",
    "* sex: il sesso della persona intervistata\n",
    "* polviews: opinione politica della persona su una gamma da liberale a conservatore\n",
    "* partyid: Affiliazione politica: Democratica, Indipendente o Repubblicana\n",
    "* indus10: [Codice](https://gssdataexplorer.norc.org/variables/17/vshow) del settore industriale in cui l'intervistato lavora\n",
    "\n",
    "Osserviamo nel dettaglio la variabile indus10.\n",
    "## La percentuale dei bancari\n",
    "Il codice per \"Attività bancarie e connesse\" è il 6870, possiamo dunque selezionare i bancari così:"
   ]
  },
  {
   "cell_type": "code",
   "execution_count": 2,
   "id": "622db77a",
   "metadata": {},
   "outputs": [
    {
     "data": {
      "text/plain": [
       "caseid\n",
       "1    False\n",
       "2    False\n",
       "5    False\n",
       "6     True\n",
       "7    False\n",
       "Name: indus10, dtype: bool"
      ]
     },
     "execution_count": 2,
     "metadata": {},
     "output_type": "execute_result"
    }
   ],
   "source": [
    "banker = (gss['indus10'] == 6870)\n",
    "banker.head()"
   ]
  },
  {
   "cell_type": "markdown",
   "id": "d4b8ddb7",
   "metadata": {},
   "source": [
    "Il risultato è un oggetto Series Pandas, che contiene dei valori booleani.\n",
    "Se usiamo la funzione `sum` di questo oggetto, tratteremo i valori `True` come 1 e `False` 0 dunque il totale dei bancari."
   ]
  },
  {
   "cell_type": "code",
   "execution_count": 3,
   "id": "9026ae4a",
   "metadata": {},
   "outputs": [
    {
     "data": {
      "text/plain": [
       "728"
      ]
     },
     "execution_count": 3,
     "metadata": {},
     "output_type": "execute_result"
    }
   ],
   "source": [
    "banker.sum()"
   ]
  },
  {
   "cell_type": "markdown",
   "id": "48c072ee",
   "metadata": {},
   "source": [
    "In questo dataset ci sono 728 banchieri.\n",
    "Per calcolare la frazione dei banchieri, possiamo usare la funzione `mean`, che calcola la frazione dei valori True nella serie."
   ]
  },
  {
   "cell_type": "code",
   "execution_count": 4,
   "id": "34c99a7d",
   "metadata": {},
   "outputs": [
    {
     "name": "stdout",
     "output_type": "stream",
     "text": [
      "0.0148\n"
     ]
    }
   ],
   "source": [
    "print(\"{0:.4f}\".format(banker.mean()))"
   ]
  },
  {
   "cell_type": "markdown",
   "id": "6feadbb0",
   "metadata": {},
   "source": [
    "Circa l'1.5% delle persone intervistate rappresenta un bancario, se scegliessimo una persona dal dataset avremmo una probabilità di scegliere un bancario pari all'1.5%\n",
    "\n",
    "## Funzione di probabilità\n",
    "Creiamo una funzione dalla sezione precedente che data una serie di valori Booleani e ritorna una probabilità:"
   ]
  },
  {
   "cell_type": "code",
   "execution_count": 5,
   "id": "e2c8b483",
   "metadata": {},
   "outputs": [],
   "source": [
    "def prob(A):\n",
    "    \"\"\"Calcolo una probabilità di una proposizione A\"\"\"    \n",
    "    return A.mean()"
   ]
  },
  {
   "cell_type": "markdown",
   "id": "4270d84a",
   "metadata": {},
   "source": [
    "Possiamo calcolare la frazione dei bancari con questa chiamata:"
   ]
  },
  {
   "cell_type": "code",
   "execution_count": 6,
   "id": "73df623e",
   "metadata": {},
   "outputs": [
    {
     "data": {
      "text/plain": [
       "0.014769730168391155"
      ]
     },
     "execution_count": 6,
     "metadata": {},
     "output_type": "execute_result"
    }
   ],
   "source": [
    "prob(banker)"
   ]
  },
  {
   "cell_type": "markdown",
   "id": "2afbb89e",
   "metadata": {},
   "source": [
    "Ora controlliamo un'altra variabile in questo dataset. I valori della colonna sex sono codificati in questo modo:\n",
    "\n",
    "\n",
    "1.    Mschio\n",
    "2.    Femmina\n",
    "\n",
    "Possiamo ottenere una serie booleana in questo modo"
   ]
  },
  {
   "cell_type": "code",
   "execution_count": 7,
   "id": "300bfe72",
   "metadata": {},
   "outputs": [],
   "source": [
    "female = (gss['sex'] == 2)"
   ]
  },
  {
   "cell_type": "markdown",
   "id": "901eab34",
   "metadata": {},
   "source": [
    "E usiamo questo per calcolare la percentuale delle intervistate donne."
   ]
  },
  {
   "cell_type": "code",
   "execution_count": 8,
   "id": "6b97fe11",
   "metadata": {},
   "outputs": [
    {
     "data": {
      "text/plain": [
       "0.5378575776019476"
      ]
     },
     "execution_count": 8,
     "metadata": {},
     "output_type": "execute_result"
    }
   ],
   "source": [
    "prob(female)"
   ]
  },
  {
   "cell_type": "markdown",
   "id": "54b63c65",
   "metadata": {},
   "source": [
    "La percentuale delle donne nel dataset è più alta della popolazione U.S. perche il dataset GSS non include le persone che vivono in prigioni o caserme militari, ovviamente questa popolazione è probabilmente maschile.\n",
    "\n",
    "## Opinioni politiche e partiti\n",
    "Le altre variabili che considereremo sono `polviews` che descrive le opinioni politiche degli intervistati, e `partyid` che descrive l'appartenenza ad un partito politico.\n",
    "\n",
    "I valori di `polviews` sono su una scala di 7 punti:\n",
    "\n",
    "1.    Estremamente liberale\n",
    "2.    Liberale\n",
    "3.    Leggermente liberale\n",
    "4.    Moderato\n",
    "5.    Leggermente Conservatore\n",
    "6.    Conservatore\n",
    "7.    Estremante Conservatore\n",
    "\n",
    "Definiremo una variabile liberale, che indica le persone che hanno risposto: Estremamente liberale, Liberale, Leggermente liberale.\n",
    "\n"
   ]
  },
  {
   "cell_type": "code",
   "execution_count": 9,
   "id": "3688c66f",
   "metadata": {},
   "outputs": [],
   "source": [
    "liberal = (gss['polviews'] <= 3)"
   ]
  },
  {
   "cell_type": "markdown",
   "id": "9256c9bf",
   "metadata": {},
   "source": [
    "Qui la frazione degli intervistati che si sono liberali."
   ]
  },
  {
   "cell_type": "code",
   "execution_count": 10,
   "id": "d31022c0",
   "metadata": {},
   "outputs": [
    {
     "data": {
      "text/plain": [
       "0.27374721038750255"
      ]
     },
     "execution_count": 10,
     "metadata": {},
     "output_type": "execute_result"
    }
   ],
   "source": [
    "prob(liberal)"
   ]
  },
  {
   "cell_type": "markdown",
   "id": "54244d37",
   "metadata": {},
   "source": [
    "Se scegliessimo una persona a caso in questo dataset, la probabilità che sia liberale è circa del 27%.\n",
    "Il valore di `partyid` sono codificati in questo modo:\n",
    "\n",
    "0.    Fortemente democratico\n",
    "1.    Non molto democratico\n",
    "2.    Indipendente, quasi democratico\n",
    "3.    Indipendente\n",
    "4.    Indipendente, quasi repubblicano\n",
    "5.    Non molto repubblicano\n",
    "6.    Fortemente repubblicano\n",
    "7.    Altri partiti\n",
    "\n",
    "Definiremo la variabile `democrat` che include le persone che hanno risposto \"Fortemente democratico\" o \"Non molto democratico\":"
   ]
  },
  {
   "cell_type": "code",
   "execution_count": 11,
   "id": "49a8fae0",
   "metadata": {},
   "outputs": [],
   "source": [
    "democrat = (gss['partyid'] <= 1)"
   ]
  },
  {
   "cell_type": "markdown",
   "id": "116adb48",
   "metadata": {},
   "source": [
    "E questa è la probabilità degli intervistati che sono democratici."
   ]
  },
  {
   "cell_type": "code",
   "execution_count": 12,
   "id": "4f0b222d",
   "metadata": {},
   "outputs": [
    {
     "data": {
      "text/plain": [
       "0.3662609048488537"
      ]
     },
     "execution_count": 12,
     "metadata": {},
     "output_type": "execute_result"
    }
   ],
   "source": [
    "prob(democrat)"
   ]
  },
  {
   "cell_type": "markdown",
   "id": "8c9e79a5",
   "metadata": {},
   "source": [
    "## Congiunzione \n",
    "\n",
    "Ora che abbiamo la definizione di probabilità e una funzione per calcolarla, moviamoci sulla congiunzione.\n",
    "\"Congiunzione\" è un altro nome per la logica e l'operazione. Se abbiamo due [proposizioni](https://it.wikipedia.org/wiki/Proposizione_(logica)), A e B, la congiunzione di A e B sarà vera se sia A che B saranno vere, altrimenti avremo un valore falso. \n",
    "\n",
    "Dunque se abbiamo due serie booleane, possiamo usare l'operatore & per calcolare la loro congiunzione. Per esempio abbiamo gia calcolaro la probabilità che l'intervistato sia un bancario."
   ]
  },
  {
   "cell_type": "code",
   "execution_count": 13,
   "id": "dac4b73c",
   "metadata": {},
   "outputs": [
    {
     "data": {
      "text/plain": [
       "0.014769730168391155"
      ]
     },
     "execution_count": 13,
     "metadata": {},
     "output_type": "execute_result"
    }
   ],
   "source": [
    "prob(banker)"
   ]
  },
  {
   "cell_type": "markdown",
   "id": "0b48222b",
   "metadata": {},
   "source": [
    "e la probabilità che sia democratico"
   ]
  },
  {
   "cell_type": "code",
   "execution_count": 14,
   "id": "84eca3f9",
   "metadata": {},
   "outputs": [
    {
     "data": {
      "text/plain": [
       "0.3662609048488537"
      ]
     },
     "execution_count": 14,
     "metadata": {},
     "output_type": "execute_result"
    }
   ],
   "source": [
    "prob(democrat)"
   ]
  },
  {
   "cell_type": "markdown",
   "id": "c50bde2c",
   "metadata": {},
   "source": [
    "Ora possiamo calcolare la probabilità che l'intervistato sa bancario e democratico:"
   ]
  },
  {
   "cell_type": "code",
   "execution_count": 15,
   "id": "a83dc552",
   "metadata": {},
   "outputs": [
    {
     "data": {
      "text/plain": [
       "0.004686548995739501"
      ]
     },
     "execution_count": 15,
     "metadata": {},
     "output_type": "execute_result"
    }
   ],
   "source": [
    "prob(banker & democrat)"
   ]
  },
  {
   "cell_type": "markdown",
   "id": "4fd8d9a4",
   "metadata": {},
   "source": [
    "Come dovremmo aspettarci, `prob(banker & democrat)` è più bassa di `prob(banker)` perchè non tutti i banchieri sono democratici. Ci aspettiamo anche che la congiunzione sia commutativa cioè che A & B sia lo stesso di B & A per verificarlo possiamo calcolare `prob(democrat & banker)`:"
   ]
  },
  {
   "cell_type": "code",
   "execution_count": 16,
   "id": "dff889da",
   "metadata": {},
   "outputs": [
    {
     "data": {
      "text/plain": [
       "0.004686548995739501"
      ]
     },
     "execution_count": 16,
     "metadata": {},
     "output_type": "execute_result"
    }
   ],
   "source": [
    "prob(democrat & banker)"
   ]
  },
  {
   "cell_type": "markdown",
   "id": "df8b715e",
   "metadata": {},
   "source": [
    "E come ci si può aspettare sono lo stesso valore.\n",
    "\n",
    "## Probabilità condizionata\n",
    "La probabilità condizionata è una probabilità che dipende da una condizione, questà però potrebbe non essere la definizione più utile. Qui alcuni esempi:\n",
    "\n",
    "* Quale è che l'intervistato sia democratico, sapendo che questo sia liberale?\n",
    "* Quale è la probabilità che l'intervistato sia donna, sapendo che questi sia un bancario?\n",
    "* Quale è la probabilità che l'intevistato sia liberale, sapendo che questo è una donna?\n",
    "\n",
    "Partiamo con rispondere alla prima domanda, che possiamo interpretare come: \"Se tutti gli intervistati sono liberali, quale è la frazione dei democratici?\"\n",
    "\n",
    "Possiamo calcolare questa probabilità in due passi:\n",
    "\n",
    "1. Selezioniamo tutti gli intervisati che sono liberali\n",
    "2. Calcoliamo la frazione degli intervitati che sono democratici\n",
    "\n",
    "Per selezionare gli intervistati liberali possiamo usare l'operatore `[]` così:"
   ]
  },
  {
   "cell_type": "code",
   "execution_count": 17,
   "id": "d5d0a016",
   "metadata": {},
   "outputs": [],
   "source": [
    "selected = democrat[liberal]"
   ]
  },
  {
   "cell_type": "markdown",
   "id": "8c89d84f",
   "metadata": {},
   "source": [
    "`selected` contiene i valori dei democratici per gli intevistati liberali, dunque `prob(selected)` è la frazione dei liberali che sono anche democratici"
   ]
  },
  {
   "cell_type": "code",
   "execution_count": 18,
   "id": "c3a5fba9",
   "metadata": {},
   "outputs": [
    {
     "data": {
      "text/plain": [
       "0.5206403320240125"
      ]
     },
     "execution_count": 18,
     "metadata": {},
     "output_type": "execute_result"
    }
   ],
   "source": [
    "prob(selected)"
   ]
  },
  {
   "cell_type": "markdown",
   "id": "c42480ab",
   "metadata": {},
   "source": [
    "Poco più della metà dei liberali sono anche democratici. Se il risultato è più piccolo di quanto ci si aspetta tieni a mente:\n",
    "Abbiamo usato una definizione alquanto rigida di \"democratico\", escludendo gli indipendenti che si appoggiano ai democratici.\n",
    "Il dataset include gli intervistati sin dal 1974, nella prima parte di questo intervallo, c'era meno allineamento tra opinioni politche e appartenenza politica, comparati con il presente. \n",
    "Proviamo con un secondo esempio, \"Quale è la probabilità che l'intervistato sia femmina dato che è un bancario?\" Possiamo interpretare questo \"se tutti gli intervistati fossero banchieri, quale frazione è composta da femmine ?\"\n",
    "\n",
    "Ancora, useremo l'operatore `[]` per selezionare solo i bancari e la funzione `prob` per calcolare la frazione delle femmine."
   ]
  },
  {
   "cell_type": "code",
   "execution_count": 19,
   "id": "f32c638a",
   "metadata": {},
   "outputs": [
    {
     "data": {
      "text/plain": [
       "0.7706043956043956"
      ]
     },
     "execution_count": 19,
     "metadata": {},
     "output_type": "execute_result"
    }
   ],
   "source": [
    "selected = female[banker]\n",
    "prob(selected)"
   ]
  },
  {
   "cell_type": "markdown",
   "id": "a460b4ca",
   "metadata": {},
   "source": [
    "Circa il 77% dei bacari in questo dataset è composto da donne.\n",
    "Uniamo questo codice in una fuznione. Definiremo la funzione `conditional` che prende in ingresso due serie booleane, `proposition` e `given` e calcola la probabilità condizionale:"
   ]
  },
  {
   "cell_type": "code",
   "execution_count": 20,
   "id": "e59a0e96",
   "metadata": {},
   "outputs": [],
   "source": [
    "def conditional(proposition, given):\n",
    "    \"\"\"Probability of A conditioned on given.\"\"\"\n",
    "    return prob(proposition[given])"
   ]
  },
  {
   "cell_type": "markdown",
   "id": "ec2c7d81",
   "metadata": {},
   "source": [
    "Usiamo `conditional` per calcolare la probabilità che un intervistato sia liberale dato il fatto di essere donna."
   ]
  },
  {
   "cell_type": "code",
   "execution_count": 21,
   "id": "88fcd8cb",
   "metadata": {},
   "outputs": [
    {
     "data": {
      "text/plain": [
       "0.27581004111500884"
      ]
     },
     "execution_count": 21,
     "metadata": {},
     "output_type": "execute_result"
    }
   ],
   "source": [
    "conditional(liberal, given=female)"
   ]
  },
  {
   "cell_type": "markdown",
   "id": "4fcd3433",
   "metadata": {},
   "source": [
    "Circa il 28% delle intervistare sono liberali.\n",
    "Abbiamo usato la parola chiave `given` con il parametro female per rendere l'espressione più leggibile.\n",
    "\n",
    "## La probabilità condizionale non è commutativa\n",
    "\n",
    "Abbiamo visto che la congiunzione è commutativa `prob(A & B)` è sempre uguale a `prob(B & A)`.\n",
    "La probabilità condizionale non è commutativa, `conditional(A, B)` non è lo stesso di `conditional(B, A)`.\n",
    "Questo sarà più chiaro se vediamo un esempio, in precedenza abbiamo calcolato la probabilità che un intervistato sia femmina dato che sia una bancaria."
   ]
  },
  {
   "cell_type": "code",
   "execution_count": 22,
   "id": "d8a7ae8e",
   "metadata": {},
   "outputs": [
    {
     "data": {
      "text/plain": [
       "0.7706043956043956"
      ]
     },
     "execution_count": 22,
     "metadata": {},
     "output_type": "execute_result"
    }
   ],
   "source": [
    "conditional(female, given=banker)"
   ]
  },
  {
   "cell_type": "markdown",
   "id": "e635ba75",
   "metadata": {},
   "source": [
    "Il risultato mostra che la maggior parte dei bancari è femmina. Questo non è lo stessa probabilità che un intevistato sia un bancario dato che sia femmina:"
   ]
  },
  {
   "cell_type": "code",
   "execution_count": 23,
   "id": "0517e26b",
   "metadata": {},
   "outputs": [
    {
     "data": {
      "text/plain": [
       "0.02116102749801969"
      ]
     },
     "execution_count": 23,
     "metadata": {},
     "output_type": "execute_result"
    }
   ],
   "source": [
    "conditional(banker, given=female)"
   ]
  },
  {
   "cell_type": "markdown",
   "id": "c945d9a3",
   "metadata": {},
   "source": [
    "Solo circa il 2% delle intervistate è bancaria.\n",
    "Speriamo che questo esempio chiarisca come la probabilità condizionale non sia commutativa. \n",
    "\n",
    "## Condizione e congiunzione\n",
    "Possiamo combinare la probabilità condizionale e la congiunzione. Per esempio questa è la probabilità che una intervistata sia femmina dato il fatto che sia liberale e Democratica."
   ]
  },
  {
   "cell_type": "code",
   "execution_count": 24,
   "id": "441c5234",
   "metadata": {},
   "outputs": [
    {
     "data": {
      "text/plain": [
       "0.576085409252669"
      ]
     },
     "execution_count": 24,
     "metadata": {},
     "output_type": "execute_result"
    }
   ],
   "source": [
    "conditional(female, given=liberal & democrat)"
   ]
  },
  {
   "cell_type": "markdown",
   "id": "5ccf0b0a",
   "metadata": {},
   "source": [
    "Circa il 57% dei liberali democratici è femmina.\n",
    "Questa invece è la probabilità che una donna liberale sia anche una bancaria: "
   ]
  },
  {
   "cell_type": "code",
   "execution_count": 25,
   "id": "2cb0dd3f",
   "metadata": {},
   "outputs": [
    {
     "data": {
      "text/plain": [
       "0.17307692307692307"
      ]
     },
     "execution_count": 25,
     "metadata": {},
     "output_type": "execute_result"
    }
   ],
   "source": [
    "conditional(liberal & female, given=banker)"
   ]
  },
  {
   "cell_type": "markdown",
   "id": "4b53fcb9",
   "metadata": {},
   "source": [
    "Circa il 17% dei bancari è una donna liberale\n",
    "\n",
    "## Legge delle probabilità\n",
    "\n",
    "In queste poche sezioni, deriveremo tre relazioni tra congiunzione e probabilità condizionale:\n",
    "* **Teorema 1:** usare una congiunzione per calcolare la probabilità condizionata.\n",
    "* **Teorema 2:** usare la probabilità condizionale per calcolare la congiunzione.\n",
    "* **Teorema 3:** usare la probabilità condizionale conditional(A, B) per calcolare la probabilità conditional(B, A). Questo è anche conosciuto come teorema di Bayes.\n",
    "\n",
    "Scriveremo questo teorema usando le notazioni matematiche della probabilità:\n",
    "* $P(A)$ è la probabilità di una proposizione $A$.\n",
    "* $P(A~\\mathrm{and}~B)$ è la probabilità della congiunzione di $A$ e $B$, cioè la probabilità che entrambi siano veri.\n",
    "* $P(A | B)$ è la probabilità condizionale $A$ dato che $B$ è vero. La linea verticale tra $A$ e $B$ viene pronunciata \"dato che\".\n",
    "\n",
    "Con queste notazioni siamo pronti al teorema 1.\n",
    "\n",
    "## Teorema 1\n",
    "Quale frazione dei bancari sono donne? Abbiamo già visto una strada per calcolare la risposta:\n",
    "Useremo l'operatore `[]` per selezionare i bancari, poi useremo la funzione `mean` per calcolare la frazione delle bancarie che sono donne.\n",
    "Possiamo scrivere questi passi come:"
   ]
  },
  {
   "cell_type": "code",
   "execution_count": 26,
   "id": "eb58daa1",
   "metadata": {},
   "outputs": [
    {
     "data": {
      "text/plain": [
       "0.7706043956043956"
      ]
     },
     "execution_count": 26,
     "metadata": {},
     "output_type": "execute_result"
    }
   ],
   "source": [
    "female[banker].mean()"
   ]
  },
  {
   "cell_type": "markdown",
   "id": "6dcd81bf",
   "metadata": {},
   "source": [
    "Oppure possiamo usare la funzione `conditional` che fa la stessa cosa:"
   ]
  },
  {
   "cell_type": "code",
   "execution_count": 27,
   "id": "fcfbc5f2",
   "metadata": {},
   "outputs": [
    {
     "data": {
      "text/plain": [
       "0.7706043956043956"
      ]
     },
     "execution_count": 27,
     "metadata": {},
     "output_type": "execute_result"
    }
   ],
   "source": [
    "conditional(female, given=banker)"
   ]
  },
  {
   "cell_type": "markdown",
   "id": "c3cd2c90",
   "metadata": {},
   "source": [
    "Esiste un altro modo di calcolare la probabilità condizionale, calcolando il rapporto delle due probabilità:\n",
    "La frazione delle intervistate donne e bancarie e la frazione delle intervistate che sono donne\n",
    "In altre parole: di tutti i bancari, quale frazione è bancaria e donna?."
   ]
  },
  {
   "cell_type": "code",
   "execution_count": 28,
   "id": "c11cc185",
   "metadata": {},
   "outputs": [
    {
     "data": {
      "text/plain": [
       "0.7706043956043956"
      ]
     },
     "execution_count": 28,
     "metadata": {},
     "output_type": "execute_result"
    }
   ],
   "source": [
    "prob(female & banker) / prob(banker)"
   ]
  },
  {
   "cell_type": "markdown",
   "id": "ebb1221c",
   "metadata": {},
   "source": [
    "Il risultato è lo stesso. Questo esempio dimostra la regola generale che lega la probabilità condizionata alla congiunzione.\n",
    "Vediamo come scriverlo in una notazione matematica:\n",
    "\n",
    "$$P(A|B) = \\frac{P(A~\\mathrm{and}~B)}{P(B)}$$\n",
    "\n",
    "\n",
    "Questo è il teorema 1.\n",
    "\n",
    "## Teorema 2\n",
    "Se prendiamo il teorema 1 e moltiplichiamo entrambi i lati con $P(B)$ otteniemo il teorema 2.\n",
    "\n",
    "$$P(A~\\mathrm{and}~B) = P(B) ~ P(A|B)$$\n",
    "\n",
    "Questa formula suggerisce un secondo modo di calcolare la congiunzione: invece di usare l'operatore `&`, possiamo calcolare il prodotto delle due probabilità.\n",
    "\n",
    "Vediamo come funziona per l'esempio `liberal` e `democrat`. Qui il risultato dell'operazione `&`:"
   ]
  },
  {
   "cell_type": "code",
   "execution_count": 29,
   "id": "a7863fc9",
   "metadata": {},
   "outputs": [
    {
     "data": {
      "text/plain": [
       "0.1425238385067965"
      ]
     },
     "execution_count": 29,
     "metadata": {},
     "output_type": "execute_result"
    }
   ],
   "source": [
    "prob(liberal & democrat)"
   ]
  },
  {
   "cell_type": "markdown",
   "id": "a39472ef",
   "metadata": {},
   "source": [
    "Qui il risultato usando il teorema 2:"
   ]
  },
  {
   "cell_type": "code",
   "execution_count": 30,
   "id": "7c341aa3",
   "metadata": {},
   "outputs": [
    {
     "data": {
      "text/plain": [
       "0.1425238385067965"
      ]
     },
     "execution_count": 30,
     "metadata": {},
     "output_type": "execute_result"
    }
   ],
   "source": [
    "prob(democrat) * conditional(liberal, democrat)"
   ]
  },
  {
   "cell_type": "markdown",
   "id": "8ef3cda0",
   "metadata": {},
   "source": [
    "Il valore è lo stesso.\n",
    "\n",
    "## Teorema 3\n",
    "\n",
    "Abbiamo stabilito che la congiunzione è commutativa. Con una notazione matematica possiamo scrivere:\n",
    "\n",
    "$$P(A~\\mathrm{and}~B) = P(B~\\mathrm{and}~A)$$\n",
    "\n",
    "Se applichiamo il Teorema 2 ad entrambi i lati otteniamo: \n",
    "\n",
    "$$P(B) P(A|B) = P(A) P(B|A)$$\n",
    "\n",
    "Qui un modo per interpretare questo: se volgiamo controllare $A$ e $B$, possiamo farlo nel seguente ordine:\n",
    "\n",
    "1. Possiamo controllare prima $B$, poi $A$ condizionato su $B$ oppure\n",
    "2. Possiamo controllare prima $A$, poi $B$ condizionato su $A$.\n",
    "\n",
    "Se dividiamo entrambe le parti con $P(B)$, otteniamo il teorema 3:\n",
    "\n",
    "$$P(A|B) = \\frac{P(A) P(B|A)}{P(B)}$$\n",
    "\n",
    "E questo è il teorema di Bayes.\n",
    "Per vedere come funzione calcoliamo la frazione dei bancari che sono liberali, prima usando la funzione `conditional`:"
   ]
  },
  {
   "cell_type": "code",
   "execution_count": 31,
   "id": "28f02bc5",
   "metadata": {},
   "outputs": [
    {
     "data": {
      "text/plain": [
       "0.2239010989010989"
      ]
     },
     "execution_count": 31,
     "metadata": {},
     "output_type": "execute_result"
    }
   ],
   "source": [
    "conditional(liberal, given=banker)"
   ]
  },
  {
   "cell_type": "markdown",
   "id": "36981550",
   "metadata": {},
   "source": [
    "qui il risultato usando il teorema di bayes"
   ]
  },
  {
   "cell_type": "code",
   "execution_count": 32,
   "id": "9ce81d63",
   "metadata": {},
   "outputs": [
    {
     "data": {
      "text/plain": [
       "0.2239010989010989"
      ]
     },
     "execution_count": 32,
     "metadata": {},
     "output_type": "execute_result"
    }
   ],
   "source": [
    "prob(liberal) * conditional(banker, liberal) / prob(banker)"
   ]
  },
  {
   "cell_type": "markdown",
   "id": "d8bd2b58",
   "metadata": {},
   "source": [
    "e come si vede il risultato è uguale.\n",
    "\n",
    "## La legge della Probabilità totale\n",
    "\n",
    "In aggiunta a questi tre teoremi, c'è una cosa ulteriore che dovremmo saper usare per fare statistica bayesiana: la legge della probabilità totale.\n",
    "Ecco una forma della legge, espressa in forma matematica:\n",
    "\n",
    "$$P(A) = P(B_1 \\mathrm{and} A) + P(B_2 \\mathrm{and} A)$$\n",
    "\n",
    "\n",
    "In parole, la probabilità di $A$ è la somma di due possibilità: o $B_1$ e $A$ sono vere oppure $B_2$ e $A$ sono vere.\n",
    "Ma questa legge si applica solo se $B_1$ e $B_2$ sono:\n",
    "\n",
    "* Mutualmente esclusive, che significa che solo una alla volta di queste può essere vera e\n",
    "* Colletivamente esaustivo, che significa che una di queste deve essere vera.\n",
    "\n",
    "Come esempio, usiamo questa legge per calcolare la probabilità che un intervistato sia un bancario.\n",
    "Possiamo calcolaro direttamente così: "
   ]
  },
  {
   "cell_type": "code",
   "execution_count": 33,
   "id": "f2f433f6",
   "metadata": {},
   "outputs": [
    {
     "data": {
      "text/plain": [
       "0.014769730168391155"
      ]
     },
     "execution_count": 33,
     "metadata": {},
     "output_type": "execute_result"
    }
   ],
   "source": [
    "prob(banker)"
   ]
  },
  {
   "cell_type": "markdown",
   "id": "1f2c2e9a",
   "metadata": {},
   "source": [
    "Andiamo a confermare che possiamo ottenere lo stesso risultato andando a calcolare i bancari maschi e femmine separatamente.\n",
    "In questo dataset tutti gli intervistati sono segnati come maschi o femmine.\n",
    "Recentemente, il board GSS ha annunciato che avrà delle domande più inclusive. \n",
    "Possiamo ottenere più informazioni a questo [link](https://gender.stanford.edu/news-publications/gender-news/more-inclusive-gender-questions-added-general-social-survey).\n",
    "\n",
    "Abbiamo già un oggetto `Series` con valori Booleani con il valore `True` quando l'intervistato è donna.\n",
    "Qui la serie complementare degli intervistati uomini."
   ]
  },
  {
   "cell_type": "code",
   "execution_count": 34,
   "id": "3691be92",
   "metadata": {},
   "outputs": [],
   "source": [
    "male = (gss['sex'] == 1)"
   ]
  },
  {
   "cell_type": "markdown",
   "id": "d4a98c9a",
   "metadata": {},
   "source": [
    "Possiamo calcolare la probabilità totale dei bancari in questo modo:"
   ]
  },
  {
   "cell_type": "code",
   "execution_count": 35,
   "id": "a9fe863b",
   "metadata": {},
   "outputs": [
    {
     "data": {
      "text/plain": [
       "0.014769730168391155"
      ]
     },
     "execution_count": 35,
     "metadata": {},
     "output_type": "execute_result"
    }
   ],
   "source": [
    "prob(male & banker) + prob(female & banker)"
   ]
  },
  {
   "cell_type": "markdown",
   "id": "d4bcd21c",
   "metadata": {},
   "source": [
    "Poichè maschio e femmina sono mutualmente esclusivi e colletivamente esaustivo, possiamo ottenere lo stesso risultato calcolando la probabilità dei bancari direttamente.\n",
    "\n",
    "Applicando il teorema 2 possiamo scrivere la legge della probabilità totale come\n",
    "\n",
    "$$P(A) = P(B_1) P(A|B_1) + P(B_2) P(A|B_2)$$\n",
    "\n",
    "Possiamo testare il risultato come"
   ]
  },
  {
   "cell_type": "code",
   "execution_count": 36,
   "id": "808fa201",
   "metadata": {},
   "outputs": [
    {
     "data": {
      "text/plain": [
       "0.014769730168391153"
      ]
     },
     "execution_count": 36,
     "metadata": {},
     "output_type": "execute_result"
    }
   ],
   "source": [
    "(prob(male) * conditional(banker, given=male) +\n",
    "prob(female) * conditional(banker, given=female))"
   ]
  },
  {
   "cell_type": "markdown",
   "id": "994da72e",
   "metadata": {},
   "source": [
    "Quando si hanno più di due condizioni, è più coinciso scrivere la legge delle probabilità totale come sommatoria:\n",
    "\n",
    "\n",
    "$$P(A) = \\sum_i P(B_i) P(A|B_i)$$\n",
    "\n",
    "Ancora, questo vale se le condizioni $B_i$ sono mutualmente esclusive e collettivamente esaustive.\n",
    "Come esempio consideriamo `polviews`, che contiene 7 differenti valori."
   ]
  },
  {
   "cell_type": "code",
   "execution_count": 37,
   "id": "12469702",
   "metadata": {},
   "outputs": [
    {
     "data": {
      "text/plain": [
       "1.0     1442\n",
       "2.0     5808\n",
       "3.0     6243\n",
       "4.0    18943\n",
       "5.0     7940\n",
       "6.0     7319\n",
       "7.0     1595\n",
       "Name: polviews, dtype: int64"
      ]
     },
     "execution_count": 37,
     "metadata": {},
     "output_type": "execute_result"
    }
   ],
   "source": [
    "B = gss['polviews']\n",
    "B.value_counts().sort_index()"
   ]
  },
  {
   "cell_type": "markdown",
   "id": "731a92ab",
   "metadata": {},
   "source": [
    "In questa scala `4.0` rappresenta \"Moderato\".\n",
    "Possiamo calcolare la probabilità del bancario moderato così"
   ]
  },
  {
   "cell_type": "code",
   "execution_count": 38,
   "id": "4b98e7e5",
   "metadata": {},
   "outputs": [
    {
     "data": {
      "text/plain": [
       "0.005822682085615744"
      ]
     },
     "execution_count": 38,
     "metadata": {},
     "output_type": "execute_result"
    }
   ],
   "source": [
    "i = 4\n",
    "prob(B==i) * conditional(banker, B==i)"
   ]
  },
  {
   "cell_type": "markdown",
   "id": "5616f0e8",
   "metadata": {},
   "source": [
    "Possiamo usare la funzione `sum` e un generatore di espressioni per calcolare la sommatoria."
   ]
  },
  {
   "cell_type": "code",
   "execution_count": 39,
   "id": "e8476924",
   "metadata": {},
   "outputs": [
    {
     "data": {
      "text/plain": [
       "0.014769730168391157"
      ]
     },
     "execution_count": 39,
     "metadata": {},
     "output_type": "execute_result"
    }
   ],
   "source": [
    "sum(prob(B==i) * conditional(banker, B==i)\n",
    "    for i in range(1, 8))"
   ]
  },
  {
   "cell_type": "markdown",
   "id": "7940e68e",
   "metadata": {},
   "source": [
    "Il risultato è lo stesso.\n",
    "In questo esempio, usiamo la legge della probabilità che introduce più lavoro che calcolare la probabilità direttamente ma tornerà utile in seguito.\n",
    "\n",
    "## Riepilogo\n",
    "\n",
    "Questo è quello che abbiamo fatto:\n",
    "\n",
    "**Teorema 1**  ci da modo di calcolare la probabilità condizionale usando la congiunione:\n",
    "\n",
    "$$P(A|B) = \\frac{P(A~\\mathrm{and}~B)}{P(B)}$$\n",
    "\n",
    "**Teorema 2** ci da modo di calcolare la congiunzione usando la probabilità condizionale:\n",
    "\n",
    "$$P(A~\\mathrm{and}~B) = P(B) P(A|B)$$\n",
    "\n",
    "**Teorema 3**, Chiamato anche teorema di Bayes, ci permette di mettere in relazione $P(A|B)$ e $P(B|A)$ nel seguente modo:\n",
    "\n",
    "$$P(A|B) = \\frac{P(A) P(B|A)}{P(B)}$$\n",
    "\n",
    "**Legge della probabilità totale** ci da modo di calcolare la probabilità totale sommando i vari pezzi:\n",
    "\n",
    "$$P(A) = \\sum_i P(B_i) P(A|B_i)$$\n",
    "\n",
    "A questo punto possiamo chederci, e allora?. Se abbiamo tutti i dati possiamo calcolare tutte le probabilità che vogliamo, che siamo congiunzioni o probabilita condizionate, basta contare non serve usare queste formule.\n",
    "\n",
    "E si in questo caso si ha ragione *se* abbiamo tutti i dati. Ma spesso non li abbiamo, e in quel caso, queste formule ci vengono in aiuto specialmente il teorema di Bayes.\n",
    "\n",
    "\n",
    "### Esercizi\n",
    "\n",
    "\n",
    "**Esercizio** Usiamo i dati in nostro possesso per risolvere una variante del problema di Linda.\n",
    "\n",
    ">Linda ha 31 anni, è single, schietta e molto brillante. Lei è laureanta in filosofica. \n",
    "Quando era studente, lei era molto interessata a questioni quali la discriminazione e la giustizia sociale, ha anche partecipato a manifestazioni contro il nucleare. Cosa è più probabile?\n",
    "\n",
    "> 1. Linda è una bancaria\n",
    "> 2. Linda è una bancaria e si considera una persona liberale e democratica.\n",
    "\n",
    "Per rispondere alla domanda calcolare:\n",
    "\n",
    "* La probabilità che Linda sia una bancaria.\n",
    "* La probabilità che Linda sia una bancaria e liberale\n",
    "* La probabilità che Linda sia una bancaria, liberale e democratica"
   ]
  },
  {
   "cell_type": "code",
   "execution_count": 40,
   "id": "8cf030a5",
   "metadata": {},
   "outputs": [
    {
     "data": {
      "text/plain": [
       "0.011381618989653074"
      ]
     },
     "execution_count": 40,
     "metadata": {},
     "output_type": "execute_result"
    }
   ],
   "source": [
    "prob(banker & female)"
   ]
  },
  {
   "cell_type": "code",
   "execution_count": 41,
   "id": "af6964b8",
   "metadata": {},
   "outputs": [
    {
     "data": {
      "text/plain": [
       "0.002556299452221546"
      ]
     },
     "execution_count": 41,
     "metadata": {},
     "output_type": "execute_result"
    }
   ],
   "source": [
    "prob(banker & female & liberal)"
   ]
  },
  {
   "cell_type": "code",
   "execution_count": 42,
   "id": "b0601287",
   "metadata": {},
   "outputs": [
    {
     "data": {
      "text/plain": [
       "0.0012375735443294787"
      ]
     },
     "execution_count": 42,
     "metadata": {},
     "output_type": "execute_result"
    }
   ],
   "source": [
    "prob(banker & female & liberal & democrat)"
   ]
  },
  {
   "cell_type": "markdown",
   "id": "59c8672d",
   "metadata": {},
   "source": [
    "**Esercizio**: Usare la probabilità condizionale per calcolare la probabilità condizionale dei seguenti casi:\n",
    "Quale è la probabilita che l'intervistato sia liberale, dato che è Democratico?"
   ]
  },
  {
   "cell_type": "code",
   "execution_count": 43,
   "id": "80fecefe",
   "metadata": {},
   "outputs": [
    {
     "data": {
      "text/plain": [
       "0.3891320002215698"
      ]
     },
     "execution_count": 43,
     "metadata": {},
     "output_type": "execute_result"
    }
   ],
   "source": [
    "conditional(liberal, given=democrat)"
   ]
  },
  {
   "cell_type": "markdown",
   "id": "aeb6a136",
   "metadata": {},
   "source": [
    "Quale è la probabilità che un intervistato sia Democratico dato il fatto che è liberale?"
   ]
  },
  {
   "cell_type": "code",
   "execution_count": 44,
   "id": "2dfbaf68",
   "metadata": {},
   "outputs": [
    {
     "data": {
      "text/plain": [
       "0.5206403320240125"
      ]
     },
     "execution_count": 44,
     "metadata": {},
     "output_type": "execute_result"
    }
   ],
   "source": [
    "conditional(democrat, given=liberal)"
   ]
  },
  {
   "cell_type": "markdown",
   "id": "76e6c198",
   "metadata": {},
   "source": [
    "**Esercizio** C'è una [frase famosa](https://quoteinvestigator.com/2014/02/24/heart-head/) su giovani, anziani, liberali e conservatori qualcosa di simile a:\n",
    "\n",
    "> Se non sei liberale a 25 anni non hai un cuore. Se non sei conservatore a 35 non hai un cervello.\n",
    "\n",
    "Che tu sia d'accordo o meno, questo ci suggerisce alcune probabilità che possiamo calcolare come esercizio.\n",
    "Piuttosto che usare delle date specifiche definiamo `young` e `old` come under 30 e over 65: "
   ]
  },
  {
   "cell_type": "code",
   "execution_count": 45,
   "id": "ae967840",
   "metadata": {},
   "outputs": [
    {
     "data": {
      "text/plain": [
       "0.19435991073240008"
      ]
     },
     "execution_count": 45,
     "metadata": {},
     "output_type": "execute_result"
    }
   ],
   "source": [
    "young = (gss['age'] < 30)\n",
    "prob(young)"
   ]
  },
  {
   "cell_type": "code",
   "execution_count": 46,
   "id": "0d5eb17c",
   "metadata": {},
   "outputs": [
    {
     "data": {
      "text/plain": [
       "0.17328058429701765"
      ]
     },
     "execution_count": 46,
     "metadata": {},
     "output_type": "execute_result"
    }
   ],
   "source": [
    "old = (gss['age'] >= 65)\n",
    "prob(old)"
   ]
  },
  {
   "cell_type": "markdown",
   "id": "aa1d626a",
   "metadata": {},
   "source": [
    "Definiamo conservativo una persona con una visione politica \"Conservativa\", \"Leggermente Conservativa\" o \"Estremamente Conservativa\"."
   ]
  },
  {
   "cell_type": "code",
   "execution_count": 47,
   "id": "ff0586a9",
   "metadata": {},
   "outputs": [
    {
     "data": {
      "text/plain": [
       "0.3419354838709677"
      ]
     },
     "execution_count": 47,
     "metadata": {},
     "output_type": "execute_result"
    }
   ],
   "source": [
    "conservative = (gss['polviews'] >= 5)\n",
    "prob(conservative)"
   ]
  },
  {
   "cell_type": "markdown",
   "id": "8ddf3d59",
   "metadata": {},
   "source": [
    "Usa la funzione `prob` e `conditional` per calcolare le seguenti probabilità.\n",
    "\n",
    "* Quale è la probabilità che un intervistato sia un giovane liberale?"
   ]
  },
  {
   "cell_type": "code",
   "execution_count": 48,
   "id": "654d73a3",
   "metadata": {},
   "outputs": [
    {
     "data": {
      "text/plain": [
       "0.06579427875836884"
      ]
     },
     "execution_count": 48,
     "metadata": {},
     "output_type": "execute_result"
    }
   ],
   "source": [
    "prob(young & liberal)"
   ]
  },
  {
   "cell_type": "markdown",
   "id": "a5a31cf2",
   "metadata": {},
   "source": [
    "Quale è la probabilità che una persona giovane sia liberale?"
   ]
  },
  {
   "cell_type": "code",
   "execution_count": 49,
   "id": "0e2ec56e",
   "metadata": {},
   "outputs": [
    {
     "data": {
      "text/plain": [
       "0.338517745302714"
      ]
     },
     "execution_count": 49,
     "metadata": {},
     "output_type": "execute_result"
    }
   ],
   "source": [
    "conditional(liberal, given=young)"
   ]
  },
  {
   "cell_type": "markdown",
   "id": "e10eb383",
   "metadata": {},
   "source": [
    "Quale è la percentuale degli intervistati che sono anziani conservatori?"
   ]
  },
  {
   "cell_type": "code",
   "execution_count": 50,
   "id": "fd3022fa",
   "metadata": {},
   "outputs": [
    {
     "data": {
      "text/plain": [
       "0.06701156421180766"
      ]
     },
     "execution_count": 50,
     "metadata": {},
     "output_type": "execute_result"
    }
   ],
   "source": [
    "prob(old & conservative)"
   ]
  },
  {
   "cell_type": "markdown",
   "id": "d7cf150c",
   "metadata": {},
   "source": [
    "Quale percentuale di conservatori è anziana?"
   ]
  },
  {
   "cell_type": "code",
   "execution_count": 51,
   "id": "66e84f75",
   "metadata": {},
   "outputs": [
    {
     "data": {
      "text/plain": [
       "0.19597721609113564"
      ]
     },
     "execution_count": 51,
     "metadata": {},
     "output_type": "execute_result"
    }
   ],
   "source": [
    "conditional(old, given=conservative)"
   ]
  },
  {
   "cell_type": "code",
   "execution_count": null,
   "id": "eba98427",
   "metadata": {},
   "outputs": [],
   "source": []
  }
 ],
 "metadata": {
  "kernelspec": {
   "display_name": "Python 3 (ipykernel)",
   "language": "python",
   "name": "python3"
  },
  "language_info": {
   "codemirror_mode": {
    "name": "ipython",
    "version": 3
   },
   "file_extension": ".py",
   "mimetype": "text/x-python",
   "name": "python",
   "nbconvert_exporter": "python",
   "pygments_lexer": "ipython3",
   "version": "3.9.7"
  }
 },
 "nbformat": 4,
 "nbformat_minor": 5
}
