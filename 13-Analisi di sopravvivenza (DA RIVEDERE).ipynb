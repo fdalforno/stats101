{
 "cells": [
  {
   "cell_type": "markdown",
   "id": "b36b9002",
   "metadata": {},
   "source": [
    "# Analisi di sopravvivenza\n",
    "\n",
    "L'Analisi di sopravvienza è un modo per descrivere quanto durano le cose. E' usato molto spesso per studiare l'aspettativa di vita, ma si applica anche all'analisi dei componenti meccaninici ed elettronici o più in generale in un intervallo di tempo prima di un evento.\n",
    "\n",
    "Se a qualcuno che conosci è stata diagnosticata una malattia, avresti potuto sentir dire una percentuale di sopravvienza sui 5 anni, che rappresenta la probabilità di sopravvivere 5 anni dopo la diagnosi. La stima e le relative statistiche sono il risultato dell'analisi di sopravvivenza.\n",
    "\n",
    "## Curve di sopravvivenza\n",
    "Il concetto fondamenta di una analisi di sopravvivenza è la curva di sopravvivenza $S(t)$ che è una funzione che mappa la durata $t$ in una probabilità di sopravvivere più di t. Se conosciamo la distribuzione delle durate o \"vite\" trovare la curva di sopravvivenza è semplice è semplicemente il complemento del CDF \n",
    "\n",
    "$$S(t) = 1 − CDF(t)$$ \n",
    "\n",
    "\n",
    "dove $CDF(t)$ è la probabilità di vita minore o uguale a t.\n",
    "Per esempio, nel dataset NSFG, sappiamo la durata di 11189 gravidanze. Possiamo leggere questi dati e calcolare il CDF:"
   ]
  },
  {
   "cell_type": "code",
   "execution_count": 2,
   "id": "84fe89cb",
   "metadata": {},
   "outputs": [
    {
     "name": "stdout",
     "output_type": "stream",
     "text": [
      "Number of complete pregnancies 11189\n",
      "Number of ongoing pregnancies 352\n"
     ]
    },
    {
     "data": {
      "image/png": "[encoded data removed]",
      "text/plain": [
       "<Figure size 432x288 with 1 Axes>"
      ]
     },
     "metadata": {
      "needs_background": "light"
     },
     "output_type": "display_data"
    }
   ],
   "source": [
    "%matplotlib inline\n",
    "import numpy as np\n",
    "import matplotlib.pyplot as plt\n",
    "\n",
    "from utils import readReadFemPreg,calcCdf\n",
    "\n",
    "preg = readReadFemPreg()\n",
    "\n",
    "complete = preg.query('outcome in [1, 3, 4]').prglngth\n",
    "print('Number of complete pregnancies', len(complete))\n",
    "\n",
    "values,pmf,cdf = calcCdf(complete)\n",
    "ss = 1 - cdf\n",
    "\n",
    "plt.plot(values,cdf,alpha=0.2,label=\"cdf\")\n",
    "plt.plot(values,ss,label=\"survival\")\n",
    "plt.legend(loc='center left')\n",
    "\n",
    "ongoing = preg[preg.outcome == 6].prglngth\n",
    "print('Number of ongoing pregnancies', len(ongoing))\n"
   ]
  },
  {
   "cell_type": "markdown",
   "id": "c38a6705",
   "metadata": {},
   "source": [
    "## Funzione di rischio\n",
    "\n",
    "Dalla curva di sopravvivenza possiamo derivare la funzione di rischio; per la lunghezza della gestazione la funzione di rischo mappa il tempo t il numero di gestazioni che continuano fino a t e che terminano a t. Per essere più precisi:\n",
    "\n",
    "$$\n",
    "\\lambda = \\frac{S_{(t)} - S_{(t-1)}}{S_{(t)}}\n",
    "$$\n",
    "\n",
    "Il numeratore è una frazione di aspettative di vita che terminano a t, che è anche la funzione PMF(t)."
   ]
  },
  {
   "cell_type": "code",
   "execution_count": 3,
   "id": "768b38f2",
   "metadata": {},
   "outputs": [
    {
     "name": "stdout",
     "output_type": "stream",
     "text": [
      "0.49689440993788797\n"
     ]
    },
    {
     "data": {
      "image/png": "[encoded data removed]",
      "text/plain": [
       "<Figure size 432x288 with 1 Axes>"
      ]
     },
     "metadata": {
      "needs_background": "light"
     },
     "output_type": "display_data"
    }
   ],
   "source": [
    "hazard = (ss[:-1] - ss[1:]) / ss[:-1]\n",
    "plt.plot(values[:-1],hazard,label='hazard')\n",
    "\n",
    "print(hazard[39])\n"
   ]
  },
  {
   "cell_type": "markdown",
   "id": "6041ac08",
   "metadata": {},
   "source": [
    "Dunque tutte le gestazioni che precedono la settimana 39, circa il 50% precedono la settimana 39. \n",
    "Per i tempi dopo le 42 settimane la funzione di rischio e erratica perchè si basa su pochi casi. \n",
    "A parte questo la forma della curva è quella aspettata: è più alta attorno alle 39 settimane, e leggermente più alta nel primo trimestre che nel secondo.\n",
    "\n",
    "La funzione di richio è utile di per se, ma è anche uno strumento importante per stimare le curve di sopravvivenza, le vedremo nella prossima sezione.\n",
    "\n",
    "# Inferire le curve di sopravvivenza \n",
    "Se qualcuno ci da il CDF delle cite, è semplice calcolare le funzioni di sopravvivenza e rischio. Ma in molti scenari del mondo reale non possiamo misurare la distribuzione delle vite direttamente. Dobbiamo dedurla.\n",
    "\n",
    "Per esempio, supponiamo che tu stia seguendo un gruppo di pazienti per vedere quanto sopravvivono dopo la diagnosi. Non tutti i pazienti sono diagnosticati lo stesso giorno, quindi in qualsiasi momento alcuni pazienti sono sopravvissuti più degli altri.\n",
    "Se alcuni pazienti sono morti conosciamo il loro tempo di sopravvivenza. Per i pazienti che sono ancora vivi, non conosciamo il loro tempo di sopravvivenza, ma abbiamo il loro limite inferiore.\n",
    "\n",
    "Se aspettiamo che tutti i pazienti siano morti, possiamo calcolare la funzione di sopravvivenza, ma se stiamo valutando l'efficacia di un nuovo trattamento non possiamo aspettare così a lungo!. Abbiamo bisgono di stimare la curva di sopravvivenza usando le informazioni non complete.\n",
    "\n",
    "Come esempio più allegro, useremo i dati dell'NSFG per quantificare quanto tempo gli intervistati \"sopravvivono\" finchè non si sposano per la prima volta.\n",
    "\n",
    "L'intervallo di età  degli intervistati varia dai 14 ai 44 anni,dunque il dataset ci fornisce una istantanea di differenti donne nelle loro fasi di vita.\n",
    "\n",
    "Per le donne che si sono sposate, il dataset include le date del loro primo matrimonio e la loro età a quel tempo. Per le donne che non sono mai state sposarte, conosciamo la loro età quando intervistate, ma non abbiamo nessun sistema per conoscere quando o se siano sposate.\n",
    "\n",
    "Dal momento che conosciamo l'età del primo matrimonio per alcune donne, potrebbe essere allettante escludere il resto dei dati e calcolare il CDF dei dati conosciuti. \n",
    "\n",
    "Questa non è una buona idea. Il risultato sarebbe doppiamente forviante:\n",
    "\n",
    "1. Le donne anziane sono sovrarappresentate, perchè è molto probabile che siano sposate quando intervisate.\n",
    "2. Le donne sposate sono sovrarappresentate, nei fatti questa analisi porterebbe al risultato che tutte le donne si sposano, il che ovviamente questo non è un risultato corretto.\n",
    "\n",
    "## Lo stimatore Kaplan-Meier\n",
    "In questo esempio non è solo desiderabile ma necessario includere le osservazioni delle donne non sposate, il che ci porta a uno degli algoritmi centrali nella analisi di sopravvivenza, lo stimatore Kaplan-Meier.\n",
    "\n",
    "L'idea generale è che possiamo usare i dati per stimare la funzione di rischio, poi convertiamo la funzione di rischio nella curva di sopravvivenza. \n",
    "Per stimare la funzione di rischio, consideriamo per ogni età:\n",
    "\n",
    "1. Il numero di donne che si sono sposate a quella età\n",
    "2. Il numero di donne \"a rischio\" di sposarsi, che include tutte le donne che non erano sposate prima di quella età.\n",
    "\n",
    "Qui il codice:"
   ]
  },
  {
   "cell_type": "code",
   "execution_count": 24,
   "id": "9d8667e8",
   "metadata": {},
   "outputs": [],
   "source": [
    "from collections import Counter\n",
    "import pandas as pd\n",
    "\n",
    "def MakeSurvival(series):\n",
    "    ts = series.index\n",
    "    ss = (1 - series).cumprod()\n",
    "    \n",
    "    return np.interp(ts, ts, ss, left=1.0)\n",
    "\n",
    "\n",
    "def EstimateHazardFunction(complete, ongoing):\n",
    "\n",
    "    hist_complete = Counter(complete)\n",
    "    hist_ongoing = Counter(ongoing)\n",
    "\n",
    "    ts = list(hist_complete | hist_ongoing)\n",
    "    ts.sort()\n",
    "\n",
    "    at_risk = len(complete) + len(ongoing)\n",
    "\n",
    "    lams = pd.Series(index=ts,dtype='float64')\n",
    "    for t in ts:\n",
    "        ended = hist_complete[t]\n",
    "        censored = hist_ongoing[t]\n",
    "\n",
    "        lams[t] = ended / at_risk\n",
    "        at_risk -= ended + censored\n",
    "\n",
    "    return lams,MakeSurvival(lams)"
   ]
  },
  {
   "cell_type": "markdown",
   "id": "f6703e66",
   "metadata": {},
   "source": [
    "`complete` è l'insieme completo delle osservazioni, in questo caso, le età degli intervistati sposati. `ongoing` è l'insieme delle osservazioni incomplete; cioè l'età delle donne non sposate quando intervistate.\n",
    "\n",
    "Prima, si precalcola `hist_complete` che è un oggetto Counter che mappa ogni età sul numero delle donne sposate a quella età e \n",
    "`hist_ongoing` che mappa per ogni età il numero di donne non sposate a quella età.\n",
    "`ts` è l'unione delle età che degli intervistati sposate e non, ordinate in ordine crescente.\n",
    "\n",
    "`at_risk` tiene traccia del numero degli intervistati considerati \"a rischio\" per ogni età; inizialmente è il numero totate delle intervistate.\n",
    "Il risultato viene salvato in una serie Pandas che mappa ogni età con la funzione di rischio stimata per quella età.\n",
    "\n",
    "Ogno volta che iteriamo nel loop consideriamo una età `t` calcoliamo il numero di eventi che finiscono a t (il numero di persone sposate all'età a quella età) e il numero di eventi censurati in t (che rapprenta il numero di donne intervistate in t il cui la data di matrimonio futuro è censurato). In questo contesto \"censurato\" significa che la data non è disponibile per il prcesso di raccolta.\n",
    "\n",
    "La funzione di rischio è la frazione dei casi dei casi a rischio che finiscono in t.\n",
    "\n",
    "\n",
    "## La curva dei matrimoni\n",
    "\n",
    "Per testare questa funzione dobbiamo pulire i dati e trasformarli. Le variabili NSFG di cui abbiamo bisogno sono:\n",
    "\n",
    "* cmbirth: la data di nascita di tutte le intervistate\n",
    "* cmintvw: la data della intervista di tutte le intervistate\n",
    "* cmmarrhx: la data del primo matrimonio della persona, se presente e sconosciuta.\n",
    "* evrmarry: 1 se l'intervistato è stato sposato prima della data della intervista 0 altrimenti.\n",
    "\n",
    "Le prima tre variabili sono codificate in \"centinaia di mesi\", che rappresenta il numero di mesi passati da dicembre 1899. Dunque il numero 1 rappresenta gennaio 1900.\n",
    "\n",
    "\n",
    "Per prima cosa leggiamo il file delle persone intervistatee puliamo i valori di cmmarrhx:"
   ]
  },
  {
   "cell_type": "code",
   "execution_count": 25,
   "id": "3e657592",
   "metadata": {},
   "outputs": [],
   "source": [
    "from utils import readFemResp\n",
    "\n",
    "resp = readFemResp()\n",
    "resp.cmmarrhx.replace([9997, 9998, 9999], np.nan, inplace=True)"
   ]
  },
  {
   "cell_type": "markdown",
   "id": "886114f7",
   "metadata": {},
   "source": [
    "Poi calcoliamo l'età delle intervistate quando si sono sposate e quando sono state intervistate."
   ]
  },
  {
   "cell_type": "code",
   "execution_count": 26,
   "id": "c75313b1",
   "metadata": {},
   "outputs": [],
   "source": [
    "resp['agemarry'] = (resp.cmmarrhx - resp.cmbirth) / 12.0\n",
    "resp['age'] = (resp.cmintvw - resp.cmbirth) / 12.0"
   ]
  },
  {
   "cell_type": "markdown",
   "id": "d7346d7e",
   "metadata": {},
   "source": [
    "Poi estraiamo `complete` che rappresenta l'insieme delle età delle donne che si sono sposate e `ongoing` che rappresenta l'età delle donne che non lo sono:"
   ]
  },
  {
   "cell_type": "code",
   "execution_count": 30,
   "id": "e0627b9b",
   "metadata": {},
   "outputs": [],
   "source": [
    "complete = resp[resp.evrmarry==1].agemarry.dropna()\n",
    "ongoing = resp[resp.evrmarry==0].age"
   ]
  },
  {
   "cell_type": "markdown",
   "id": "8fdafb90",
   "metadata": {},
   "source": [
    "ed in fine calcoliamo la funzione di rischio."
   ]
  },
  {
   "cell_type": "code",
   "execution_count": 31,
   "id": "cb9773ae",
   "metadata": {},
   "outputs": [],
   "source": [
    "hf = EstimateHazardFunction(complete, ongoing)"
   ]
  },
  {
   "cell_type": "code",
   "execution_count": 36,
   "id": "2090884e",
   "metadata": {},
   "outputs": [
    {
     "data": {
      "text/plain": [
       "Text(0, 0.5, 'hazard')"
      ]
     },
     "execution_count": 36,
     "metadata": {},
     "output_type": "execute_result"
    },
    {
     "data": {
      "image/png": "[encoded data removed]",
      "text/plain": [
       "<Figure size 432x288 with 1 Axes>"
      ]
     },
     "metadata": {
      "needs_background": "light"
     },
     "output_type": "display_data"
    }
   ],
   "source": [
    "plt.plot(hf[0].index,hf[0].values)\n",
    "plt.ylabel('hazard')"
   ]
  },
  {
   "cell_type": "markdown",
   "id": "b9e42bb9",
   "metadata": {},
   "source": [
    "La figura mostra la stima della funzione di rischio, è bassa nella gioventù si alza verso i 20 e declina verso i 30 e ricresce verso i 40, ma questo è un artefatto del processo di stima, il numero degli intervistati \"a rischio\" decrementa, un piccolo numero di donne genera una stima del rischio grande. La curva della sopravvivenza smusserà questo rumore."
   ]
  },
  {
   "cell_type": "code",
   "execution_count": null,
   "id": "696de473",
   "metadata": {},
   "outputs": [],
   "source": []
  }
 ],
 "metadata": {
  "kernelspec": {
   "display_name": "Python 3 (ipykernel)",
   "language": "python",
   "name": "python3"
  },
  "language_info": {
   "codemirror_mode": {
    "name": "ipython",
    "version": 3
   },
   "file_extension": ".py",
   "mimetype": "text/x-python",
   "name": "python",
   "nbconvert_exporter": "python",
   "pygments_lexer": "ipython3",
   "version": "3.9.7"
  }
 },
 "nbformat": 4,
 "nbformat_minor": 5
}
