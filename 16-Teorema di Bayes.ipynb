{
 "cells": [
  {
   "cell_type": "markdown",
   "id": "e3aff19b",
   "metadata": {},
   "source": [
    "Nella sezione precedente abbiamo derivato il teorema di Bayes\n",
    "\n",
    "$$P(A|B) = \\frac{P(A) P(B|A)}{P(B)}$$\n",
    "\n",
    "\n",
    "Come esempio abbiamo usato i dati del General Social Survey, ma visto che avevamo i dati del dataset completo non avevamo la vera necessità di usare il teorema.\n",
    "\n",
    "Spesso non abbiamo il dataset completo e un quel caso il teorema di Bayes è molto utile.\n",
    "In questo capitolo lo useremo per risolvere problemi più impegnativi legati alla probabilità condizionata.\n",
    "\n",
    "## Il problema dei biscotti\n",
    "\n",
    "Iniziamo con una versione sottilmente mascherata del [problema dell'urna](https://en.wikipedia.org/wiki/Urn_problem):\n",
    "> Supponiamo di avere due ciotole di biscotti.\n",
    ">\n",
    "> * La ciotola 1 contiene 30 biscotto alla vaniglia e 10 al cioccolato\n",
    ">\n",
    "> * La ciotola 2 contiene 20 biscotti alla vaniglia e 20 al cioccolato\n",
    "> Ora supponiamo di scegliere una ciotola a caso e senza guardare scegliere un biscotto a caso.\n",
    "> Se il biscotto è alla vaniglie quale è la probabilità che venga dalla ciotola 1?\n",
    "\n",
    "Quello che vogliamo calcola è la probabilità condizionale di scegliere la ciotola 1 quando abbiamo un biscotto alla vaniglia $P(B_1 | V)$.\n",
    "\n",
    "Il teorema di Bayes ci da questa relazione\n",
    "\n",
    "$$P(B_1|V) = \\frac{P(B_1)~P(V|B_1)}{P(V)}$$\n",
    "\n",
    "Il termine a sinistra è il valore che vogliamo ottenere. I terminia destra sono:\n",
    "\n",
    "* $P(B_1)$ la probabilità di scegliere la ciotola 1 non è condizionatoa dal tipo di biscotti. Dunque scegliendo la ciotola in modo randomico abbiamo che $P(B_1) = 1/2$.\n",
    "\n",
    "* $P(V|B_1)$ è la probabilità di avere un biscotto alla vaniglia dalla ciotola 1 che rappresenta 3/4\n",
    "* $P(V)$ è la probabilità di ottenere un biscotto alla vaniglia da entrambre le ciotole 5/8\n",
    "\n",
    "Possiamo calcolare $P(V)$ usando anche la legge della probabilità totale (anche se ammetto che in questo momento stiamo complicando le cose per nulla):\n",
    "\n",
    "$$P(V) = P(B_1)~P(V|B_1) ~+~ P(B_2)~P(V|B_2)$$\n",
    "\n",
    "Sostiuendo i numeri otteniamo \n",
    "\n",
    "$$P(V) = (1/2)~(3/4) ~+~ (1/2)~(1/2) = 5/8$$\n",
    "\n",
    "Possiamo calcolare il risuatato direttamente in quanto:\n",
    "\n",
    "* Visto che abbiamo la stessa probabilità di scegliere una ciotola o l'altra e che le ciotole hanno lo stesso numero di biscotti abbiamo la stessa probabilità di scegliere un biscotto.\n",
    "\n",
    "* Tra le due ciotole ci sono 50 biscotti alla vaniglia e 30 al cioccolato dunque $P(V) = 5/8$.\n",
    "\n",
    "Finalemente, possiamo applicare il teorema di Bayes per calcolare la probabilità a posteriori della ciotola 1\n",
    "\n",
    "$$P(B_1|V) = (1/2)~(3/4)~/~(5/8) = 3/5$$\n",
    "\n",
    "Questo esempio dimostra un uso del teorema di Bayes che permette di passare da $P(B|A)$ to $P(A|B)$.\n",
    "Questa strategia è utile nei casi come questo dove è facile calcolare i termini nella parte destra, più che dalla parte sinistra.\n",
    "\n",
    "## Interpretazione diacronica del teorema di Bayes\n",
    "\n",
    "Inanzitutto prima di inizare a spiegare, analizziamo il significato della parola diacronica.\n",
    "Questa parola significa che rappresenta un qualcosa che sta accadendo nel tempo.\n",
    "\n",
    "Nel nostro caso possiamo pensare il teorema di Bayes come un qualcosa che ci da la possibilità di aggiornare la probabilità di una ipotesi $H$ dato un certo corpo di dati $D$.\n",
    "\n",
    "Questa interpretazione è \"diacronica\", che significa \"relativa al cambiamento nel tempo\"; in questo caso la probabilità che le ipotesi cambino qundo siamo di fronte a nuovi dati.\n",
    "\n",
    "Riscrivendo il teorema di Bayes con $H$ e $D$\n",
    "\n",
    "$$P(H|D) = \\frac{P(H)~P(D|H)}{P(D)}$$\n",
    "\n",
    "In questa interprestazione ogni termine assume questo significato:\n",
    "\n",
    "* $P(H)$ è la probabilità delle ipotesi prima di aver visto il dato, chiamata anche probabilità a priori o semplicemente **a priori**.\n",
    "* $P(H|D)$ è la probabilità delle ipotesi dopo aver visto i dati, chiamata **a posteriori**\n",
    "* $P(D|H)$ è la probabilità del dato sotto quella ipotesi, chiamata anche  **verosomiglianza**\n",
    "* $P(D)$ è la **probabilità totale a quella data** sotto ogni ipotesi.  \n",
    "\n",
    "A volte possiamo calcolare la probabilità a priori basandosi sulle informazioni di base. Per esempio, il problema dei biscotti specifica che possiamo scegliere una ciotola in maniera randomica con egual probabilità.\n",
    "\n",
    "In altri casi la probabilità a priori è soggettiva, ragionevolmente le persone potrebbero non essere d'accordo, semplicemente perchè hanno informazione di base differenti o perchè interpretano le informazioni in modo differente.\n",
    "\n",
    "La verosomiglianza è di solito la parte più facile da calcolare. Nel problema dei biscotti, ci viene dati i numeri dei biscotti in ogni ciotola, dunque possiamo calcolare la probablità dei dati sotto ogni ipotesi.\n",
    "\n",
    "Calcolare la probabilità totale dei dati può essere complicato.\n",
    "Si può suppore che sia la probabilità di vedere il dato sotto ogni ipotesi, può essere difficile definire con precisione che cosa significhi.\n",
    "Più spesso semplifichiamo le cose specificando un insieme di ipotesi che sono \n",
    "\n",
    "* Mutualmente esclusive, questo significa che solo una di questa può essere vera e\n",
    "* Colletivamente esaustiva, che significa che almeno uno deve essere vera\n",
    "\n",
    "Quando queste condizioni sono applicate, possiamo calcolare $P(D)$ usando la legge della probabilità totale.\n",
    "Per esempio con queste due ipotesi  $H_1$ e $H_2$:\n",
    "\n",
    "$$P(D) = P(H_1)~P(D|H_1) + P(H_2)~P(D|H_2)$$\n",
    "\n",
    "E più generalmente con un numero indefinito di ipotesi:\n",
    "\n",
    "$$P(D) = \\sum_i P(H_i)~P(D|H_i)$$\n",
    "\n",
    "Il processo in questa sezione, usando i dati e le probabilità a priorità a priosi per calcolare le probabilità a posteriori è chiamato anche **Aggiornamento Bayesiano**.\n",
    "\n",
    "## Tabelle di Bayes\n",
    "\n",
    "Uno strumento utile per l'aggiornamento Bayesiano è la tabella di Bayes.\n",
    "Possiamo scrivere la tabella di bayes o usare un foglio di calcolo, ma in questa sezione useremo un `DataFrame` Pandas.\n",
    "Come primo passo creeremo un `DataFrame` vuoto con ogni riga per ogni ipotesi:"
   ]
  },
  {
   "cell_type": "code",
   "execution_count": 1,
   "id": "f7a40d4f",
   "metadata": {},
   "outputs": [],
   "source": [
    "import pandas as pd\n",
    "table = pd.DataFrame(index=['Bowl 1', 'Bowl 2'])"
   ]
  },
  {
   "cell_type": "markdown",
   "id": "f8647e6c",
   "metadata": {},
   "source": [
    "Ora aggiungiamo una colonna rappresentante le probabilità a priori:"
   ]
  },
  {
   "cell_type": "code",
   "execution_count": 2,
   "id": "f9e3143d",
   "metadata": {},
   "outputs": [
    {
     "data": {
      "text/html": [
       "<div>\n",
       "<style scoped>\n",
       "    .dataframe tbody tr th:only-of-type {\n",
       "        vertical-align: middle;\n",
       "    }\n",
       "\n",
       "    .dataframe tbody tr th {\n",
       "        vertical-align: top;\n",
       "    }\n",
       "\n",
       "    .dataframe thead th {\n",
       "        text-align: right;\n",
       "    }\n",
       "</style>\n",
       "<table border=\"1\" class=\"dataframe\">\n",
       "  <thead>\n",
       "    <tr style=\"text-align: right;\">\n",
       "      <th></th>\n",
       "      <th>prior</th>\n",
       "    </tr>\n",
       "  </thead>\n",
       "  <tbody>\n",
       "    <tr>\n",
       "      <th>Bowl 1</th>\n",
       "      <td>0.5</td>\n",
       "    </tr>\n",
       "    <tr>\n",
       "      <th>Bowl 2</th>\n",
       "      <td>0.5</td>\n",
       "    </tr>\n",
       "  </tbody>\n",
       "</table>\n",
       "</div>"
      ],
      "text/plain": [
       "        prior\n",
       "Bowl 1    0.5\n",
       "Bowl 2    0.5"
      ]
     },
     "execution_count": 2,
     "metadata": {},
     "output_type": "execute_result"
    }
   ],
   "source": [
    "table['prior'] = 1/2, 1/2\n",
    "table"
   ]
  },
  {
   "cell_type": "markdown",
   "id": "6b448244",
   "metadata": {},
   "source": [
    "Una colonna con i valori di verosomiglianza:"
   ]
  },
  {
   "cell_type": "code",
   "execution_count": 3,
   "id": "bb7fa342",
   "metadata": {},
   "outputs": [
    {
     "data": {
      "text/html": [
       "<div>\n",
       "<style scoped>\n",
       "    .dataframe tbody tr th:only-of-type {\n",
       "        vertical-align: middle;\n",
       "    }\n",
       "\n",
       "    .dataframe tbody tr th {\n",
       "        vertical-align: top;\n",
       "    }\n",
       "\n",
       "    .dataframe thead th {\n",
       "        text-align: right;\n",
       "    }\n",
       "</style>\n",
       "<table border=\"1\" class=\"dataframe\">\n",
       "  <thead>\n",
       "    <tr style=\"text-align: right;\">\n",
       "      <th></th>\n",
       "      <th>prior</th>\n",
       "      <th>likelihood</th>\n",
       "    </tr>\n",
       "  </thead>\n",
       "  <tbody>\n",
       "    <tr>\n",
       "      <th>Bowl 1</th>\n",
       "      <td>0.5</td>\n",
       "      <td>0.75</td>\n",
       "    </tr>\n",
       "    <tr>\n",
       "      <th>Bowl 2</th>\n",
       "      <td>0.5</td>\n",
       "      <td>0.50</td>\n",
       "    </tr>\n",
       "  </tbody>\n",
       "</table>\n",
       "</div>"
      ],
      "text/plain": [
       "        prior  likelihood\n",
       "Bowl 1    0.5        0.75\n",
       "Bowl 2    0.5        0.50"
      ]
     },
     "execution_count": 3,
     "metadata": {},
     "output_type": "execute_result"
    }
   ],
   "source": [
    "table['likelihood'] = 3/4, 1/2\n",
    "table"
   ]
  },
  {
   "cell_type": "markdown",
   "id": "3ef0d323",
   "metadata": {},
   "source": [
    "Qui vediamo le differenze tra dal metodo precedente: possiamo calcolare la verosomiglianza per entrambe le ipotesi, non solo per la ciotola 1.\n",
    "\n",
    "* La probabilità di avere un biscotto alla vaniglia dalla ciotola 1 è 3/4.\n",
    "* La probabilità di avere un biscotto alla vaniglia dalla ciotola 2 e 1/2.\n",
    "\n",
    "Potresti notare che la verosomiglia non raggiunga il valore 1. Questo va bene, ogni una di essere è la probabilità condizionata su differenti ipotesi.\n",
    "\n",
    "Non c'è nessuna ragione che queste ipotesi debbano arrivare al valore 1 e non c'è nessun problema se lo fanno.\n",
    "Il prossimo passo è simile a quanto già fatto in precedenza, moltiplichiamo le probabilità a priori con le verosomiglianze:"
   ]
  },
  {
   "cell_type": "code",
   "execution_count": 4,
   "id": "1c5763cd",
   "metadata": {},
   "outputs": [
    {
     "data": {
      "text/html": [
       "<div>\n",
       "<style scoped>\n",
       "    .dataframe tbody tr th:only-of-type {\n",
       "        vertical-align: middle;\n",
       "    }\n",
       "\n",
       "    .dataframe tbody tr th {\n",
       "        vertical-align: top;\n",
       "    }\n",
       "\n",
       "    .dataframe thead th {\n",
       "        text-align: right;\n",
       "    }\n",
       "</style>\n",
       "<table border=\"1\" class=\"dataframe\">\n",
       "  <thead>\n",
       "    <tr style=\"text-align: right;\">\n",
       "      <th></th>\n",
       "      <th>prior</th>\n",
       "      <th>likelihood</th>\n",
       "      <th>unnorm</th>\n",
       "    </tr>\n",
       "  </thead>\n",
       "  <tbody>\n",
       "    <tr>\n",
       "      <th>Bowl 1</th>\n",
       "      <td>0.5</td>\n",
       "      <td>0.75</td>\n",
       "      <td>0.375</td>\n",
       "    </tr>\n",
       "    <tr>\n",
       "      <th>Bowl 2</th>\n",
       "      <td>0.5</td>\n",
       "      <td>0.50</td>\n",
       "      <td>0.250</td>\n",
       "    </tr>\n",
       "  </tbody>\n",
       "</table>\n",
       "</div>"
      ],
      "text/plain": [
       "        prior  likelihood  unnorm\n",
       "Bowl 1    0.5        0.75   0.375\n",
       "Bowl 2    0.5        0.50   0.250"
      ]
     },
     "execution_count": 4,
     "metadata": {},
     "output_type": "execute_result"
    }
   ],
   "source": [
    "table['unnorm'] = table['prior'] * table['likelihood']\n",
    "table"
   ]
  },
  {
   "cell_type": "markdown",
   "id": "74d53784",
   "metadata": {},
   "source": [
    "Chiamiamo il risultato `unnorm` perchè i valori sono \"posteriori non normalizzati\". Ogni valore è il prodotto tra la probabilità a priori e la verosomiglianza:\n",
    "\n",
    "$$P(B_i)~P(D|B_i)$$\n",
    "\n",
    "Che rappresenta il numeratore del teorema di Bayes.\n",
    "Se sommiamo i due valorei otteniamo \n",
    "\n",
    "$$P(B_1)~P(D|B_1) + P(B_2)~P(D|B_2)$$\n",
    "\n",
    "Che rappresenta il denominatore del teorema di Bayes $P(D)$.\n",
    "Possiamo calcolare la probabilità totale dei dati in questo modo:"
   ]
  },
  {
   "cell_type": "code",
   "execution_count": 5,
   "id": "e0b54aa1",
   "metadata": {},
   "outputs": [
    {
     "data": {
      "text/plain": [
       "0.625"
      ]
     },
     "execution_count": 5,
     "metadata": {},
     "output_type": "execute_result"
    }
   ],
   "source": [
    "prob_data = table['unnorm'].sum()\n",
    "prob_data"
   ]
  },
  {
   "cell_type": "markdown",
   "id": "3ec39e2b",
   "metadata": {},
   "source": [
    "Abbiamo ottenuto i famosi 5/8, come se avessimo calcolato direttamente $P(D)$.\n",
    "Possiamo calcolare le probabilità a posteriori in questo modo:"
   ]
  },
  {
   "cell_type": "code",
   "execution_count": 6,
   "id": "6aca570b",
   "metadata": {},
   "outputs": [
    {
     "data": {
      "text/html": [
       "<div>\n",
       "<style scoped>\n",
       "    .dataframe tbody tr th:only-of-type {\n",
       "        vertical-align: middle;\n",
       "    }\n",
       "\n",
       "    .dataframe tbody tr th {\n",
       "        vertical-align: top;\n",
       "    }\n",
       "\n",
       "    .dataframe thead th {\n",
       "        text-align: right;\n",
       "    }\n",
       "</style>\n",
       "<table border=\"1\" class=\"dataframe\">\n",
       "  <thead>\n",
       "    <tr style=\"text-align: right;\">\n",
       "      <th></th>\n",
       "      <th>prior</th>\n",
       "      <th>likelihood</th>\n",
       "      <th>unnorm</th>\n",
       "      <th>posterior</th>\n",
       "    </tr>\n",
       "  </thead>\n",
       "  <tbody>\n",
       "    <tr>\n",
       "      <th>Bowl 1</th>\n",
       "      <td>0.5</td>\n",
       "      <td>0.75</td>\n",
       "      <td>0.375</td>\n",
       "      <td>0.6</td>\n",
       "    </tr>\n",
       "    <tr>\n",
       "      <th>Bowl 2</th>\n",
       "      <td>0.5</td>\n",
       "      <td>0.50</td>\n",
       "      <td>0.250</td>\n",
       "      <td>0.4</td>\n",
       "    </tr>\n",
       "  </tbody>\n",
       "</table>\n",
       "</div>"
      ],
      "text/plain": [
       "        prior  likelihood  unnorm  posterior\n",
       "Bowl 1    0.5        0.75   0.375        0.6\n",
       "Bowl 2    0.5        0.50   0.250        0.4"
      ]
     },
     "execution_count": 6,
     "metadata": {},
     "output_type": "execute_result"
    }
   ],
   "source": [
    "table['posterior'] = table['unnorm'] / prob_data\n",
    "table"
   ]
  },
  {
   "cell_type": "markdown",
   "id": "e14a7b19",
   "metadata": {},
   "source": [
    "La probabilità a posteriori per la ciotola 1 è 0.6, lo stesso valore che abbiamo ottenuto usando il teorema di Bayes. Come Bonus abbiamo anche la probabilità della ciotola 2 che ha come valore 0.4.\n",
    "\n",
    "Quando sommiamo i valori dei posteriori non normalizzati ed eseguiamo la divisione, forziamo le probabilità a posteriori ad avere come valore massimo 1. Questo processo è anche chiamato normalizzazione, questo è il perchè la probabilità totale viene anche chiamata \"costante di normalizzazine\".\n",
    "\n",
    "## Il problema dei dadi\n",
    "\n",
    "Con la tabella di Bayes possiamo risolvere problemi con più di due ipostesi. Per esempio:\n",
    "\n",
    "> Supponiamo di avere una scatola con un dado a 6 facce un dado a 8 facce e un dado a 12 facce. Sceglo un dado in modo casuale lo lancio e leggo il valore 1 quale è la probabilità che abbia scelto un dado a 6 facce?\n",
    "\n",
    "In questo esempio, ci sono tre ipotesi con la stessa priorità a priori. I dato in nostro possesso è 1.\n",
    "\n",
    "Se scelgo il dado a 6 facce la probabilità di 1 sara 1/ mentre per il dado a 8 facce sarà 1/8 e così via\n",
    "Questa è la tabella di Bayes che usa gli interi per rappresentare le ipotesi:"
   ]
  },
  {
   "cell_type": "code",
   "execution_count": 7,
   "id": "59b4a1ca",
   "metadata": {},
   "outputs": [],
   "source": [
    "table2 = pd.DataFrame(index=[6, 8, 12])"
   ]
  },
  {
   "cell_type": "markdown",
   "id": "1d58ccea",
   "metadata": {},
   "source": [
    "Useremo il tipo di dato fractions per rappresentare le probabilità a priori e le verosomiglianze. Questo sistema ci pemetterà di non arrotondare i numeri a virgola mobile."
   ]
  },
  {
   "cell_type": "code",
   "execution_count": 8,
   "id": "d07138fe",
   "metadata": {},
   "outputs": [
    {
     "data": {
      "text/html": [
       "<div>\n",
       "<style scoped>\n",
       "    .dataframe tbody tr th:only-of-type {\n",
       "        vertical-align: middle;\n",
       "    }\n",
       "\n",
       "    .dataframe tbody tr th {\n",
       "        vertical-align: top;\n",
       "    }\n",
       "\n",
       "    .dataframe thead th {\n",
       "        text-align: right;\n",
       "    }\n",
       "</style>\n",
       "<table border=\"1\" class=\"dataframe\">\n",
       "  <thead>\n",
       "    <tr style=\"text-align: right;\">\n",
       "      <th></th>\n",
       "      <th>prior</th>\n",
       "      <th>likelihood</th>\n",
       "    </tr>\n",
       "  </thead>\n",
       "  <tbody>\n",
       "    <tr>\n",
       "      <th>6</th>\n",
       "      <td>1/3</td>\n",
       "      <td>1/6</td>\n",
       "    </tr>\n",
       "    <tr>\n",
       "      <th>8</th>\n",
       "      <td>1/3</td>\n",
       "      <td>1/8</td>\n",
       "    </tr>\n",
       "    <tr>\n",
       "      <th>12</th>\n",
       "      <td>1/3</td>\n",
       "      <td>1/12</td>\n",
       "    </tr>\n",
       "  </tbody>\n",
       "</table>\n",
       "</div>"
      ],
      "text/plain": [
       "   prior likelihood\n",
       "6    1/3        1/6\n",
       "8    1/3        1/8\n",
       "12   1/3       1/12"
      ]
     },
     "execution_count": 8,
     "metadata": {},
     "output_type": "execute_result"
    }
   ],
   "source": [
    "from fractions import Fraction\n",
    "\n",
    "table2['prior'] = Fraction(1, 3)\n",
    "table2['likelihood'] = Fraction(1, 6), Fraction(1, 8), Fraction(1, 12)\n",
    "table2"
   ]
  },
  {
   "cell_type": "markdown",
   "id": "e18448a1",
   "metadata": {},
   "source": [
    "Una volta calcolate le probabilità a priori e le verosomiglianze, i passi rimanenti sono gli stessi mettiamo tutto in una funzione:"
   ]
  },
  {
   "cell_type": "code",
   "execution_count": 9,
   "id": "23448d67",
   "metadata": {},
   "outputs": [],
   "source": [
    "def update(table):\n",
    "    \"\"\"Calcoliamo la probabilità a posteriori\"\"\"\n",
    "    table['unnorm'] = table['prior'] * table['likelihood']\n",
    "    prob_data = table['unnorm'].sum()\n",
    "    table['posterior'] = table['unnorm'] / prob_data\n",
    "    return prob_data"
   ]
  },
  {
   "cell_type": "markdown",
   "id": "9b15c65b",
   "metadata": {},
   "source": [
    "Usiamo la funzione e aggiorniamo la tabella."
   ]
  },
  {
   "cell_type": "code",
   "execution_count": 10,
   "id": "ba13742b",
   "metadata": {},
   "outputs": [],
   "source": [
    "prob_data = update(table2)"
   ]
  },
  {
   "cell_type": "markdown",
   "id": "b1f0b263",
   "metadata": {},
   "source": [
    "Qui la tabbelina finale di Bayes:"
   ]
  },
  {
   "cell_type": "code",
   "execution_count": 11,
   "id": "659cc04f",
   "metadata": {},
   "outputs": [
    {
     "data": {
      "text/html": [
       "<div>\n",
       "<style scoped>\n",
       "    .dataframe tbody tr th:only-of-type {\n",
       "        vertical-align: middle;\n",
       "    }\n",
       "\n",
       "    .dataframe tbody tr th {\n",
       "        vertical-align: top;\n",
       "    }\n",
       "\n",
       "    .dataframe thead th {\n",
       "        text-align: right;\n",
       "    }\n",
       "</style>\n",
       "<table border=\"1\" class=\"dataframe\">\n",
       "  <thead>\n",
       "    <tr style=\"text-align: right;\">\n",
       "      <th></th>\n",
       "      <th>prior</th>\n",
       "      <th>likelihood</th>\n",
       "      <th>unnorm</th>\n",
       "      <th>posterior</th>\n",
       "    </tr>\n",
       "  </thead>\n",
       "  <tbody>\n",
       "    <tr>\n",
       "      <th>6</th>\n",
       "      <td>1/3</td>\n",
       "      <td>1/6</td>\n",
       "      <td>1/18</td>\n",
       "      <td>4/9</td>\n",
       "    </tr>\n",
       "    <tr>\n",
       "      <th>8</th>\n",
       "      <td>1/3</td>\n",
       "      <td>1/8</td>\n",
       "      <td>1/24</td>\n",
       "      <td>1/3</td>\n",
       "    </tr>\n",
       "    <tr>\n",
       "      <th>12</th>\n",
       "      <td>1/3</td>\n",
       "      <td>1/12</td>\n",
       "      <td>1/36</td>\n",
       "      <td>2/9</td>\n",
       "    </tr>\n",
       "  </tbody>\n",
       "</table>\n",
       "</div>"
      ],
      "text/plain": [
       "   prior likelihood unnorm posterior\n",
       "6    1/3        1/6   1/18       4/9\n",
       "8    1/3        1/8   1/24       1/3\n",
       "12   1/3       1/12   1/36       2/9"
      ]
     },
     "execution_count": 11,
     "metadata": {},
     "output_type": "execute_result"
    }
   ],
   "source": [
    "table2"
   ]
  },
  {
   "cell_type": "markdown",
   "id": "158be178",
   "metadata": {},
   "source": [
    "Le probabilità a posteriori del dado a sei facce sono 4/9, che è leggermente più probabile degli altri dati, 3/9 e 2/9.\n",
    "Intuitivamente, il dado a 6 facce è il più probabile in quanto ha la verosomiglianza più elevata.\n",
    "\n",
    "## Il problema di Monty Hall\n",
    "Usiamo ora il teorema di Bayes per risolvere un dei problemi più litigiosi problemi della probabilità:\n",
    "Il problema di Monty Hall è basato su un gioco chiamato *Let's Make a Deal*.\n",
    "Se sei un concorrente del programma, ecco il funzionamento del gioco:\n",
    "\n",
    "* Il presentatore Monty Hall, ti mostra tre porte chiuse numerate con 1,2 e 3 ti chiede di indovinare dietro a quale porta ci sia il premio.\n",
    "\n",
    "* Uno dei premi è di valore (di solito una macchina), mentre dietro alle altre porte c'è un premio di poco valore (di solito delle capre).\n",
    "\n",
    "* L'obiettivo del gioco è quello di indovinare dietro a quale porta si nasconda l'auto. Se indovini potrai tenerti l'auto.\n",
    "\n",
    "Supponiamo di prendere la porta 1. Prima di aprire la porta che hai scelto, Monty apre la porta numero 3 e ti rivela una capra. \n",
    "Poi Monty ti offre la possibilità di cambiare la tua scelta.\n",
    "\n",
    "Per massimizzare la possibilità di vittoria, rimaniamo sulla porta numero 1 o cambiamo sulla porta 2?\n",
    "Per rispondere a questa domanda, dobbiamo fare due assunzioni circa il comportamento del presentatore:\n",
    "\n",
    "1. Monty apre sempre una porta e offre la possibilità di cambiare.\n",
    "2. Non succederà mai che dietro una porta aperta dal presentatore ci sia una macchina\n",
    "3. Se scegliamo la porta con una macchina, lui scegliera una porta a caso \n",
    "\n",
    "\n",
    "Sotto queste assunzioni, faresti meglio a cambiare. Se rimani sulla tua scelta si ha 1/3 di possibilità di vincere. Se cambiamo si ha la possibilità di vincere pari a 2/3.\n",
    "\n",
    "Se non si è mai incontrato il problema prima, potresti trovare la risposta sorprendente.Ma non saresti da solo molte persone hanno la forte intuizione che il risultato non cambi se si cambia o meno. Ci sono due porte ancora, questo è il ragionamento, dunque dietro la porta c'è il 50% di probabilità di avere un'auto. Ma questo è sbagliato.\n",
    "\n",
    "Per vedere il perchè, potrebbe aiutare la tabella di Bayes. \n",
    "Possiamo partire da tre ipotesi, la macchina può essere dietro alla porta 1,2 o 3. In accordo con con quanto detto la probabilità di vincere in partenza di ogni porta è 1/3.\n"
   ]
  },
  {
   "cell_type": "code",
   "execution_count": 12,
   "id": "16179b77",
   "metadata": {},
   "outputs": [
    {
     "data": {
      "text/html": [
       "<div>\n",
       "<style scoped>\n",
       "    .dataframe tbody tr th:only-of-type {\n",
       "        vertical-align: middle;\n",
       "    }\n",
       "\n",
       "    .dataframe tbody tr th {\n",
       "        vertical-align: top;\n",
       "    }\n",
       "\n",
       "    .dataframe thead th {\n",
       "        text-align: right;\n",
       "    }\n",
       "</style>\n",
       "<table border=\"1\" class=\"dataframe\">\n",
       "  <thead>\n",
       "    <tr style=\"text-align: right;\">\n",
       "      <th></th>\n",
       "      <th>prior</th>\n",
       "    </tr>\n",
       "  </thead>\n",
       "  <tbody>\n",
       "    <tr>\n",
       "      <th>Door 1</th>\n",
       "      <td>1/3</td>\n",
       "    </tr>\n",
       "    <tr>\n",
       "      <th>Door 2</th>\n",
       "      <td>1/3</td>\n",
       "    </tr>\n",
       "    <tr>\n",
       "      <th>Door 3</th>\n",
       "      <td>1/3</td>\n",
       "    </tr>\n",
       "  </tbody>\n",
       "</table>\n",
       "</div>"
      ],
      "text/plain": [
       "       prior\n",
       "Door 1   1/3\n",
       "Door 2   1/3\n",
       "Door 3   1/3"
      ]
     },
     "execution_count": 12,
     "metadata": {},
     "output_type": "execute_result"
    }
   ],
   "source": [
    "table3 = pd.DataFrame(index=['Door 1', 'Door 2', 'Door 3'])\n",
    "table3['prior'] = Fraction(1, 3)\n",
    "table3"
   ]
  },
  {
   "cell_type": "markdown",
   "id": "56bb4952",
   "metadata": {},
   "source": [
    "Il dato è che Monty aprendo la porta 3 e ha rilevato la capra. Consideriamo la probabilità dei dati sotto ogni ipotesi: \n",
    "\n",
    "* Se la macchina è dietro alla porta 1, Monty sceglie la porta 2 o la porta 3 in modo causale. Dunque la probabilità di aprire la porta 3 è 1/2.\n",
    "* Se la macchina è dietro la porta 2, Monty deve aprire la porta 3 dunque la probabilità del dato sotto questa ipotesi è 1.\n",
    "* Se la macchina fosse dietro alla porta 3, Monty non potrebbe aprirla, con questa probabilità sui dati l'ipotesi è 0.\n",
    "\n",
    "Qui le verosomiglianze:\n"
   ]
  },
  {
   "cell_type": "code",
   "execution_count": 13,
   "id": "8504ac29",
   "metadata": {},
   "outputs": [
    {
     "data": {
      "text/html": [
       "<div>\n",
       "<style scoped>\n",
       "    .dataframe tbody tr th:only-of-type {\n",
       "        vertical-align: middle;\n",
       "    }\n",
       "\n",
       "    .dataframe tbody tr th {\n",
       "        vertical-align: top;\n",
       "    }\n",
       "\n",
       "    .dataframe thead th {\n",
       "        text-align: right;\n",
       "    }\n",
       "</style>\n",
       "<table border=\"1\" class=\"dataframe\">\n",
       "  <thead>\n",
       "    <tr style=\"text-align: right;\">\n",
       "      <th></th>\n",
       "      <th>prior</th>\n",
       "      <th>likelihood</th>\n",
       "    </tr>\n",
       "  </thead>\n",
       "  <tbody>\n",
       "    <tr>\n",
       "      <th>Door 1</th>\n",
       "      <td>1/3</td>\n",
       "      <td>1/2</td>\n",
       "    </tr>\n",
       "    <tr>\n",
       "      <th>Door 2</th>\n",
       "      <td>1/3</td>\n",
       "      <td>1</td>\n",
       "    </tr>\n",
       "    <tr>\n",
       "      <th>Door 3</th>\n",
       "      <td>1/3</td>\n",
       "      <td>0</td>\n",
       "    </tr>\n",
       "  </tbody>\n",
       "</table>\n",
       "</div>"
      ],
      "text/plain": [
       "       prior likelihood\n",
       "Door 1   1/3        1/2\n",
       "Door 2   1/3          1\n",
       "Door 3   1/3          0"
      ]
     },
     "execution_count": 13,
     "metadata": {},
     "output_type": "execute_result"
    }
   ],
   "source": [
    "table3['likelihood'] = Fraction(1, 2), 1, 0\n",
    "table3"
   ]
  },
  {
   "cell_type": "markdown",
   "id": "ee250d2d",
   "metadata": {},
   "source": [
    "Ora abbiamo la probabilità a priori e le verosomiglianze, possiamo usare la funzione `update` per calcolare la probabilità a posteriori."
   ]
  },
  {
   "cell_type": "code",
   "execution_count": 14,
   "id": "5af3ea22",
   "metadata": {},
   "outputs": [
    {
     "data": {
      "text/html": [
       "<div>\n",
       "<style scoped>\n",
       "    .dataframe tbody tr th:only-of-type {\n",
       "        vertical-align: middle;\n",
       "    }\n",
       "\n",
       "    .dataframe tbody tr th {\n",
       "        vertical-align: top;\n",
       "    }\n",
       "\n",
       "    .dataframe thead th {\n",
       "        text-align: right;\n",
       "    }\n",
       "</style>\n",
       "<table border=\"1\" class=\"dataframe\">\n",
       "  <thead>\n",
       "    <tr style=\"text-align: right;\">\n",
       "      <th></th>\n",
       "      <th>prior</th>\n",
       "      <th>likelihood</th>\n",
       "      <th>unnorm</th>\n",
       "      <th>posterior</th>\n",
       "    </tr>\n",
       "  </thead>\n",
       "  <tbody>\n",
       "    <tr>\n",
       "      <th>Door 1</th>\n",
       "      <td>1/3</td>\n",
       "      <td>1/2</td>\n",
       "      <td>1/6</td>\n",
       "      <td>1/3</td>\n",
       "    </tr>\n",
       "    <tr>\n",
       "      <th>Door 2</th>\n",
       "      <td>1/3</td>\n",
       "      <td>1</td>\n",
       "      <td>1/3</td>\n",
       "      <td>2/3</td>\n",
       "    </tr>\n",
       "    <tr>\n",
       "      <th>Door 3</th>\n",
       "      <td>1/3</td>\n",
       "      <td>0</td>\n",
       "      <td>0</td>\n",
       "      <td>0</td>\n",
       "    </tr>\n",
       "  </tbody>\n",
       "</table>\n",
       "</div>"
      ],
      "text/plain": [
       "       prior likelihood unnorm posterior\n",
       "Door 1   1/3        1/2    1/6       1/3\n",
       "Door 2   1/3          1    1/3       2/3\n",
       "Door 3   1/3          0      0         0"
      ]
     },
     "execution_count": 14,
     "metadata": {},
     "output_type": "execute_result"
    }
   ],
   "source": [
    "update(table3)\n",
    "table3"
   ]
  },
  {
   "cell_type": "markdown",
   "id": "39ae0435",
   "metadata": {},
   "source": [
    "Perciò ringraziamo e cambiamo la porta.\n",
    "\n",
    "[![Monty Hall](https://img.youtube.com/vi/nYX8DMG8_yw/0.jpg)](https://www.youtube.com/watch?v=nYX8DMG8_yw)"
   ]
  },
  {
   "cell_type": "markdown",
   "id": "c4f6a170",
   "metadata": {},
   "source": [
    "Qui sotto l'esemmpio con quatto porte le cose cambiano un pochino"
   ]
  },
  {
   "cell_type": "code",
   "execution_count": 15,
   "id": "8a78419f",
   "metadata": {},
   "outputs": [
    {
     "data": {
      "text/html": [
       "<div>\n",
       "<style scoped>\n",
       "    .dataframe tbody tr th:only-of-type {\n",
       "        vertical-align: middle;\n",
       "    }\n",
       "\n",
       "    .dataframe tbody tr th {\n",
       "        vertical-align: top;\n",
       "    }\n",
       "\n",
       "    .dataframe thead th {\n",
       "        text-align: right;\n",
       "    }\n",
       "</style>\n",
       "<table border=\"1\" class=\"dataframe\">\n",
       "  <thead>\n",
       "    <tr style=\"text-align: right;\">\n",
       "      <th></th>\n",
       "      <th>prior</th>\n",
       "    </tr>\n",
       "  </thead>\n",
       "  <tbody>\n",
       "    <tr>\n",
       "      <th>Door 1</th>\n",
       "      <td>1/4</td>\n",
       "    </tr>\n",
       "    <tr>\n",
       "      <th>Door 2</th>\n",
       "      <td>1/4</td>\n",
       "    </tr>\n",
       "    <tr>\n",
       "      <th>Door 3</th>\n",
       "      <td>1/4</td>\n",
       "    </tr>\n",
       "    <tr>\n",
       "      <th>Door 4</th>\n",
       "      <td>1/4</td>\n",
       "    </tr>\n",
       "  </tbody>\n",
       "</table>\n",
       "</div>"
      ],
      "text/plain": [
       "       prior\n",
       "Door 1   1/4\n",
       "Door 2   1/4\n",
       "Door 3   1/4\n",
       "Door 4   1/4"
      ]
     },
     "execution_count": 15,
     "metadata": {},
     "output_type": "execute_result"
    }
   ],
   "source": [
    "table4 = pd.DataFrame(index=['Door 1', 'Door 2', 'Door 3', 'Door 4'])\n",
    "table4['prior'] = Fraction(1, 4)\n",
    "table4"
   ]
  },
  {
   "cell_type": "code",
   "execution_count": 16,
   "id": "7dd31e47",
   "metadata": {},
   "outputs": [
    {
     "data": {
      "text/html": [
       "<div>\n",
       "<style scoped>\n",
       "    .dataframe tbody tr th:only-of-type {\n",
       "        vertical-align: middle;\n",
       "    }\n",
       "\n",
       "    .dataframe tbody tr th {\n",
       "        vertical-align: top;\n",
       "    }\n",
       "\n",
       "    .dataframe thead th {\n",
       "        text-align: right;\n",
       "    }\n",
       "</style>\n",
       "<table border=\"1\" class=\"dataframe\">\n",
       "  <thead>\n",
       "    <tr style=\"text-align: right;\">\n",
       "      <th></th>\n",
       "      <th>prior</th>\n",
       "      <th>likelihood</th>\n",
       "    </tr>\n",
       "  </thead>\n",
       "  <tbody>\n",
       "    <tr>\n",
       "      <th>Door 1</th>\n",
       "      <td>1/4</td>\n",
       "      <td>1/3</td>\n",
       "    </tr>\n",
       "    <tr>\n",
       "      <th>Door 2</th>\n",
       "      <td>1/4</td>\n",
       "      <td>1/2</td>\n",
       "    </tr>\n",
       "    <tr>\n",
       "      <th>Door 3</th>\n",
       "      <td>1/4</td>\n",
       "      <td>1/2</td>\n",
       "    </tr>\n",
       "    <tr>\n",
       "      <th>Door 4</th>\n",
       "      <td>1/4</td>\n",
       "      <td>1/2</td>\n",
       "    </tr>\n",
       "  </tbody>\n",
       "</table>\n",
       "</div>"
      ],
      "text/plain": [
       "       prior likelihood\n",
       "Door 1   1/4        1/3\n",
       "Door 2   1/4        1/2\n",
       "Door 3   1/4        1/2\n",
       "Door 4   1/4        1/2"
      ]
     },
     "execution_count": 16,
     "metadata": {},
     "output_type": "execute_result"
    }
   ],
   "source": [
    "table4['likelihood'] = Fraction(1, 3), Fraction(1, 2), Fraction(1, 2), Fraction(1, 2)\n",
    "table4"
   ]
  },
  {
   "cell_type": "code",
   "execution_count": 17,
   "id": "bac9bbc8",
   "metadata": {},
   "outputs": [
    {
     "data": {
      "text/html": [
       "<div>\n",
       "<style scoped>\n",
       "    .dataframe tbody tr th:only-of-type {\n",
       "        vertical-align: middle;\n",
       "    }\n",
       "\n",
       "    .dataframe tbody tr th {\n",
       "        vertical-align: top;\n",
       "    }\n",
       "\n",
       "    .dataframe thead th {\n",
       "        text-align: right;\n",
       "    }\n",
       "</style>\n",
       "<table border=\"1\" class=\"dataframe\">\n",
       "  <thead>\n",
       "    <tr style=\"text-align: right;\">\n",
       "      <th></th>\n",
       "      <th>prior</th>\n",
       "      <th>likelihood</th>\n",
       "      <th>unnorm</th>\n",
       "      <th>posterior</th>\n",
       "    </tr>\n",
       "  </thead>\n",
       "  <tbody>\n",
       "    <tr>\n",
       "      <th>Door 1</th>\n",
       "      <td>1/4</td>\n",
       "      <td>1/3</td>\n",
       "      <td>1/12</td>\n",
       "      <td>2/11</td>\n",
       "    </tr>\n",
       "    <tr>\n",
       "      <th>Door 2</th>\n",
       "      <td>1/4</td>\n",
       "      <td>1/2</td>\n",
       "      <td>1/8</td>\n",
       "      <td>3/11</td>\n",
       "    </tr>\n",
       "    <tr>\n",
       "      <th>Door 3</th>\n",
       "      <td>1/4</td>\n",
       "      <td>1/2</td>\n",
       "      <td>1/8</td>\n",
       "      <td>3/11</td>\n",
       "    </tr>\n",
       "    <tr>\n",
       "      <th>Door 4</th>\n",
       "      <td>1/4</td>\n",
       "      <td>1/2</td>\n",
       "      <td>1/8</td>\n",
       "      <td>3/11</td>\n",
       "    </tr>\n",
       "  </tbody>\n",
       "</table>\n",
       "</div>"
      ],
      "text/plain": [
       "       prior likelihood unnorm posterior\n",
       "Door 1   1/4        1/3   1/12      2/11\n",
       "Door 2   1/4        1/2    1/8      3/11\n",
       "Door 3   1/4        1/2    1/8      3/11\n",
       "Door 4   1/4        1/2    1/8      3/11"
      ]
     },
     "execution_count": 17,
     "metadata": {},
     "output_type": "execute_result"
    }
   ],
   "source": [
    "update(table4)\n",
    "table4"
   ]
  },
  {
   "cell_type": "markdown",
   "id": "d6211834",
   "metadata": {},
   "source": [
    "Questo esempio mostra che la nostra intuizione di probabilità non è sempre affidabile.\n",
    "Il teorema di Bayes può aiutare fornendo una strategia divide et impera:\n",
    "\n",
    "1. Primo, annotare le ipotesi e i dati.\n",
    "2. Quindi, calcolare le probabilità a priori.\n",
    "3. Infine calcoliamo la verosomiglianza del dato sotto ogni ipotesi.\n",
    "\n",
    "La tabella di Bayes fa il resto.\n",
    "\n",
    "## Sommario\n",
    "In questo capitolo abbiamo risolto il problema dei biscotti usando il teorema di Bayes esplicitamente e usando la tabella di di bayes.\n",
    "\n",
    "Non c'è una reale differenza tra questi metodi, ma la tabella di Bayes può rendere più facile calcolare la probabilità totale, specialmente quando ci sono più di due ipotesi. \n",
    "Abbiamo poi risolto il problema dei dadi e siamo passati al problema delle porte di Monty Hall.\n",
    "Nel prossimo capitolo estendiamo il problema dei biscotti e dei dadi e passiamo dalla probabilità di base alla statistica Bayesiana.\n",
    "\n",
    "## Esercizi\n",
    "\n",
    "**Esercizio**: Supponiamo di avere due monete in una scatola. Una è una momenta normale con una testa e una coda, mentre l'altra è una moneta truccata con due teste. Scegliamo una moneta a caso e vediamo che una delle due facce è una testa, quale è la probabilità di aver scelto la moneta truccata?"
   ]
  },
  {
   "cell_type": "code",
   "execution_count": 21,
   "id": "94a41676",
   "metadata": {},
   "outputs": [
    {
     "data": {
      "text/html": [
       "<div>\n",
       "<style scoped>\n",
       "    .dataframe tbody tr th:only-of-type {\n",
       "        vertical-align: middle;\n",
       "    }\n",
       "\n",
       "    .dataframe tbody tr th {\n",
       "        vertical-align: top;\n",
       "    }\n",
       "\n",
       "    .dataframe thead th {\n",
       "        text-align: right;\n",
       "    }\n",
       "</style>\n",
       "<table border=\"1\" class=\"dataframe\">\n",
       "  <thead>\n",
       "    <tr style=\"text-align: right;\">\n",
       "      <th></th>\n",
       "      <th>prior</th>\n",
       "      <th>likelihood</th>\n",
       "      <th>unnorm</th>\n",
       "      <th>posterior</th>\n",
       "    </tr>\n",
       "  </thead>\n",
       "  <tbody>\n",
       "    <tr>\n",
       "      <th>Coin 1</th>\n",
       "      <td>1/2</td>\n",
       "      <td>1/2</td>\n",
       "      <td>1/4</td>\n",
       "      <td>1/3</td>\n",
       "    </tr>\n",
       "    <tr>\n",
       "      <th>Coin 2</th>\n",
       "      <td>1/2</td>\n",
       "      <td>1</td>\n",
       "      <td>1/2</td>\n",
       "      <td>2/3</td>\n",
       "    </tr>\n",
       "  </tbody>\n",
       "</table>\n",
       "</div>"
      ],
      "text/plain": [
       "       prior likelihood unnorm posterior\n",
       "Coin 1   1/2        1/2    1/4       1/3\n",
       "Coin 2   1/2          1    1/2       2/3"
      ]
     },
     "execution_count": 21,
     "metadata": {},
     "output_type": "execute_result"
    }
   ],
   "source": [
    "coin = pd.DataFrame(index=['Coin 1','Coin 2'])\n",
    "coin['prior'] = Fraction(1, 2)\n",
    "coin['likelihood'] = Fraction(1, 2), Fraction(1, 1)\n",
    "update(coin)\n",
    "coin"
   ]
  },
  {
   "cell_type": "markdown",
   "id": "2a4022f8",
   "metadata": {},
   "source": [
    "**Esercizio**:Supponiamo di incontrare qualcuno e di venire a sapere che ha dua bambini.\n",
    "Chiedi ad entrambi i bambini se sono ragazzine e loro dicono di si, qual'è la probabilità che entrambi siano femmine?\n",
    "*Suggerimento*: Si parte con 4 ipotesi con la stessa probabilità"
   ]
  },
  {
   "cell_type": "code",
   "execution_count": 23,
   "id": "542054db",
   "metadata": {},
   "outputs": [
    {
     "data": {
      "text/html": [
       "<div>\n",
       "<style scoped>\n",
       "    .dataframe tbody tr th:only-of-type {\n",
       "        vertical-align: middle;\n",
       "    }\n",
       "\n",
       "    .dataframe tbody tr th {\n",
       "        vertical-align: top;\n",
       "    }\n",
       "\n",
       "    .dataframe thead th {\n",
       "        text-align: right;\n",
       "    }\n",
       "</style>\n",
       "<table border=\"1\" class=\"dataframe\">\n",
       "  <thead>\n",
       "    <tr style=\"text-align: right;\">\n",
       "      <th></th>\n",
       "      <th>prior</th>\n",
       "      <th>likelihood</th>\n",
       "      <th>unnorm</th>\n",
       "      <th>posterior</th>\n",
       "    </tr>\n",
       "  </thead>\n",
       "  <tbody>\n",
       "    <tr>\n",
       "      <th>All Male</th>\n",
       "      <td>1/4</td>\n",
       "      <td>0</td>\n",
       "      <td>0</td>\n",
       "      <td>0</td>\n",
       "    </tr>\n",
       "    <tr>\n",
       "      <th>First Female</th>\n",
       "      <td>1/4</td>\n",
       "      <td>1</td>\n",
       "      <td>1/4</td>\n",
       "      <td>1/3</td>\n",
       "    </tr>\n",
       "    <tr>\n",
       "      <th>Second Female</th>\n",
       "      <td>1/4</td>\n",
       "      <td>1</td>\n",
       "      <td>1/4</td>\n",
       "      <td>1/3</td>\n",
       "    </tr>\n",
       "    <tr>\n",
       "      <th>All Female</th>\n",
       "      <td>1/4</td>\n",
       "      <td>1</td>\n",
       "      <td>1/4</td>\n",
       "      <td>1/3</td>\n",
       "    </tr>\n",
       "  </tbody>\n",
       "</table>\n",
       "</div>"
      ],
      "text/plain": [
       "              prior likelihood unnorm posterior\n",
       "All Male        1/4          0      0         0\n",
       "First Female    1/4          1    1/4       1/3\n",
       "Second Female   1/4          1    1/4       1/3\n",
       "All Female      1/4          1    1/4       1/3"
      ]
     },
     "execution_count": 23,
     "metadata": {},
     "output_type": "execute_result"
    }
   ],
   "source": [
    "child = pd.DataFrame(index=['All Male','First Female','Second Female','All Female'])\n",
    "child['prior'] = Fraction(1, 4)\n",
    "child['likelihood'] = 0, Fraction(1, 1), Fraction(1, 1),Fraction(1, 1),\n",
    "update(child)\n",
    "child"
   ]
  },
  {
   "cell_type": "markdown",
   "id": "4e4b43e7",
   "metadata": {},
   "source": [
    "**Esercizio:** Ci sono molte variazioni del [problema di Monty Hall](https://en.wikipedia.org/wiki/Monty_Hall_problem).\n",
    "Per esempio, supponiamo che Monty scelga sempre la porta 2 se possibile e scelga la porta 3 solo se deve (perchè dietro alla 2 c'è la macchina)\n",
    "\n",
    "Se scegliamo la porta 1 e Monty apre la 2, quale è la probabilità che la macchina sia dietro alla 3?"
   ]
  },
  {
   "cell_type": "code",
   "execution_count": 27,
   "id": "b02e366c",
   "metadata": {},
   "outputs": [
    {
     "data": {
      "text/html": [
       "<div>\n",
       "<style scoped>\n",
       "    .dataframe tbody tr th:only-of-type {\n",
       "        vertical-align: middle;\n",
       "    }\n",
       "\n",
       "    .dataframe tbody tr th {\n",
       "        vertical-align: top;\n",
       "    }\n",
       "\n",
       "    .dataframe thead th {\n",
       "        text-align: right;\n",
       "    }\n",
       "</style>\n",
       "<table border=\"1\" class=\"dataframe\">\n",
       "  <thead>\n",
       "    <tr style=\"text-align: right;\">\n",
       "      <th></th>\n",
       "      <th>prior</th>\n",
       "      <th>likelihood</th>\n",
       "      <th>unnorm</th>\n",
       "      <th>posterior</th>\n",
       "    </tr>\n",
       "  </thead>\n",
       "  <tbody>\n",
       "    <tr>\n",
       "      <th>Door 1</th>\n",
       "      <td>1/3</td>\n",
       "      <td>1</td>\n",
       "      <td>1/3</td>\n",
       "      <td>1/2</td>\n",
       "    </tr>\n",
       "    <tr>\n",
       "      <th>Door 2</th>\n",
       "      <td>1/3</td>\n",
       "      <td>0</td>\n",
       "      <td>0</td>\n",
       "      <td>0</td>\n",
       "    </tr>\n",
       "    <tr>\n",
       "      <th>Door 3</th>\n",
       "      <td>1/3</td>\n",
       "      <td>1</td>\n",
       "      <td>1/3</td>\n",
       "      <td>1/2</td>\n",
       "    </tr>\n",
       "  </tbody>\n",
       "</table>\n",
       "</div>"
      ],
      "text/plain": [
       "       prior  likelihood unnorm posterior\n",
       "Door 1   1/3           1    1/3       1/2\n",
       "Door 2   1/3           0      0         0\n",
       "Door 3   1/3           1    1/3       1/2"
      ]
     },
     "execution_count": 27,
     "metadata": {},
     "output_type": "execute_result"
    }
   ],
   "source": [
    "# If the car is behind Door 1, Monty would always open Door 2 \n",
    "# If the car was behind Door 2, Monty would have opened Door 3\n",
    "# If the car is behind Door 3, Monty would always open Door 2\n",
    "\n",
    "\n",
    "table3 = pd.DataFrame(index=['Door 1', 'Door 2', 'Door 3'])\n",
    "table3['prior'] = Fraction(1, 3)\n",
    "table3['likelihood'] =  1, 0, 1\n",
    "update(table3)\n",
    "table3"
   ]
  },
  {
   "cell_type": "markdown",
   "id": "087fcfea",
   "metadata": {},
   "source": [
    "Se scegli la porta 1 e Monty apre la 3 quale è la priorità che la macchina sia dietro alla 2?"
   ]
  },
  {
   "cell_type": "code",
   "execution_count": 28,
   "id": "0f24837a",
   "metadata": {},
   "outputs": [
    {
     "data": {
      "text/html": [
       "<div>\n",
       "<style scoped>\n",
       "    .dataframe tbody tr th:only-of-type {\n",
       "        vertical-align: middle;\n",
       "    }\n",
       "\n",
       "    .dataframe tbody tr th {\n",
       "        vertical-align: top;\n",
       "    }\n",
       "\n",
       "    .dataframe thead th {\n",
       "        text-align: right;\n",
       "    }\n",
       "</style>\n",
       "<table border=\"1\" class=\"dataframe\">\n",
       "  <thead>\n",
       "    <tr style=\"text-align: right;\">\n",
       "      <th></th>\n",
       "      <th>prior</th>\n",
       "      <th>likelihood</th>\n",
       "      <th>unnorm</th>\n",
       "      <th>posterior</th>\n",
       "    </tr>\n",
       "  </thead>\n",
       "  <tbody>\n",
       "    <tr>\n",
       "      <th>Door 1</th>\n",
       "      <td>1/3</td>\n",
       "      <td>0</td>\n",
       "      <td>0</td>\n",
       "      <td>0</td>\n",
       "    </tr>\n",
       "    <tr>\n",
       "      <th>Door 2</th>\n",
       "      <td>1/3</td>\n",
       "      <td>1</td>\n",
       "      <td>1/3</td>\n",
       "      <td>1</td>\n",
       "    </tr>\n",
       "    <tr>\n",
       "      <th>Door 3</th>\n",
       "      <td>1/3</td>\n",
       "      <td>0</td>\n",
       "      <td>0</td>\n",
       "      <td>0</td>\n",
       "    </tr>\n",
       "  </tbody>\n",
       "</table>\n",
       "</div>"
      ],
      "text/plain": [
       "       prior  likelihood unnorm posterior\n",
       "Door 1   1/3           0      0         0\n",
       "Door 2   1/3           1    1/3         1\n",
       "Door 3   1/3           0      0         0"
      ]
     },
     "execution_count": 28,
     "metadata": {},
     "output_type": "execute_result"
    }
   ],
   "source": [
    "table3 = pd.DataFrame(index=['Door 1', 'Door 2', 'Door 3'])\n",
    "table3['prior'] = Fraction(1, 3)\n",
    "table3['likelihood'] = 0,1,0\n",
    "update(table3)\n",
    "table3"
   ]
  },
  {
   "cell_type": "markdown",
   "id": "2bbd5cc6",
   "metadata": {},
   "source": [
    "**Esercizio**:Le M&M sono delle piccole caramelle di cioccolata di vari colori.\n",
    "L'azienza Mars. Inc. che produce tali dolciumi, cambia la miscela dei colori nel tempo.\n",
    "Nel 1995 sono stati introdotti gli M&M di colore blue.\n",
    "\n",
    "* Nel 1994, il mix dei colori in sacchetto di M&M era 20\\% Marroni, 20\\% Giallo, 20\\% Rosso, 10\\% Verde, 10\\% Arancio, 10\\% Marroncino.\n",
    "\n",
    "* Nel 1996, era del 24\\% Blue, 20\\%Verde, 16\\% Arancio, 14\\% Giallo, 13\\% Rosso, 13\\% Marrone. \n",
    "\n",
    "Supponiamo che un nostro amico abbia due sacchetti di M&M, e ci dice che uno è del 1994 e uno del 1996. Non ci dice quale è quale, ma ci consegna una M&M per ogni sacchetto. Una è gialla e una è verde. Quale è la probabilità che la gialla sia del 1994? \n",
    "\n",
    "Suggerimento, Il trucchetto di questa domanda è definire le ipotesi e i dati con attenzione."
   ]
  },
  {
   "cell_type": "code",
   "execution_count": 32,
   "id": "e3ac08ca",
   "metadata": {},
   "outputs": [
    {
     "data": {
      "text/html": [
       "<div>\n",
       "<style scoped>\n",
       "    .dataframe tbody tr th:only-of-type {\n",
       "        vertical-align: middle;\n",
       "    }\n",
       "\n",
       "    .dataframe tbody tr th {\n",
       "        vertical-align: top;\n",
       "    }\n",
       "\n",
       "    .dataframe thead th {\n",
       "        text-align: right;\n",
       "    }\n",
       "</style>\n",
       "<table border=\"1\" class=\"dataframe\">\n",
       "  <thead>\n",
       "    <tr style=\"text-align: right;\">\n",
       "      <th></th>\n",
       "      <th>prior</th>\n",
       "      <th>likelihood</th>\n",
       "      <th>unnorm</th>\n",
       "      <th>posterior</th>\n",
       "    </tr>\n",
       "  </thead>\n",
       "  <tbody>\n",
       "    <tr>\n",
       "      <th>A</th>\n",
       "      <td>0.5</td>\n",
       "      <td>0.040</td>\n",
       "      <td>0.020</td>\n",
       "      <td>0.740741</td>\n",
       "    </tr>\n",
       "    <tr>\n",
       "      <th>B</th>\n",
       "      <td>0.5</td>\n",
       "      <td>0.014</td>\n",
       "      <td>0.007</td>\n",
       "      <td>0.259259</td>\n",
       "    </tr>\n",
       "  </tbody>\n",
       "</table>\n",
       "</div>"
      ],
      "text/plain": [
       "   prior  likelihood  unnorm  posterior\n",
       "A    0.5       0.040   0.020   0.740741\n",
       "B    0.5       0.014   0.007   0.259259"
      ]
     },
     "execution_count": 32,
     "metadata": {},
     "output_type": "execute_result"
    }
   ],
   "source": [
    "# le ipotesi sono 2\n",
    "# A la caramella gialla viene dal sacchetto del 1994 e la verde viene dal sacchetto del 1996\n",
    "# B la caramella verde viene dal sacchetta del 1944 e la gialla viene dal sacchetto del 1996\n",
    "\n",
    "mm = pd.DataFrame(index=['A', 'B'])\n",
    "mm['prior'] = 1/2\n",
    "\n",
    "# la probabilità della caramella gialla del 1994 è del 0.2 mentre quella verde del 1996 è del 0.2\n",
    "likelihoodA = 0.2*0.2\n",
    "\n",
    "# la probabilita della caramella gialla del 1996 è 0.14 mentre quella verde del 1994 è 0.1\n",
    "likelihoodB = 0.14*0.1\n",
    "mm['likelihood'] = likelihoodA,likelihoodB\n",
    "\n",
    "update(mm)\n",
    "mm"
   ]
  },
  {
   "cell_type": "code",
   "execution_count": null,
   "id": "d2db1987",
   "metadata": {},
   "outputs": [],
   "source": []
  }
 ],
 "metadata": {
  "kernelspec": {
   "display_name": "Python 3 (ipykernel)",
   "language": "python",
   "name": "python3"
  },
  "language_info": {
   "codemirror_mode": {
    "name": "ipython",
    "version": 3
   },
   "file_extension": ".py",
   "mimetype": "text/x-python",
   "name": "python",
   "nbconvert_exporter": "python",
   "pygments_lexer": "ipython3",
   "version": "3.9.7"
  }
 },
 "nbformat": 4,
 "nbformat_minor": 5
}
